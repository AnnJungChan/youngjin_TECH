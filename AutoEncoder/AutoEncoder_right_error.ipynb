{
 "cells": [
  {
   "cell_type": "markdown",
   "metadata": {
    "colab_type": "text",
    "id": "view-in-github"
   },
   "source": [
    "<a href=\"https://colab.research.google.com/github/AnnJungChan/youngjin_TECH/blob/main/AutoEncoder/AutoEncoder_right_error.ipynb\" target=\"_parent\"><img src=\"https://colab.research.google.com/assets/colab-badge.svg\" alt=\"Open In Colab\"/></a>"
   ]
  },
  {
   "cell_type": "code",
   "execution_count": 1,
   "metadata": {
    "colab": {
     "base_uri": "https://localhost:8080/"
    },
    "id": "nhr5L4FAO5fT",
    "outputId": "fc12627b-bbfa-4abd-dfcd-a3aca329d94a"
   },
   "outputs": [
    {
     "name": "stdout",
     "output_type": "stream",
     "text": [
      "Drive already mounted at /content/gdrive; to attempt to forcibly remount, call drive.mount(\"/content/gdrive\", force_remount=True).\n"
     ]
    }
   ],
   "source": [
    "#!pip install datetime\n",
    "from google.colab import drive\n",
    "drive.mount('/content/gdrive')\n",
    "import numpy as np\n",
    "import pandas as pd\n",
    "import datetime\n",
    "import seaborn as sns\n",
    "import sklearn.metrics as metric\n",
    "from sklearn import preprocessing\n",
    "import matplotlib.pyplot as plt\n",
    "\n",
    "import warnings\n",
    "warnings.filterwarnings('ignore')"
   ]
  },
  {
   "cell_type": "code",
   "execution_count": 2,
   "metadata": {
    "id": "iRip8ZwwPL1u"
   },
   "outputs": [],
   "source": [
    "no1_process1 = pd.read_csv(\"/content/gdrive/MyDrive/용접데이터/one_original.csv\", encoding = 'cp949')"
   ]
  },
  {
   "cell_type": "code",
   "execution_count": 3,
   "metadata": {
    "id": "FiJyAS6xPh5M"
   },
   "outputs": [],
   "source": [
    "no1_process1=no1_process1[['날짜','시간','전류.A.','전압.V.','가스.l.min.','용접시간.sec.','팁누적개수','NUM.EA.','판단' ]]\n",
    "no1_process1=no1_process1.rename(columns = {'날짜' : 'date', '시간' : 'time', '전류.A.' :'A', '전압.V.' : 'V', '가스.l.min.' : 'gas', '용접시간.sec.' : 'sec', '팁누적개수' : 'tip_cum',\n",
    "                                            '판단' : 'decision'})\n",
    "no1_process1[\"date_time\"]=no1_process1[\"date\"] + \" \" + no1_process1[\"time\"]"
   ]
  },
  {
   "cell_type": "code",
   "execution_count": 4,
   "metadata": {
    "colab": {
     "base_uri": "https://localhost:8080/"
    },
    "id": "EYjMZclZ2Bq1",
    "outputId": "1ca1aace-c4c7-49a0-f098-e5031581cc98"
   },
   "outputs": [
    {
     "name": "stdout",
     "output_type": "stream",
     "text": [
      "<class 'pandas.core.frame.DataFrame'>\n",
      "RangeIndex: 437370 entries, 0 to 437369\n",
      "Data columns (total 10 columns):\n",
      " #   Column     Non-Null Count   Dtype  \n",
      "---  ------     --------------   -----  \n",
      " 0   date       437370 non-null  object \n",
      " 1   time       437370 non-null  object \n",
      " 2   A          437370 non-null  float64\n",
      " 3   V          437370 non-null  float64\n",
      " 4   gas        437370 non-null  float64\n",
      " 5   sec        437370 non-null  float64\n",
      " 6   tip_cum    437370 non-null  int64  \n",
      " 7   NUM.EA.    437370 non-null  int64  \n",
      " 8   decision   437370 non-null  object \n",
      " 9   date_time  437370 non-null  object \n",
      "dtypes: float64(4), int64(2), object(4)\n",
      "memory usage: 33.4+ MB\n"
     ]
    }
   ],
   "source": [
    "no1_process1.info()"
   ]
  },
  {
   "cell_type": "code",
   "execution_count": 5,
   "metadata": {
    "id": "gbDbypVpXYe8"
   },
   "outputs": [],
   "source": [
    "no1_process1=no1_process1.sort_values(\"date_time\")\n",
    "no1_process1=no1_process1.loc[(no1_process1['date'] <= '2021-10-29') & (no1_process1['date'] >= '2021-01-04'),:]\n",
    "no1_process1=no1_process1.reset_index()\n",
    "no1_process1.drop(columns = ['index'], inplace = True)"
   ]
  },
  {
   "cell_type": "code",
   "execution_count": 6,
   "metadata": {
    "colab": {
     "base_uri": "https://localhost:8080/"
    },
    "id": "_2un9Yw_FCXY",
    "outputId": "2965490f-954e-4f30-dc4d-0d438ad70acc"
   },
   "outputs": [
    {
     "data": {
      "text/plain": [
       "0         2021-01-04 08:40:09\n",
       "1         2021-01-04 08:40:29\n",
       "2         2021-01-04 08:40:44\n",
       "3         2021-01-04 08:40:59\n",
       "4         2021-01-04 08:41:15\n",
       "                 ...         \n",
       "303233    2021-10-29 12:20:39\n",
       "303234    2021-10-29 12:22:10\n",
       "303235    2021-10-29 12:22:30\n",
       "303236    2021-10-29 12:24:11\n",
       "303237    2021-10-29 12:24:34\n",
       "Name: date_time, Length: 303238, dtype: object"
      ]
     },
     "execution_count": 6,
     "metadata": {},
     "output_type": "execute_result"
    }
   ],
   "source": [
    "no1_process1['date_time']"
   ]
  },
  {
   "cell_type": "code",
   "execution_count": 7,
   "metadata": {
    "colab": {
     "base_uri": "https://localhost:8080/"
    },
    "id": "xjfB-XC_LBTq",
    "outputId": "4b06a8c5-77be-4120-e205-44475e3e4543"
   },
   "outputs": [
    {
     "data": {
      "text/plain": [
       "208"
      ]
     },
     "execution_count": 7,
     "metadata": {},
     "output_type": "execute_result"
    }
   ],
   "source": [
    "len(no1_process1['date'].unique())"
   ]
  },
  {
   "cell_type": "code",
   "execution_count": 8,
   "metadata": {
    "colab": {
     "base_uri": "https://localhost:8080/"
    },
    "id": "tC6FsquRPb-l",
    "outputId": "0f13fcf9-c4f4-4d3c-b084-27d0c2258f13"
   },
   "outputs": [
    {
     "name": "stdout",
     "output_type": "stream",
     "text": [
      "<class 'pandas.core.frame.DataFrame'>\n",
      "RangeIndex: 303238 entries, 0 to 303237\n",
      "Data columns (total 10 columns):\n",
      " #   Column     Non-Null Count   Dtype  \n",
      "---  ------     --------------   -----  \n",
      " 0   date       303238 non-null  object \n",
      " 1   time       303238 non-null  object \n",
      " 2   A          303238 non-null  float64\n",
      " 3   V          303238 non-null  float64\n",
      " 4   gas        303238 non-null  float64\n",
      " 5   sec        303238 non-null  float64\n",
      " 6   tip_cum    303238 non-null  int64  \n",
      " 7   NUM.EA.    303238 non-null  int64  \n",
      " 8   decision   303238 non-null  object \n",
      " 9   date_time  303238 non-null  object \n",
      "dtypes: float64(4), int64(2), object(4)\n",
      "memory usage: 23.1+ MB\n"
     ]
    }
   ],
   "source": [
    "no1_process1.info()"
   ]
  },
  {
   "cell_type": "code",
   "execution_count": 9,
   "metadata": {
    "colab": {
     "base_uri": "https://localhost:8080/",
     "height": 300
    },
    "id": "CxVsnDJSPd_k",
    "outputId": "b84f8c00-4c93-42de-d546-2fc636c2dd58"
   },
   "outputs": [
    {
     "data": {
      "text/html": [
       "\n",
       "  <div id=\"df-8d390a1f-e940-497a-848f-652b2a846b74\">\n",
       "    <div class=\"colab-df-container\">\n",
       "      <div>\n",
       "<style scoped>\n",
       "    .dataframe tbody tr th:only-of-type {\n",
       "        vertical-align: middle;\n",
       "    }\n",
       "\n",
       "    .dataframe tbody tr th {\n",
       "        vertical-align: top;\n",
       "    }\n",
       "\n",
       "    .dataframe thead th {\n",
       "        text-align: right;\n",
       "    }\n",
       "</style>\n",
       "<table border=\"1\" class=\"dataframe\">\n",
       "  <thead>\n",
       "    <tr style=\"text-align: right;\">\n",
       "      <th></th>\n",
       "      <th>A</th>\n",
       "      <th>V</th>\n",
       "      <th>gas</th>\n",
       "      <th>sec</th>\n",
       "      <th>tip_cum</th>\n",
       "      <th>NUM.EA.</th>\n",
       "    </tr>\n",
       "  </thead>\n",
       "  <tbody>\n",
       "    <tr>\n",
       "      <th>count</th>\n",
       "      <td>303238.000000</td>\n",
       "      <td>303238.000000</td>\n",
       "      <td>303238.000000</td>\n",
       "      <td>303238.000000</td>\n",
       "      <td>303238.000000</td>\n",
       "      <td>303238.000000</td>\n",
       "    </tr>\n",
       "    <tr>\n",
       "      <th>mean</th>\n",
       "      <td>51.728885</td>\n",
       "      <td>22.612416</td>\n",
       "      <td>5.769587</td>\n",
       "      <td>6.723999</td>\n",
       "      <td>24201.604149</td>\n",
       "      <td>71.194032</td>\n",
       "    </tr>\n",
       "    <tr>\n",
       "      <th>std</th>\n",
       "      <td>4.309735</td>\n",
       "      <td>1.135283</td>\n",
       "      <td>0.903231</td>\n",
       "      <td>0.524081</td>\n",
       "      <td>14750.610025</td>\n",
       "      <td>5.371876</td>\n",
       "    </tr>\n",
       "    <tr>\n",
       "      <th>min</th>\n",
       "      <td>6.800000</td>\n",
       "      <td>12.540000</td>\n",
       "      <td>2.640000</td>\n",
       "      <td>0.000000</td>\n",
       "      <td>1.000000</td>\n",
       "      <td>1.000000</td>\n",
       "    </tr>\n",
       "    <tr>\n",
       "      <th>25%</th>\n",
       "      <td>49.000000</td>\n",
       "      <td>21.820000</td>\n",
       "      <td>5.170000</td>\n",
       "      <td>6.200000</td>\n",
       "      <td>11088.000000</td>\n",
       "      <td>66.000000</td>\n",
       "    </tr>\n",
       "    <tr>\n",
       "      <th>50%</th>\n",
       "      <td>50.800000</td>\n",
       "      <td>22.690000</td>\n",
       "      <td>5.790000</td>\n",
       "      <td>7.000000</td>\n",
       "      <td>23867.000000</td>\n",
       "      <td>74.000000</td>\n",
       "    </tr>\n",
       "    <tr>\n",
       "      <th>75%</th>\n",
       "      <td>53.400000</td>\n",
       "      <td>23.400000</td>\n",
       "      <td>6.360000</td>\n",
       "      <td>7.200000</td>\n",
       "      <td>37200.000000</td>\n",
       "      <td>76.000000</td>\n",
       "    </tr>\n",
       "    <tr>\n",
       "      <th>max</th>\n",
       "      <td>75.300000</td>\n",
       "      <td>27.580000</td>\n",
       "      <td>9.050000</td>\n",
       "      <td>7.400000</td>\n",
       "      <td>50240.000000</td>\n",
       "      <td>92.000000</td>\n",
       "    </tr>\n",
       "  </tbody>\n",
       "</table>\n",
       "</div>\n",
       "      <button class=\"colab-df-convert\" onclick=\"convertToInteractive('df-8d390a1f-e940-497a-848f-652b2a846b74')\"\n",
       "              title=\"Convert this dataframe to an interactive table.\"\n",
       "              style=\"display:none;\">\n",
       "        \n",
       "  <svg xmlns=\"http://www.w3.org/2000/svg\" height=\"24px\"viewBox=\"0 0 24 24\"\n",
       "       width=\"24px\">\n",
       "    <path d=\"M0 0h24v24H0V0z\" fill=\"none\"/>\n",
       "    <path d=\"M18.56 5.44l.94 2.06.94-2.06 2.06-.94-2.06-.94-.94-2.06-.94 2.06-2.06.94zm-11 1L8.5 8.5l.94-2.06 2.06-.94-2.06-.94L8.5 2.5l-.94 2.06-2.06.94zm10 10l.94 2.06.94-2.06 2.06-.94-2.06-.94-.94-2.06-.94 2.06-2.06.94z\"/><path d=\"M17.41 7.96l-1.37-1.37c-.4-.4-.92-.59-1.43-.59-.52 0-1.04.2-1.43.59L10.3 9.45l-7.72 7.72c-.78.78-.78 2.05 0 2.83L4 21.41c.39.39.9.59 1.41.59.51 0 1.02-.2 1.41-.59l7.78-7.78 2.81-2.81c.8-.78.8-2.07 0-2.86zM5.41 20L4 18.59l7.72-7.72 1.47 1.35L5.41 20z\"/>\n",
       "  </svg>\n",
       "      </button>\n",
       "      \n",
       "  <style>\n",
       "    .colab-df-container {\n",
       "      display:flex;\n",
       "      flex-wrap:wrap;\n",
       "      gap: 12px;\n",
       "    }\n",
       "\n",
       "    .colab-df-convert {\n",
       "      background-color: #E8F0FE;\n",
       "      border: none;\n",
       "      border-radius: 50%;\n",
       "      cursor: pointer;\n",
       "      display: none;\n",
       "      fill: #1967D2;\n",
       "      height: 32px;\n",
       "      padding: 0 0 0 0;\n",
       "      width: 32px;\n",
       "    }\n",
       "\n",
       "    .colab-df-convert:hover {\n",
       "      background-color: #E2EBFA;\n",
       "      box-shadow: 0px 1px 2px rgba(60, 64, 67, 0.3), 0px 1px 3px 1px rgba(60, 64, 67, 0.15);\n",
       "      fill: #174EA6;\n",
       "    }\n",
       "\n",
       "    [theme=dark] .colab-df-convert {\n",
       "      background-color: #3B4455;\n",
       "      fill: #D2E3FC;\n",
       "    }\n",
       "\n",
       "    [theme=dark] .colab-df-convert:hover {\n",
       "      background-color: #434B5C;\n",
       "      box-shadow: 0px 1px 3px 1px rgba(0, 0, 0, 0.15);\n",
       "      filter: drop-shadow(0px 1px 2px rgba(0, 0, 0, 0.3));\n",
       "      fill: #FFFFFF;\n",
       "    }\n",
       "  </style>\n",
       "\n",
       "      <script>\n",
       "        const buttonEl =\n",
       "          document.querySelector('#df-8d390a1f-e940-497a-848f-652b2a846b74 button.colab-df-convert');\n",
       "        buttonEl.style.display =\n",
       "          google.colab.kernel.accessAllowed ? 'block' : 'none';\n",
       "\n",
       "        async function convertToInteractive(key) {\n",
       "          const element = document.querySelector('#df-8d390a1f-e940-497a-848f-652b2a846b74');\n",
       "          const dataTable =\n",
       "            await google.colab.kernel.invokeFunction('convertToInteractive',\n",
       "                                                     [key], {});\n",
       "          if (!dataTable) return;\n",
       "\n",
       "          const docLinkHtml = 'Like what you see? Visit the ' +\n",
       "            '<a target=\"_blank\" href=https://colab.research.google.com/notebooks/data_table.ipynb>data table notebook</a>'\n",
       "            + ' to learn more about interactive tables.';\n",
       "          element.innerHTML = '';\n",
       "          dataTable['output_type'] = 'display_data';\n",
       "          await google.colab.output.renderOutput(dataTable, element);\n",
       "          const docLink = document.createElement('div');\n",
       "          docLink.innerHTML = docLinkHtml;\n",
       "          element.appendChild(docLink);\n",
       "        }\n",
       "      </script>\n",
       "    </div>\n",
       "  </div>\n",
       "  "
      ],
      "text/plain": [
       "                   A              V            gas            sec  \\\n",
       "count  303238.000000  303238.000000  303238.000000  303238.000000   \n",
       "mean       51.728885      22.612416       5.769587       6.723999   \n",
       "std         4.309735       1.135283       0.903231       0.524081   \n",
       "min         6.800000      12.540000       2.640000       0.000000   \n",
       "25%        49.000000      21.820000       5.170000       6.200000   \n",
       "50%        50.800000      22.690000       5.790000       7.000000   \n",
       "75%        53.400000      23.400000       6.360000       7.200000   \n",
       "max        75.300000      27.580000       9.050000       7.400000   \n",
       "\n",
       "             tip_cum        NUM.EA.  \n",
       "count  303238.000000  303238.000000  \n",
       "mean    24201.604149      71.194032  \n",
       "std     14750.610025       5.371876  \n",
       "min         1.000000       1.000000  \n",
       "25%     11088.000000      66.000000  \n",
       "50%     23867.000000      74.000000  \n",
       "75%     37200.000000      76.000000  \n",
       "max     50240.000000      92.000000  "
      ]
     },
     "execution_count": 9,
     "metadata": {},
     "output_type": "execute_result"
    }
   ],
   "source": [
    "no1_process1.describe()"
   ]
  },
  {
   "cell_type": "code",
   "execution_count": 10,
   "metadata": {
    "colab": {
     "base_uri": "https://localhost:8080/",
     "height": 288
    },
    "id": "0pYVHeEvRv4Q",
    "outputId": "57be6c49-83b3-4877-d6bb-101f94985cdf"
   },
   "outputs": [
    {
     "data": {
      "text/plain": [
       "<matplotlib.axes._subplots.AxesSubplot at 0x7fde5df20ed0>"
      ]
     },
     "execution_count": 10,
     "metadata": {},
     "output_type": "execute_result"
    },
    {
     "data": {
      "image/png": "[encoded data removed]",
      "text/plain": [
       "<Figure size 432x288 with 2 Axes>"
      ]
     },
     "metadata": {
      "needs_background": "light"
     },
     "output_type": "display_data"
    }
   ],
   "source": [
    "sns.heatmap(no1_process1.corr(),annot = True)"
   ]
  },
  {
   "cell_type": "markdown",
   "metadata": {
    "id": "1WrbGLwMSS10"
   },
   "source": [
    "- (A, sec, NUM.EA.)\n",
    "- (V, gas)"
   ]
  },
  {
   "cell_type": "code",
   "execution_count": 863,
   "metadata": {
    "id": "_EK79fPrNUQJ"
   },
   "outputs": [],
   "source": [
    "no1_process1 = no1_process1[no1_process1['date']<'2021-10-01']\n",
    "no1_process1 = no1_process1[no1_process1['date']>'2021-03-01']"
   ]
  },
  {
   "cell_type": "code",
   "execution_count": 11,
   "metadata": {
    "id": "z2NquTNiNpFC"
   },
   "outputs": [],
   "source": [
    "real_error_data1=pd.read_csv(\"/content/gdrive/MyDrive/용접데이터/일별데이터/일별 관측치 1호기_프로세스2.csv\")\n",
    "real_error_data1=real_error_data1.drop(columns = [\"Unnamed: 0\"])[['date','용접 불량','실제불량갯수']]\n",
    "real_error_data2=pd.read_csv(\"/content/gdrive/MyDrive/용접데이터/일별데이터/일별 관측치 1호기_프로세스1.csv\")\n",
    "real_error_data2=real_error_data2.drop(columns = [\"Unnamed: 0\"])[['date','용접 불량','실제불량갯수']][1:]\n",
    "real_error_data=pd.concat([real_error_data1, real_error_data2])"
   ]
  },
  {
   "cell_type": "code",
   "execution_count": 12,
   "metadata": {
    "id": "ncbW-pcGNyS8"
   },
   "outputs": [],
   "source": [
    "date_right=real_error_data.loc[real_error_data['용접 불량'] == 0,\"date\"]\n",
    "date_right = date_right.reset_index().drop(columns = [\"index\"])\n",
    "date_error=real_error_data.loc[real_error_data['용접 불량'] != 0,\"date\"]\n",
    "date_error = date_error.reset_index().drop(columns = [\"index\"])"
   ]
  },
  {
   "cell_type": "code",
   "execution_count": 13,
   "metadata": {
    "colab": {
     "base_uri": "https://localhost:8080/"
    },
    "id": "VNZLPxJGkWMH",
    "outputId": "2cddafbf-fe5f-4d86-b8eb-64a21cc3ceba"
   },
   "outputs": [
    {
     "data": {
      "text/plain": [
       "729"
      ]
     },
     "execution_count": 13,
     "metadata": {},
     "output_type": "execute_result"
    }
   ],
   "source": [
    "real_error_data['용접 불량'].sum()"
   ]
  },
  {
   "cell_type": "markdown",
   "metadata": {
    "id": "BmvEoABRjzAF"
   },
   "source": [
    "# 데이터 right/error 나누기"
   ]
  },
  {
   "cell_type": "code",
   "execution_count": 14,
   "metadata": {
    "id": "eZf7-mF2PfDn"
   },
   "outputs": [],
   "source": [
    "list_right = []\n",
    "for i in range(len(date_right)) :\n",
    "  list_right.append(no1_process1[no1_process1['date'] == date_right['date'][i]])"
   ]
  },
  {
   "cell_type": "code",
   "execution_count": 15,
   "metadata": {
    "id": "lzPVroIgZdv8"
   },
   "outputs": [],
   "source": [
    "temp_right = list_right[0]\n",
    "for i in range(1,len(list_right),1) :\n",
    "  temp_right = pd.concat([temp_right,list_right[i]])\n",
    "\n",
    "right = temp_right"
   ]
  },
  {
   "cell_type": "code",
   "execution_count": 16,
   "metadata": {
    "id": "0dSvHa9hb-ZU"
   },
   "outputs": [],
   "source": [
    "list_error = []\n",
    "for i in range(len(date_error)) :\n",
    "  list_error.append(no1_process1[no1_process1['date'] == date_error['date'][i]])"
   ]
  },
  {
   "cell_type": "code",
   "execution_count": 17,
   "metadata": {
    "id": "wXXCGyvLb3Gn"
   },
   "outputs": [],
   "source": [
    "temp_error = list_error[0]\n",
    "for i in range(1,len(list_error),1) :\n",
    "  temp_error = pd.concat([temp_error,list_error[i]])\n",
    "\n",
    "error = temp_error"
   ]
  },
  {
   "cell_type": "markdown",
   "metadata": {
    "id": "3LJRAnH73kbq"
   },
   "source": [
    "# 원 데이터 특성파악"
   ]
  },
  {
   "cell_type": "code",
   "execution_count": 18,
   "metadata": {
    "id": "uHYw74Ca7OSQ"
   },
   "outputs": [],
   "source": [
    "from sklearn.linear_model import LinearRegression"
   ]
  },
  {
   "cell_type": "code",
   "execution_count": 19,
   "metadata": {
    "colab": {
     "base_uri": "https://localhost:8080/",
     "height": 175
    },
    "id": "6DUqA_v17UwX",
    "outputId": "1b22e015-b1a5-4315-e0d6-716c4dbb6814"
   },
   "outputs": [
    {
     "data": {
      "text/html": [
       "\n",
       "  <div id=\"df-20a32706-5b28-4f65-9e7f-fd4bf08ebdc8\">\n",
       "    <div class=\"colab-df-container\">\n",
       "      <div>\n",
       "<style scoped>\n",
       "    .dataframe tbody tr th:only-of-type {\n",
       "        vertical-align: middle;\n",
       "    }\n",
       "\n",
       "    .dataframe tbody tr th {\n",
       "        vertical-align: top;\n",
       "    }\n",
       "\n",
       "    .dataframe thead th {\n",
       "        text-align: right;\n",
       "    }\n",
       "</style>\n",
       "<table border=\"1\" class=\"dataframe\">\n",
       "  <thead>\n",
       "    <tr style=\"text-align: right;\">\n",
       "      <th></th>\n",
       "      <th>A</th>\n",
       "      <th>V</th>\n",
       "      <th>gas</th>\n",
       "      <th>sec</th>\n",
       "    </tr>\n",
       "  </thead>\n",
       "  <tbody>\n",
       "    <tr>\n",
       "      <th>A</th>\n",
       "      <td>1.000000</td>\n",
       "      <td>0.121124</td>\n",
       "      <td>-0.151071</td>\n",
       "      <td>-0.827440</td>\n",
       "    </tr>\n",
       "    <tr>\n",
       "      <th>V</th>\n",
       "      <td>0.121124</td>\n",
       "      <td>1.000000</td>\n",
       "      <td>0.613329</td>\n",
       "      <td>0.058013</td>\n",
       "    </tr>\n",
       "    <tr>\n",
       "      <th>gas</th>\n",
       "      <td>-0.151071</td>\n",
       "      <td>0.613329</td>\n",
       "      <td>1.000000</td>\n",
       "      <td>0.216220</td>\n",
       "    </tr>\n",
       "    <tr>\n",
       "      <th>sec</th>\n",
       "      <td>-0.827440</td>\n",
       "      <td>0.058013</td>\n",
       "      <td>0.216220</td>\n",
       "      <td>1.000000</td>\n",
       "    </tr>\n",
       "  </tbody>\n",
       "</table>\n",
       "</div>\n",
       "      <button class=\"colab-df-convert\" onclick=\"convertToInteractive('df-20a32706-5b28-4f65-9e7f-fd4bf08ebdc8')\"\n",
       "              title=\"Convert this dataframe to an interactive table.\"\n",
       "              style=\"display:none;\">\n",
       "        \n",
       "  <svg xmlns=\"http://www.w3.org/2000/svg\" height=\"24px\"viewBox=\"0 0 24 24\"\n",
       "       width=\"24px\">\n",
       "    <path d=\"M0 0h24v24H0V0z\" fill=\"none\"/>\n",
       "    <path d=\"M18.56 5.44l.94 2.06.94-2.06 2.06-.94-2.06-.94-.94-2.06-.94 2.06-2.06.94zm-11 1L8.5 8.5l.94-2.06 2.06-.94-2.06-.94L8.5 2.5l-.94 2.06-2.06.94zm10 10l.94 2.06.94-2.06 2.06-.94-2.06-.94-.94-2.06-.94 2.06-2.06.94z\"/><path d=\"M17.41 7.96l-1.37-1.37c-.4-.4-.92-.59-1.43-.59-.52 0-1.04.2-1.43.59L10.3 9.45l-7.72 7.72c-.78.78-.78 2.05 0 2.83L4 21.41c.39.39.9.59 1.41.59.51 0 1.02-.2 1.41-.59l7.78-7.78 2.81-2.81c.8-.78.8-2.07 0-2.86zM5.41 20L4 18.59l7.72-7.72 1.47 1.35L5.41 20z\"/>\n",
       "  </svg>\n",
       "      </button>\n",
       "      \n",
       "  <style>\n",
       "    .colab-df-container {\n",
       "      display:flex;\n",
       "      flex-wrap:wrap;\n",
       "      gap: 12px;\n",
       "    }\n",
       "\n",
       "    .colab-df-convert {\n",
       "      background-color: #E8F0FE;\n",
       "      border: none;\n",
       "      border-radius: 50%;\n",
       "      cursor: pointer;\n",
       "      display: none;\n",
       "      fill: #1967D2;\n",
       "      height: 32px;\n",
       "      padding: 0 0 0 0;\n",
       "      width: 32px;\n",
       "    }\n",
       "\n",
       "    .colab-df-convert:hover {\n",
       "      background-color: #E2EBFA;\n",
       "      box-shadow: 0px 1px 2px rgba(60, 64, 67, 0.3), 0px 1px 3px 1px rgba(60, 64, 67, 0.15);\n",
       "      fill: #174EA6;\n",
       "    }\n",
       "\n",
       "    [theme=dark] .colab-df-convert {\n",
       "      background-color: #3B4455;\n",
       "      fill: #D2E3FC;\n",
       "    }\n",
       "\n",
       "    [theme=dark] .colab-df-convert:hover {\n",
       "      background-color: #434B5C;\n",
       "      box-shadow: 0px 1px 3px 1px rgba(0, 0, 0, 0.15);\n",
       "      filter: drop-shadow(0px 1px 2px rgba(0, 0, 0, 0.3));\n",
       "      fill: #FFFFFF;\n",
       "    }\n",
       "  </style>\n",
       "\n",
       "      <script>\n",
       "        const buttonEl =\n",
       "          document.querySelector('#df-20a32706-5b28-4f65-9e7f-fd4bf08ebdc8 button.colab-df-convert');\n",
       "        buttonEl.style.display =\n",
       "          google.colab.kernel.accessAllowed ? 'block' : 'none';\n",
       "\n",
       "        async function convertToInteractive(key) {\n",
       "          const element = document.querySelector('#df-20a32706-5b28-4f65-9e7f-fd4bf08ebdc8');\n",
       "          const dataTable =\n",
       "            await google.colab.kernel.invokeFunction('convertToInteractive',\n",
       "                                                     [key], {});\n",
       "          if (!dataTable) return;\n",
       "\n",
       "          const docLinkHtml = 'Like what you see? Visit the ' +\n",
       "            '<a target=\"_blank\" href=https://colab.research.google.com/notebooks/data_table.ipynb>data table notebook</a>'\n",
       "            + ' to learn more about interactive tables.';\n",
       "          element.innerHTML = '';\n",
       "          dataTable['output_type'] = 'display_data';\n",
       "          await google.colab.output.renderOutput(dataTable, element);\n",
       "          const docLink = document.createElement('div');\n",
       "          docLink.innerHTML = docLinkHtml;\n",
       "          element.appendChild(docLink);\n",
       "        }\n",
       "      </script>\n",
       "    </div>\n",
       "  </div>\n",
       "  "
      ],
      "text/plain": [
       "            A         V       gas       sec\n",
       "A    1.000000  0.121124 -0.151071 -0.827440\n",
       "V    0.121124  1.000000  0.613329  0.058013\n",
       "gas -0.151071  0.613329  1.000000  0.216220\n",
       "sec -0.827440  0.058013  0.216220  1.000000"
      ]
     },
     "execution_count": 19,
     "metadata": {},
     "output_type": "execute_result"
    }
   ],
   "source": [
    "temp_right[['A','V','gas','sec']].corr()"
   ]
  },
  {
   "cell_type": "markdown",
   "metadata": {
    "id": "4hR6jCw47g9T"
   },
   "source": [
    "- A와 sec\n",
    "- V와 gas"
   ]
  },
  {
   "cell_type": "code",
   "execution_count": 20,
   "metadata": {
    "colab": {
     "base_uri": "https://localhost:8080/",
     "height": 283
    },
    "id": "weGxfETu7gSc",
    "outputId": "20ebaa81-dece-4a69-9a3a-0b4937375121"
   },
   "outputs": [
    {
     "data": {
      "text/plain": [
       "<matplotlib.collections.PathCollection at 0x7fde5c46dcd0>"
      ]
     },
     "execution_count": 20,
     "metadata": {},
     "output_type": "execute_result"
    },
    {
     "data": {
      "image/png": "[encoded data removed]",
      "text/plain": [
       "<Figure size 432x288 with 1 Axes>"
      ]
     },
     "metadata": {
      "needs_background": "light"
     },
     "output_type": "display_data"
    }
   ],
   "source": [
    "import matplotlib.pyplot as plt\n",
    "model = LinearRegression()\n",
    "np_A = np.array(temp_right['A']).reshape(-1,1)\n",
    "np_sec = np.array(temp_right['sec']).reshape(-1,1)\n",
    "model.fit(np_A,np_sec)\n",
    "plt.scatter(np_A,model.predict(np_A))\n",
    "plt.plot(np_A,model.predict(np_A) + 3*np.std(model.predict(np_A)), color = 'blue')\n",
    "plt.plot(np_A,model.predict(np_A) - 3*np.std(model.predict(np_A)), color = 'blue')\n",
    "plt.scatter(np_A,np_sec)"
   ]
  },
  {
   "cell_type": "code",
   "execution_count": 21,
   "metadata": {
    "colab": {
     "base_uri": "https://localhost:8080/",
     "height": 283
    },
    "id": "er7gRzuh86XE",
    "outputId": "bde4fa7d-2c00-4543-8c28-51b2ecdbe27a"
   },
   "outputs": [
    {
     "data": {
      "text/plain": [
       "<matplotlib.collections.PathCollection at 0x7fde5c3e6850>"
      ]
     },
     "execution_count": 21,
     "metadata": {},
     "output_type": "execute_result"
    },
    {
     "data": {
      "image/png": "[encoded data removed]",
      "text/plain": [
       "<Figure size 432x288 with 1 Axes>"
      ]
     },
     "metadata": {
      "needs_background": "light"
     },
     "output_type": "display_data"
    }
   ],
   "source": [
    "import matplotlib.pyplot as plt\n",
    "model = LinearRegression()\n",
    "np_A = np.array(temp_error['A']).reshape(-1,1)\n",
    "np_sec = np.array(temp_error['sec']).reshape(-1,1)\n",
    "model.fit(np_A,np_sec)\n",
    "plt.scatter(np_A,model.predict(np_A))\n",
    "plt.plot(np_A,model.predict(np_A) + 3*np.std(model.predict(np_A)), color = 'blue')\n",
    "plt.plot(np_A,model.predict(np_A) - 3*np.std(model.predict(np_A)), color = 'blue')\n",
    "plt.scatter(np_A,np_sec)"
   ]
  },
  {
   "cell_type": "code",
   "execution_count": 22,
   "metadata": {
    "colab": {
     "base_uri": "https://localhost:8080/",
     "height": 283
    },
    "id": "tb1iEjIM9NuN",
    "outputId": "4af80a8a-23ba-49e0-8981-42762548cad3"
   },
   "outputs": [
    {
     "data": {
      "text/plain": [
       "<matplotlib.collections.PathCollection at 0x7fde5c362250>"
      ]
     },
     "execution_count": 22,
     "metadata": {},
     "output_type": "execute_result"
    },
    {
     "data": {
      "image/png": "[encoded data removed]",
      "text/plain": [
       "<Figure size 432x288 with 1 Axes>"
      ]
     },
     "metadata": {
      "needs_background": "light"
     },
     "output_type": "display_data"
    }
   ],
   "source": [
    "import matplotlib.pyplot as plt\n",
    "model = LinearRegression()\n",
    "np_V = np.array(temp_right['V']).reshape(-1,1)\n",
    "np_gas = np.array(temp_right['gas']).reshape(-1,1)\n",
    "model.fit(np_A,np_sec)\n",
    "plt.scatter(np_A,model.predict(np_A))\n",
    "plt.plot(np_A,model.predict(np_A) + 2*np.std(model.predict(np_A)), color = 'blue')\n",
    "plt.plot(np_A,model.predict(np_A) - 2*np.std(model.predict(np_A)), color = 'blue')\n",
    "plt.scatter(np_A,np_sec)"
   ]
  },
  {
   "cell_type": "code",
   "execution_count": 23,
   "metadata": {
    "colab": {
     "base_uri": "https://localhost:8080/",
     "height": 283
    },
    "id": "MCMLEEvZ9NlD",
    "outputId": "15da023a-7aa9-42ed-dd18-db4b1322915f"
   },
   "outputs": [
    {
     "data": {
      "text/plain": [
       "<matplotlib.collections.PathCollection at 0x7fde5c359ad0>"
      ]
     },
     "execution_count": 23,
     "metadata": {},
     "output_type": "execute_result"
    },
    {
     "data": {
      "image/png": "[encoded data removed]",
      "text/plain": [
       "<Figure size 432x288 with 1 Axes>"
      ]
     },
     "metadata": {
      "needs_background": "light"
     },
     "output_type": "display_data"
    }
   ],
   "source": [
    "import matplotlib.pyplot as plt\n",
    "model = LinearRegression()\n",
    "np_V = np.array(temp_error['V']).reshape(-1,1)\n",
    "np_gas = np.array(temp_error['gas']).reshape(-1,1)\n",
    "model.fit(np_A,np_sec)\n",
    "plt.scatter(np_A,model.predict(np_A))\n",
    "plt.plot(np_A,model.predict(np_A) + 2*np.std(model.predict(np_A)), color = 'blue')\n",
    "plt.plot(np_A,model.predict(np_A) - 2*np.std(model.predict(np_A)), color = 'blue')\n",
    "plt.scatter(np_A,np_sec)"
   ]
  },
  {
   "cell_type": "markdown",
   "metadata": {
    "id": "gS1KIEpRHGTD"
   },
   "source": [
    "# 리셋버튼"
   ]
  },
  {
   "cell_type": "code",
   "execution_count": 168,
   "metadata": {
    "id": "iBkjp9ZbHHvS"
   },
   "outputs": [],
   "source": [
    "right = temp_right\n",
    "error = temp_error"
   ]
  },
  {
   "cell_type": "markdown",
   "metadata": {
    "id": "kGRnz5GZIQjg"
   },
   "source": [
    "# good 만 살리기"
   ]
  },
  {
   "cell_type": "code",
   "execution_count": 169,
   "metadata": {
    "id": "Nkt5hpfJIQUE"
   },
   "outputs": [],
   "source": [
    "right=right[right['decision'] == 'GOOD']"
   ]
  },
  {
   "cell_type": "markdown",
   "metadata": {
    "id": "CWPVGJubNAXG"
   },
   "source": [
    "# 회귀값 어긋나면 빼기"
   ]
  },
  {
   "cell_type": "code",
   "execution_count": 26,
   "metadata": {
    "id": "bBJhNGDfNDAF"
   },
   "outputs": [],
   "source": [
    "A =np.array(right['A']).reshape(-1,1)\n",
    "V =np.array(right['V']).reshape(-1,1)\n",
    "gas = np.array(right['gas']).reshape(-1,1)\n",
    "sec= np.array(right['sec']).reshape(-1,1)"
   ]
  },
  {
   "cell_type": "code",
   "execution_count": 27,
   "metadata": {
    "id": "Ob6szsb_RMdx"
   },
   "outputs": [],
   "source": [
    "from sklearn.linear_model import LinearRegression"
   ]
  },
  {
   "cell_type": "code",
   "execution_count": 28,
   "metadata": {
    "colab": {
     "base_uri": "https://localhost:8080/",
     "height": 283
    },
    "id": "x0Fqe2SARTk7",
    "outputId": "835bf408-3480-48a1-edc9-a93f26ec1b41"
   },
   "outputs": [
    {
     "data": {
      "text/plain": [
       "<matplotlib.collections.PathCollection at 0x7fde5c2e0590>"
      ]
     },
     "execution_count": 28,
     "metadata": {},
     "output_type": "execute_result"
    },
    {
     "data": {
      "image/png": "[encoded data removed]",
      "text/plain": [
       "<Figure size 432x288 with 1 Axes>"
      ]
     },
     "metadata": {
      "needs_background": "light"
     },
     "output_type": "display_data"
    }
   ],
   "source": [
    "model_A_sec = LinearRegression()\n",
    "model_A_sec.fit(A,sec)\n",
    "predict_sec = model_A_sec.predict(A)\n",
    "plt.plot(A, predict_sec)\n",
    "plt.scatter(A,sec)"
   ]
  },
  {
   "cell_type": "code",
   "execution_count": 29,
   "metadata": {
    "colab": {
     "base_uri": "https://localhost:8080/",
     "height": 283
    },
    "id": "iN0nruMLTexl",
    "outputId": "1a0cc365-6214-409e-ea7c-f78cca5cc144"
   },
   "outputs": [
    {
     "data": {
      "text/plain": [
       "<matplotlib.collections.PathCollection at 0x7fde5c24e550>"
      ]
     },
     "execution_count": 29,
     "metadata": {},
     "output_type": "execute_result"
    },
    {
     "data": {
      "image/png": "[encoded data removed]",
      "text/plain": [
       "<Figure size 432x288 with 1 Axes>"
      ]
     },
     "metadata": {
      "needs_background": "light"
     },
     "output_type": "display_data"
    }
   ],
   "source": [
    "model_sec_A = LinearRegression()\n",
    "model_sec_A.fit(sec,A)\n",
    "predict_A = model_sec_A.predict(sec)\n",
    "plt.plot(sec, predict_A)\n",
    "plt.scatter(sec,A)"
   ]
  },
  {
   "cell_type": "code",
   "execution_count": 30,
   "metadata": {
    "colab": {
     "base_uri": "https://localhost:8080/",
     "height": 283
    },
    "id": "VrpetesTTqrC",
    "outputId": "01b48b91-8fe2-479a-cbdb-5eb925c11277"
   },
   "outputs": [
    {
     "data": {
      "text/plain": [
       "<matplotlib.collections.PathCollection at 0x7fde5c1c2810>"
      ]
     },
     "execution_count": 30,
     "metadata": {},
     "output_type": "execute_result"
    },
    {
     "data": {
      "image/png": "[encoded data removed]",
      "text/plain": [
       "<Figure size 432x288 with 1 Axes>"
      ]
     },
     "metadata": {
      "needs_background": "light"
     },
     "output_type": "display_data"
    }
   ],
   "source": [
    "model_V_gas = LinearRegression()\n",
    "model_V_gas.fit(V,gas)\n",
    "predict_gas = model_V_gas.predict(V)\n",
    "plt.plot(V, predict_gas)\n",
    "plt.scatter(V,gas)"
   ]
  },
  {
   "cell_type": "code",
   "execution_count": 31,
   "metadata": {
    "colab": {
     "base_uri": "https://localhost:8080/",
     "height": 283
    },
    "id": "Y0u02FlWT4sn",
    "outputId": "964ae960-fd74-419d-b7b0-64cb2c497970"
   },
   "outputs": [
    {
     "data": {
      "text/plain": [
       "<matplotlib.collections.PathCollection at 0x7fde5c1394d0>"
      ]
     },
     "execution_count": 31,
     "metadata": {},
     "output_type": "execute_result"
    },
    {
     "data": {
      "image/png": "[encoded data removed]",
      "text/plain": [
       "<Figure size 432x288 with 1 Axes>"
      ]
     },
     "metadata": {
      "needs_background": "light"
     },
     "output_type": "display_data"
    }
   ],
   "source": [
    "model_gas_V = LinearRegression()\n",
    "model_gas_V.fit(gas,V)\n",
    "predict_V = model_gas_V.predict(gas)\n",
    "plt.plot(gas, predict_V)\n",
    "plt.scatter(gas,V)"
   ]
  },
  {
   "cell_type": "code",
   "execution_count": 170,
   "metadata": {
    "id": "acMNbyBRUKZ9"
   },
   "outputs": [],
   "source": [
    "right = right[(right['A']>=np.mean(predict_A)-2*np.std(predict_A)) & (right['A']<=np.mean(predict_A)+2*np.std(predict_A))]\n",
    "right = right[(right['V']>=np.mean(predict_V)-2*np.std(predict_V)) & (right['V']<=np.mean(predict_V)+2*np.std(predict_V))]\n",
    "right = right[(right['gas']>=np.mean(predict_gas)-2*np.std(predict_gas)) & (right['gas']<=np.mean(predict_gas)+2*np.std(predict_gas))]\n",
    "right = right[(right['sec']>=np.mean(predict_sec)-2*np.std(predict_sec)) & (right['sec']<=np.mean(predict_sec)+2*np.std(predict_sec))]"
   ]
  },
  {
   "cell_type": "markdown",
   "metadata": {
    "id": "LfiEilJsXwY8"
   },
   "source": [
    "# predict 제거"
   ]
  },
  {
   "cell_type": "code",
   "execution_count": 171,
   "metadata": {
    "id": "LTb10SfYXyOn"
   },
   "outputs": [],
   "source": [
    "right['A'] = np.array(right['A']).reshape(-1,1)-model_sec_A.predict(np.array(right['sec']).reshape(-1,1))\n",
    "right['sec'] = np.array(right['sec']).reshape(-1,1)-model_A_sec.predict(np.array(right['A']).reshape(-1,1))\n",
    "right['V'] = np.array(right['V']).reshape(-1,1)-model_gas_V.predict(np.array(right['gas']).reshape(-1,1))\n",
    "right['gas'] = np.array(right['gas']).reshape(-1,1)-model_V_gas.predict(np.array(right['V']).reshape(-1,1))"
   ]
  },
  {
   "cell_type": "code",
   "execution_count": 172,
   "metadata": {
    "id": "sOvFySd8ay7I"
   },
   "outputs": [],
   "source": [
    "error['A'] = np.array(error['A']).reshape(-1,1)-model_sec_A.predict(np.array(error['sec']).reshape(-1,1))\n",
    "error['sec'] = np.array(error['sec']).reshape(-1,1)-model_A_sec.predict(np.array(error['A']).reshape(-1,1))\n",
    "error['V'] = np.array(error['V']).reshape(-1,1)-model_gas_V.predict(np.array(error['gas']).reshape(-1,1))\n",
    "error['gas'] = np.array(error['gas']).reshape(-1,1)-model_V_gas.predict(np.array(error['V']).reshape(-1,1))"
   ]
  },
  {
   "cell_type": "code",
   "execution_count": 173,
   "metadata": {
    "colab": {
     "base_uri": "https://localhost:8080/",
     "height": 283
    },
    "id": "jZyZPEOsbNAE",
    "outputId": "fd156ac7-a29b-4b5b-9c6e-cc9793db8f5a"
   },
   "outputs": [
    {
     "data": {
      "text/plain": [
       "<matplotlib.axes._subplots.AxesSubplot at 0x7fdd54488bd0>"
      ]
     },
     "execution_count": 173,
     "metadata": {},
     "output_type": "execute_result"
    },
    {
     "data": {
      "image/png": "[encoded data removed]",
      "text/plain": [
       "<Figure size 432x288 with 1 Axes>"
      ]
     },
     "metadata": {
      "needs_background": "light"
     },
     "output_type": "display_data"
    }
   ],
   "source": [
    "right['A'].plot()"
   ]
  },
  {
   "cell_type": "code",
   "execution_count": 174,
   "metadata": {
    "colab": {
     "base_uri": "https://localhost:8080/",
     "height": 283
    },
    "id": "oq0GrUg7bPc1",
    "outputId": "6cd55ae1-3fc9-43a0-c81a-e80eba979251"
   },
   "outputs": [
    {
     "data": {
      "text/plain": [
       "<matplotlib.axes._subplots.AxesSubplot at 0x7fdd54fb7cd0>"
      ]
     },
     "execution_count": 174,
     "metadata": {},
     "output_type": "execute_result"
    },
    {
     "data": {
      "image/png": "[encoded data removed]",
      "text/plain": [
       "<Figure size 432x288 with 1 Axes>"
      ]
     },
     "metadata": {
      "needs_background": "light"
     },
     "output_type": "display_data"
    }
   ],
   "source": [
    "error['A'].plot()"
   ]
  },
  {
   "cell_type": "markdown",
   "metadata": {
    "id": "IRgw9-iQ3vOZ"
   },
   "source": [
    "# 정규화"
   ]
  },
  {
   "cell_type": "code",
   "execution_count": 175,
   "metadata": {
    "id": "1oz14VaQjxk3"
   },
   "outputs": [],
   "source": [
    "model_right = right[['A','V','gas','sec']]\n",
    "scaler = preprocessing.MinMaxScaler()\n",
    "scaler.fit(model_right)\n",
    "model_right = scaler.transform(model_right)"
   ]
  },
  {
   "cell_type": "code",
   "execution_count": 94,
   "metadata": {
    "colab": {
     "base_uri": "https://localhost:8080/"
    },
    "id": "tyI6iZpqqLzo",
    "outputId": "05cd62be-4313-4f69-b01e-8f57ba5bcfe5"
   },
   "outputs": [
    {
     "data": {
      "text/plain": [
       "(153228, 2)"
      ]
     },
     "execution_count": 94,
     "metadata": {},
     "output_type": "execute_result"
    }
   ],
   "source": [
    "model_right.shape"
   ]
  },
  {
   "cell_type": "code",
   "execution_count": 176,
   "metadata": {
    "id": "mjbNMYlwhZ_u"
   },
   "outputs": [],
   "source": [
    "model_error = error[['A','V','gas','sec']]\n",
    "scaler = preprocessing.MinMaxScaler()\n",
    "scaler.fit(model_error)\n",
    "model_error = scaler.transform(model_error)"
   ]
  },
  {
   "cell_type": "markdown",
   "metadata": {
    "id": "IDK558qKLb62"
   },
   "source": [
    "# 토치만들기"
   ]
  },
  {
   "cell_type": "code",
   "execution_count": 177,
   "metadata": {
    "id": "uUY2ALubQ6qH"
   },
   "outputs": [],
   "source": [
    "#!pip install torch==1.7.0 torchvision==0.8.1 torchaudio===0.7.0\n",
    "from torch.utils.data import DataLoader\n",
    "from torch.utils.data import TensorDataset\n",
    "import torch\n",
    "import torch.nn as nn"
   ]
  },
  {
   "cell_type": "code",
   "execution_count": 178,
   "metadata": {
    "id": "UEX9TAwaiFvd"
   },
   "outputs": [],
   "source": [
    "model_right = torch.Tensor(model_right)"
   ]
  },
  {
   "cell_type": "code",
   "execution_count": 179,
   "metadata": {
    "id": "ts1q1apof6Rl"
   },
   "outputs": [],
   "source": [
    "model_error = torch.Tensor(model_error)"
   ]
  },
  {
   "cell_type": "markdown",
   "metadata": {
    "id": "FmuYLykjQ4SG"
   },
   "source": [
    "# 모델 구현 패키지 로딩"
   ]
  },
  {
   "cell_type": "markdown",
   "metadata": {
    "id": "lNe7AYtMXMt_"
   },
   "source": [
    "# 모델 구형"
   ]
  },
  {
   "cell_type": "code",
   "execution_count": 192,
   "metadata": {
    "id": "eH2qPdQHuaSy"
   },
   "outputs": [],
   "source": [
    "# AutoEncoder 클래스 구현\n",
    "\n",
    "class AutoEncoder(nn.Module): # 클래스 정의\n",
    "    def __init__(self, input_size, hidden_size, output_size): #초기화 작업\n",
    "        super(AutoEncoder, self).__init__() #우리가 입력할 값 4개\n",
    "        ## initialize\n",
    "        self.input_size = input_size # input_size라는 변수를 클래스 안의 변수로 변경\n",
    "        self.hidden_size = hidden_size # hidden_size라는 변수를 클래스 안의 변수로 변경\n",
    "        self.output_size = output_size # output_size라는 변수를 클래스 안의 변수로 변경\n",
    "        ## 오토인코더 구현\n",
    "        self.AutoEncoder = nn.Sequential(\n",
    "        ## 인코더 부분\n",
    "        nn.Linear(input_size, hidden_size[0]),#완전 연결망\n",
    "        nn.RReLU(), #활성화 함수\n",
    "        nn.Linear(hidden_size[0], output_size),#완전 연결망\n",
    "        nn.RReLU(), #활성화 함수\n",
    "        ## 디코더 부분\n",
    "        nn.Linear(output_size, hidden_size[0]),#완전 연결망\n",
    "        nn.RReLU(), #활성화 함수\n",
    "        nn.Linear(hidden_size[0], input_size)#완전 연결망\n",
    "        # 인코더와는 다르게, 출력부분에 활성화 함수를 사용하지 않음\n",
    "        )\n",
    "    def forward(self, inputs):\n",
    "        output =self.AutoEncoder(inputs)\n",
    "        \n",
    "        return output"
   ]
  },
  {
   "cell_type": "markdown",
   "metadata": {
    "id": "kraQmaDxWVa6"
   },
   "source": [
    "- 인코더 : 완전연결층 2개\n",
    "- 디코더 : 완전연결층 2개\n",
    "\n",
    "- 완전연결층 : 한 층의 모든 노드와 다음 층의 모든 노드가 연결 된 층"
   ]
  },
  {
   "cell_type": "markdown",
   "metadata": {
    "id": "2b-29RA-aVgv"
   },
   "source": [
    "# 하이퍼 파라미터, 손실 함수 및 옵티마이저 정의"
   ]
  },
  {
   "cell_type": "code",
   "execution_count": 193,
   "metadata": {
    "id": "TLqeB8lCaZjO"
   },
   "outputs": [],
   "source": [
    "# 훈련 하이퍼 파라미터\n",
    "\n",
    "epoch = 10\n",
    "batch_size = 64\n",
    "lr = 0.01\n",
    "\n",
    "# 모델 하이퍼 파라미터\n",
    "\n",
    "input_size = len(model_right[0]) # 7개가 들어감. 변수의 갯수가 7개\n",
    "hidden_size = [2] #이를 3개로 줄인 후\n",
    "output_size = 4 #2개로 방출\n",
    "\n",
    "# 손실 함수로 MSE 사용\n",
    "\n",
    "criterion = nn.MSELoss()\n",
    "\n",
    "# 매개변수 조정 방식은 Adam\n",
    "\n",
    "optimizer = torch.optim.Adam\n",
    "\n",
    "# 오토인코더 정의\n",
    "\n",
    "AutoEncoder = AutoEncoder(input_size, hidden_size, output_size)"
   ]
  },
  {
   "cell_type": "markdown",
   "metadata": {
    "id": "UeUd82QCbu5b"
   },
   "source": [
    "# 오토인코더 학습 함수 정의"
   ]
  },
  {
   "cell_type": "code",
   "execution_count": 194,
   "metadata": {
    "id": "KkYKFN77uxa9"
   },
   "outputs": [],
   "source": [
    "##학습 함수에 대한 정의\n",
    "def train_net(AutoEncoder, data, criterion, epochs, lr_rate =0.01):\n",
    "## Optimizer에 대한 정의\n",
    "    optim = optimizer(AutoEncoder.parameters(), lr =lr_rate)\n",
    "## 배치 학습을 시키기 위한 데이터 변환\n",
    "    data_iter = DataLoader(data, batch_size =batch_size, shuffle =True)\n",
    "## 에포크 학습\n",
    "    for epoch in range(1, epochs +1):\n",
    "        running_loss = 0.0\n",
    "        for x in data_iter:\n",
    "            ## 매개변수 0으로 초기화\n",
    "            optim.zero_grad()\n",
    "            output = AutoEncoder(x)\n",
    "            ## 입력값과 출력값간의 차이인 손실값\n",
    "            loss = criterion(x, output)\n",
    "            ## 손실값을 기준으로 매개변수 조정\n",
    "            loss.backward()\n",
    "            optim.step()\n",
    "            running_loss += loss.item()\n",
    "            \n",
    "        ## 각 에포크마다 손실 값 표기\n",
    "        print('epoch: {}, loss: {:.2f}'.format(epoch, running_loss))\n",
    "    return AutoEncoder"
   ]
  },
  {
   "cell_type": "markdown",
   "metadata": {
    "id": "6_KB6zOPdCsB"
   },
   "source": [
    "# 오토인코더 학습"
   ]
  },
  {
   "cell_type": "code",
   "execution_count": 195,
   "metadata": {
    "colab": {
     "base_uri": "https://localhost:8080/"
    },
    "id": "ZAwAuuNodEwu",
    "outputId": "9ef8dca9-8957-4b89-dfa9-f2f8d84ebef4"
   },
   "outputs": [
    {
     "name": "stdout",
     "output_type": "stream",
     "text": [
      "epoch: 1, loss: 33.36\n",
      "epoch: 2, loss: 7.88\n",
      "epoch: 3, loss: 5.29\n",
      "epoch: 4, loss: 5.13\n",
      "epoch: 5, loss: 5.14\n",
      "epoch: 6, loss: 5.14\n",
      "epoch: 7, loss: 5.14\n",
      "epoch: 8, loss: 5.14\n",
      "epoch: 9, loss: 5.13\n",
      "epoch: 10, loss: 5.13\n"
     ]
    }
   ],
   "source": [
    "AutoEncoder = train_net(AutoEncoder, model_right, criterion, epoch, lr)"
   ]
  },
  {
   "cell_type": "markdown",
   "metadata": {
    "id": "h1y4nCjVwav_"
   },
   "source": [
    "# 임계값 정의 후 결과 분석 및 해석"
   ]
  },
  {
   "cell_type": "code",
   "execution_count": 196,
   "metadata": {
    "id": "aInibmZ5oFi5"
   },
   "outputs": [],
   "source": [
    "train_loss_chart = []\n",
    "for data in model_right :\n",
    "  output = AutoEncoder(data)\n",
    "  loss = criterion(output, data)\n",
    "  train_loss_chart.append(loss.item())"
   ]
  },
  {
   "cell_type": "code",
   "execution_count": 197,
   "metadata": {
    "colab": {
     "base_uri": "https://localhost:8080/",
     "height": 283
    },
    "id": "X_l6bfA7iTh_",
    "outputId": "54e6b06b-8136-4fb9-de78-b2746cf468f3"
   },
   "outputs": [
    {
     "data": {
      "text/plain": [
       "<matplotlib.axes._subplots.AxesSubplot at 0x7fdd54d2e250>"
      ]
     },
     "execution_count": 197,
     "metadata": {},
     "output_type": "execute_result"
    },
    {
     "data": {
      "image/png": "[encoded data removed]",
      "text/plain": [
       "<Figure size 432x288 with 1 Axes>"
      ]
     },
     "metadata": {
      "needs_background": "light"
     },
     "output_type": "display_data"
    }
   ],
   "source": [
    "right_frame = pd.DataFrame(train_loss_chart)\n",
    "right_frame.plot()"
   ]
  },
  {
   "cell_type": "code",
   "execution_count": 211,
   "metadata": {
    "colab": {
     "base_uri": "https://localhost:8080/"
    },
    "id": "GF1eLhJ0i0-N",
    "outputId": "c27ac475-dc0f-499e-e0a6-e8915a88afb0"
   },
   "outputs": [
    {
     "data": {
      "text/plain": [
       "0    36283\n",
       "dtype: int64"
      ]
     },
     "execution_count": 211,
     "metadata": {},
     "output_type": "execute_result"
    }
   ],
   "source": [
    "right_frame[right_frame>0.003].count()"
   ]
  },
  {
   "cell_type": "code",
   "execution_count": 199,
   "metadata": {
    "id": "INuDEcn7w7Fv"
   },
   "outputs": [],
   "source": [
    "test_loss_chart = []\n",
    "for data in model_error :\n",
    "  output = AutoEncoder(data)\n",
    "  loss = criterion(output, data)\n",
    "  test_loss_chart.append(loss.item())"
   ]
  },
  {
   "cell_type": "code",
   "execution_count": 200,
   "metadata": {
    "id": "01qerPBVhm69"
   },
   "outputs": [],
   "source": [
    "test_frame=pd.DataFrame(test_loss_chart)"
   ]
  },
  {
   "cell_type": "code",
   "execution_count": 201,
   "metadata": {
    "colab": {
     "base_uri": "https://localhost:8080/",
     "height": 285
    },
    "id": "8uLxccWRjUOO",
    "outputId": "4f67ee96-d24b-4c53-a5a5-1149bbbaddbf"
   },
   "outputs": [
    {
     "data": {
      "text/plain": [
       "<matplotlib.axes._subplots.AxesSubplot at 0x7fdd54f99f50>"
      ]
     },
     "execution_count": 201,
     "metadata": {},
     "output_type": "execute_result"
    },
    {
     "data": {
      "image/png": "[encoded data removed]",
      "text/plain": [
       "<Figure size 432x288 with 1 Axes>"
      ]
     },
     "metadata": {
      "needs_background": "light"
     },
     "output_type": "display_data"
    }
   ],
   "source": [
    "test_frame.plot()"
   ]
  },
  {
   "cell_type": "code",
   "execution_count": 210,
   "metadata": {
    "colab": {
     "base_uri": "https://localhost:8080/"
    },
    "id": "dZ4ePlqTjGBd",
    "outputId": "d1c7eb41-eb8f-41da-b02f-9363f850ed76"
   },
   "outputs": [
    {
     "data": {
      "text/plain": [
       "0    2764\n",
       "dtype: int64"
      ]
     },
     "execution_count": 210,
     "metadata": {},
     "output_type": "execute_result"
    }
   ],
   "source": [
    "test_frame[test_frame>0.003].count()"
   ]
  },
  {
   "cell_type": "code",
   "execution_count": 139,
   "metadata": {
    "id": "GPNtGsBYl2Ml"
   },
   "outputs": [],
   "source": [
    "outlier = []\n",
    "for i in range(len(test_loss_chart)) :\n",
    "  outlier.append(test_loss_chart[i] >= 0.00019)"
   ]
  },
  {
   "cell_type": "code",
   "execution_count": 140,
   "metadata": {
    "colab": {
     "base_uri": "https://localhost:8080/",
     "height": 568
    },
    "id": "aQ_jChhqBQeo",
    "outputId": "55ebc43e-12c4-4145-9b3b-11c945196f09"
   },
   "outputs": [
    {
     "data": {
      "text/html": [
       "\n",
       "  <div id=\"df-300c7726-4fbe-4385-af50-5034764be569\">\n",
       "    <div class=\"colab-df-container\">\n",
       "      <div>\n",
       "<style scoped>\n",
       "    .dataframe tbody tr th:only-of-type {\n",
       "        vertical-align: middle;\n",
       "    }\n",
       "\n",
       "    .dataframe tbody tr th {\n",
       "        vertical-align: top;\n",
       "    }\n",
       "\n",
       "    .dataframe thead th {\n",
       "        text-align: right;\n",
       "    }\n",
       "</style>\n",
       "<table border=\"1\" class=\"dataframe\">\n",
       "  <thead>\n",
       "    <tr style=\"text-align: right;\">\n",
       "      <th></th>\n",
       "      <th>date</th>\n",
       "      <th>0</th>\n",
       "      <th>용접 불량</th>\n",
       "    </tr>\n",
       "  </thead>\n",
       "  <tbody>\n",
       "    <tr>\n",
       "      <th>0</th>\n",
       "      <td>2021-01-13</td>\n",
       "      <td>0</td>\n",
       "      <td>15</td>\n",
       "    </tr>\n",
       "    <tr>\n",
       "      <th>1</th>\n",
       "      <td>2021-01-14</td>\n",
       "      <td>0</td>\n",
       "      <td>6</td>\n",
       "    </tr>\n",
       "    <tr>\n",
       "      <th>2</th>\n",
       "      <td>2021-03-19</td>\n",
       "      <td>0</td>\n",
       "      <td>1</td>\n",
       "    </tr>\n",
       "    <tr>\n",
       "      <th>3</th>\n",
       "      <td>2021-03-23</td>\n",
       "      <td>0</td>\n",
       "      <td>2</td>\n",
       "    </tr>\n",
       "    <tr>\n",
       "      <th>4</th>\n",
       "      <td>2021-03-24</td>\n",
       "      <td>0</td>\n",
       "      <td>21</td>\n",
       "    </tr>\n",
       "    <tr>\n",
       "      <th>...</th>\n",
       "      <td>...</td>\n",
       "      <td>...</td>\n",
       "      <td>...</td>\n",
       "    </tr>\n",
       "    <tr>\n",
       "      <th>91</th>\n",
       "      <td>2021-10-18</td>\n",
       "      <td>1</td>\n",
       "      <td>2</td>\n",
       "    </tr>\n",
       "    <tr>\n",
       "      <th>92</th>\n",
       "      <td>2021-10-21</td>\n",
       "      <td>0</td>\n",
       "      <td>4</td>\n",
       "    </tr>\n",
       "    <tr>\n",
       "      <th>93</th>\n",
       "      <td>2021-10-22</td>\n",
       "      <td>0</td>\n",
       "      <td>1</td>\n",
       "    </tr>\n",
       "    <tr>\n",
       "      <th>94</th>\n",
       "      <td>2021-10-27</td>\n",
       "      <td>0</td>\n",
       "      <td>2</td>\n",
       "    </tr>\n",
       "    <tr>\n",
       "      <th>95</th>\n",
       "      <td>2021-10-28</td>\n",
       "      <td>0</td>\n",
       "      <td>1</td>\n",
       "    </tr>\n",
       "  </tbody>\n",
       "</table>\n",
       "<p>96 rows × 3 columns</p>\n",
       "</div>\n",
       "      <button class=\"colab-df-convert\" onclick=\"convertToInteractive('df-300c7726-4fbe-4385-af50-5034764be569')\"\n",
       "              title=\"Convert this dataframe to an interactive table.\"\n",
       "              style=\"display:none;\">\n",
       "        \n",
       "  <svg xmlns=\"http://www.w3.org/2000/svg\" height=\"24px\"viewBox=\"0 0 24 24\"\n",
       "       width=\"24px\">\n",
       "    <path d=\"M0 0h24v24H0V0z\" fill=\"none\"/>\n",
       "    <path d=\"M18.56 5.44l.94 2.06.94-2.06 2.06-.94-2.06-.94-.94-2.06-.94 2.06-2.06.94zm-11 1L8.5 8.5l.94-2.06 2.06-.94-2.06-.94L8.5 2.5l-.94 2.06-2.06.94zm10 10l.94 2.06.94-2.06 2.06-.94-2.06-.94-.94-2.06-.94 2.06-2.06.94z\"/><path d=\"M17.41 7.96l-1.37-1.37c-.4-.4-.92-.59-1.43-.59-.52 0-1.04.2-1.43.59L10.3 9.45l-7.72 7.72c-.78.78-.78 2.05 0 2.83L4 21.41c.39.39.9.59 1.41.59.51 0 1.02-.2 1.41-.59l7.78-7.78 2.81-2.81c.8-.78.8-2.07 0-2.86zM5.41 20L4 18.59l7.72-7.72 1.47 1.35L5.41 20z\"/>\n",
       "  </svg>\n",
       "      </button>\n",
       "      \n",
       "  <style>\n",
       "    .colab-df-container {\n",
       "      display:flex;\n",
       "      flex-wrap:wrap;\n",
       "      gap: 12px;\n",
       "    }\n",
       "\n",
       "    .colab-df-convert {\n",
       "      background-color: #E8F0FE;\n",
       "      border: none;\n",
       "      border-radius: 50%;\n",
       "      cursor: pointer;\n",
       "      display: none;\n",
       "      fill: #1967D2;\n",
       "      height: 32px;\n",
       "      padding: 0 0 0 0;\n",
       "      width: 32px;\n",
       "    }\n",
       "\n",
       "    .colab-df-convert:hover {\n",
       "      background-color: #E2EBFA;\n",
       "      box-shadow: 0px 1px 2px rgba(60, 64, 67, 0.3), 0px 1px 3px 1px rgba(60, 64, 67, 0.15);\n",
       "      fill: #174EA6;\n",
       "    }\n",
       "\n",
       "    [theme=dark] .colab-df-convert {\n",
       "      background-color: #3B4455;\n",
       "      fill: #D2E3FC;\n",
       "    }\n",
       "\n",
       "    [theme=dark] .colab-df-convert:hover {\n",
       "      background-color: #434B5C;\n",
       "      box-shadow: 0px 1px 3px 1px rgba(0, 0, 0, 0.15);\n",
       "      filter: drop-shadow(0px 1px 2px rgba(0, 0, 0, 0.3));\n",
       "      fill: #FFFFFF;\n",
       "    }\n",
       "  </style>\n",
       "\n",
       "      <script>\n",
       "        const buttonEl =\n",
       "          document.querySelector('#df-300c7726-4fbe-4385-af50-5034764be569 button.colab-df-convert');\n",
       "        buttonEl.style.display =\n",
       "          google.colab.kernel.accessAllowed ? 'block' : 'none';\n",
       "\n",
       "        async function convertToInteractive(key) {\n",
       "          const element = document.querySelector('#df-300c7726-4fbe-4385-af50-5034764be569');\n",
       "          const dataTable =\n",
       "            await google.colab.kernel.invokeFunction('convertToInteractive',\n",
       "                                                     [key], {});\n",
       "          if (!dataTable) return;\n",
       "\n",
       "          const docLinkHtml = 'Like what you see? Visit the ' +\n",
       "            '<a target=\"_blank\" href=https://colab.research.google.com/notebooks/data_table.ipynb>data table notebook</a>'\n",
       "            + ' to learn more about interactive tables.';\n",
       "          element.innerHTML = '';\n",
       "          dataTable['output_type'] = 'display_data';\n",
       "          await google.colab.output.renderOutput(dataTable, element);\n",
       "          const docLink = document.createElement('div');\n",
       "          docLink.innerHTML = docLinkHtml;\n",
       "          element.appendChild(docLink);\n",
       "        }\n",
       "      </script>\n",
       "    </div>\n",
       "  </div>\n",
       "  "
      ],
      "text/plain": [
       "          date  0  용접 불량\n",
       "0   2021-01-13  0     15\n",
       "1   2021-01-14  0      6\n",
       "2   2021-03-19  0      1\n",
       "3   2021-03-23  0      2\n",
       "4   2021-03-24  0     21\n",
       "..         ... ..    ...\n",
       "91  2021-10-18  1      2\n",
       "92  2021-10-21  0      4\n",
       "93  2021-10-22  0      1\n",
       "94  2021-10-27  0      2\n",
       "95  2021-10-28  0      1\n",
       "\n",
       "[96 rows x 3 columns]"
      ]
     },
     "execution_count": 140,
     "metadata": {},
     "output_type": "execute_result"
    }
   ],
   "source": [
    "pd.merge(pd.concat([temp_error.reset_index(),pd.DataFrame(outlier)],axis = 1).groupby('date').sum()[0],real_error_data[['date','용접 불량']],how = 'left', on = 'date')"
   ]
  }
 ],
 "metadata": {
  "colab": {
   "authorship_tag": "ABX9TyNIRuvt3EYnT5171GsjKLif",
   "include_colab_link": true,
   "name": "AutoEncoder_right_error.ipynb",
   "provenance": []
  },
  "kernelspec": {
   "display_name": "Python 3 (ipykernel)",
   "language": "python",
   "name": "python3"
  },
  "language_info": {
   "codemirror_mode": {
    "name": "ipython",
    "version": 3
   },
   "file_extension": ".py",
   "mimetype": "text/x-python",
   "name": "python",
   "nbconvert_exporter": "python",
   "pygments_lexer": "ipython3",
   "version": "3.9.10"
  }
 },
 "nbformat": 4,
 "nbformat_minor": 4
}
