{
  "nbformat": 4,
  "nbformat_minor": 0,
  "metadata": {
    "colab": {
      "name": "z-score.ipynb",
      "provenance": [],
      "authorship_tag": "ABX9TyPWVoOQAF+J+LMaMkDpr4hN",
      "include_colab_link": true
    },
    "kernelspec": {
      "name": "python3",
      "display_name": "Python 3"
    },
    "language_info": {
      "name": "python"
    }
  },
  "cells": [
    {
      "cell_type": "markdown",
      "metadata": {
        "id": "view-in-github",
        "colab_type": "text"
      },
      "source": [
        "<a href=\"https://colab.research.google.com/github/AnnJungChan/youngjin_TECH/blob/main/KHU/z_score.ipynb\" target=\"_parent\"><img src=\"https://colab.research.google.com/assets/colab-badge.svg\" alt=\"Open In Colab\"/></a>"
      ]
    },
    {
      "cell_type": "markdown",
      "source": [
        "#  패키지로딩"
      ],
      "metadata": {
        "id": "8kf925iS8yro"
      }
    },
    {
      "cell_type": "code",
      "execution_count": 49,
      "metadata": {
        "colab": {
          "base_uri": "https://localhost:8080/"
        },
        "id": "k9uX9i3PziI3",
        "outputId": "6d865821-02c3-4819-ada1-fe6b3e86b243"
      },
      "outputs": [
        {
          "output_type": "stream",
          "name": "stdout",
          "text": [
            "Drive already mounted at /content/gdrive; to attempt to forcibly remount, call drive.mount(\"/content/gdrive\", force_remount=True).\n"
          ]
        }
      ],
      "source": [
        "import numpy as np\n",
        "import pandas as pd\n",
        "from google.colab import drive\n",
        "drive.mount('/content/gdrive')"
      ]
    },
    {
      "cell_type": "markdown",
      "source": [
        "# 데이터로딩"
      ],
      "metadata": {
        "id": "euthBCL481XR"
      }
    },
    {
      "cell_type": "code",
      "source": [
        "no1_pro1=pd.read_csv(\"/content/gdrive/MyDrive/용접데이터/1호기_프로세스1.csv\")\n",
        "no1_pro2=pd.read_csv(\"/content/gdrive/MyDrive/용접데이터/1호기_프로세스2.csv\")\n",
        "no2_pro2=pd.read_csv(\"/content/gdrive/MyDrive/용접데이터/2호기_프로세스2.csv\")\n",
        "no2_pro3=pd.read_csv(\"/content/gdrive/MyDrive/용접데이터/2호기_프로세스3.csv\")\n",
        "no2_pro11=pd.read_csv(\"/content/gdrive/MyDrive/용접데이터/2호기_프로세스11.csv\")\n",
        "no1_pro1=no1_pro1.drop(columns = [\"Unnamed: 0\"])\n",
        "no1_pro2=no1_pro2.drop(columns = [\"Unnamed: 0\"])\n",
        "no2_pro2=no2_pro2.drop(columns = [\"Unnamed: 0\"])\n",
        "no2_pro3=no2_pro3.drop(columns = [\"Unnamed: 0\"])\n",
        "no2_pro11=no2_pro11.drop(columns = [\"Unnamed: 0\"])\n",
        "\n",
        "machine = ['no1_pro1','no1_pro2','no2_pro2','no2_pro3','no2_pro11']\n",
        "machine_data = [no1_pro1,no1_pro2,no2_pro2,no2_pro3,no2_pro11]\n",
        "machine_name = ['1호기_프로세스1','1호기_프로세스2','2호기_프로세스2','2호기_프로세스3','2호기_프로세스11']\n",
        "\n",
        "for i in range(len(machine)) : \n",
        "  machine_data[i]['date_time']=machine_data[i][\"date\"] + \" \" + machine_data[i]['time']\n",
        "  machine_data[i]['date_time'] = machine_data[i]['date_time'].astype('datetime64')\n",
        "  machine_data[i] = machine_data[i].sort_values('date_time')"
      ],
      "metadata": {
        "id": "DAb9rfxPz3iM"
      },
      "execution_count": 50,
      "outputs": []
    },
    {
      "cell_type": "markdown",
      "source": [
        "# z-score 정규화"
      ],
      "metadata": {
        "id": "v1U0aawR839F"
      }
    },
    {
      "cell_type": "code",
      "source": [
        "from sklearn.preprocessing import StandardScaler\n",
        "\n",
        "machine_data_scale = []\n",
        "for i in range(len(machine)) :\n",
        "  temp=machine_data[i][['supply','A','V','gas','sec','tip_cum','NUM.EA.']]\n",
        "  scaler = StandardScaler()\n",
        "  machine_data_scale.append(scaler.fit_transform(temp))\n",
        "\n",
        "for i in range(len(machine)) : \n",
        "  machine_data_scale[i] = pd.DataFrame(machine_data_scale[i])\n",
        "  machine_data_scale[i].columns = ['supply','A','V','gas','sec','tip_cum','NUM.EA.']\n",
        "  machine_data[i]=machine_data[i].drop(columns =['supply','A','V','gas','sec','tip_cum','NUM.EA.','LH_RH'] )\n",
        "  machine_data_scale[i] = pd.concat([machine_data[i],machine_data_scale[i]],axis = 1)\n",
        "\n",
        "for i in range(len(machine)) :\n",
        "  machine_data_scale[i].to_csv('/content/gdrive/MyDrive/용접데이터/'+f'{machine_name[i]}' +\"_\"+\"scaled\"+ '.csv')"
      ],
      "metadata": {
        "id": "_2H0xGCq2Cvn"
      },
      "execution_count": 51,
      "outputs": []
    }
  ]
}