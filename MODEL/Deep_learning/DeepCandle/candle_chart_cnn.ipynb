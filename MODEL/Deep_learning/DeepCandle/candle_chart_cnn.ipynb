{
  "nbformat": 4,
  "nbformat_minor": 0,
  "metadata": {
    "colab": {
      "name": "candle_chart_cnn.ipynb",
      "provenance": [],
      "collapsed_sections": [],
      "toc_visible": true,
      "authorship_tag": "ABX9TyNJNqEz20Ibrh47a2oi3hsE",
      "include_colab_link": true
    },
    "kernelspec": {
      "name": "python3",
      "display_name": "Python 3"
    },
    "language_info": {
      "name": "python"
    },
    "accelerator": "GPU"
  },
  "cells": [
    {
      "cell_type": "markdown",
      "metadata": {
        "id": "view-in-github",
        "colab_type": "text"
      },
      "source": [
        "<a href=\"https://colab.research.google.com/github/AnnJungChan/youngjin_TECH/blob/main/DeepCandle/candle_chart_cnn.ipynb\" target=\"_parent\"><img src=\"https://colab.research.google.com/assets/colab-badge.svg\" alt=\"Open In Colab\"/></a>"
      ]
    },
    {
      "cell_type": "markdown",
      "source": [
        "# 패키지 로딩"
      ],
      "metadata": {
        "id": "vvAYl0YwIF9p"
      }
    },
    {
      "cell_type": "code",
      "source": [
        "from google.colab import drive\n",
        "drive.mount('/content/gdrive')\n",
        "import pandas as pd\n",
        "import numpy as np\n",
        "import matplotlib.pyplot as plt"
      ],
      "metadata": {
        "id": "0Ya8gw__IHuJ",
        "colab": {
          "base_uri": "https://localhost:8080/"
        },
        "outputId": "abc35d5b-94fc-4818-96ac-d786dc04dbe7"
      },
      "execution_count": 1,
      "outputs": [
        {
          "output_type": "stream",
          "name": "stdout",
          "text": [
            "Mounted at /content/gdrive\n"
          ]
        }
      ]
    },
    {
      "cell_type": "markdown",
      "source": [
        "# 데이터로드"
      ],
      "metadata": {
        "id": "tXfUI9V-y1YU"
      }
    },
    {
      "cell_type": "code",
      "source": [
        "%%time \n",
        "import pickle, gzip, urllib.request, json\n",
        "import numpy as np\n",
        "\n",
        "with gzip.open('data.pkl.gz','rb') as f: #피클의 주소를 적어주세요!\n",
        "  train_set, valid_set, test_set = pickle.load(f, encoding = 'latin1')"
      ],
      "metadata": {
        "id": "4zFg-atGkMVh",
        "colab": {
          "base_uri": "https://localhost:8080/"
        },
        "outputId": "88273b6c-afd1-4965-9b3e-346110b8ce57"
      },
      "execution_count": 62,
      "outputs": [
        {
          "output_type": "stream",
          "name": "stdout",
          "text": [
            "CPU times: user 15.2 ms, sys: 981 µs, total: 16.2 ms\n",
            "Wall time: 15.6 ms\n"
          ]
        }
      ]
    },
    {
      "cell_type": "markdown",
      "source": [
        "# train, vaild, test split"
      ],
      "metadata": {
        "id": "DyL3kG9ZzfT6"
      }
    },
    {
      "cell_type": "code",
      "source": [
        "(train_images, train_labels), (valid_images, valid_labels), (test_images, test_labels) = train_set, valid_set, test_set"
      ],
      "metadata": {
        "id": "q2u1P97uzaRN"
      },
      "execution_count": 63,
      "outputs": []
    },
    {
      "cell_type": "code",
      "source": [
        "train_images.shape"
      ],
      "metadata": {
        "colab": {
          "base_uri": "https://localhost:8080/"
        },
        "id": "Tqk6_rSB1wn2",
        "outputId": "4e40981b-235f-4e28-fe20-2a8c6740375f"
      },
      "execution_count": 64,
      "outputs": [
        {
          "output_type": "execute_result",
          "data": {
            "text/plain": [
              "(110, 50, 50, 3)"
            ]
          },
          "metadata": {},
          "execution_count": 64
        }
      ]
    },
    {
      "cell_type": "markdown",
      "source": [
        "50 by 50 데이터가 불러와진 것을 확인할 수 있다. 데이터가 정상적으로 불러와졌다. "
      ],
      "metadata": {
        "id": "06rkbHUdOXjU"
      }
    },
    {
      "cell_type": "code",
      "source": [
        "train_images = train_images.reshape(train_images.shape[0], 50, 50, 3)\n",
        "valid_images = valid_images.reshape(valid_images.shape[0], 50, 50, 3)\n",
        "test_images = test_images.reshape(test_images.shape[0], 50, 50, 3)\n",
        "\n",
        "train_images = train_images.astype('float32')\n",
        "valid_images = valid_images.astype('float32')\n",
        "test_images = test_images.astype('float32')\n",
        "\n",
        "print(train_X.shape)\n",
        "print(train_images.shape)\n",
        "print()"
      ],
      "metadata": {
        "colab": {
          "base_uri": "https://localhost:8080/"
        },
        "id": "Gutc5oK2zc-L",
        "outputId": "c551d2fb-6836-40f0-fa64-dd72ab701e3a"
      },
      "execution_count": 65,
      "outputs": [
        {
          "output_type": "stream",
          "name": "stdout",
          "text": [
            "(110, 50, 50, 3)\n",
            "(110, 50, 50, 3)\n",
            "\n"
          ]
        }
      ]
    },
    {
      "cell_type": "markdown",
      "source": [
        "train_X와 train_images가 차원이 같다. 정상적으로 데이터를 불러온 것이다."
      ],
      "metadata": {
        "id": "vnN0130sOiUU"
      }
    },
    {
      "cell_type": "code",
      "source": [
        "for i in range(0,10):\n",
        "  img = train_set[0][i]\n",
        "  label = train_set[1][i]\n",
        "  img_reshape = img.reshape((50,50,3))\n",
        "  imgplot = plt.imshow(img_reshape)\n",
        "  print('This is a {}'.format(label))\n",
        "  plt.show()"
      ],
      "metadata": {
        "colab": {
          "base_uri": "https://localhost:8080/",
          "height": 1000
        },
        "id": "5ooyOc1Q6iZW",
        "outputId": "ad5ba58c-d5c8-4ccd-e789-1bea4a3e9d57"
      },
      "execution_count": 115,
      "outputs": [
        {
          "output_type": "stream",
          "name": "stdout",
          "text": [
            "This is a 0\n"
          ]
        },
        {
          "output_type": "display_data",
          "data": {
            "text/plain": [
              "<Figure size 432x288 with 1 Axes>"
            ],
            "image/png": "[encoded data removed]"
          },
          "metadata": {
            "needs_background": "light"
          }
        },
        {
          "output_type": "stream",
          "name": "stdout",
          "text": [
            "This is a 0\n"
          ]
        },
        {
          "output_type": "display_data",
          "data": {
            "text/plain": [
              "<Figure size 432x288 with 1 Axes>"
            ],
            "image/png": "[encoded data removed]"
          },
          "metadata": {
            "needs_background": "light"
          }
        },
        {
          "output_type": "stream",
          "name": "stdout",
          "text": [
            "This is a 0\n"
          ]
        },
        {
          "output_type": "display_data",
          "data": {
            "text/plain": [
              "<Figure size 432x288 with 1 Axes>"
            ],
            "image/png": "[encoded data removed]"
          },
          "metadata": {
            "needs_background": "light"
          }
        },
        {
          "output_type": "stream",
          "name": "stdout",
          "text": [
            "This is a 0\n"
          ]
        },
        {
          "output_type": "display_data",
          "data": {
            "text/plain": [
              "<Figure size 432x288 with 1 Axes>"
            ],
            "image/png": "[encoded data removed]"
          },
          "metadata": {
            "needs_background": "light"
          }
        },
        {
          "output_type": "stream",
          "name": "stdout",
          "text": [
            "This is a 0\n"
          ]
        },
        {
          "output_type": "display_data",
          "data": {
            "text/plain": [
              "<Figure size 432x288 with 1 Axes>"
            ],
            "image/png": "[encoded data removed]"
          },
          "metadata": {
            "needs_background": "light"
          }
        },
        {
          "output_type": "stream",
          "name": "stdout",
          "text": [
            "This is a 0\n"
          ]
        },
        {
          "output_type": "display_data",
          "data": {
            "text/plain": [
              "<Figure size 432x288 with 1 Axes>"
            ],
            "image/png": "[encoded data removed]"
          },
          "metadata": {
            "needs_background": "light"
          }
        },
        {
          "output_type": "stream",
          "name": "stdout",
          "text": [
            "This is a 0\n"
          ]
        },
        {
          "output_type": "display_data",
          "data": {
            "text/plain": [
              "<Figure size 432x288 with 1 Axes>"
            ],
            "image/png": "[encoded data removed]"
          },
          "metadata": {
            "needs_background": "light"
          }
        },
        {
          "output_type": "stream",
          "name": "stdout",
          "text": [
            "This is a 0\n"
          ]
        },
        {
          "output_type": "display_data",
          "data": {
            "text/plain": [
              "<Figure size 432x288 with 1 Axes>"
            ],
            "image/png": "[encoded data removed]"
          },
          "metadata": {
            "needs_background": "light"
          }
        },
        {
          "output_type": "stream",
          "name": "stdout",
          "text": [
            "This is a 0\n"
          ]
        },
        {
          "output_type": "display_data",
          "data": {
            "text/plain": [
              "<Figure size 432x288 with 1 Axes>"
            ],
            "image/png": "[encoded data removed]"
          },
          "metadata": {
            "needs_background": "light"
          }
        },
        {
          "output_type": "stream",
          "name": "stdout",
          "text": [
            "This is a 0\n"
          ]
        },
        {
          "output_type": "display_data",
          "data": {
            "text/plain": [
              "<Figure size 432x288 with 1 Axes>"
            ],
            "image/png": "[encoded data removed]"
          },
          "metadata": {
            "needs_background": "light"
          }
        }
      ]
    },
    {
      "cell_type": "markdown",
      "source": [
        "그림파일로 데이터가 잘 로드되는 것을 볼 수 있다."
      ],
      "metadata": {
        "id": "TzGqBr0DO2M8"
      }
    },
    {
      "cell_type": "markdown",
      "source": [
        "# 정규화"
      ],
      "metadata": {
        "id": "_4sxtMl47YR_"
      }
    },
    {
      "cell_type": "code",
      "source": [
        "train_images /= 225\n",
        "valid_images /= 225\n",
        "test_images /= 225"
      ],
      "metadata": {
        "id": "xpdgj_Y365OG"
      },
      "execution_count": 66,
      "outputs": []
    },
    {
      "cell_type": "markdown",
      "source": [
        "# 원핫인코딩\n",
        "\n",
        "- 라벨링을 문자로 하면 컴퓨터가 알아볼 수 없기 때문에, 정수로 라벨링을 한다.\n",
        "\n"
      ],
      "metadata": {
        "id": "3sHRdYDB7Wws"
      }
    },
    {
      "cell_type": "code",
      "source": [
        "from keras.utils import np_utils\n",
        "from sklearn.preprocessing import LabelEncoder\n",
        "\n",
        "def encoding_to_int(labels):\n",
        "    e = LabelEncoder()\n",
        "    e.fit(labels)\n",
        "    return e.transform(labels)\n",
        "\n",
        "n_classes = 2\n",
        "print(\"Shape before one-hot encoding: \", train_labels.shape,)\n",
        "train_labels = np_utils.to_categorical(encoding_to_int(train_labels), n_classes)\n",
        "valid_labels = np_utils.to_categorical(encoding_to_int(valid_labels), n_classes)\n",
        "test_labels = np_utils.to_categorical(encoding_to_int(test_labels), n_classes)\n",
        "print(\"Shape after one-hot encoding: \", train_labels.shape)"
      ],
      "metadata": {
        "colab": {
          "base_uri": "https://localhost:8080/"
        },
        "id": "mudQJKVT7ATp",
        "outputId": "53bde550-11ba-4bb5-cb66-48e72a5b8068"
      },
      "execution_count": 67,
      "outputs": [
        {
          "output_type": "stream",
          "name": "stdout",
          "text": [
            "Shape before one-hot encoding:  (110,)\n",
            "Shape after one-hot encoding:  (110, 2)\n"
          ]
        }
      ]
    },
    {
      "cell_type": "markdown",
      "source": [
        "# 모델 빌드와 학습"
      ],
      "metadata": {
        "id": "Ex8MzEBx78ki"
      }
    },
    {
      "cell_type": "code",
      "source": [
        "import numpy\n",
        "import keras.models\n",
        "import tensorflow\n",
        "from keras.models import Sequential\n",
        "from tensorflow.keras.layers import Conv2D, MaxPool2D, Dropout, Flatten, Dense\n",
        "\n",
        " # building a linear stack of layers with the sequential model\n",
        "model = Sequential()\n",
        "\n",
        "# convolutional layer1\n",
        "model.add(Conv2D(32, kernel_size=(3,3), strides=(1,1), padding='same', activation='relu', input_shape=(50, 50, 3)))\n",
        "model.add(MaxPool2D(pool_size=(2,2)))\n",
        "\n",
        "# convolutional layer2\n",
        "model.add(Conv2D(48, kernel_size=(3,3), strides=(1,1), padding='same', activation='relu'))\n",
        "model.add(MaxPool2D(pool_size=(2,2)))\n",
        "model.add(Dropout(0.25))\n",
        "\n",
        "# convolutinal layer3\n",
        "model.add(Conv2D(64, kernel_size=(3,3), strides=(1,1), padding='same', activation='relu'))\n",
        "model.add(MaxPool2D(pool_size=(2,2)))\n",
        "\n",
        "# convolutinal layer4\n",
        "model.add(Conv2D(96, kernel_size=(3,3), strides=(1,1), padding='same', activation='relu'))\n",
        "model.add(MaxPool2D(pool_size=(2,2)))\n",
        "model.add(Dropout(0.25))\n",
        "\n",
        "# convolutinal layer3\n",
        "model.add(Conv2D(64, kernel_size=(3,3), strides=(1,1), padding='same', activation='relu'))\n",
        "model.add(MaxPool2D(pool_size=(2,2)))\n",
        "\n",
        "# convolutional layer2\n",
        "model.add(Conv2D(48, kernel_size=(3,3), strides=(1,1), padding='same', activation='relu'))\n",
        "model.add(Dropout(0.25))\n",
        "\n",
        "# convolutional layer1\n",
        "model.add(Conv2D(32, kernel_size=(3,3), strides=(1,1), padding='same', activation='relu'))\n",
        "\n",
        "\n",
        "# flatten output of conv\n",
        "model.add(Flatten())\n",
        "\n",
        "# hidden layer\n",
        "model.add(Dense(256, activation='relu'))\n",
        "model.add(Dropout(0.4))\n",
        "# output layer\n",
        "model.add(Dense(2, activation='softmax'))\n",
        "\n",
        "# compiling the sequential model\n",
        "model.compile(loss='categorical_crossentropy', metrics=['accuracy'], optimizer='adam')"
      ],
      "metadata": {
        "id": "LaHUAnBA7-UN"
      },
      "execution_count": 116,
      "outputs": []
    },
    {
      "cell_type": "code",
      "source": [
        "model.fit(train_images, train_labels, batch_size=64, epochs=20, validation_data=(valid_images, valid_labels))"
      ],
      "metadata": {
        "colab": {
          "base_uri": "https://localhost:8080/"
        },
        "id": "9HdlG_f18aUu",
        "outputId": "c32b9fb8-5caa-4fc3-c6d7-40aa62d86aa8"
      },
      "execution_count": 117,
      "outputs": [
        {
          "output_type": "stream",
          "name": "stdout",
          "text": [
            "Epoch 1/20\n",
            "2/2 [==============================] - 1s 280ms/step - loss: 0.6928 - accuracy: 0.5364 - val_loss: 0.6881 - val_accuracy: 0.7568\n",
            "Epoch 2/20\n",
            "2/2 [==============================] - 0s 62ms/step - loss: 0.6923 - accuracy: 0.4909 - val_loss: 0.6804 - val_accuracy: 0.7568\n",
            "Epoch 3/20\n",
            "2/2 [==============================] - 0s 51ms/step - loss: 0.6882 - accuracy: 0.5273 - val_loss: 0.6635 - val_accuracy: 0.7568\n",
            "Epoch 4/20\n",
            "2/2 [==============================] - 0s 48ms/step - loss: 0.6892 - accuracy: 0.5455 - val_loss: 0.6566 - val_accuracy: 0.7568\n",
            "Epoch 5/20\n",
            "2/2 [==============================] - 0s 50ms/step - loss: 0.6967 - accuracy: 0.5364 - val_loss: 0.6490 - val_accuracy: 0.7568\n",
            "Epoch 6/20\n",
            "2/2 [==============================] - 0s 50ms/step - loss: 0.6975 - accuracy: 0.5182 - val_loss: 0.6632 - val_accuracy: 0.7568\n",
            "Epoch 7/20\n",
            "2/2 [==============================] - 0s 51ms/step - loss: 0.6923 - accuracy: 0.5364 - val_loss: 0.6692 - val_accuracy: 0.7568\n",
            "Epoch 8/20\n",
            "2/2 [==============================] - 0s 50ms/step - loss: 0.6880 - accuracy: 0.5364 - val_loss: 0.6735 - val_accuracy: 0.7568\n",
            "Epoch 9/20\n",
            "2/2 [==============================] - 0s 51ms/step - loss: 0.6906 - accuracy: 0.5364 - val_loss: 0.6767 - val_accuracy: 0.7568\n",
            "Epoch 10/20\n",
            "2/2 [==============================] - 0s 50ms/step - loss: 0.6917 - accuracy: 0.5273 - val_loss: 0.6784 - val_accuracy: 0.7568\n",
            "Epoch 11/20\n",
            "2/2 [==============================] - 0s 51ms/step - loss: 0.6933 - accuracy: 0.5455 - val_loss: 0.6798 - val_accuracy: 0.7568\n",
            "Epoch 12/20\n",
            "2/2 [==============================] - 0s 49ms/step - loss: 0.6893 - accuracy: 0.5273 - val_loss: 0.6799 - val_accuracy: 0.7568\n",
            "Epoch 13/20\n",
            "2/2 [==============================] - 0s 48ms/step - loss: 0.6899 - accuracy: 0.5364 - val_loss: 0.6787 - val_accuracy: 0.7568\n",
            "Epoch 14/20\n",
            "2/2 [==============================] - 0s 46ms/step - loss: 0.6903 - accuracy: 0.5273 - val_loss: 0.6775 - val_accuracy: 0.7568\n",
            "Epoch 15/20\n",
            "2/2 [==============================] - 0s 49ms/step - loss: 0.6889 - accuracy: 0.5273 - val_loss: 0.6752 - val_accuracy: 0.7568\n",
            "Epoch 16/20\n",
            "2/2 [==============================] - 0s 49ms/step - loss: 0.6895 - accuracy: 0.5364 - val_loss: 0.6734 - val_accuracy: 0.7568\n",
            "Epoch 17/20\n",
            "2/2 [==============================] - 0s 47ms/step - loss: 0.6928 - accuracy: 0.5364 - val_loss: 0.6719 - val_accuracy: 0.7568\n",
            "Epoch 18/20\n",
            "2/2 [==============================] - 0s 48ms/step - loss: 0.6888 - accuracy: 0.5364 - val_loss: 0.6705 - val_accuracy: 0.7568\n",
            "Epoch 19/20\n",
            "2/2 [==============================] - 0s 48ms/step - loss: 0.6941 - accuracy: 0.5455 - val_loss: 0.6686 - val_accuracy: 0.7568\n",
            "Epoch 20/20\n",
            "2/2 [==============================] - 0s 47ms/step - loss: 0.6903 - accuracy: 0.5364 - val_loss: 0.6665 - val_accuracy: 0.7568\n"
          ]
        },
        {
          "output_type": "execute_result",
          "data": {
            "text/plain": [
              "<keras.callbacks.History at 0x7fa463c6f110>"
            ]
          },
          "metadata": {},
          "execution_count": 117
        }
      ]
    },
    {
      "cell_type": "code",
      "source": [
        "test_loss, test_acc = model.evaluate(test_images,  test_labels, verbose=2)"
      ],
      "metadata": {
        "colab": {
          "base_uri": "https://localhost:8080/"
        },
        "id": "HuATRElK9KD_",
        "outputId": "16da48da-56df-46af-ce5c-ccdcef701f4c"
      },
      "execution_count": 118,
      "outputs": [
        {
          "output_type": "stream",
          "name": "stdout",
          "text": [
            "2/2 - 0s - loss: 0.6606 - accuracy: 0.8108 - 30ms/epoch - 15ms/step\n"
          ]
        }
      ]
    },
    {
      "cell_type": "markdown",
      "source": [
        "학습한 결과는 81%의 정확도를 보이고 있다."
      ],
      "metadata": {
        "id": "ZrNN_MKhtCV8"
      }
    },
    {
      "cell_type": "code",
      "source": [
        "model.predict(test_images)"
      ],
      "metadata": {
        "colab": {
          "base_uri": "https://localhost:8080/"
        },
        "id": "Cx-HFlSHTcJl",
        "outputId": "4d7d7b48-1e0e-462e-87e4-7c585bb8ace0"
      },
      "execution_count": 122,
      "outputs": [
        {
          "output_type": "execute_result",
          "data": {
            "text/plain": [
              "array([[0.4726594 , 0.5273406 ],\n",
              "       [0.4726259 , 0.5273741 ],\n",
              "       [0.4724653 , 0.5275347 ],\n",
              "       [0.47265515, 0.5273448 ],\n",
              "       [0.472503  , 0.52749693],\n",
              "       [0.4725195 , 0.5274805 ],\n",
              "       [0.47277924, 0.5272208 ],\n",
              "       [0.47247714, 0.5275229 ],\n",
              "       [0.47267416, 0.52732587],\n",
              "       [0.47250667, 0.5274933 ],\n",
              "       [0.47258985, 0.52741015],\n",
              "       [0.4726344 , 0.52736557],\n",
              "       [0.47242227, 0.5275777 ],\n",
              "       [0.47260574, 0.52739424],\n",
              "       [0.47254792, 0.5274521 ],\n",
              "       [0.47254202, 0.52745795],\n",
              "       [0.47253904, 0.527461  ],\n",
              "       [0.4728034 , 0.5271966 ],\n",
              "       [0.4724843 , 0.5275157 ],\n",
              "       [0.47247562, 0.52752435],\n",
              "       [0.47252017, 0.5274798 ],\n",
              "       [0.4727385 , 0.5272615 ],\n",
              "       [0.47257897, 0.527421  ],\n",
              "       [0.47266924, 0.52733076],\n",
              "       [0.4731238 , 0.5268762 ],\n",
              "       [0.47265747, 0.5273425 ],\n",
              "       [0.47250542, 0.52749455],\n",
              "       [0.4727382 , 0.5272618 ],\n",
              "       [0.47274464, 0.52725536],\n",
              "       [0.4728357 , 0.52716434],\n",
              "       [0.47266442, 0.5273355 ],\n",
              "       [0.47260907, 0.52739096],\n",
              "       [0.47269627, 0.5273037 ],\n",
              "       [0.472625  , 0.52737504],\n",
              "       [0.4727293 , 0.5272707 ],\n",
              "       [0.4726028 , 0.52739716],\n",
              "       [0.47272822, 0.52727175]], dtype=float32)"
            ]
          },
          "metadata": {},
          "execution_count": 122
        }
      ]
    },
    {
      "cell_type": "markdown",
      "source": [
        "- 하지만, 한쪽값만 편향되게 학습한다는 특성이 있다.\n",
        "- 지금의 경우는 그냥 한쪽만 일방적으로 맞추고 있어서 오히려 학습을 못한다고 할 수 있다."
      ],
      "metadata": {
        "id": "9yoN8pRJtF8W"
      }
    }
  ]
}