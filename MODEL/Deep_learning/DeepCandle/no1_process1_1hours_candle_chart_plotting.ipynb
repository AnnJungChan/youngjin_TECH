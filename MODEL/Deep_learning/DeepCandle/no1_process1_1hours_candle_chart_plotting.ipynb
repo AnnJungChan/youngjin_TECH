{
  "nbformat": 4,
  "nbformat_minor": 0,
  "metadata": {
    "colab": {
      "name": "candle_chart_plotting.ipynb",
      "provenance": [],
      "authorship_tag": "ABX9TyNIylasDJ5elO6AqDpoWNa2",
      "include_colab_link": true
    },
    "kernelspec": {
      "name": "python3",
      "display_name": "Python 3"
    },
    "language_info": {
      "name": "python"
    }
  },
  "cells": [
    {
      "cell_type": "markdown",
      "metadata": {
        "id": "view-in-github",
        "colab_type": "text"
      },
      "source": [
        "<a href=\"https://colab.research.google.com/github/AnnJungChan/youngjin_TECH/blob/main/DeepCandle/no1_process1_1hours_candle_chart_plotting.ipynb\" target=\"_parent\"><img src=\"https://colab.research.google.com/assets/colab-badge.svg\" alt=\"Open In Colab\"/></a>"
      ]
    },
    {
      "cell_type": "markdown",
      "source": [
        "# 패키지 로딩"
      ],
      "metadata": {
        "id": "-0IwxT43rH3O"
      }
    },
    {
      "cell_type": "code",
      "execution_count": null,
      "metadata": {
        "id": "bjLZN2ycrDA5",
        "colab": {
          "base_uri": "https://localhost:8080/"
        },
        "outputId": "d1a5694e-6847-47ab-98bb-efcfe147250c"
      },
      "outputs": [
        {
          "output_type": "stream",
          "name": "stdout",
          "text": [
            "Drive already mounted at /content/gdrive/; to attempt to forcibly remount, call drive.mount(\"/content/gdrive/\", force_remount=True).\n",
            "Requirement already satisfied: mpl_finance in /usr/local/lib/python3.7/dist-packages (0.10.1)\n",
            "Requirement already satisfied: matplotlib in /usr/local/lib/python3.7/dist-packages (from mpl_finance) (3.2.2)\n",
            "Requirement already satisfied: python-dateutil>=2.1 in /usr/local/lib/python3.7/dist-packages (from matplotlib->mpl_finance) (2.8.2)\n",
            "Requirement already satisfied: kiwisolver>=1.0.1 in /usr/local/lib/python3.7/dist-packages (from matplotlib->mpl_finance) (1.4.0)\n",
            "Requirement already satisfied: cycler>=0.10 in /usr/local/lib/python3.7/dist-packages (from matplotlib->mpl_finance) (0.11.0)\n",
            "Requirement already satisfied: numpy>=1.11 in /usr/local/lib/python3.7/dist-packages (from matplotlib->mpl_finance) (1.21.5)\n",
            "Requirement already satisfied: pyparsing!=2.0.4,!=2.1.2,!=2.1.6,>=2.0.1 in /usr/local/lib/python3.7/dist-packages (from matplotlib->mpl_finance) (3.0.7)\n",
            "Requirement already satisfied: typing-extensions in /usr/local/lib/python3.7/dist-packages (from kiwisolver>=1.0.1->matplotlib->mpl_finance) (3.10.0.2)\n",
            "Requirement already satisfied: six>=1.5 in /usr/local/lib/python3.7/dist-packages (from python-dateutil>=2.1->matplotlib->mpl_finance) (1.15.0)\n"
          ]
        }
      ],
      "source": [
        "import pandas as pd\n",
        "import numpy as np\n",
        "from google.colab import drive\n",
        "drive.mount('/content/gdrive/')\n",
        "!pip install mpl_finance\n",
        "from mpl_finance import candlestick2_ohlc\n",
        "import matplotlib.ticker as ticker\n",
        "import matplotlib.pyplot as plt\n",
        "import pandas as pd\n",
        "from pandas_datareader import data  \n",
        "from datetime import datetime\n",
        "from IPython.display import display"
      ]
    },
    {
      "cell_type": "markdown",
      "source": [
        "# 데이터 로딩"
      ],
      "metadata": {
        "id": "CGv0v0TSsi9h"
      }
    },
    {
      "cell_type": "code",
      "source": [
        "pc1=pd.read_csv('/content/gdrive/MyDrive/용접데이터/캔들차트분석/1호기 프로세스1/1hours_pc1.csv')\n",
        "pc2=pd.read_csv('/content/gdrive/MyDrive/용접데이터/캔들차트분석/1호기 프로세스1/1hours_pc2.csv')\n",
        "pc1.drop(columns = ['Unnamed: 0'],inplace = True)\n",
        "pc2.drop(columns = ['Unnamed: 0'],inplace = True)"
      ],
      "metadata": {
        "id": "jSXDd_Zoso1F"
      },
      "execution_count": null,
      "outputs": []
    },
    {
      "cell_type": "markdown",
      "source": [
        "# 캔들스틱 플랏 만들기"
      ],
      "metadata": {
        "id": "eDEkGfEz7IIi"
      }
    },
    {
      "cell_type": "code",
      "source": [
        "pc1['date']=pc1['time'].str.split(\" \", expand = True)[0]\n",
        "pc2['date']=pc2['time'].str.split(\" \", expand = True)[0]"
      ],
      "metadata": {
        "id": "esg20wWN7KbN"
      },
      "execution_count": null,
      "outputs": []
    },
    {
      "cell_type": "markdown",
      "source": [
        "## volume을 제외하고 이미지를 만듦"
      ],
      "metadata": {
        "id": "yJFqNq9lAUz2"
      }
    },
    {
      "cell_type": "code",
      "source": [
        "date_list=pc1['date'].unique()\n",
        "date_list1=date_list[0:int(len(date_list)/2)]\n",
        "date_list2=date_list[int(len(date_list)/2):]\n"
      ],
      "metadata": {
        "id": "0_RTMaHaEvhl"
      },
      "execution_count": null,
      "outputs": []
    },
    {
      "cell_type": "code",
      "source": [
        "for i in range(len(date_list1)) :\n",
        "  sample1 = pc1.loc[pc1['date'] == date_list1[i],:]\n",
        "  sample2 = pc2.loc[pc1['date'] == date_list1[i],:]\n",
        "  \n",
        "  fig, ax = plt.subplots(figsize = (64,64))\n",
        "  candlestick2_ohlc(ax, sample1['top'],sample1['max'],sample1['min'],sample1['bottom'],width = 0.5, colorup = 'r',colordown = 'g')\n",
        "  candlestick2_ohlc(ax, sample2['top'],sample2['max'],sample2['min'],sample2['bottom'],width = 0.5, colorup = 'r',colordown = 'g')\n",
        "  ax.set_xticklabels([])\n",
        "  ax.set_yticklabels([])\n",
        "  fig.savefig('/content/gdrive/MyDrive/용접데이터/캔들차트분석/1호기 프로세스1/캔들플랏/'+f'{date_list1[i]}'+'.png')"
      ],
      "metadata": {
        "id": "UFzgmViz78TL"
      },
      "execution_count": null,
      "outputs": []
    },
    {
      "cell_type": "code",
      "source": [
        "for i in range(len(date_list2)) :\n",
        "  sample1 = pc1.loc[pc1['date'] == date_list2[i],:]\n",
        "  sample2 = pc2.loc[pc1['date'] == date_list2[i],:]\n",
        "  \n",
        "  fig, ax = plt.subplots(figsize = (64,64))\n",
        "  candlestick2_ohlc(ax, sample1['top'],sample1['max'],sample1['min'],sample1['bottom'],width = 0.5, colorup = 'r',colordown = 'g')\n",
        "  candlestick2_ohlc(ax, sample2['top'],sample2['max'],sample2['min'],sample2['bottom'],width = 0.5, colorup = 'r',colordown = 'g')\n",
        "  ax.set_xticklabels([])\n",
        "  ax.set_yticklabels([])\n",
        "  fig.savefig('/content/gdrive/MyDrive/용접데이터/캔들차트분석/1호기 프로세스1/캔들플랏/'+f'{date_list2[i]}'+'.png')"
      ],
      "metadata": {
        "id": "rXXbuwZZCzG3"
      },
      "execution_count": null,
      "outputs": []
    }
  ]
}