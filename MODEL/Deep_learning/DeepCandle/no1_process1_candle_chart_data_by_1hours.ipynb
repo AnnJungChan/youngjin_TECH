{
  "nbformat": 4,
  "nbformat_minor": 0,
  "metadata": {
    "colab": {
      "name": "candle_chart.ipynb",
      "provenance": [],
      "collapsed_sections": [],
      "authorship_tag": "ABX9TyNKpdosPQYMVVOhcqbQm26i",
      "include_colab_link": true
    },
    "kernelspec": {
      "name": "python3",
      "display_name": "Python 3"
    },
    "language_info": {
      "name": "python"
    }
  },
  "cells": [
    {
      "cell_type": "markdown",
      "metadata": {
        "id": "view-in-github",
        "colab_type": "text"
      },
      "source": [
        "<a href=\"https://colab.research.google.com/github/AnnJungChan/youngjin_TECH/blob/main/DeepCandle/no1_process1_candle_chart_data_by_1hours.ipynb\" target=\"_parent\"><img src=\"https://colab.research.google.com/assets/colab-badge.svg\" alt=\"Open In Colab\"/></a>"
      ]
    },
    {
      "cell_type": "markdown",
      "source": [
        "# 패키지로딩"
      ],
      "metadata": {
        "id": "Zavs5ULEJ-vX"
      }
    },
    {
      "cell_type": "code",
      "execution_count": 1,
      "metadata": {
        "colab": {
          "base_uri": "https://localhost:8080/"
        },
        "id": "Vs-VIzGGCp75",
        "outputId": "0410be82-77f9-4403-a27a-947b15423b79"
      },
      "outputs": [
        {
          "output_type": "stream",
          "name": "stdout",
          "text": [
            "Drive already mounted at /content/gdrive; to attempt to forcibly remount, call drive.mount(\"/content/gdrive\", force_remount=True).\n"
          ]
        }
      ],
      "source": [
        "from google.colab import drive\n",
        "drive.mount('/content/gdrive')\n",
        "import pandas as pd\n",
        "import numpy as np\n",
        "from sklearn.decomposition import PCA \n",
        "from sklearn.preprocessing import MinMaxScaler"
      ]
    },
    {
      "cell_type": "markdown",
      "source": [
        "# 데이터 로딩\n",
        "\n",
        "- 1호기 1프로세스 대상으로 실행한다.\n",
        "- 필요한 변수만 남기고 나머지는 모두 제거한 후, PCA를 진행한다."
      ],
      "metadata": {
        "id": "M--4hl7NKBUO"
      }
    },
    {
      "cell_type": "code",
      "source": [
        "no1_process1=pd.read_csv(\"/content/gdrive/MyDrive/용접데이터/1호기_프로세스1_scaled.csv\")\n",
        "no1_process1.drop(columns = ['Unnamed: 0','process','model_name'],inplace = True)\n",
        "no1_process1=no1_process1.sort_values('date_time')\n",
        "no1_process1=no1_process1.reset_index()\n",
        "no1_process1.drop(columns = ['index'],inplace = True)"
      ],
      "metadata": {
        "id": "725u782mDaqb"
      },
      "execution_count": 2,
      "outputs": []
    },
    {
      "cell_type": "code",
      "source": [
        "data = no1_process1[['A','V','gas','sec']]\n",
        "data"
      ],
      "metadata": {
        "colab": {
          "base_uri": "https://localhost:8080/",
          "height": 423
        },
        "id": "FskLRDOLEgR5",
        "outputId": "01e379a8-8b71-4c02-bdeb-d6c86c791f9c"
      },
      "execution_count": 3,
      "outputs": [
        {
          "output_type": "execute_result",
          "data": {
            "text/plain": [
              "               A         V       gas       sec\n",
              "0      -0.239606 -0.173739 -0.390693  1.459233\n",
              "1      -0.239606 -0.108440 -0.400172  1.250545\n",
              "2      -0.212932 -0.124765 -0.409650  1.459233\n",
              "3      -0.212932 -0.132927 -0.409650  1.459233\n",
              "4      -0.239606  0.005833 -0.352778  1.459233\n",
              "...          ...       ...       ...       ...\n",
              "402836  0.213847 -0.075790 -0.561309 -1.253718\n",
              "402837  0.213847 -0.116602 -0.561309 -1.253718\n",
              "402838  0.213847 -0.075790 -0.542352 -1.253718\n",
              "402839  0.213847  0.128268 -0.532873 -1.253718\n",
              "402840  0.213847  0.373139 -0.561309 -1.462407\n",
              "\n",
              "[402841 rows x 4 columns]"
            ],
            "text/html": [
              "\n",
              "  <div id=\"df-91c1566b-0284-4f9a-9642-b76445d73b31\">\n",
              "    <div class=\"colab-df-container\">\n",
              "      <div>\n",
              "<style scoped>\n",
              "    .dataframe tbody tr th:only-of-type {\n",
              "        vertical-align: middle;\n",
              "    }\n",
              "\n",
              "    .dataframe tbody tr th {\n",
              "        vertical-align: top;\n",
              "    }\n",
              "\n",
              "    .dataframe thead th {\n",
              "        text-align: right;\n",
              "    }\n",
              "</style>\n",
              "<table border=\"1\" class=\"dataframe\">\n",
              "  <thead>\n",
              "    <tr style=\"text-align: right;\">\n",
              "      <th></th>\n",
              "      <th>A</th>\n",
              "      <th>V</th>\n",
              "      <th>gas</th>\n",
              "      <th>sec</th>\n",
              "    </tr>\n",
              "  </thead>\n",
              "  <tbody>\n",
              "    <tr>\n",
              "      <th>0</th>\n",
              "      <td>-0.239606</td>\n",
              "      <td>-0.173739</td>\n",
              "      <td>-0.390693</td>\n",
              "      <td>1.459233</td>\n",
              "    </tr>\n",
              "    <tr>\n",
              "      <th>1</th>\n",
              "      <td>-0.239606</td>\n",
              "      <td>-0.108440</td>\n",
              "      <td>-0.400172</td>\n",
              "      <td>1.250545</td>\n",
              "    </tr>\n",
              "    <tr>\n",
              "      <th>2</th>\n",
              "      <td>-0.212932</td>\n",
              "      <td>-0.124765</td>\n",
              "      <td>-0.409650</td>\n",
              "      <td>1.459233</td>\n",
              "    </tr>\n",
              "    <tr>\n",
              "      <th>3</th>\n",
              "      <td>-0.212932</td>\n",
              "      <td>-0.132927</td>\n",
              "      <td>-0.409650</td>\n",
              "      <td>1.459233</td>\n",
              "    </tr>\n",
              "    <tr>\n",
              "      <th>4</th>\n",
              "      <td>-0.239606</td>\n",
              "      <td>0.005833</td>\n",
              "      <td>-0.352778</td>\n",
              "      <td>1.459233</td>\n",
              "    </tr>\n",
              "    <tr>\n",
              "      <th>...</th>\n",
              "      <td>...</td>\n",
              "      <td>...</td>\n",
              "      <td>...</td>\n",
              "      <td>...</td>\n",
              "    </tr>\n",
              "    <tr>\n",
              "      <th>402836</th>\n",
              "      <td>0.213847</td>\n",
              "      <td>-0.075790</td>\n",
              "      <td>-0.561309</td>\n",
              "      <td>-1.253718</td>\n",
              "    </tr>\n",
              "    <tr>\n",
              "      <th>402837</th>\n",
              "      <td>0.213847</td>\n",
              "      <td>-0.116602</td>\n",
              "      <td>-0.561309</td>\n",
              "      <td>-1.253718</td>\n",
              "    </tr>\n",
              "    <tr>\n",
              "      <th>402838</th>\n",
              "      <td>0.213847</td>\n",
              "      <td>-0.075790</td>\n",
              "      <td>-0.542352</td>\n",
              "      <td>-1.253718</td>\n",
              "    </tr>\n",
              "    <tr>\n",
              "      <th>402839</th>\n",
              "      <td>0.213847</td>\n",
              "      <td>0.128268</td>\n",
              "      <td>-0.532873</td>\n",
              "      <td>-1.253718</td>\n",
              "    </tr>\n",
              "    <tr>\n",
              "      <th>402840</th>\n",
              "      <td>0.213847</td>\n",
              "      <td>0.373139</td>\n",
              "      <td>-0.561309</td>\n",
              "      <td>-1.462407</td>\n",
              "    </tr>\n",
              "  </tbody>\n",
              "</table>\n",
              "<p>402841 rows × 4 columns</p>\n",
              "</div>\n",
              "      <button class=\"colab-df-convert\" onclick=\"convertToInteractive('df-91c1566b-0284-4f9a-9642-b76445d73b31')\"\n",
              "              title=\"Convert this dataframe to an interactive table.\"\n",
              "              style=\"display:none;\">\n",
              "        \n",
              "  <svg xmlns=\"http://www.w3.org/2000/svg\" height=\"24px\"viewBox=\"0 0 24 24\"\n",
              "       width=\"24px\">\n",
              "    <path d=\"M0 0h24v24H0V0z\" fill=\"none\"/>\n",
              "    <path d=\"M18.56 5.44l.94 2.06.94-2.06 2.06-.94-2.06-.94-.94-2.06-.94 2.06-2.06.94zm-11 1L8.5 8.5l.94-2.06 2.06-.94-2.06-.94L8.5 2.5l-.94 2.06-2.06.94zm10 10l.94 2.06.94-2.06 2.06-.94-2.06-.94-.94-2.06-.94 2.06-2.06.94z\"/><path d=\"M17.41 7.96l-1.37-1.37c-.4-.4-.92-.59-1.43-.59-.52 0-1.04.2-1.43.59L10.3 9.45l-7.72 7.72c-.78.78-.78 2.05 0 2.83L4 21.41c.39.39.9.59 1.41.59.51 0 1.02-.2 1.41-.59l7.78-7.78 2.81-2.81c.8-.78.8-2.07 0-2.86zM5.41 20L4 18.59l7.72-7.72 1.47 1.35L5.41 20z\"/>\n",
              "  </svg>\n",
              "      </button>\n",
              "      \n",
              "  <style>\n",
              "    .colab-df-container {\n",
              "      display:flex;\n",
              "      flex-wrap:wrap;\n",
              "      gap: 12px;\n",
              "    }\n",
              "\n",
              "    .colab-df-convert {\n",
              "      background-color: #E8F0FE;\n",
              "      border: none;\n",
              "      border-radius: 50%;\n",
              "      cursor: pointer;\n",
              "      display: none;\n",
              "      fill: #1967D2;\n",
              "      height: 32px;\n",
              "      padding: 0 0 0 0;\n",
              "      width: 32px;\n",
              "    }\n",
              "\n",
              "    .colab-df-convert:hover {\n",
              "      background-color: #E2EBFA;\n",
              "      box-shadow: 0px 1px 2px rgba(60, 64, 67, 0.3), 0px 1px 3px 1px rgba(60, 64, 67, 0.15);\n",
              "      fill: #174EA6;\n",
              "    }\n",
              "\n",
              "    [theme=dark] .colab-df-convert {\n",
              "      background-color: #3B4455;\n",
              "      fill: #D2E3FC;\n",
              "    }\n",
              "\n",
              "    [theme=dark] .colab-df-convert:hover {\n",
              "      background-color: #434B5C;\n",
              "      box-shadow: 0px 1px 3px 1px rgba(0, 0, 0, 0.15);\n",
              "      filter: drop-shadow(0px 1px 2px rgba(0, 0, 0, 0.3));\n",
              "      fill: #FFFFFF;\n",
              "    }\n",
              "  </style>\n",
              "\n",
              "      <script>\n",
              "        const buttonEl =\n",
              "          document.querySelector('#df-91c1566b-0284-4f9a-9642-b76445d73b31 button.colab-df-convert');\n",
              "        buttonEl.style.display =\n",
              "          google.colab.kernel.accessAllowed ? 'block' : 'none';\n",
              "\n",
              "        async function convertToInteractive(key) {\n",
              "          const element = document.querySelector('#df-91c1566b-0284-4f9a-9642-b76445d73b31');\n",
              "          const dataTable =\n",
              "            await google.colab.kernel.invokeFunction('convertToInteractive',\n",
              "                                                     [key], {});\n",
              "          if (!dataTable) return;\n",
              "\n",
              "          const docLinkHtml = 'Like what you see? Visit the ' +\n",
              "            '<a target=\"_blank\" href=https://colab.research.google.com/notebooks/data_table.ipynb>data table notebook</a>'\n",
              "            + ' to learn more about interactive tables.';\n",
              "          element.innerHTML = '';\n",
              "          dataTable['output_type'] = 'display_data';\n",
              "          await google.colab.output.renderOutput(dataTable, element);\n",
              "          const docLink = document.createElement('div');\n",
              "          docLink.innerHTML = docLinkHtml;\n",
              "          element.appendChild(docLink);\n",
              "        }\n",
              "      </script>\n",
              "    </div>\n",
              "  </div>\n",
              "  "
            ]
          },
          "metadata": {},
          "execution_count": 3
        }
      ]
    },
    {
      "cell_type": "markdown",
      "source": [
        "# 캔들차트를 위한 PCA\n",
        "\n",
        "- 캔들차트를 그리기 위해서는 1개~2개의 변수를 이용해야한다.\n",
        "- 그러므로, 주성분 분석을 통해서 변수를 2개로 줄여주었다."
      ],
      "metadata": {
        "id": "cMgGrbcLJjoy"
      }
    },
    {
      "cell_type": "code",
      "source": [
        "pca = PCA(n_components=4)\n",
        "pca_model = pca.fit(data)\n",
        "pca_data=pca.fit_transform(data)\n",
        "print(\"설명력   \\n\" ,pca_model.explained_variance_ratio_)\n",
        "print(\"상관계수\\n\", pca_model.components_)\n",
        "print(\"데이터 \\n \" ,pca_data)"
      ],
      "metadata": {
        "colab": {
          "base_uri": "https://localhost:8080/"
        },
        "id": "wBzVhgfeEqq2",
        "outputId": "b4c7b181-4730-43b8-fa74-abbf5be856b4"
      },
      "execution_count": 4,
      "outputs": [
        {
          "output_type": "stream",
          "name": "stdout",
          "text": [
            "설명력   \n",
            " [0.44558322 0.42140011 0.08687227 0.04614439]\n",
            "상관계수\n",
            " [[ 0.63822143 -0.28648393 -0.4049732  -0.58872495]\n",
            " [ 0.30575258  0.6476647   0.58248694 -0.38438881]\n",
            " [-0.38614669 -0.57922124  0.52029744 -0.4946555 ]\n",
            " [-0.59167516  0.40368323 -0.47539063 -0.51084646]]\n",
            "데이터 \n",
            "  [[-0.80401534 -0.9742712  -0.73193813 -0.4880787 ]\n",
            " [-0.69602361 -0.85728311 -0.67146335 -0.35060478]\n",
            " [-0.79334468 -0.94543924 -0.78046838 -0.47507873]\n",
            " ...\n",
            " [ 1.11592763  0.18230001  0.29929761  0.7411631 ]\n",
            " [ 1.05362948  0.31998283  0.18603418  0.81903212]\n",
            " [ 1.11785401  0.54223076  0.1326338   1.03800824]]\n"
          ]
        }
      ]
    },
    {
      "cell_type": "code",
      "source": [
        "pca_dataframe=pd.DataFrame(pca_data)\n",
        "pca_pc1=pca_dataframe[0]\n",
        "pca_pc2=pca_dataframe[1]\n",
        "print(\"주성분 1 \\n\" ,pca_pc1)\n",
        "print(\"주성분 2 \\n\" ,pca_pc2)"
      ],
      "metadata": {
        "colab": {
          "base_uri": "https://localhost:8080/"
        },
        "id": "wj1z1TboE_TH",
        "outputId": "68184988-881d-4123-8291-caeb2b57330e"
      },
      "execution_count": 5,
      "outputs": [
        {
          "output_type": "stream",
          "name": "stdout",
          "text": [
            "주성분 1 \n",
            " 0        -0.804015\n",
            "1        -0.696024\n",
            "2        -0.793345\n",
            "3        -0.791006\n",
            "4        -0.870814\n",
            "            ...   \n",
            "402836    1.123605\n",
            "402837    1.135297\n",
            "402838    1.115928\n",
            "402839    1.053629\n",
            "402840    1.117854\n",
            "Name: 0, Length: 402841, dtype: float64\n",
            "주성분 2 \n",
            " 0        -0.974271\n",
            "1        -0.857283\n",
            "2        -0.945439\n",
            "3        -0.950726\n",
            "4        -0.835884\n",
            "            ...   \n",
            "402836    0.171258\n",
            "402837    0.144825\n",
            "402838    0.182300\n",
            "402839    0.319983\n",
            "402840    0.542231\n",
            "Name: 1, Length: 402841, dtype: float64\n"
          ]
        }
      ]
    },
    {
      "cell_type": "markdown",
      "source": [
        "# 캔들차트를 위한 데이터 전처리\n",
        "\n",
        "- 캔들차트를 그리기 위해서 1시간 간격으로 데이터를 전처리함."
      ],
      "metadata": {
        "id": "fOFgV9RKKJY7"
      }
    },
    {
      "cell_type": "markdown",
      "source": [
        "## 날짜 계산\n",
        "\n",
        "- 날짜를 정확히 계산하여, 1시간 간격으로 데이터를 자르고 전처리할 준비를 함."
      ],
      "metadata": {
        "id": "BJIGSXd9mzjt"
      }
    },
    {
      "cell_type": "code",
      "source": [
        "pca_pc1 = pd.concat([no1_process1[[\"date\",\"time\",\"date_time\",\"decision\"]],pd.DataFrame(pca_pc1)],axis = 1)\n",
        "pca_pc2 = pd.concat([no1_process1[[\"date\",\"time\",\"date_time\",\"decision\"]],pd.DataFrame(pca_pc2)],axis = 1)\n",
        "pca_pc1.rename(columns = {0:'pc1'},inplace = True)\n",
        "pca_pc2.rename(columns = {1:'pc2'},inplace = True)"
      ],
      "metadata": {
        "id": "pFlu4jLWKgmC"
      },
      "execution_count": 6,
      "outputs": []
    },
    {
      "cell_type": "code",
      "source": [
        "pca_pc1=pca_pc1[pca_pc1['date']<='2021-10-29']\n",
        "pca_pc2=pca_pc2[pca_pc2['date']<='2021-10-29']"
      ],
      "metadata": {
        "id": "w6bbioR2K_gO"
      },
      "execution_count": 7,
      "outputs": []
    },
    {
      "cell_type": "markdown",
      "source": [
        "2월 4일부터 10월 29일까지 진행"
      ],
      "metadata": {
        "id": "xWolJJkfQfGS"
      }
    },
    {
      "cell_type": "code",
      "source": [
        "print('최소날짜 : ', pca_pc1['date'].min())\n",
        "print('최대날짜 : ', pca_pc1['date'].max())\n",
        "print('최소시간 : ' , pca_pc1['time'].min())\n",
        "print('최대시간 : ' , pca_pc1['time'].max())"
      ],
      "metadata": {
        "colab": {
          "base_uri": "https://localhost:8080/"
        },
        "id": "-p-w0fr_PUFu",
        "outputId": "2ff3c0a8-3856-4342-e979-651ab6b8e7dc"
      },
      "execution_count": 8,
      "outputs": [
        {
          "output_type": "stream",
          "name": "stdout",
          "text": [
            "최소날짜 :  2021-02-04\n",
            "최대날짜 :  2021-10-29\n",
            "최소시간 :  07:48:35\n",
            "최대시간 :  20:55:37\n"
          ]
        }
      ]
    },
    {
      "cell_type": "code",
      "source": [
        "import datetime\n",
        "import time\n",
        "\n",
        "time = datetime.datetime(2021,2,4,7,0,0)\n",
        "print(\"날짜 차이 : \" ,datetime.datetime(2021,10,29) - datetime.datetime(2021,2,4))\n",
        "\n",
        "days = []\n",
        "days.append(time)\n",
        "for i in range(267) : \n",
        "  days.append(days[i] + datetime.timedelta(days = 1))"
      ],
      "metadata": {
        "colab": {
          "base_uri": "https://localhost:8080/"
        },
        "id": "UAhvmK-cPoGe",
        "outputId": "698f5ffd-b04b-49bc-fdeb-39b39cfb9c5f"
      },
      "execution_count": 9,
      "outputs": [
        {
          "output_type": "stream",
          "name": "stdout",
          "text": [
            "날짜 차이 :  267 days, 0:00:00\n"
          ]
        }
      ]
    },
    {
      "cell_type": "code",
      "source": [
        "start_days = days\n",
        "end_days = []\n",
        "for i in range(len(days)) :\n",
        "  end_days.append(days[i] + datetime.timedelta(hours = 14))"
      ],
      "metadata": {
        "id": "Vq6-50IUSV8W"
      },
      "execution_count": 10,
      "outputs": []
    },
    {
      "cell_type": "code",
      "source": [
        "time_hours = []\n",
        "for j in range(len(start_days)) :\n",
        "  for i in range(15) :\n",
        "    time_hours.append(start_days[j] + datetime.timedelta(hours = i))"
      ],
      "metadata": {
        "id": "827ch4X3XxkF"
      },
      "execution_count": 11,
      "outputs": []
    },
    {
      "cell_type": "code",
      "source": [
        "time_str = []\n",
        "for i in range(len(time_hours)) :\n",
        "  time_str.append(time_hours[i].strftime('%Y-%m-%d %H:%M:%S'))"
      ],
      "metadata": {
        "id": "Z8HHtIp1Y-Yv"
      },
      "execution_count": 12,
      "outputs": []
    },
    {
      "cell_type": "markdown",
      "source": [
        "time_str이 시간 축이 되어 left로 데이터를 붙이는 역할을 하고, 값이 비었다면 time_str값을 제거시켜주면서 진행할 것이다."
      ],
      "metadata": {
        "id": "SzJ665xAnO0M"
      }
    },
    {
      "cell_type": "markdown",
      "source": [
        "## PC1에서 진행"
      ],
      "metadata": {
        "id": "5H75TbcYmvXg"
      }
    },
    {
      "cell_type": "code",
      "source": [
        "top = []\n",
        "bottom = []\n",
        "min = []\n",
        "max = []\n",
        "volume = []\n",
        "\n",
        "\n",
        "time = []\n",
        "\n",
        "for i in range(len(time_str)) :\n",
        "  temp=pca_pc1.loc[(time_str[i]<=pca_pc1['date_time']) & (time_str[i+1]>=pca_pc1['date_time']),\"pc1\"]\n",
        "  if len(temp) != 0 :\n",
        "    time.append(time_str[i])\n",
        "\n",
        "\n",
        "for i in range(len(time)) :\n",
        "  temp=pca_pc1.loc[(time[i]<=pca_pc1['date_time']) & (time[i+1]>=pca_pc1['date_time']),\"pc1\"]\n",
        "  top.append(temp.head(1).values)\n",
        "  bottom.append(temp.tail(1).values)\n",
        "  min.append(temp.min())\n",
        "  max.append(temp.max())\n",
        "  volume.append(len(temp))"
      ],
      "metadata": {
        "colab": {
          "base_uri": "https://localhost:8080/",
          "height": 247
        },
        "id": "ukjRHtSAZe9c",
        "outputId": "8c66f624-bf34-4023-b3ab-19e1b31ac51a"
      },
      "execution_count": 71,
      "outputs": [
        {
          "output_type": "error",
          "ename": "IndexError",
          "evalue": "ignored",
          "traceback": [
            "\u001b[0;31m---------------------------------------------------------------------------\u001b[0m",
            "\u001b[0;31mIndexError\u001b[0m                                Traceback (most recent call last)",
            "\u001b[0;32m<ipython-input-71-9cd36a5a5fb7>\u001b[0m in \u001b[0;36m<module>\u001b[0;34m()\u001b[0m\n\u001b[1;32m      2\u001b[0m \u001b[0;34m\u001b[0m\u001b[0m\n\u001b[1;32m      3\u001b[0m \u001b[0;32mfor\u001b[0m \u001b[0mi\u001b[0m \u001b[0;32min\u001b[0m \u001b[0mrange\u001b[0m\u001b[0;34m(\u001b[0m\u001b[0mlen\u001b[0m\u001b[0;34m(\u001b[0m\u001b[0mtime\u001b[0m\u001b[0;34m)\u001b[0m\u001b[0;34m)\u001b[0m \u001b[0;34m:\u001b[0m\u001b[0;34m\u001b[0m\u001b[0;34m\u001b[0m\u001b[0m\n\u001b[0;32m----> 4\u001b[0;31m   \u001b[0mtemp\u001b[0m\u001b[0;34m=\u001b[0m\u001b[0mpca_pc1\u001b[0m\u001b[0;34m.\u001b[0m\u001b[0mloc\u001b[0m\u001b[0;34m[\u001b[0m\u001b[0;34m(\u001b[0m\u001b[0mtime\u001b[0m\u001b[0;34m[\u001b[0m\u001b[0mi\u001b[0m\u001b[0;34m]\u001b[0m\u001b[0;34m<=\u001b[0m\u001b[0mpca_pc1\u001b[0m\u001b[0;34m[\u001b[0m\u001b[0;34m'date_time'\u001b[0m\u001b[0;34m]\u001b[0m\u001b[0;34m)\u001b[0m \u001b[0;34m&\u001b[0m \u001b[0;34m(\u001b[0m\u001b[0mtime\u001b[0m\u001b[0;34m[\u001b[0m\u001b[0mi\u001b[0m\u001b[0;34m+\u001b[0m\u001b[0;36m1\u001b[0m\u001b[0;34m]\u001b[0m\u001b[0;34m>=\u001b[0m\u001b[0mpca_pc1\u001b[0m\u001b[0;34m[\u001b[0m\u001b[0;34m'date_time'\u001b[0m\u001b[0;34m]\u001b[0m\u001b[0;34m)\u001b[0m\u001b[0;34m,\u001b[0m\u001b[0;34m\"pc1\"\u001b[0m\u001b[0;34m]\u001b[0m\u001b[0;34m\u001b[0m\u001b[0;34m\u001b[0m\u001b[0m\n\u001b[0m\u001b[1;32m      5\u001b[0m   \u001b[0mtop\u001b[0m\u001b[0;34m.\u001b[0m\u001b[0mappend\u001b[0m\u001b[0;34m(\u001b[0m\u001b[0mtemp\u001b[0m\u001b[0;34m.\u001b[0m\u001b[0mhead\u001b[0m\u001b[0;34m(\u001b[0m\u001b[0;36m1\u001b[0m\u001b[0;34m)\u001b[0m\u001b[0;34m.\u001b[0m\u001b[0mvalues\u001b[0m\u001b[0;34m)\u001b[0m\u001b[0;34m\u001b[0m\u001b[0;34m\u001b[0m\u001b[0m\n\u001b[1;32m      6\u001b[0m   \u001b[0mbottom\u001b[0m\u001b[0;34m.\u001b[0m\u001b[0mappend\u001b[0m\u001b[0;34m(\u001b[0m\u001b[0mtemp\u001b[0m\u001b[0;34m.\u001b[0m\u001b[0mtail\u001b[0m\u001b[0;34m(\u001b[0m\u001b[0;36m1\u001b[0m\u001b[0;34m)\u001b[0m\u001b[0;34m.\u001b[0m\u001b[0mvalues\u001b[0m\u001b[0;34m)\u001b[0m\u001b[0;34m\u001b[0m\u001b[0;34m\u001b[0m\u001b[0m\n",
            "\u001b[0;31mIndexError\u001b[0m: list index out of range"
          ]
        }
      ]
    },
    {
      "cell_type": "code",
      "source": [
        "print(\"time 길이 : \", len(time))\n",
        "print(\"top 길이 : \", len(top))\n",
        "print(\"bottom 길이 : \", len(bottom))\n",
        "print(\"min 길이 : \", len(min))\n",
        "print(\"max 길이 : \", len(max))\n",
        "print(\"volume 길이 : \", len(volume))"
      ],
      "metadata": {
        "colab": {
          "base_uri": "https://localhost:8080/"
        },
        "id": "bpKQXtxPiW-n",
        "outputId": "b72f0c35-8726-43a6-83d8-af1f9faad174"
      },
      "execution_count": 72,
      "outputs": [
        {
          "output_type": "stream",
          "name": "stdout",
          "text": [
            "time 길이 :  1835\n",
            "top 길이 :  1834\n",
            "bottom 길이 :  1834\n",
            "min 길이 :  1834\n",
            "max 길이 :  1834\n",
            "volume 길이 :  1834\n"
          ]
        }
      ]
    },
    {
      "cell_type": "code",
      "source": [
        "time = time[:1834]\n",
        "data=pd.DataFrame({'time' : time, 'top' : top, 'bottom' : bottom, \"min\" : min, \"max\" : max, \"volume\" : volume })"
      ],
      "metadata": {
        "id": "fDxbnQfpjpSd"
      },
      "execution_count": 74,
      "outputs": []
    },
    {
      "cell_type": "code",
      "source": [
        "data['top']=data['top'].astype(float)\n",
        "data['bottom']=data['bottom'].astype(float)\n",
        "data['min']=data['min'].astype(float)\n",
        "data['max']=data['max'].astype(float)\n",
        "data['volume']=data['volume'].astype(int)\n",
        "data['time'] = data['time'].astype('datetime64')\n",
        "data.to_csv(\"/content/gdrive/MyDrive/용접데이터/캔들차트분석/1호기 프로세스1/1hours_pc1.csv\")"
      ],
      "metadata": {
        "id": "wHplaG3_kRJy"
      },
      "execution_count": 81,
      "outputs": []
    },
    {
      "cell_type": "markdown",
      "source": [
        "## PC2에서 진행"
      ],
      "metadata": {
        "id": "9qeQPRZEm9p6"
      }
    },
    {
      "cell_type": "code",
      "source": [
        "top = []\n",
        "bottom = []\n",
        "min = []\n",
        "max = []\n",
        "volume = []\n",
        "\n",
        "\n",
        "time = []\n",
        "\n",
        "for i in range(len(time_str)) :\n",
        "  temp=pca_pc2.loc[(time_str[i]<=pca_pc2['date_time']) & (time_str[i+1]>=pca_pc2['date_time']),\"pc2\"]\n",
        "  if len(temp) != 0 :\n",
        "    time.append(time_str[i])\n",
        "\n",
        "\n",
        "for i in range(len(time)) :\n",
        "  temp=pca_pc2.loc[(time[i]<=pca_pc2['date_time']) & (time[i+1]>=pca_pc2['date_time']),\"pc2\"]\n",
        "  top.append(temp.head(1).values)\n",
        "  bottom.append(temp.tail(1).values)\n",
        "  min.append(temp.min())\n",
        "  max.append(temp.max())\n",
        "  volume.append(len(temp))"
      ],
      "metadata": {
        "colab": {
          "base_uri": "https://localhost:8080/",
          "height": 247
        },
        "id": "2ta7RJ0Nm_2C",
        "outputId": "d104a4f7-16a1-4b0c-9679-2370d5c505b6"
      },
      "execution_count": 83,
      "outputs": [
        {
          "output_type": "error",
          "ename": "IndexError",
          "evalue": "ignored",
          "traceback": [
            "\u001b[0;31m---------------------------------------------------------------------------\u001b[0m",
            "\u001b[0;31mIndexError\u001b[0m                                Traceback (most recent call last)",
            "\u001b[0;32m<ipython-input-83-99cad1072567>\u001b[0m in \u001b[0;36m<module>\u001b[0;34m()\u001b[0m\n\u001b[1;32m      1\u001b[0m \u001b[0;32mfor\u001b[0m \u001b[0mi\u001b[0m \u001b[0;32min\u001b[0m \u001b[0mrange\u001b[0m\u001b[0;34m(\u001b[0m\u001b[0mlen\u001b[0m\u001b[0;34m(\u001b[0m\u001b[0mtime\u001b[0m\u001b[0;34m)\u001b[0m\u001b[0;34m)\u001b[0m \u001b[0;34m:\u001b[0m\u001b[0;34m\u001b[0m\u001b[0;34m\u001b[0m\u001b[0m\n\u001b[0;32m----> 2\u001b[0;31m   \u001b[0mtemp\u001b[0m\u001b[0;34m=\u001b[0m\u001b[0mpca_pc2\u001b[0m\u001b[0;34m.\u001b[0m\u001b[0mloc\u001b[0m\u001b[0;34m[\u001b[0m\u001b[0;34m(\u001b[0m\u001b[0mtime\u001b[0m\u001b[0;34m[\u001b[0m\u001b[0mi\u001b[0m\u001b[0;34m]\u001b[0m\u001b[0;34m<=\u001b[0m\u001b[0mpca_pc2\u001b[0m\u001b[0;34m[\u001b[0m\u001b[0;34m'date_time'\u001b[0m\u001b[0;34m]\u001b[0m\u001b[0;34m)\u001b[0m \u001b[0;34m&\u001b[0m \u001b[0;34m(\u001b[0m\u001b[0mtime\u001b[0m\u001b[0;34m[\u001b[0m\u001b[0mi\u001b[0m\u001b[0;34m+\u001b[0m\u001b[0;36m1\u001b[0m\u001b[0;34m]\u001b[0m\u001b[0;34m>=\u001b[0m\u001b[0mpca_pc2\u001b[0m\u001b[0;34m[\u001b[0m\u001b[0;34m'date_time'\u001b[0m\u001b[0;34m]\u001b[0m\u001b[0;34m)\u001b[0m\u001b[0;34m,\u001b[0m\u001b[0;34m\"pc2\"\u001b[0m\u001b[0;34m]\u001b[0m\u001b[0;34m\u001b[0m\u001b[0;34m\u001b[0m\u001b[0m\n\u001b[0m\u001b[1;32m      3\u001b[0m   \u001b[0mtop\u001b[0m\u001b[0;34m.\u001b[0m\u001b[0mappend\u001b[0m\u001b[0;34m(\u001b[0m\u001b[0mtemp\u001b[0m\u001b[0;34m.\u001b[0m\u001b[0mhead\u001b[0m\u001b[0;34m(\u001b[0m\u001b[0;36m1\u001b[0m\u001b[0;34m)\u001b[0m\u001b[0;34m.\u001b[0m\u001b[0mvalues\u001b[0m\u001b[0;34m)\u001b[0m\u001b[0;34m\u001b[0m\u001b[0;34m\u001b[0m\u001b[0m\n\u001b[1;32m      4\u001b[0m   \u001b[0mbottom\u001b[0m\u001b[0;34m.\u001b[0m\u001b[0mappend\u001b[0m\u001b[0;34m(\u001b[0m\u001b[0mtemp\u001b[0m\u001b[0;34m.\u001b[0m\u001b[0mtail\u001b[0m\u001b[0;34m(\u001b[0m\u001b[0;36m1\u001b[0m\u001b[0;34m)\u001b[0m\u001b[0;34m.\u001b[0m\u001b[0mvalues\u001b[0m\u001b[0;34m)\u001b[0m\u001b[0;34m\u001b[0m\u001b[0;34m\u001b[0m\u001b[0m\n\u001b[1;32m      5\u001b[0m   \u001b[0mmin\u001b[0m\u001b[0;34m.\u001b[0m\u001b[0mappend\u001b[0m\u001b[0;34m(\u001b[0m\u001b[0mtemp\u001b[0m\u001b[0;34m.\u001b[0m\u001b[0mmin\u001b[0m\u001b[0;34m(\u001b[0m\u001b[0;34m)\u001b[0m\u001b[0;34m)\u001b[0m\u001b[0;34m\u001b[0m\u001b[0;34m\u001b[0m\u001b[0m\n",
            "\u001b[0;31mIndexError\u001b[0m: list index out of range"
          ]
        }
      ]
    },
    {
      "cell_type": "code",
      "source": [
        "print(\"time 길이 : \", len(time))\n",
        "print(\"top 길이 : \", len(top))\n",
        "print(\"bottom 길이 : \", len(bottom))\n",
        "print(\"min 길이 : \", len(min))\n",
        "print(\"max 길이 : \", len(max))\n",
        "print(\"volume 길이 : \", len(volume))"
      ],
      "metadata": {
        "colab": {
          "base_uri": "https://localhost:8080/"
        },
        "id": "nII1VemVnYRF",
        "outputId": "a1c85380-fe3a-4fc9-9743-c64ae0efa191"
      },
      "execution_count": 84,
      "outputs": [
        {
          "output_type": "stream",
          "name": "stdout",
          "text": [
            "time 길이 :  1835\n",
            "top 길이 :  1834\n",
            "bottom 길이 :  1834\n",
            "min 길이 :  1834\n",
            "max 길이 :  1834\n",
            "volume 길이 :  1834\n"
          ]
        }
      ]
    },
    {
      "cell_type": "code",
      "source": [
        "time = time[:1834]\n",
        "data=pd.DataFrame({'time' : time, 'top' : top, 'bottom' : bottom, \"min\" : min, \"max\" : max, \"volume\" : volume })\n",
        "data['top']=data['top'].astype(float)\n",
        "data['bottom']=data['bottom'].astype(float)\n",
        "data['min']=data['min'].astype(float)\n",
        "data['max']=data['max'].astype(float)\n",
        "data['volume']=data['volume'].astype(int)\n",
        "data['time'] = data['time'].astype('datetime64')\n",
        "data.to_csv(\"/content/gdrive/MyDrive/용접데이터/캔들차트분석/1호기 프로세스1/1hours_pc2.csv\")"
      ],
      "metadata": {
        "id": "405uyvoCnaA2"
      },
      "execution_count": 85,
      "outputs": []
    }
  ]
}