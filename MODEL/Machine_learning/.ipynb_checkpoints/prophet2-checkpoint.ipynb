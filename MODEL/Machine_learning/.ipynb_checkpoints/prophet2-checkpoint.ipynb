{
 "cells": [
  {
   "cell_type": "markdown",
   "id": "172723cb-894e-4bcd-8f7f-36afe9789316",
   "metadata": {},
   "source": [
    "# Import"
   ]
  },
  {
   "cell_type": "code",
   "execution_count": 1,
   "id": "9432e83a-1b54-4dad-a15f-b1127412b65f",
   "metadata": {},
   "outputs": [],
   "source": [
    "import warnings\n",
    "import matplotlib.pyplot as plt\n",
    "import pandas as pd\n",
    "import numpy as np\n",
    "from neuralprophet import NeuralProphet\n",
    "from neuralprophet import set_random_seed\n",
    "from prophet import Prophet\n",
    "set_random_seed(0)\n",
    "%matplotlib inline\n",
    "warnings.filterwarnings('ignore')"
   ]
  },
  {
   "cell_type": "markdown",
   "id": "02575b1b-98ad-4546-b90d-b5a14570992f",
   "metadata": {},
   "source": [
    "# Preprocessing"
   ]
  },
  {
   "cell_type": "markdown",
   "id": "e65aefd9-99e1-4843-aaee-4ce20c499414",
   "metadata": {},
   "source": [
    "## data load"
   ]
  },
  {
   "cell_type": "code",
   "execution_count": 2,
   "id": "14db76ca-e710-4973-979a-94208e70896e",
   "metadata": {},
   "outputs": [],
   "source": [
    "l1 = pd.read_csv('../../PREPROCESSING/very_clean_data/one_left.csv',\n",
    "                 index_col=0, parse_dates=['시각'], infer_datetime_format=True)\n",
    "r1 = pd.read_csv('../../PREPROCESSING/very_clean_data/one_right.csv',\n",
    "                 index_col=0, parse_dates=['시각'], infer_datetime_format=True)\n",
    "l2 = pd.read_csv('../../PREPROCESSING/very_clean_data/two_left.csv',\n",
    "                 index_col=0, parse_dates=['시각'], infer_datetime_format=True)\n",
    "r2 = pd.read_csv('../../PREPROCESSING/very_clean_data/two_right.csv',\n",
    "                 index_col=0, parse_dates=['시각'], infer_datetime_format=True)"
   ]
  },
  {
   "cell_type": "code",
   "execution_count": 3,
   "id": "b1e8c078-f5dc-4944-8441-f1a88de42a0b",
   "metadata": {},
   "outputs": [],
   "source": [
    "def make_seperate(df, y, ds):\n",
    "    temp = df.copy()\n",
    "    original_columns = temp.columns\n",
    "    temp['y'] = temp[y]\n",
    "    temp['ds'] = temp[ds]\n",
    "\n",
    "    return temp.drop(original_columns, axis=1)"
   ]
  },
  {
   "cell_type": "code",
   "execution_count": 4,
   "id": "4e44e03c-dad4-442d-a7c9-41368af3bcf6",
   "metadata": {},
   "outputs": [],
   "source": [
    "def rolling_for(df, n):\n",
    "    temp = []\n",
    "    temp2 = pd.DataFrame()\n",
    "    temp3 = []\n",
    "    temp5 = []\n",
    "    \n",
    "    for i in range((len(l1)//n) + 1):\n",
    "        temp.append(df[i*n:(i+1)*n].reset_index(drop=True))\n",
    "        temp2 = pd.concat([temp2, temp[i]]).reset_index(drop=True)\n",
    "        temp3.append(temp2)\n",
    "        temp4 = temp3[i].copy()\n",
    "        temp4['y'][i*n:(i+1)*n] = None\n",
    "        temp5.append(temp4)\n",
    "        \n",
    "    return temp3, temp5"
   ]
  },
  {
   "cell_type": "code",
   "execution_count": 5,
   "id": "bb35f70f-0941-49dd-bdc3-acbfa60e3ca4",
   "metadata": {},
   "outputs": [],
   "source": [
    "l1_prepare = rolling_for(make_seperate(l1, '전압', '시각'), 2000)"
   ]
  },
  {
   "cell_type": "code",
   "execution_count": 6,
   "id": "60352e70-323a-4472-bb82-764ae6ebeaab",
   "metadata": {},
   "outputs": [
    {
     "data": {
      "text/html": [
       "<div>\n",
       "<style scoped>\n",
       "    .dataframe tbody tr th:only-of-type {\n",
       "        vertical-align: middle;\n",
       "    }\n",
       "\n",
       "    .dataframe tbody tr th {\n",
       "        vertical-align: top;\n",
       "    }\n",
       "\n",
       "    .dataframe thead th {\n",
       "        text-align: right;\n",
       "    }\n",
       "</style>\n",
       "<table border=\"1\" class=\"dataframe\">\n",
       "  <thead>\n",
       "    <tr style=\"text-align: right;\">\n",
       "      <th></th>\n",
       "      <th>y</th>\n",
       "      <th>ds</th>\n",
       "    </tr>\n",
       "  </thead>\n",
       "  <tbody>\n",
       "    <tr>\n",
       "      <th>0</th>\n",
       "      <td>49.5</td>\n",
       "      <td>2021-04-01 08:30:51</td>\n",
       "    </tr>\n",
       "    <tr>\n",
       "      <th>1</th>\n",
       "      <td>49.4</td>\n",
       "      <td>2021-04-01 08:33:47</td>\n",
       "    </tr>\n",
       "    <tr>\n",
       "      <th>2</th>\n",
       "      <td>49.4</td>\n",
       "      <td>2021-04-01 08:34:02</td>\n",
       "    </tr>\n",
       "    <tr>\n",
       "      <th>3</th>\n",
       "      <td>49.4</td>\n",
       "      <td>2021-04-01 08:34:17</td>\n",
       "    </tr>\n",
       "    <tr>\n",
       "      <th>4</th>\n",
       "      <td>49.4</td>\n",
       "      <td>2021-04-01 08:34:33</td>\n",
       "    </tr>\n",
       "    <tr>\n",
       "      <th>...</th>\n",
       "      <td>...</td>\n",
       "      <td>...</td>\n",
       "    </tr>\n",
       "    <tr>\n",
       "      <th>1995</th>\n",
       "      <td>49.5</td>\n",
       "      <td>2021-04-02 10:13:00</td>\n",
       "    </tr>\n",
       "    <tr>\n",
       "      <th>1996</th>\n",
       "      <td>49.5</td>\n",
       "      <td>2021-04-02 10:13:15</td>\n",
       "    </tr>\n",
       "    <tr>\n",
       "      <th>1997</th>\n",
       "      <td>49.5</td>\n",
       "      <td>2021-04-02 10:13:31</td>\n",
       "    </tr>\n",
       "    <tr>\n",
       "      <th>1998</th>\n",
       "      <td>49.5</td>\n",
       "      <td>2021-04-02 10:13:46</td>\n",
       "    </tr>\n",
       "    <tr>\n",
       "      <th>1999</th>\n",
       "      <td>49.5</td>\n",
       "      <td>2021-04-02 10:14:01</td>\n",
       "    </tr>\n",
       "  </tbody>\n",
       "</table>\n",
       "<p>2000 rows × 2 columns</p>\n",
       "</div>"
      ],
      "text/plain": [
       "         y                  ds\n",
       "0     49.5 2021-04-01 08:30:51\n",
       "1     49.4 2021-04-01 08:33:47\n",
       "2     49.4 2021-04-01 08:34:02\n",
       "3     49.4 2021-04-01 08:34:17\n",
       "4     49.4 2021-04-01 08:34:33\n",
       "...    ...                 ...\n",
       "1995  49.5 2021-04-02 10:13:00\n",
       "1996  49.5 2021-04-02 10:13:15\n",
       "1997  49.5 2021-04-02 10:13:31\n",
       "1998  49.5 2021-04-02 10:13:46\n",
       "1999  49.5 2021-04-02 10:14:01\n",
       "\n",
       "[2000 rows x 2 columns]"
      ]
     },
     "execution_count": 6,
     "metadata": {},
     "output_type": "execute_result"
    }
   ],
   "source": [
    "l1_prepare[0][0]"
   ]
  },
  {
   "cell_type": "code",
   "execution_count": 7,
   "id": "3cf22093-07fc-4e55-8fe2-c89959670b74",
   "metadata": {},
   "outputs": [
    {
     "data": {
      "text/html": [
       "<div>\n",
       "<style scoped>\n",
       "    .dataframe tbody tr th:only-of-type {\n",
       "        vertical-align: middle;\n",
       "    }\n",
       "\n",
       "    .dataframe tbody tr th {\n",
       "        vertical-align: top;\n",
       "    }\n",
       "\n",
       "    .dataframe thead th {\n",
       "        text-align: right;\n",
       "    }\n",
       "</style>\n",
       "<table border=\"1\" class=\"dataframe\">\n",
       "  <thead>\n",
       "    <tr style=\"text-align: right;\">\n",
       "      <th></th>\n",
       "      <th>y</th>\n",
       "      <th>ds</th>\n",
       "    </tr>\n",
       "  </thead>\n",
       "  <tbody>\n",
       "    <tr>\n",
       "      <th>0</th>\n",
       "      <td>49.5</td>\n",
       "      <td>2021-04-01 08:30:51</td>\n",
       "    </tr>\n",
       "    <tr>\n",
       "      <th>1</th>\n",
       "      <td>49.4</td>\n",
       "      <td>2021-04-01 08:33:47</td>\n",
       "    </tr>\n",
       "    <tr>\n",
       "      <th>2</th>\n",
       "      <td>49.4</td>\n",
       "      <td>2021-04-01 08:34:02</td>\n",
       "    </tr>\n",
       "    <tr>\n",
       "      <th>3</th>\n",
       "      <td>49.4</td>\n",
       "      <td>2021-04-01 08:34:17</td>\n",
       "    </tr>\n",
       "    <tr>\n",
       "      <th>4</th>\n",
       "      <td>49.4</td>\n",
       "      <td>2021-04-01 08:34:33</td>\n",
       "    </tr>\n",
       "    <tr>\n",
       "      <th>...</th>\n",
       "      <td>...</td>\n",
       "      <td>...</td>\n",
       "    </tr>\n",
       "    <tr>\n",
       "      <th>3995</th>\n",
       "      <td>NaN</td>\n",
       "      <td>2021-04-03 11:33:13</td>\n",
       "    </tr>\n",
       "    <tr>\n",
       "      <th>3996</th>\n",
       "      <td>NaN</td>\n",
       "      <td>2021-04-03 11:33:28</td>\n",
       "    </tr>\n",
       "    <tr>\n",
       "      <th>3997</th>\n",
       "      <td>NaN</td>\n",
       "      <td>2021-04-03 11:33:43</td>\n",
       "    </tr>\n",
       "    <tr>\n",
       "      <th>3998</th>\n",
       "      <td>NaN</td>\n",
       "      <td>2021-04-03 11:33:59</td>\n",
       "    </tr>\n",
       "    <tr>\n",
       "      <th>3999</th>\n",
       "      <td>NaN</td>\n",
       "      <td>2021-04-03 11:34:14</td>\n",
       "    </tr>\n",
       "  </tbody>\n",
       "</table>\n",
       "<p>4000 rows × 2 columns</p>\n",
       "</div>"
      ],
      "text/plain": [
       "         y                  ds\n",
       "0     49.5 2021-04-01 08:30:51\n",
       "1     49.4 2021-04-01 08:33:47\n",
       "2     49.4 2021-04-01 08:34:02\n",
       "3     49.4 2021-04-01 08:34:17\n",
       "4     49.4 2021-04-01 08:34:33\n",
       "...    ...                 ...\n",
       "3995   NaN 2021-04-03 11:33:13\n",
       "3996   NaN 2021-04-03 11:33:28\n",
       "3997   NaN 2021-04-03 11:33:43\n",
       "3998   NaN 2021-04-03 11:33:59\n",
       "3999   NaN 2021-04-03 11:34:14\n",
       "\n",
       "[4000 rows x 2 columns]"
      ]
     },
     "execution_count": 7,
     "metadata": {},
     "output_type": "execute_result"
    }
   ],
   "source": [
    "l1_prepare[1][1]"
   ]
  },
  {
   "cell_type": "markdown",
   "id": "f3ae3cb0-0b2c-4490-84ee-6258a164ba02",
   "metadata": {},
   "source": [
    "# modeling"
   ]
  },
  {
   "cell_type": "markdown",
   "id": "33971ec6-cef9-40dd-a0e2-b54a366ff3bd",
   "metadata": {
    "jp-MarkdownHeadingCollapsed": true,
    "tags": []
   },
   "source": [
    "## prophet"
   ]
  },
  {
   "cell_type": "code",
   "execution_count": 36,
   "id": "a22c3518-40e8-4189-b19a-138352892065",
   "metadata": {},
   "outputs": [],
   "source": [
    "def prophet(df):\n",
    "    model = Prophet()\n",
    "    metrics = model.fit(df)\n",
    "\n",
    "    return model"
   ]
  },
  {
   "cell_type": "code",
   "execution_count": 37,
   "id": "752966bd-a69b-41e2-8ef2-131a6d8df78c",
   "metadata": {},
   "outputs": [
    {
     "name": "stderr",
     "output_type": "stream",
     "text": [
      "INFO:prophet:Disabling yearly seasonality. Run prophet with yearly_seasonality=True to override this.\n",
      "INFO:prophet:Disabling weekly seasonality. Run prophet with weekly_seasonality=True to override this.\n",
      "INFO:prophet:Disabling daily seasonality. Run prophet with daily_seasonality=True to override this.\n"
     ]
    },
    {
     "name": "stdout",
     "output_type": "stream",
     "text": [
      "Initial log joint probability = -2.02299\n",
      "    Iter      log prob        ||dx||      ||grad||       alpha      alpha0  # evals  Notes \n",
      "      99       13388.9    0.00102567       53916.8           1           1      130   \n",
      "    Iter      log prob        ||dx||      ||grad||       alpha      alpha0  # evals  Notes \n",
      "     199         13494    0.00218331       46741.8           1           1      249   \n",
      "    Iter      log prob        ||dx||      ||grad||       alpha      alpha0  # evals  Notes \n",
      "     299       13583.9   0.000292147       7434.67           1           1      370   \n",
      "    Iter      log prob        ||dx||      ||grad||       alpha      alpha0  # evals  Notes \n",
      "     399       13594.5   4.23526e-05       3538.48           1           1      483   \n",
      "    Iter      log prob        ||dx||      ||grad||       alpha      alpha0  # evals  Notes \n",
      "     499       13608.2   3.79021e-05       15760.3           1           1      609   \n",
      "    Iter      log prob        ||dx||      ||grad||       alpha      alpha0  # evals  Notes \n",
      "     599       13653.8   0.000906023       35773.4           1           1      727   \n",
      "    Iter      log prob        ||dx||      ||grad||       alpha      alpha0  # evals  Notes \n",
      "     699       13657.8   0.000736785         20321      0.3347           1      845   \n",
      "    Iter      log prob        ||dx||      ||grad||       alpha      alpha0  # evals  Notes \n",
      "     799       13663.9    0.00029471       11925.3           1           1      958   \n",
      "    Iter      log prob        ||dx||      ||grad||       alpha      alpha0  # evals  Notes \n",
      "     899       13683.9   4.13148e-05       10164.5           1           1     1082   \n",
      "    Iter      log prob        ||dx||      ||grad||       alpha      alpha0  # evals  Notes \n",
      "     999         13687   0.000122096       12325.5           1           1     1206   \n",
      "    Iter      log prob        ||dx||      ||grad||       alpha      alpha0  # evals  Notes \n",
      "    1099       13697.7     0.0066893       14245.5           1           1     1330   \n",
      "    Iter      log prob        ||dx||      ||grad||       alpha      alpha0  # evals  Notes \n",
      "    1199       13713.5   4.81815e-05       14300.1           1           1     1453   \n",
      "    Iter      log prob        ||dx||      ||grad||       alpha      alpha0  # evals  Notes \n",
      "    1299       13720.8   0.000749507       8228.73      0.5172           1     1571   \n",
      "    Iter      log prob        ||dx||      ||grad||       alpha      alpha0  # evals  Notes \n",
      "    1399       13727.1   3.09781e-05       5082.42      0.5307     0.05307     1684   \n",
      "    Iter      log prob        ||dx||      ||grad||       alpha      alpha0  # evals  Notes \n",
      "    1499       13732.4   2.10948e-05       7509.71    0.002093           1     1800   \n",
      "    Iter      log prob        ||dx||      ||grad||       alpha      alpha0  # evals  Notes \n",
      "    1599       13733.8   0.000146075       2651.65      0.5215      0.5215     1928   \n",
      "    Iter      log prob        ||dx||      ||grad||       alpha      alpha0  # evals  Notes \n",
      "    1699       13734.5   0.000182423        6775.7           1           1     2042   \n",
      "    Iter      log prob        ||dx||      ||grad||       alpha      alpha0  # evals  Notes \n",
      "    1799       13734.9   3.60676e-05       5047.07      0.6018      0.6018     2163   \n",
      "    Iter      log prob        ||dx||      ||grad||       alpha      alpha0  # evals  Notes \n",
      "    1899       13735.6   0.000216064       9934.78           1           1     2273   \n",
      "    Iter      log prob        ||dx||      ||grad||       alpha      alpha0  # evals  Notes \n",
      "    1999         13738    0.00026459       4346.92           1           1     2391   \n",
      "    Iter      log prob        ||dx||      ||grad||       alpha      alpha0  # evals  Notes \n",
      "    2099       13739.5   0.000141636       8434.38     0.09633           1     2505   \n",
      "    Iter      log prob        ||dx||      ||grad||       alpha      alpha0  # evals  Notes \n",
      "    2199         13741   9.23265e-06       2439.03      0.7403      0.7403     2619   \n",
      "    Iter      log prob        ||dx||      ||grad||       alpha      alpha0  # evals  Notes \n",
      "    2299       13742.5   3.86989e-05       1882.56           1           1     2739   \n",
      "    Iter      log prob        ||dx||      ||grad||       alpha      alpha0  # evals  Notes \n",
      "    2399       13742.7   4.36013e-05       687.064           1           1     2857   \n",
      "    Iter      log prob        ||dx||      ||grad||       alpha      alpha0  # evals  Notes \n",
      "    2499       13744.1   6.41369e-05       9773.58      0.2205    0.002205     2983   \n",
      "    Iter      log prob        ||dx||      ||grad||       alpha      alpha0  # evals  Notes \n",
      "    2599       13744.6   8.95079e-05        2978.3      0.7513      0.7513     3096   \n",
      "    Iter      log prob        ||dx||      ||grad||       alpha      alpha0  # evals  Notes \n",
      "    2699       13745.7   0.000114145       829.875      0.1362      0.6227     3222   \n",
      "    Iter      log prob        ||dx||      ||grad||       alpha      alpha0  # evals  Notes \n",
      "    2799       13748.3   0.000117873       20831.6           1           1     3352   \n",
      "    Iter      log prob        ||dx||      ||grad||       alpha      alpha0  # evals  Notes \n",
      "    2899       13749.6   2.39585e-05       1818.09      0.1716           1     3475   \n",
      "    Iter      log prob        ||dx||      ||grad||       alpha      alpha0  # evals  Notes \n",
      "    2999       13750.2    0.00019686       7565.69           1           1     3601   \n",
      "    Iter      log prob        ||dx||      ||grad||       alpha      alpha0  # evals  Notes \n",
      "    3099       13750.8   3.00588e-05       377.882           1           1     3721   \n",
      "    Iter      log prob        ||dx||      ||grad||       alpha      alpha0  # evals  Notes \n",
      "    3199       13751.1   1.48397e-05        4541.2      0.4556           1     3840   \n",
      "    Iter      log prob        ||dx||      ||grad||       alpha      alpha0  # evals  Notes \n",
      "    3299       13751.3   1.21632e-05       2066.22           1           1     3954   \n",
      "    Iter      log prob        ||dx||      ||grad||       alpha      alpha0  # evals  Notes \n",
      "    3358       13751.4   6.69099e-06       422.581           1           1     4022   \n",
      "Optimization terminated normally: \n",
      "  Convergence detected: relative gradient magnitude is below tolerance\n"
     ]
    },
    {
     "data": {
      "image/png": "[encoded data removed]",
      "text/plain": [
       "<Figure size 720x432 with 1 Axes>"
      ]
     },
     "metadata": {},
     "output_type": "display_data"
    }
   ],
   "source": [
    "check = prophet(l1_prepare[0][0])\n",
    "forecast = check.predict(l1_prepare[1][1])\n",
    "forecasts_plot = check.plot(forecast)"
   ]
  },
  {
   "cell_type": "code",
   "execution_count": 38,
   "id": "00a530f2-a625-43e3-ab4a-165c3c12709c",
   "metadata": {},
   "outputs": [
    {
     "name": "stderr",
     "output_type": "stream",
     "text": [
      "INFO:prophet:Disabling yearly seasonality. Run prophet with yearly_seasonality=True to override this.\n",
      "INFO:prophet:Disabling weekly seasonality. Run prophet with weekly_seasonality=True to override this.\n"
     ]
    },
    {
     "name": "stdout",
     "output_type": "stream",
     "text": [
      "Initial log joint probability = -2.03024\n",
      "    Iter      log prob        ||dx||      ||grad||       alpha      alpha0  # evals  Notes \n",
      "      99       26616.3    0.00589924        347307      0.3616           1      123   \n",
      "    Iter      log prob        ||dx||      ||grad||       alpha      alpha0  # evals  Notes \n",
      "     199         26664   0.000378188       96763.8      0.6461      0.6461      230   \n",
      "    Iter      log prob        ||dx||      ||grad||       alpha      alpha0  # evals  Notes \n",
      "     299       26717.7   0.000141259       54527.1           1           1      342   \n",
      "    Iter      log prob        ||dx||      ||grad||       alpha      alpha0  # evals  Notes \n",
      "     399       26726.8   1.04411e-05       15807.9           1           1      454   \n",
      "    Iter      log prob        ||dx||      ||grad||       alpha      alpha0  # evals  Notes \n",
      "     499       26758.2    0.00217854        131099           1           1      561   \n",
      "    Iter      log prob        ||dx||      ||grad||       alpha      alpha0  # evals  Notes \n",
      "     599       26818.8   4.49401e-05       96650.4      0.3234           1      671   \n",
      "    Iter      log prob        ||dx||      ||grad||       alpha      alpha0  # evals  Notes \n",
      "     699       26858.9   0.000753602        102247      0.3691           1      784   \n",
      "    Iter      log prob        ||dx||      ||grad||       alpha      alpha0  # evals  Notes \n",
      "     799       26876.4   0.000167301       46032.4           1           1      892   \n",
      "    Iter      log prob        ||dx||      ||grad||       alpha      alpha0  # evals  Notes \n",
      "     899       26885.7   8.08191e-05       8036.01           1           1     1001   \n",
      "    Iter      log prob        ||dx||      ||grad||       alpha      alpha0  # evals  Notes \n",
      "     999       26897.9   1.77856e-05         10008           1           1     1112   \n",
      "    Iter      log prob        ||dx||      ||grad||       alpha      alpha0  # evals  Notes \n",
      "    1099       26911.5   0.000457027       17432.3           1           1     1228   \n",
      "    Iter      log prob        ||dx||      ||grad||       alpha      alpha0  # evals  Notes \n",
      "    1199       26917.6   3.63006e-06       9356.34      0.9097      0.9097     1337   \n",
      "    Iter      log prob        ||dx||      ||grad||       alpha      alpha0  # evals  Notes \n",
      "    1299       26924.4   2.88528e-05       17232.9           1           1     1444   \n",
      "    Iter      log prob        ||dx||      ||grad||       alpha      alpha0  # evals  Notes \n",
      "    1399       26950.8   0.000272621       26935.7           1           1     1551   \n",
      "    Iter      log prob        ||dx||      ||grad||       alpha      alpha0  # evals  Notes \n",
      "    1499       26967.9   5.68285e-05       8979.91      0.7462      0.7462     1658   \n",
      "    Iter      log prob        ||dx||      ||grad||       alpha      alpha0  # evals  Notes \n",
      "    1599       26969.9   3.57862e-06       5078.18      0.4182      0.4182     1769   \n",
      "    Iter      log prob        ||dx||      ||grad||       alpha      alpha0  # evals  Notes \n",
      "    1699       26986.4   0.000345301       17886.1           1           1     1880   \n",
      "    Iter      log prob        ||dx||      ||grad||       alpha      alpha0  # evals  Notes \n",
      "    1799       27028.4   9.96796e-05       20950.1      0.9614      0.9614     1984   \n",
      "    Iter      log prob        ||dx||      ||grad||       alpha      alpha0  # evals  Notes \n",
      "    1899       27043.9   0.000238722       6621.64           1           1     2092   \n",
      "    Iter      log prob        ||dx||      ||grad||       alpha      alpha0  # evals  Notes \n",
      "    1999       27046.1   0.000131558       15700.5           1           1     2210   \n",
      "    Iter      log prob        ||dx||      ||grad||       alpha      alpha0  # evals  Notes \n",
      "    2099       27049.1   3.63484e-06       4636.01           1           1     2317   \n",
      "    Iter      log prob        ||dx||      ||grad||       alpha      alpha0  # evals  Notes \n",
      "    2199         27054   4.55399e-05       2899.83           1           1     2424   \n",
      "    Iter      log prob        ||dx||      ||grad||       alpha      alpha0  # evals  Notes \n",
      "    2299         27055   5.30739e-05       4224.25           1           1     2535   \n",
      "    Iter      log prob        ||dx||      ||grad||       alpha      alpha0  # evals  Notes \n",
      "    2399       27056.4   6.51041e-05       2959.88           1           1     2646   \n",
      "    Iter      log prob        ||dx||      ||grad||       alpha      alpha0  # evals  Notes \n",
      "    2499       27058.1   5.11679e-07       1953.44           1           1     2757   \n",
      "    Iter      log prob        ||dx||      ||grad||       alpha      alpha0  # evals  Notes \n",
      "    2599       27058.7   8.19999e-06       14405.8      0.5578      0.5578     2861   \n",
      "    Iter      log prob        ||dx||      ||grad||       alpha      alpha0  # evals  Notes \n",
      "    2699       27059.9   2.53208e-05       9695.59           1           1     2968   \n",
      "    Iter      log prob        ||dx||      ||grad||       alpha      alpha0  # evals  Notes \n",
      "    2799       27061.2   1.03266e-06       2854.92           1           1     3077   \n",
      "    Iter      log prob        ||dx||      ||grad||       alpha      alpha0  # evals  Notes \n",
      "    2899       27061.9   2.90941e-05       797.676           1           1     3184   \n",
      "    Iter      log prob        ||dx||      ||grad||       alpha      alpha0  # evals  Notes \n",
      "    2999       27064.7   0.000265577       30253.8           1           1     3289   \n",
      "    Iter      log prob        ||dx||      ||grad||       alpha      alpha0  # evals  Notes \n",
      "    3099       27080.3   7.39697e-05       7819.35           1           1     3398   \n",
      "    Iter      log prob        ||dx||      ||grad||       alpha      alpha0  # evals  Notes \n",
      "    3199       27089.2   1.98354e-05       4626.38      0.8079      0.8079     3507   \n",
      "    Iter      log prob        ||dx||      ||grad||       alpha      alpha0  # evals  Notes \n",
      "    3299       27090.8   0.000109855         11026           1           1     3618   \n",
      "    Iter      log prob        ||dx||      ||grad||       alpha      alpha0  # evals  Notes \n",
      "    3399       27091.8    9.3967e-06        1616.8           1           1     3724   \n",
      "    Iter      log prob        ||dx||      ||grad||       alpha      alpha0  # evals  Notes \n",
      "    3499       27093.4    3.6193e-06       3474.11           1           1     3840   \n",
      "    Iter      log prob        ||dx||      ||grad||       alpha      alpha0  # evals  Notes \n",
      "    3599       27095.2   1.43449e-05       3446.25           1           1     3952   \n",
      "    Iter      log prob        ||dx||      ||grad||       alpha      alpha0  # evals  Notes \n",
      "    3699       27095.3   1.63407e-05        3142.3           1           1     4058   \n",
      "    Iter      log prob        ||dx||      ||grad||       alpha      alpha0  # evals  Notes \n",
      "    3799       27095.8   2.89803e-06       1846.18           1           1     4164   \n",
      "    Iter      log prob        ||dx||      ||grad||       alpha      alpha0  # evals  Notes \n",
      "    3889         27096   1.30107e-06       752.772           1           1     4264   \n",
      "Optimization terminated normally: \n",
      "  Convergence detected: relative gradient magnitude is below tolerance\n"
     ]
    },
    {
     "data": {
      "image/png": "[encoded data removed]",
      "text/plain": [
       "<Figure size 720x432 with 1 Axes>"
      ]
     },
     "metadata": {},
     "output_type": "display_data"
    }
   ],
   "source": [
    "check = prophet(l1_prepare[0][1])\n",
    "forecast = check.predict(l1_prepare[1][2])\n",
    "forecasts_plot = check.plot(forecast)"
   ]
  },
  {
   "cell_type": "code",
   "execution_count": null,
   "id": "0eec6424-6853-49f3-af0e-80925cef9ad4",
   "metadata": {},
   "outputs": [],
   "source": []
  },
  {
   "cell_type": "markdown",
   "id": "eaa0762d-cc39-4c6d-9573-04e9dd82f14f",
   "metadata": {
    "tags": []
   },
   "source": [
    "## neural_prophet"
   ]
  },
  {
   "cell_type": "code",
   "execution_count": 8,
   "id": "c2bef76f-40c5-4cd0-acb2-53099b1b6680",
   "metadata": {},
   "outputs": [],
   "source": [
    "def neural_prophet(df):\n",
    "    model = NeuralProphet(epochs=100)\n",
    "    metrics = model.fit(df, freq='D', progress='bar', )\n",
    "\n",
    "    return model"
   ]
  },
  {
   "cell_type": "code",
   "execution_count": null,
   "id": "9db5d3d9-0035-45c3-a558-38699402f934",
   "metadata": {},
   "outputs": [
    {
     "name": "stderr",
     "output_type": "stream",
     "text": [
      "INFO - (NP.df_utils._infer_frequency) - Major frequency 15S corresponds to 57.864% of the data.\n",
      "WARNING - (NP.df_utils._infer_frequency) - Dataframe has multiple frequencies. It will be resampled according to given freq D. Ignore message if actual frequency is any of the following:  SM, BM, CBM, SMS, BMS, CBMS, BQ, BQS, BA, or, BAS.\n",
      "INFO - (NP.config.init_data_params) - Setting normalization to global as only one dataframe provided for training.\n",
      "INFO - (NP.utils.set_auto_seasonalities) - Disabling yearly seasonality. Run NeuralProphet with yearly_seasonality=True to override this.\n",
      "INFO - (NP.config.set_auto_batch_epoch) - Auto-set batch_size to 128\n"
     ]
    },
    {
     "data": {
      "application/vnd.jupyter.widget-view+json": {
       "model_id": "aad6466dd8d44677a25b24f8b0d4425e",
       "version_major": 2,
       "version_minor": 0
      },
      "text/plain": [
       "  0%|          | 0/188 [00:00<?, ?it/s]"
      ]
     },
     "metadata": {},
     "output_type": "display_data"
    },
    {
     "name": "stderr",
     "output_type": "stream",
     "text": [
      "INFO - (NP.utils_torch.lr_range_test) - lr-range-test results: steep: 3.83E-02, min: 1.19E+00\n"
     ]
    },
    {
     "data": {
      "application/vnd.jupyter.widget-view+json": {
       "model_id": "c39e1e982e5741898fb4d2a6f35a870f",
       "version_major": 2,
       "version_minor": 0
      },
      "text/plain": [
       "  0%|          | 0/188 [00:00<?, ?it/s]"
      ]
     },
     "metadata": {},
     "output_type": "display_data"
    },
    {
     "name": "stderr",
     "output_type": "stream",
     "text": [
      "INFO - (NP.utils_torch.lr_range_test) - lr-range-test results: steep: 4.28E-02, min: 1.06E+00\n",
      "INFO - (NP.forecaster._init_train_loader) - lr-range-test selected learning rate: 5.47E-02\n",
      "Epoch[100/100]: 100%|█| 100/100 [02:30<00:00,  1.51s/it, SmoothL1Loss=0.00448, M\n",
      "INFO - (NP.df_utils._infer_frequency) - Major frequency 15S corresponds to 57.878% of the data.\n",
      "WARNING - (NP.df_utils._infer_frequency) - Dataframe has multiple frequencies. It will be resampled according to given freq D. Ignore message if actual frequency is any of the following:  SM, BM, CBM, SMS, BMS, CBMS, BQ, BQS, BA, or, BAS.\n",
      "INFO - (NP.df_utils._infer_frequency) - Major frequency 15S corresponds to 57.878% of the data.\n",
      "WARNING - (NP.df_utils._infer_frequency) - Dataframe has multiple frequencies. It will be resampled according to given freq D. Ignore message if actual frequency is any of the following:  SM, BM, CBM, SMS, BMS, CBMS, BQ, BQS, BA, or, BAS.\n"
     ]
    },
    {
     "data": {
      "image/png": "[encoded data removed]",
      "text/plain": [
       "<Figure size 720x432 with 1 Axes>"
      ]
     },
     "metadata": {},
     "output_type": "display_data"
    }
   ],
   "source": [
    "check = neural_prophet(l1_prepare[0][169])\n",
    "forecast = check.predict(l1_prepare[1][170])\n",
    "forecasts_plot = check.plot(forecast)"
   ]
  }
 ],
 "metadata": {
  "kernelspec": {
   "display_name": "Python 3 (ipykernel)",
   "language": "python",
   "name": "python3"
  },
  "language_info": {
   "codemirror_mode": {
    "name": "ipython",
    "version": 3
   },
   "file_extension": ".py",
   "mimetype": "text/x-python",
   "name": "python",
   "nbconvert_exporter": "python",
   "pygments_lexer": "ipython3",
   "version": "3.9.12"
  }
 },
 "nbformat": 4,
 "nbformat_minor": 5
}
