{
 "cells": [
  {
   "cell_type": "code",
   "execution_count": 1,
   "metadata": {
    "colab": {
     "base_uri": "https://localhost:8080/"
    },
    "executionInfo": {
     "elapsed": 7276,
     "status": "ok",
     "timestamp": 1652944239333,
     "user": {
      "displayName": "안중찬",
      "userId": "14654903911588253163"
     },
     "user_tz": -540
    },
    "id": "Gn6oladCBVQI",
    "outputId": "5a072992-aa88-406a-e928-79c9f8c5ccc1"
   },
   "outputs": [
    {
     "name": "stderr",
     "output_type": "stream",
     "text": [
      "Importing plotly failed. Interactive plots will not work.\n"
     ]
    }
   ],
   "source": [
    "import numpy as np\n",
    "import pandas as pd\n",
    "import matplotlib.pyplot as plt\n",
    "%matplotlib inline\n",
    "import warnings\n",
    "warnings.filterwarnings('ignore')\n",
    "from prophet import Prophet "
   ]
  },
  {
   "cell_type": "code",
   "execution_count": 2,
   "metadata": {
    "id": "ks0qM8oTBdqZ"
   },
   "outputs": [],
   "source": [
    "one_left = pd.read_csv(\"../../PREPROCESSING/very_clean_data/one_left.csv\")\n",
    "one_right = pd.read_csv(\"../../PREPROCESSING/very_clean_data/one_right.csv\")"
   ]
  },
  {
   "cell_type": "code",
   "execution_count": 3,
   "metadata": {
    "id": "G6m-6M-mBdn8"
   },
   "outputs": [],
   "source": [
    "one_left.drop(columns = [\"Unnamed: 0\"],inplace = True)\n",
    "one_right.drop(columns = [\"Unnamed: 0\"],inplace = True)"
   ]
  },
  {
   "cell_type": "code",
   "execution_count": 4,
   "metadata": {
    "id": "8A-DJGA4Bdk4"
   },
   "outputs": [],
   "source": [
    "one_left.index = one_left[\"시각\"]\n",
    "one_right.index = one_right[\"시각\"]"
   ]
  },
  {
   "cell_type": "markdown",
   "metadata": {
    "id": "K9er4MObCJyG"
   },
   "source": [
    "왼쪽"
   ]
  },
  {
   "cell_type": "code",
   "execution_count": null,
   "metadata": {
    "colab": {
     "base_uri": "https://localhost:8080/"
    },
    "executionInfo": {
     "elapsed": 2027309,
     "status": "ok",
     "timestamp": 1652946268511,
     "user": {
      "displayName": "안중찬",
      "userId": "14654903911588253163"
     },
     "user_tz": -540
    },
    "id": "Jv_1y2OYCHFP",
    "outputId": "8d28456f-4225-406d-8a50-24ad081d5ada"
   },
   "outputs": [
    {
     "name": "stderr",
     "output_type": "stream",
     "text": [
      "INFO:prophet:Disabling yearly seasonality. Run prophet with yearly_seasonality=True to override this.\n"
     ]
    }
   ],
   "source": [
    "V = pd.concat([one_left[\"시각\"], one_left[\"전압\"]],axis = 1)\n",
    "V = V.rename(columns = {\"시각\" : \"ds\", \"전압\" : \"y\"})\n",
    "V_model = Prophet()\n",
    "V_model.fit(V)\n",
    "V_model_predict = V_model.predict(pd.DataFrame(V[\"ds\"]))"
   ]
  },
  {
   "cell_type": "code",
   "execution_count": null,
   "metadata": {
    "id": "7B3kLHRvIbrf"
   },
   "outputs": [],
   "source": [
    "V_model_predict.to_csv('V.csv')"
   ]
  },
  {
   "cell_type": "code",
   "execution_count": null,
   "metadata": {
    "colab": {
     "base_uri": "https://localhost:8080/"
    },
    "id": "BNu_bphDCec5",
    "outputId": "df3ff4f6-8ee8-4b3c-d6c4-bde79e168a61"
   },
   "outputs": [],
   "source": [
    "A = pd.concat([one_left[\"시각\"], one_left[\"전류\"]],axis = 1)\n",
    "A = A.rename(columns = {\"시각\" : \"ds\", \"전류\" : \"y\"})\n",
    "A_model = Prophet()\n",
    "A_model.fit(A)\n",
    "A_model_predict = A_model.predict(pd.DataFrame(A[\"ds\"]))"
   ]
  },
  {
   "cell_type": "code",
   "execution_count": null,
   "metadata": {
    "id": "nUeFHC3vIrfA"
   },
   "outputs": [],
   "source": [
    "A_model_predict.to_csv('A.csv')"
   ]
  },
  {
   "cell_type": "code",
   "execution_count": null,
   "metadata": {
    "id": "KImdoVl3ISuw"
   },
   "outputs": [],
   "source": [
    "gas = pd.concat([one_left[\"시각\"], one_left[\"가스\"]],axis = 1)\n",
    "gas = gas.rename(columns = {\"시각\" : \"ds\", \"가스\" : \"y\"})\n",
    "gas_model = Prophet()\n",
    "gas_model.fit(gas)\n",
    "gas_model_predict = gas_model.predict(pd.DataFrame(gas[\"ds\"]))"
   ]
  },
  {
   "cell_type": "code",
   "execution_count": null,
   "metadata": {
    "id": "jZFscT1QIr-_"
   },
   "outputs": [],
   "source": [
    "gas_model_predic.to_csv('gas.csv')"
   ]
  },
  {
   "cell_type": "code",
   "execution_count": null,
   "metadata": {
    "id": "VFSDqPPYISiw"
   },
   "outputs": [],
   "source": [
    "welding_time = pd.concat([one_left[\"시각\"], one_left[\"용접시간\"]],axis = 1)\n",
    "welding_time = welding_time.rename(columns = {\"시각\" : \"ds\", \"용접시간\" : \"y\"})\n",
    "welding_time_model = Prophet()\n",
    "welding_time_model.fit(welding_time)\n",
    "welding_time_model_predict = welding_time_model.predict(pd.DataFrame(welding_time[\"ds\"]))"
   ]
  },
  {
   "cell_type": "code",
   "execution_count": null,
   "metadata": {
    "id": "wMpQPDSnIsam"
   },
   "outputs": [],
   "source": [
    "welding_time_model_predict.to_csv('welding_time.csv')"
   ]
  },
  {
   "cell_type": "code",
   "execution_count": null,
   "metadata": {
    "id": "Vm_JGuYhISgH"
   },
   "outputs": [],
   "source": [
    "EA = pd.concat([one_left[\"시각\"], one_left[\"EA\"]],axis = 1)\n",
    "EA = EA.rename(columns = {\"시각\" : \"ds\", \"EA\" : \"y\"})\n",
    "EA_model = Prophet()\n",
    "EA_model.fit(EA)\n",
    "EA_model_predict = EA_model.predict(pd.DataFrame(EA[\"ds\"]))"
   ]
  },
  {
   "cell_type": "code",
   "execution_count": null,
   "metadata": {
    "id": "0CymtK8CIs4i"
   },
   "outputs": [],
   "source": [
    "EA.to_csv('EA.csv')"
   ]
  },
  {
   "cell_type": "code",
   "execution_count": null,
   "metadata": {},
   "outputs": [],
   "source": []
  }
 ],
 "metadata": {
  "colab": {
   "collapsed_sections": [],
   "name": "prophet.ipynb의 사본",
   "provenance": [
    {
     "file_id": "1aikpy63pZg1Tq-YXB20WrizWf6YmGciG",
     "timestamp": 1653012057704
    }
   ]
  },
  "kernelspec": {
   "display_name": "Python 3 (ipykernel)",
   "language": "python",
   "name": "python3"
  },
  "language_info": {
   "codemirror_mode": {
    "name": "ipython",
    "version": 3
   },
   "file_extension": ".py",
   "mimetype": "text/x-python",
   "name": "python",
   "nbconvert_exporter": "python",
   "pygments_lexer": "ipython3",
   "version": "3.9.12"
  }
 },
 "nbformat": 4,
 "nbformat_minor": 4
}
