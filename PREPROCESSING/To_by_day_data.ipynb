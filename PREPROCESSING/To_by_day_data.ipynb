{
  "nbformat": 4,
  "nbformat_minor": 0,
  "metadata": {
    "colab": {
      "name": "To_by_day_data.ipynb",
      "provenance": [],
      "collapsed_sections": [],
      "authorship_tag": "ABX9TyNrAbG6K0gI/tZkG6QBzvRo",
      "include_colab_link": true
    },
    "kernelspec": {
      "name": "python3",
      "display_name": "Python 3"
    },
    "language_info": {
      "name": "python"
    }
  },
  "cells": [
    {
      "cell_type": "markdown",
      "metadata": {
        "id": "view-in-github",
        "colab_type": "text"
      },
      "source": [
        "<a href=\"https://colab.research.google.com/github/AnnJungChan/youngjin_TECH/blob/main/DATA_PREPROCESSING/To_by_day_data.ipynb\" target=\"_parent\"><img src=\"https://colab.research.google.com/assets/colab-badge.svg\" alt=\"Open In Colab\"/></a>"
      ]
    },
    {
      "cell_type": "markdown",
      "source": [
        "#  패키지 로딩"
      ],
      "metadata": {
        "id": "fnuNPzcFZ9B8"
      }
    },
    {
      "cell_type": "code",
      "execution_count": 3,
      "metadata": {
        "colab": {
          "base_uri": "https://localhost:8080/"
        },
        "id": "rEDKQCHWfgqO",
        "outputId": "ce1ba2b3-22c5-4f47-aced-51c2b8bdc784"
      },
      "outputs": [
        {
          "output_type": "stream",
          "name": "stdout",
          "text": [
            "Mounted at /content/gdrive\n"
          ]
        }
      ],
      "source": [
        "from google.colab import drive\n",
        "drive.mount('/content/gdrive')\n",
        "import pandas as pd\n",
        "import numpy as np"
      ]
    },
    {
      "cell_type": "markdown",
      "source": [
        "# 데이터 로딩"
      ],
      "metadata": {
        "id": "K5JCUOP_aBjW"
      }
    },
    {
      "cell_type": "code",
      "source": [
        "no1_pro1=pd.read_csv(\"/content/gdrive/MyDrive/용접데이터/1호기_프로세스1.csv\")\n",
        "no1_pro2=pd.read_csv(\"/content/gdrive/MyDrive/용접데이터/1호기_프로세스2.csv\")\n",
        "no2_pro2=pd.read_csv(\"/content/gdrive/MyDrive/용접데이터/2호기_프로세스2.csv\")\n",
        "no2_pro3=pd.read_csv(\"/content/gdrive/MyDrive/용접데이터/2호기_프로세스3.csv\")\n",
        "no2_pro11=pd.read_csv(\"/content/gdrive/MyDrive/용접데이터/2호기_프로세스11.csv\")\n",
        "error1 = pd.read_csv(\"/content/gdrive/MyDrive/용접데이터/1호기 불량.csv\")\n",
        "error2 = pd.read_csv(\"/content/gdrive/MyDrive/용접데이터/2호기 불량.csv\")\n",
        "no1_pro1=no1_pro1.drop(columns = [\"Unnamed: 0\"])\n",
        "no1_pro2=no1_pro2.drop(columns = [\"Unnamed: 0\"])\n",
        "no2_pro2=no2_pro2.drop(columns = [\"Unnamed: 0\"])\n",
        "no2_pro3=no2_pro3.drop(columns = [\"Unnamed: 0\"])\n",
        "no2_pro11=no2_pro11.drop(columns = [\"Unnamed: 0\"])\n",
        "error1=error1.iloc[:259,:6]\n",
        "error2=error2.iloc[:178,:6]\n",
        "\n",
        "machine = ['no1_pro1','no1_pro2','no2_pro2','no2_pro3','no2_pro11']\n",
        "machine_data = [no1_pro1,no1_pro2,no2_pro2,no2_pro3,no2_pro11]\n",
        "\n",
        "for i in range(len(machine)) : \n",
        "  machine_data[i]['date_time']=machine_data[i][\"date\"] + \" \" + machine_data[i]['time']\n",
        "  machine_data[i]['date_time'] = machine_data[i]['date_time'].astype('datetime64')\n",
        "\n",
        "no1_pro1=machine_data[0]\n",
        "no1_pro2=machine_data[1]\n",
        "no2_pro2=machine_data[2]\n",
        "no2_pro3=machine_data[3]\n",
        "no2_pro11=machine_data[4]\n",
        "\n",
        "no1_pro1.drop(columns = ['tip_cum','NUM.EA.','LH_RH'],inplace = True)\n",
        "no1_pro2.drop(columns = ['tip_cum','NUM.EA.','LH_RH'],inplace = True)\n",
        "no2_pro2.drop(columns = ['tip_cum','NUM.EA.','LH_RH'],inplace = True)\n",
        "no2_pro3.drop(columns = ['tip_cum','NUM.EA.','LH_RH'],inplace = True)\n",
        "no2_pro11.drop(columns = ['tip_cum','NUM.EA.','LH_RH'],inplace = True)\n"
      ],
      "metadata": {
        "id": "-eAg1Dv6gJrN"
      },
      "execution_count": 4,
      "outputs": []
    },
    {
      "cell_type": "markdown",
      "source": [
        "# 일별 에러 횟수를 각각의 열로 나타내는 작업"
      ],
      "metadata": {
        "id": "HJroDVLIaG46"
      }
    },
    {
      "cell_type": "code",
      "source": [
        "no1_pro1_first = no1_pro1[['date','supply','A','V','gas','sec']].groupby(by = [\"date\"]).mean().round(2).reset_index()\n",
        "no1_pro1_decision=no1_pro1[['date','decision','A']].groupby(by = [\"date\",'decision']).count()\n",
        "no1_pro1_decision=no1_pro1_decision.reset_index()\n",
        "GOOD=no1_pro1_decision.loc[no1_pro1_decision['decision'] == \"GOOD\",:].drop(columns = [\"decision\"]).rename(columns = {\"A\":\"GOOD\"})\n",
        "BAD=no1_pro1_decision.loc[no1_pro1_decision['decision'] != \"GOOD\",:]\n",
        "BAD=BAD.groupby(by = [\"date\"]).sum(\"A\").reset_index().rename(columns = {\"A\":\"BAD\"})\n",
        "NG_T_Tip = no1_pro1_decision.loc[no1_pro1_decision['decision'] == \"NG_(T)(Tip)\",:].drop(columns = [\"decision\"]).rename(columns = {\"A\":\"NG_T_Tip\"})\n",
        "NG_Tip =no1_pro1_decision.loc[no1_pro1_decision['decision'] == \"NG_(Tip)\",:].drop(columns = [\"decision\"]).rename(columns = {\"A\":\"NG_Tip\"})\n",
        "NG_A_Tip = no1_pro1_decision.loc[no1_pro1_decision['decision'] == \"NG_(A)(Tip)\",:].drop(columns = [\"decision\"]).rename(columns = {\"A\":\"NG_A_Tip\"})\n",
        "NG_A_V_Tip= no1_pro1_decision.loc[no1_pro1_decision['decision'] == \"NG_(A)(V)(Tip)\",:].drop(columns = [\"decision\"]).rename(columns = {\"A\":\"NG_A_V_Tip\"})\n",
        "NG_V_Tip=no1_pro1_decision.loc[no1_pro1_decision['decision'] == \"NG_(V)(Tip)\",:].drop(columns = [\"decision\"]).rename(columns = {\"A\":\"NG_V_Tip\"})\n",
        "NG_A_T_Tip=no1_pro1_decision.loc[no1_pro1_decision['decision'] == \"NG_(A)(T)(Tip)\",:].drop(columns = [\"decision\"]).rename(columns = {\"A\":\"NG_A_T_Tip\"})\n",
        "NG_V_T_Tip=no1_pro1_decision.loc[no1_pro1_decision['decision'] == \"NG_(V)(T)(Tip)\",:].drop(columns = [\"decision\"]).rename(columns = {\"A\":\"NG_V_T_Tip\"})\n",
        "no1_pro1_first=pd.merge(no1_pro1_first,GOOD, how = \"left\", on = \"date\")\n",
        "no1_pro1_first=pd.merge(no1_pro1_first,BAD, how = \"left\", on = \"date\")\n",
        "no1_pro1_first=pd.merge(no1_pro1_first,NG_T_Tip, how = \"left\", on = \"date\")\n",
        "no1_pro1_first=pd.merge(no1_pro1_first,NG_Tip, how = \"left\", on = \"date\")\n",
        "no1_pro1_first=pd.merge(no1_pro1_first,NG_A_Tip, how = \"left\", on = \"date\")\n",
        "no1_pro1_first=pd.merge(no1_pro1_first,NG_A_V_Tip, how = \"left\", on = \"date\")\n",
        "no1_pro1_first=pd.merge(no1_pro1_first,NG_V_Tip, how = \"left\", on = \"date\")\n",
        "no1_pro1_first=pd.merge(no1_pro1_first,NG_A_T_Tip, how = \"left\", on = \"date\")\n",
        "no1_pro1_first=pd.merge(no1_pro1_first,NG_V_T_Tip, how = \"left\", on = \"date\")\n",
        "no1_pro1 = no1_pro1_first\n",
        "\n",
        "no1_pro2_first = no1_pro2[['date','supply','A','V','gas','sec']].groupby(by = [\"date\"]).mean().round(2).reset_index()\n",
        "no1_pro2_decision=no1_pro2[['date','decision','A']].groupby(by = [\"date\",'decision']).count()\n",
        "no1_pro2_decision=no1_pro2_decision.reset_index()\n",
        "GOOD=no1_pro2_decision.loc[no1_pro2_decision['decision'] == \"GOOD\",:].drop(columns = [\"decision\"]).rename(columns = {\"A\":\"GOOD\"})\n",
        "BAD=no1_pro2_decision.loc[no1_pro2_decision['decision'] != \"GOOD\",:]\n",
        "BAD=BAD.groupby(by = [\"date\"]).sum(\"A\").reset_index().rename(columns = {\"A\":\"BAD\"})\n",
        "NG_T_Tip = no1_pro2_decision.loc[no1_pro2_decision['decision'] == \"NG_(T)(Tip)\",:].drop(columns = [\"decision\"]).rename(columns = {\"A\":\"NG_T_Tip\"})\n",
        "NG_Tip =no1_pro2_decision.loc[no1_pro2_decision['decision'] == \"NG_(Tip)\",:].drop(columns = [\"decision\"]).rename(columns = {\"A\":\"NG_Tip\"})\n",
        "NG_A_Tip = no1_pro2_decision.loc[no1_pro2_decision['decision'] == \"NG_(A)(Tip)\",:].drop(columns = [\"decision\"]).rename(columns = {\"A\":\"NG_A_Tip\"})\n",
        "NG_A_V_Tip= no1_pro2_decision.loc[no1_pro2_decision['decision'] == \"NG_(A)(V)(Tip)\",:].drop(columns = [\"decision\"]).rename(columns = {\"A\":\"NG_A_V_Tip\"})\n",
        "NG_V_Tip=no1_pro2_decision.loc[no1_pro2_decision['decision'] == \"NG_(V)(Tip)\",:].drop(columns = [\"decision\"]).rename(columns = {\"A\":\"NG_V_Tip\"})\n",
        "NG_A_T_Tip=no1_pro2_decision.loc[no1_pro2_decision['decision'] == \"NG_(A)(T)(Tip)\",:].drop(columns = [\"decision\"]).rename(columns = {\"A\":\"NG_A_T_Tip\"})\n",
        "NG_V_T_Tip=no1_pro2_decision.loc[no1_pro2_decision['decision'] == \"NG_(V)(T)(Tip)\",:].drop(columns = [\"decision\"]).rename(columns = {\"A\":\"NG_V_T_Tip\"})\n",
        "no1_pro2_first=pd.merge(no1_pro2_first,GOOD, how = \"left\", on = \"date\")\n",
        "no1_pro2_first=pd.merge(no1_pro2_first,BAD, how = \"left\", on = \"date\")\n",
        "no1_pro2_first=pd.merge(no1_pro2_first,NG_T_Tip, how = \"left\", on = \"date\")\n",
        "no1_pro2_first=pd.merge(no1_pro2_first,NG_Tip, how = \"left\", on = \"date\")\n",
        "no1_pro2_first=pd.merge(no1_pro2_first,NG_A_Tip, how = \"left\", on = \"date\")\n",
        "no1_pro2_first=pd.merge(no1_pro2_first,NG_A_V_Tip, how = \"left\", on = \"date\")\n",
        "no1_pro2_first=pd.merge(no1_pro2_first,NG_V_Tip, how = \"left\", on = \"date\")\n",
        "no1_pro2_first=pd.merge(no1_pro2_first,NG_A_T_Tip, how = \"left\", on = \"date\")\n",
        "no1_pro2_first=pd.merge(no1_pro2_first,NG_V_T_Tip, how = \"left\", on = \"date\")\n",
        "no1_pro2 = no1_pro2_first\n",
        "\n",
        "no2_pro2_first = no2_pro2[['date','supply','A','V','gas','sec']].groupby(by = [\"date\"]).mean().round(2).reset_index()\n",
        "no2_pro2_decision=no2_pro2[['date','decision','A']].groupby(by = [\"date\",'decision']).count()\n",
        "no2_pro2_decision=no2_pro2_decision.reset_index()\n",
        "GOOD=no2_pro2_decision.loc[no2_pro2_decision['decision'] == \"GOOD\",:].drop(columns = [\"decision\"]).rename(columns = {\"A\":\"GOOD\"})\n",
        "BAD=no2_pro2_decision.loc[no2_pro2_decision['decision'] != \"GOOD\",:]\n",
        "BAD=BAD.groupby(by = [\"date\"]).sum(\"A\").reset_index().rename(columns = {\"A\":\"BAD\"})\n",
        "NG_T_Tip = no2_pro2_decision.loc[no2_pro2_decision['decision'] == \"NG_(T)(Tip)\",:].drop(columns = [\"decision\"]).rename(columns = {\"A\":\"NG_T_Tip\"})\n",
        "NG_Tip =no2_pro2_decision.loc[no2_pro2_decision['decision'] == \"NG_(Tip)\",:].drop(columns = [\"decision\"]).rename(columns = {\"A\":\"NG_Tip\"})\n",
        "NG_A_Tip = no2_pro2_decision.loc[no2_pro2_decision['decision'] == \"NG_(A)(Tip)\",:].drop(columns = [\"decision\"]).rename(columns = {\"A\":\"NG_A_Tip\"})\n",
        "NG_A_V_Tip= no2_pro2_decision.loc[no2_pro2_decision['decision'] == \"NG_(A)(V)(Tip)\",:].drop(columns = [\"decision\"]).rename(columns = {\"A\":\"NG_A_V_Tip\"})\n",
        "NG_V_Tip=no2_pro2_decision.loc[no2_pro2_decision['decision'] == \"NG_(V)(Tip)\",:].drop(columns = [\"decision\"]).rename(columns = {\"A\":\"NG_V_Tip\"})\n",
        "NG_A_T_Tip=no2_pro2_decision.loc[no2_pro2_decision['decision'] == \"NG_(A)(T)(Tip)\",:].drop(columns = [\"decision\"]).rename(columns = {\"A\":\"NG_A_T_Tip\"})\n",
        "NG_V_T_Tip=no2_pro2_decision.loc[no2_pro2_decision['decision'] == \"NG_(V)(T)(Tip)\",:].drop(columns = [\"decision\"]).rename(columns = {\"A\":\"NG_V_T_Tip\"})\n",
        "no2_pro2_first=pd.merge(no2_pro2_first,GOOD, how = \"left\", on = \"date\")\n",
        "no2_pro2_first=pd.merge(no2_pro2_first,BAD, how = \"left\", on = \"date\")\n",
        "no2_pro2_first=pd.merge(no2_pro2_first,NG_T_Tip, how = \"left\", on = \"date\")\n",
        "no2_pro2_first=pd.merge(no2_pro2_first,NG_Tip, how = \"left\", on = \"date\")\n",
        "no2_pro2_first=pd.merge(no2_pro2_first,NG_A_Tip, how = \"left\", on = \"date\")\n",
        "no2_pro2_first=pd.merge(no2_pro2_first,NG_A_V_Tip, how = \"left\", on = \"date\")\n",
        "no2_pro2_first=pd.merge(no2_pro2_first,NG_V_Tip, how = \"left\", on = \"date\")\n",
        "no2_pro2_first=pd.merge(no2_pro2_first,NG_A_T_Tip, how = \"left\", on = \"date\")\n",
        "no2_pro2_first=pd.merge(no2_pro2_first,NG_V_T_Tip, how = \"left\", on = \"date\")\n",
        "no2_pro2 = no2_pro2_first\n",
        "\n",
        "no2_pro3_first = no2_pro3[['date','supply','A','V','gas','sec']].groupby(by = [\"date\"]).mean().round(2).reset_index()\n",
        "no2_pro3_decision=no2_pro3[['date','decision','A']].groupby(by = [\"date\",'decision']).count()\n",
        "no2_pro3_decision=no2_pro3_decision.reset_index()\n",
        "GOOD=no2_pro3_decision.loc[no2_pro3_decision['decision'] == \"GOOD\",:].drop(columns = [\"decision\"]).rename(columns = {\"A\":\"GOOD\"})\n",
        "BAD=no2_pro3_decision.loc[no2_pro3_decision['decision'] != \"GOOD\",:]\n",
        "BAD=BAD.groupby(by = [\"date\"]).sum(\"A\").reset_index().rename(columns = {\"A\":\"BAD\"})\n",
        "NG_T_Tip = no2_pro3_decision.loc[no2_pro3_decision['decision'] == \"NG_(T)(Tip)\",:].drop(columns = [\"decision\"]).rename(columns = {\"A\":\"NG_T_Tip\"})\n",
        "NG_Tip =no2_pro3_decision.loc[no2_pro3_decision['decision'] == \"NG_(Tip)\",:].drop(columns = [\"decision\"]).rename(columns = {\"A\":\"NG_Tip\"})\n",
        "NG_A_Tip = no2_pro3_decision.loc[no2_pro3_decision['decision'] == \"NG_(A)(Tip)\",:].drop(columns = [\"decision\"]).rename(columns = {\"A\":\"NG_A_Tip\"})\n",
        "NG_A_V_Tip= no2_pro3_decision.loc[no2_pro3_decision['decision'] == \"NG_(A)(V)(Tip)\",:].drop(columns = [\"decision\"]).rename(columns = {\"A\":\"NG_A_V_Tip\"})\n",
        "NG_V_Tip=no2_pro3_decision.loc[no2_pro3_decision['decision'] == \"NG_(V)(Tip)\",:].drop(columns = [\"decision\"]).rename(columns = {\"A\":\"NG_V_Tip\"})\n",
        "NG_A_T_Tip=no2_pro3_decision.loc[no2_pro3_decision['decision'] == \"NG_(A)(T)(Tip)\",:].drop(columns = [\"decision\"]).rename(columns = {\"A\":\"NG_A_T_Tip\"})\n",
        "NG_V_T_Tip=no2_pro3_decision.loc[no2_pro3_decision['decision'] == \"NG_(V)(T)(Tip)\",:].drop(columns = [\"decision\"]).rename(columns = {\"A\":\"NG_V_T_Tip\"})\n",
        "no2_pro3_first=pd.merge(no2_pro3_first,GOOD, how = \"left\", on = \"date\")\n",
        "no2_pro3_first=pd.merge(no2_pro3_first,BAD, how = \"left\", on = \"date\")\n",
        "no2_pro3_first=pd.merge(no2_pro3_first,NG_T_Tip, how = \"left\", on = \"date\")\n",
        "no2_pro3_first=pd.merge(no2_pro3_first,NG_Tip, how = \"left\", on = \"date\")\n",
        "no2_pro3_first=pd.merge(no2_pro3_first,NG_A_Tip, how = \"left\", on = \"date\")\n",
        "no2_pro3_first=pd.merge(no2_pro3_first,NG_A_V_Tip, how = \"left\", on = \"date\")\n",
        "no2_pro3_first=pd.merge(no2_pro3_first,NG_V_Tip, how = \"left\", on = \"date\")\n",
        "no2_pro3_first=pd.merge(no2_pro3_first,NG_A_T_Tip, how = \"left\", on = \"date\")\n",
        "no2_pro3_first=pd.merge(no2_pro3_first,NG_V_T_Tip, how = \"left\", on = \"date\")\n",
        "no2_pro3 = no2_pro3_first\n",
        "\n",
        "no2_pro11_first = no2_pro11[['date','supply','A','V','gas','sec']].groupby(by = [\"date\"]).mean().round(2).reset_index()\n",
        "no2_pro11_decision=no2_pro11[['date','decision','A']].groupby(by = [\"date\",'decision']).count()\n",
        "no2_pro11_decision=no2_pro11_decision.reset_index()\n",
        "GOOD=no2_pro11_decision.loc[no2_pro11_decision['decision'] == \"GOOD\",:].drop(columns = [\"decision\"]).rename(columns = {\"A\":\"GOOD\"})\n",
        "BAD=no2_pro11_decision.loc[no2_pro11_decision['decision'] != \"GOOD\",:]\n",
        "BAD=BAD.groupby(by = [\"date\"]).sum(\"A\").reset_index().rename(columns = {\"A\":\"BAD\"})\n",
        "NG_T_Tip = no2_pro11_decision.loc[no2_pro11_decision['decision'] == \"NG_(T)(Tip)\",:].drop(columns = [\"decision\"]).rename(columns = {\"A\":\"NG_T_Tip\"})\n",
        "NG_Tip =no2_pro11_decision.loc[no2_pro11_decision['decision'] == \"NG_(Tip)\",:].drop(columns = [\"decision\"]).rename(columns = {\"A\":\"NG_Tip\"})\n",
        "NG_A_Tip = no2_pro11_decision.loc[no2_pro11_decision['decision'] == \"NG_(A)(Tip)\",:].drop(columns = [\"decision\"]).rename(columns = {\"A\":\"NG_A_Tip\"})\n",
        "NG_A_V_Tip= no2_pro11_decision.loc[no2_pro11_decision['decision'] == \"NG_(A)(V)(Tip)\",:].drop(columns = [\"decision\"]).rename(columns = {\"A\":\"NG_A_V_Tip\"})\n",
        "NG_V_Tip=no2_pro11_decision.loc[no2_pro11_decision['decision'] == \"NG_(V)(Tip)\",:].drop(columns = [\"decision\"]).rename(columns = {\"A\":\"NG_V_Tip\"})\n",
        "NG_A_T_Tip=no2_pro11_decision.loc[no2_pro11_decision['decision'] == \"NG_(A)(T)(Tip)\",:].drop(columns = [\"decision\"]).rename(columns = {\"A\":\"NG_A_T_Tip\"})\n",
        "NG_V_T_Tip=no2_pro11_decision.loc[no2_pro11_decision['decision'] == \"NG_(V)(T)(Tip)\",:].drop(columns = [\"decision\"]).rename(columns = {\"A\":\"NG_V_T_Tip\"})\n",
        "no2_pro11_first=pd.merge(no2_pro11_first,GOOD, how = \"left\", on = \"date\")\n",
        "no2_pro11_first=pd.merge(no2_pro11_first,BAD, how = \"left\", on = \"date\")\n",
        "no2_pro11_first=pd.merge(no2_pro11_first,NG_T_Tip, how = \"left\", on = \"date\")\n",
        "no2_pro11_first=pd.merge(no2_pro11_first,NG_Tip, how = \"left\", on = \"date\")\n",
        "no2_pro11_first=pd.merge(no2_pro11_first,NG_A_Tip, how = \"left\", on = \"date\")\n",
        "no2_pro11_first=pd.merge(no2_pro11_first,NG_A_V_Tip, how = \"left\", on = \"date\")\n",
        "no2_pro11_first=pd.merge(no2_pro11_first,NG_V_Tip, how = \"left\", on = \"date\")\n",
        "no2_pro11_first=pd.merge(no2_pro11_first,NG_A_T_Tip, how = \"left\", on = \"date\")\n",
        "no2_pro11_first=pd.merge(no2_pro11_first,NG_V_T_Tip, how = \"left\", on = \"date\")\n",
        "no2_pro11 = no2_pro11_first"
      ],
      "metadata": {
        "id": "TqvE-1bGigUF"
      },
      "execution_count": 5,
      "outputs": []
    },
    {
      "cell_type": "markdown",
      "source": [
        "# 에러가 일어나지 않은 시점은 모두 0으로 처리"
      ],
      "metadata": {
        "id": "HdffFrEHaNTx"
      }
    },
    {
      "cell_type": "code",
      "source": [
        "no1_pro1=no1_pro1.fillna(0)\n",
        "no1_pro2=no1_pro2.fillna(0)\n",
        "no2_pro2=no2_pro2.fillna(0)\n",
        "no2_pro3=no2_pro3.fillna(0)\n",
        "no2_pro11=no2_pro11.fillna(0)\n",
        "no = [no1_pro1,no1_pro2,no2_pro2,no2_pro3,no2_pro11]\n",
        "error = no1_pro1.columns[6:]\n",
        "for i in range(len(no)) : \n",
        "  for j in range(len(error)) :\n",
        "    no[i][error[j]]=no[i][error[j]].astype(int)\n",
        "\n",
        "for i in range(len(no)) :\n",
        "  no[i].drop(columns = [\"supply\"],inplace = True)\n",
        "\n",
        "for i in range(len(no)) :\n",
        "  no[i]['supply'] = no[i][\"GOOD\"] + no[i][\"BAD\"]"
      ],
      "metadata": {
        "id": "u5Te18mJrixO"
      },
      "execution_count": 6,
      "outputs": []
    },
    {
      "cell_type": "markdown",
      "source": [
        "# 1호기"
      ],
      "metadata": {
        "id": "LsGGpXd-8K-K"
      }
    },
    {
      "cell_type": "code",
      "source": [
        "error1_list=error1.groupby(by=[\"불량내용\",\"불량등록일자\"]).sum().reset_index()[\"불량내용\"].unique()\n",
        "\n",
        "error1_split = []\n",
        "error1=error1.groupby(by=[\"불량내용\",\"불량등록일자\"]).sum().reset_index()\n",
        "\n",
        "for i in range(len(error1_list)) :\n",
        "  error1_split.append(error1.loc[error1[\"불량내용\"] == f'{error1_list[i]}',:])\n",
        "\n",
        "for i in range(len(error1_list)) :\n",
        "  error1_split[i] = error1_split[i].rename(columns = {'불량등록일자' : 'date','불량수량': f'{error1_list[i]}'})\n",
        "\n",
        "for i in range(len(error1_list)) :\n",
        "  error1_split[i][f'{error1_list[i]}'] = error1_split[i][f'{error1_list[i]}'].astype(int)\n",
        "\n",
        "for i in range(len(error1_list)) :\n",
        "  error1_split[i].drop(columns = [\"불량내용\"],inplace = True)"
      ],
      "metadata": {
        "id": "EKRuqiFL8EoR"
      },
      "execution_count": 7,
      "outputs": []
    },
    {
      "cell_type": "markdown",
      "source": [
        "## 프로세스 1"
      ],
      "metadata": {
        "id": "3Tijt_QG8OAa"
      }
    },
    {
      "cell_type": "code",
      "source": [
        "for i in range(len(error1_list)) :\n",
        "  no1_pro1=pd.merge(no1_pro1,error1_split[i],how = \"left\", on = \"date\")\n",
        "\n",
        "no1_pro1 = no1_pro1.fillna(0)\n",
        "no1_pro1[\"실제불량갯수\"] = no1_pro1[\"BODY 찍힘\"] + no1_pro1[\"F/PLATE 역조립\"] + no1_pro1[\"단차 불량\"] + no1_pro1[\"소재 불량\"] + no1_pro1[\"용접 불량\"] + no1_pro1[\"제품 찍힘 또는 변형\"] + no1_pro1[\"초품검사의뢰\"]\n",
        "no1_pro1[\"실제불량갯수\"] = no1_pro1[\"실제불량갯수\"].astype(int)\n",
        "no1_pro1[\"BODY 찍힘\"] = no1_pro1[\"BODY 찍힘\"].astype(int)\n",
        "no1_pro1[\"F/PLATE 역조립\"] = no1_pro1[\"F/PLATE 역조립\"].astype(int)\n",
        "no1_pro1[\"단차 불량\"] = no1_pro1[\"단차 불량\"].astype(int)\n",
        "no1_pro1[\"소재 불량\"] = no1_pro1[\"소재 불량\"].astype(int) \n",
        "no1_pro1[\"용접 불량\"] = no1_pro1[\"용접 불량\"].astype(int)\n",
        "no1_pro1[\"제품 찍힘 또는 변형\"] = no1_pro1[\"제품 찍힘 또는 변형\"].astype(int)\n",
        "no1_pro1[\"초품검사의뢰\"] = no1_pro1[\"초품검사의뢰\"].astype(int)"
      ],
      "metadata": {
        "id": "TafIN29Kzlud"
      },
      "execution_count": 8,
      "outputs": []
    },
    {
      "cell_type": "markdown",
      "source": [
        "## 프로세스 2"
      ],
      "metadata": {
        "id": "SP1zyKE78P9w"
      }
    },
    {
      "cell_type": "code",
      "source": [
        "for i in range(len(error1_list)) :\n",
        "  no1_pro2=pd.merge(no1_pro2,error1_split[i],how = \"left\", on = \"date\")\n",
        "\n",
        "no1_pro2 = no1_pro2.fillna(0)\n",
        "no1_pro2[\"실제불량갯수\"] = no1_pro2[\"BODY 찍힘\"] + no1_pro2[\"F/PLATE 역조립\"] + no1_pro2[\"단차 불량\"] + no1_pro2[\"소재 불량\"] + no1_pro2[\"용접 불량\"] + no1_pro2[\"제품 찍힘 또는 변형\"] + no1_pro2[\"초품검사의뢰\"]\n",
        "no1_pro2[\"실제불량갯수\"] = no1_pro2[\"실제불량갯수\"].astype(int)\n",
        "no1_pro2[\"BODY 찍힘\"] = no1_pro2[\"BODY 찍힘\"].astype(int)\n",
        "no1_pro2[\"F/PLATE 역조립\"] = no1_pro2[\"F/PLATE 역조립\"].astype(int)\n",
        "no1_pro2[\"단차 불량\"] = no1_pro2[\"단차 불량\"].astype(int)\n",
        "no1_pro2[\"소재 불량\"] = no1_pro2[\"소재 불량\"].astype(int) \n",
        "no1_pro2[\"용접 불량\"] = no1_pro2[\"용접 불량\"].astype(int)\n",
        "no1_pro2[\"제품 찍힘 또는 변형\"] = no1_pro2[\"제품 찍힘 또는 변형\"].astype(int)\n",
        "no1_pro2[\"초품검사의뢰\"] = no1_pro2[\"초품검사의뢰\"].astype(int)"
      ],
      "metadata": {
        "id": "xw4iGH2h7JuA"
      },
      "execution_count": 9,
      "outputs": []
    },
    {
      "cell_type": "markdown",
      "source": [
        "# 2호기"
      ],
      "metadata": {
        "id": "txtlEB2J8Rrg"
      }
    },
    {
      "cell_type": "code",
      "source": [
        "error2_list=error2.groupby(by=[\"불량내용\",\"불량 등록일자\"]).sum().reset_index()[\"불량내용\"].unique()\n",
        "\n",
        "error2_split = []\n",
        "error2=error2.groupby(by=[\"불량내용\",\"불량 등록일자\"]).sum().reset_index()\n",
        "\n",
        "for i in range(len(error2_list)) :\n",
        "  error2_split.append(error2.loc[error2[\"불량내용\"] == f'{error2_list[i]}',:])\n",
        "\n",
        "for i in range(len(error2_list)) :\n",
        "  error2_split[i] = error2_split[i].rename(columns = {'불량 등록일자' : 'date','불량수량': f'{error2_list[i]}'})\n",
        "\n",
        "for i in range(len(error2_list)) :\n",
        "  error2_split[i][f'{error2_list[i]}'] = error2_split[i][f'{error2_list[i]}'].astype(int)\n",
        "\n",
        "for i in range(len(error2_list)) :\n",
        "  error2_split[i].drop(columns = [\"불량내용\"],inplace = True)"
      ],
      "metadata": {
        "id": "NKukVCtP8SvL"
      },
      "execution_count": 10,
      "outputs": []
    },
    {
      "cell_type": "markdown",
      "source": [
        "## 프로세스 2"
      ],
      "metadata": {
        "id": "fPzFbOdX9XiD"
      }
    },
    {
      "cell_type": "code",
      "source": [
        "for i in range(len(error2_list)) :\n",
        "  no2_pro2=pd.merge(no2_pro2,error1_split[i],how = \"left\", on = \"date\")\n",
        "\n",
        "no2_pro2 = no2_pro2.fillna(0)\n",
        "no2_pro2[\"실제불량갯수\"] = no2_pro2[\"BODY 찍힘\"] + no2_pro2[\"F/PLATE 역조립\"] + no2_pro2[\"단차 불량\"] + no2_pro2[\"소재 불량\"] + no2_pro2[\"용접 불량\"] + no2_pro2[\"제품 찍힘 또는 변형\"] + no2_pro2[\"초품검사의뢰\"]\n",
        "no2_pro2[\"실제불량갯수\"] = no2_pro2[\"실제불량갯수\"].astype(int)\n",
        "no2_pro2[\"BODY 찍힘\"] = no2_pro2[\"BODY 찍힘\"].astype(int)\n",
        "no2_pro2[\"F/PLATE 역조립\"] = no2_pro2[\"F/PLATE 역조립\"].astype(int)\n",
        "no2_pro2[\"단차 불량\"] = no2_pro2[\"단차 불량\"].astype(int)\n",
        "no2_pro2[\"소재 불량\"] = no2_pro2[\"소재 불량\"].astype(int) \n",
        "no2_pro2[\"용접 불량\"] = no2_pro2[\"용접 불량\"].astype(int)\n",
        "no2_pro2[\"제품 찍힘 또는 변형\"] = no2_pro2[\"제품 찍힘 또는 변형\"].astype(int)\n",
        "no2_pro2[\"초품검사의뢰\"] = no2_pro2[\"초품검사의뢰\"].astype(int)"
      ],
      "metadata": {
        "id": "Equ2ImmU9Wz7"
      },
      "execution_count": 11,
      "outputs": []
    },
    {
      "cell_type": "markdown",
      "source": [
        "# 프로세스 3"
      ],
      "metadata": {
        "id": "45TLD5MA9mO8"
      }
    },
    {
      "cell_type": "code",
      "source": [
        "for i in range(len(error2_list)) :\n",
        "  no2_pro3=pd.merge(no2_pro3,error1_split[i],how = \"left\", on = \"date\")\n",
        "\n",
        "no2_pro3 = no2_pro3.fillna(0)\n",
        "no2_pro3[\"실제불량갯수\"] = no2_pro3[\"BODY 찍힘\"] + no2_pro3[\"F/PLATE 역조립\"] + no2_pro3[\"단차 불량\"] + no2_pro3[\"소재 불량\"] + no2_pro3[\"용접 불량\"] + no2_pro3[\"제품 찍힘 또는 변형\"] + no2_pro3[\"초품검사의뢰\"]\n",
        "no2_pro3[\"실제불량갯수\"] = no2_pro3[\"실제불량갯수\"].astype(int)\n",
        "no2_pro3[\"BODY 찍힘\"] = no2_pro3[\"BODY 찍힘\"].astype(int)\n",
        "no2_pro3[\"F/PLATE 역조립\"] = no2_pro3[\"F/PLATE 역조립\"].astype(int)\n",
        "no2_pro3[\"단차 불량\"] = no2_pro3[\"단차 불량\"].astype(int)\n",
        "no2_pro3[\"소재 불량\"] = no2_pro3[\"소재 불량\"].astype(int) \n",
        "no2_pro3[\"용접 불량\"] = no2_pro3[\"용접 불량\"].astype(int)\n",
        "no2_pro3[\"제품 찍힘 또는 변형\"] = no2_pro3[\"제품 찍힘 또는 변형\"].astype(int)\n",
        "no2_pro3[\"초품검사의뢰\"] = no2_pro3[\"초품검사의뢰\"].astype(int)"
      ],
      "metadata": {
        "id": "9hE8DaA09jy6"
      },
      "execution_count": 12,
      "outputs": []
    },
    {
      "cell_type": "markdown",
      "source": [
        "# 프로세스 11"
      ],
      "metadata": {
        "id": "69JtxU5v9n3I"
      }
    },
    {
      "cell_type": "code",
      "source": [
        "for i in range(len(error2_list)) :\n",
        "  no2_pro11=pd.merge(no2_pro11,error1_split[i],how = \"left\", on = \"date\")\n",
        "\n",
        "no2_pro11 = no2_pro11.fillna(0)\n",
        "no2_pro11[\"실제불량갯수\"] = no2_pro11[\"BODY 찍힘\"] + no2_pro11[\"F/PLATE 역조립\"] + no2_pro11[\"단차 불량\"] + no2_pro11[\"소재 불량\"] + no2_pro11[\"용접 불량\"] + no2_pro11[\"제품 찍힘 또는 변형\"] + no2_pro11[\"초품검사의뢰\"]\n",
        "no2_pro11[\"실제불량갯수\"] = no2_pro11[\"실제불량갯수\"].astype(int)\n",
        "no2_pro11[\"BODY 찍힘\"] = no2_pro11[\"BODY 찍힘\"].astype(int)\n",
        "no2_pro11[\"F/PLATE 역조립\"] = no2_pro11[\"F/PLATE 역조립\"].astype(int)\n",
        "no2_pro11[\"단차 불량\"] = no2_pro11[\"단차 불량\"].astype(int)\n",
        "no2_pro11[\"소재 불량\"] = no2_pro11[\"소재 불량\"].astype(int) \n",
        "no2_pro11[\"용접 불량\"] = no2_pro11[\"용접 불량\"].astype(int)\n",
        "no2_pro11[\"제품 찍힘 또는 변형\"] = no2_pro11[\"제품 찍힘 또는 변형\"].astype(int)\n",
        "no2_pro11[\"초품검사의뢰\"] = no2_pro11[\"초품검사의뢰\"].astype(int)"
      ],
      "metadata": {
        "id": "WVWGzl6c9lcA"
      },
      "execution_count": 13,
      "outputs": []
    },
    {
      "cell_type": "markdown",
      "source": [
        "# 시간 셋팅"
      ],
      "metadata": {
        "id": "uSR-tgJo-bTl"
      }
    },
    {
      "cell_type": "code",
      "source": [
        "no1_pro1[\"date\"]=no1_pro1[\"date\"].astype(\"datetime64\")\n",
        "no1_pro2[\"date\"]=no1_pro2[\"date\"].astype(\"datetime64\")\n",
        "no2_pro2[\"date\"]=no2_pro2[\"date\"].astype(\"datetime64\")\n",
        "no2_pro3[\"date\"]=no2_pro3[\"date\"].astype(\"datetime64\")\n",
        "no2_pro11[\"date\"]=no2_pro11[\"date\"].astype(\"datetime64\")\n",
        "\n",
        "no1_pro1=no1_pro1.loc[('2021-01-01'<no1_pro1[\"date\"]) & (no1_pro1[\"date\"]<'2021-10-31'),:]\n",
        "no1_pro2=no1_pro2.loc[('2021-01-01'<no1_pro2[\"date\"]) & (no1_pro2[\"date\"]<'2021-10-31'),:]\n",
        "no2_pro2=no2_pro2.loc[('2021-01-01'<no2_pro2[\"date\"]) & (no2_pro2[\"date\"]<'2021-10-31'),:]\n",
        "no2_pro3=no2_pro3.loc[('2021-01-01'<no2_pro3[\"date\"]) & (no2_pro3[\"date\"]<'2021-10-31'),:]\n",
        "no2_pro11=no2_pro11.loc[('2021-01-01'<no2_pro11[\"date\"]) & (no2_pro11[\"date\"]<'2021-10-31'),:]"
      ],
      "metadata": {
        "id": "qwQyrC3B-c8U"
      },
      "execution_count": 14,
      "outputs": []
    },
    {
      "cell_type": "markdown",
      "source": [
        "# 저장"
      ],
      "metadata": {
        "id": "216xK_I1-E64"
      }
    },
    {
      "cell_type": "code",
      "source": [
        "no1_pro1.to_csv(\"일별 관측치 1호기_프로세스1.csv\")\n",
        "no1_pro2.to_csv(\"일별 관측치 1호기_프로세스2.csv\")\n",
        "no2_pro2.to_csv(\"일별 관측치 2호기_프로세스2.csv\")\n",
        "no2_pro3.to_csv(\"일별 관측치 2호기_프로세스3.csv\")\n",
        "no2_pro11.to_csv(\"일별 관측치 2호기_프로세스11.csv\")"
      ],
      "metadata": {
        "id": "TdUBzP36-Gtc"
      },
      "execution_count": null,
      "outputs": []
    }
  ]
}