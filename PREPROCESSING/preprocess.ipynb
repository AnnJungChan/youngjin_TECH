{
 "cells": [
  {
   "cell_type": "code",
   "execution_count": 1,
   "id": "d7ffa1d6-3e63-47b5-8d83-8f17d0be23a3",
   "metadata": {},
   "outputs": [],
   "source": [
    "import pandas as pd\n",
    "import os\n",
    "import seaborn as sns\n",
    "import matplotlib.pyplot as plt\n",
    "from matplotlib import rc\n",
    "rc('font', family='AppleGothic')\n",
    "plt.rcParams['axes.unicode_minus'] = False "
   ]
  },
  {
   "cell_type": "code",
   "execution_count": 2,
   "id": "03dc42c8-3ee7-450a-8b98-d8099a9e1382",
   "metadata": {},
   "outputs": [],
   "source": [
    "list_1l = os.listdir('1L')\n",
    "list_1r = os.listdir('1R')\n",
    "list_2l = os.listdir('2L')\n",
    "list_2r = os.listdir('2R')"
   ]
  },
  {
   "cell_type": "code",
   "execution_count": 3,
   "id": "5c3d6fbe-365a-4552-8e4b-440b5175c309",
   "metadata": {},
   "outputs": [],
   "source": [
    "l1 = pd.DataFrame()\n",
    "for files in list_1l:\n",
    "    file = pd.read_csv('1L/' + files, encoding='cp949')\n",
    "    l1 = pd.concat([l1, file])\n",
    "    \n",
    "r1 = pd.DataFrame()\n",
    "for files in list_1r:\n",
    "    file = pd.read_csv('1R/' + files, encoding='cp949')\n",
    "    r1 = pd.concat([r1, file])\n",
    "\n",
    "l2 = pd.DataFrame()\n",
    "for files in list_2l:\n",
    "    file = pd.read_csv('2L/' + files, encoding='cp949')\n",
    "    l2 = pd.concat([l2, file])\n",
    "    \n",
    "r2 = pd.DataFrame()\n",
    "for files in list_2r:\n",
    "    file = pd.read_csv('2R/' + files, encoding='cp949')\n",
    "    r2 = pd.concat([r2, file])"
   ]
  },
  {
   "cell_type": "code",
   "execution_count": 4,
   "id": "0ad8fc9d-9d6e-43f7-af9f-93259181987e",
   "metadata": {},
   "outputs": [
    {
     "data": {
      "text/html": [
       "<div>\n",
       "<style scoped>\n",
       "    .dataframe tbody tr th:only-of-type {\n",
       "        vertical-align: middle;\n",
       "    }\n",
       "\n",
       "    .dataframe tbody tr th {\n",
       "        vertical-align: top;\n",
       "    }\n",
       "\n",
       "    .dataframe thead th {\n",
       "        text-align: right;\n",
       "    }\n",
       "</style>\n",
       "<table border=\"1\" class=\"dataframe\">\n",
       "  <thead>\n",
       "    <tr style=\"text-align: right;\">\n",
       "      <th></th>\n",
       "      <th>호기</th>\n",
       "      <th>공정명</th>\n",
       "      <th>생산량</th>\n",
       "      <th>날짜</th>\n",
       "      <th>시간</th>\n",
       "      <th>모델</th>\n",
       "      <th>모델명</th>\n",
       "      <th>비드</th>\n",
       "      <th>전류상한</th>\n",
       "      <th>전류(A)</th>\n",
       "      <th>...</th>\n",
       "      <th>가스하한</th>\n",
       "      <th>용접시간상한</th>\n",
       "      <th>용접시간(sec)</th>\n",
       "      <th>용접시간하한</th>\n",
       "      <th>판단</th>\n",
       "      <th>팁누적개수</th>\n",
       "      <th>NUM(EA)</th>\n",
       "      <th>원점</th>\n",
       "      <th>LH_RH</th>\n",
       "      <th>가접시간</th>\n",
       "    </tr>\n",
       "  </thead>\n",
       "  <tbody>\n",
       "    <tr>\n",
       "      <th>0</th>\n",
       "      <td>1</td>\n",
       "      <td>PLASMA W/D 1호기</td>\n",
       "      <td>408</td>\n",
       "      <td>2021-11-30</td>\n",
       "      <td>17:53:02</td>\n",
       "      <td>1</td>\n",
       "      <td>MAVERICK (RWD/FWD)</td>\n",
       "      <td>1</td>\n",
       "      <td>0.0</td>\n",
       "      <td>51.2</td>\n",
       "      <td>...</td>\n",
       "      <td>0.0</td>\n",
       "      <td>0.0</td>\n",
       "      <td>7.3</td>\n",
       "      <td>0.0</td>\n",
       "      <td>GOOD</td>\n",
       "      <td>42897</td>\n",
       "      <td>77</td>\n",
       "      <td>NaN</td>\n",
       "      <td>NaN</td>\n",
       "      <td>0</td>\n",
       "    </tr>\n",
       "    <tr>\n",
       "      <th>1</th>\n",
       "      <td>1</td>\n",
       "      <td>PLASMA W/D 1호기</td>\n",
       "      <td>407</td>\n",
       "      <td>2021-11-30</td>\n",
       "      <td>17:52:47</td>\n",
       "      <td>1</td>\n",
       "      <td>MAVERICK (RWD/FWD)</td>\n",
       "      <td>1</td>\n",
       "      <td>0.0</td>\n",
       "      <td>51.2</td>\n",
       "      <td>...</td>\n",
       "      <td>0.0</td>\n",
       "      <td>0.0</td>\n",
       "      <td>7.2</td>\n",
       "      <td>0.0</td>\n",
       "      <td>GOOD</td>\n",
       "      <td>42896</td>\n",
       "      <td>76</td>\n",
       "      <td>NaN</td>\n",
       "      <td>NaN</td>\n",
       "      <td>0</td>\n",
       "    </tr>\n",
       "    <tr>\n",
       "      <th>2</th>\n",
       "      <td>1</td>\n",
       "      <td>PLASMA W/D 1호기</td>\n",
       "      <td>406</td>\n",
       "      <td>2021-11-30</td>\n",
       "      <td>17:52:32</td>\n",
       "      <td>1</td>\n",
       "      <td>MAVERICK (RWD/FWD)</td>\n",
       "      <td>1</td>\n",
       "      <td>0.0</td>\n",
       "      <td>51.2</td>\n",
       "      <td>...</td>\n",
       "      <td>0.0</td>\n",
       "      <td>0.0</td>\n",
       "      <td>7.2</td>\n",
       "      <td>0.0</td>\n",
       "      <td>GOOD</td>\n",
       "      <td>42895</td>\n",
       "      <td>76</td>\n",
       "      <td>NaN</td>\n",
       "      <td>NaN</td>\n",
       "      <td>0</td>\n",
       "    </tr>\n",
       "    <tr>\n",
       "      <th>3</th>\n",
       "      <td>1</td>\n",
       "      <td>PLASMA W/D 1호기</td>\n",
       "      <td>405</td>\n",
       "      <td>2021-11-30</td>\n",
       "      <td>17:52:17</td>\n",
       "      <td>1</td>\n",
       "      <td>MAVERICK (RWD/FWD)</td>\n",
       "      <td>1</td>\n",
       "      <td>0.0</td>\n",
       "      <td>51.2</td>\n",
       "      <td>...</td>\n",
       "      <td>0.0</td>\n",
       "      <td>0.0</td>\n",
       "      <td>7.2</td>\n",
       "      <td>0.0</td>\n",
       "      <td>GOOD</td>\n",
       "      <td>42894</td>\n",
       "      <td>76</td>\n",
       "      <td>NaN</td>\n",
       "      <td>NaN</td>\n",
       "      <td>0</td>\n",
       "    </tr>\n",
       "    <tr>\n",
       "      <th>4</th>\n",
       "      <td>1</td>\n",
       "      <td>PLASMA W/D 1호기</td>\n",
       "      <td>404</td>\n",
       "      <td>2021-11-30</td>\n",
       "      <td>17:52:02</td>\n",
       "      <td>1</td>\n",
       "      <td>MAVERICK (RWD/FWD)</td>\n",
       "      <td>1</td>\n",
       "      <td>0.0</td>\n",
       "      <td>51.2</td>\n",
       "      <td>...</td>\n",
       "      <td>0.0</td>\n",
       "      <td>0.0</td>\n",
       "      <td>7.3</td>\n",
       "      <td>0.0</td>\n",
       "      <td>GOOD</td>\n",
       "      <td>42893</td>\n",
       "      <td>77</td>\n",
       "      <td>NaN</td>\n",
       "      <td>NaN</td>\n",
       "      <td>0</td>\n",
       "    </tr>\n",
       "  </tbody>\n",
       "</table>\n",
       "<p>5 rows × 26 columns</p>\n",
       "</div>"
      ],
      "text/plain": [
       "   호기             공정명  생산량          날짜        시간  모델                 모델명  비드  \\\n",
       "0   1  PLASMA W/D 1호기  408  2021-11-30  17:53:02   1  MAVERICK (RWD/FWD)   1   \n",
       "1   1  PLASMA W/D 1호기  407  2021-11-30  17:52:47   1  MAVERICK (RWD/FWD)   1   \n",
       "2   1  PLASMA W/D 1호기  406  2021-11-30  17:52:32   1  MAVERICK (RWD/FWD)   1   \n",
       "3   1  PLASMA W/D 1호기  405  2021-11-30  17:52:17   1  MAVERICK (RWD/FWD)   1   \n",
       "4   1  PLASMA W/D 1호기  404  2021-11-30  17:52:02   1  MAVERICK (RWD/FWD)   1   \n",
       "\n",
       "   전류상한  전류(A)  ...  가스하한  용접시간상한  용접시간(sec)  용접시간하한    판단  팁누적개수  NUM(EA)  \\\n",
       "0   0.0   51.2  ...   0.0     0.0        7.3     0.0  GOOD  42897       77   \n",
       "1   0.0   51.2  ...   0.0     0.0        7.2     0.0  GOOD  42896       76   \n",
       "2   0.0   51.2  ...   0.0     0.0        7.2     0.0  GOOD  42895       76   \n",
       "3   0.0   51.2  ...   0.0     0.0        7.2     0.0  GOOD  42894       76   \n",
       "4   0.0   51.2  ...   0.0     0.0        7.3     0.0  GOOD  42893       77   \n",
       "\n",
       "   원점  LH_RH  가접시간  \n",
       "0 NaN    NaN     0  \n",
       "1 NaN    NaN     0  \n",
       "2 NaN    NaN     0  \n",
       "3 NaN    NaN     0  \n",
       "4 NaN    NaN     0  \n",
       "\n",
       "[5 rows x 26 columns]"
      ]
     },
     "execution_count": 4,
     "metadata": {},
     "output_type": "execute_result"
    }
   ],
   "source": [
    "l1.head()"
   ]
  },
  {
   "cell_type": "code",
   "execution_count": 5,
   "id": "d1fdd1d9-a717-40bb-bc1a-33f4b1330fdb",
   "metadata": {},
   "outputs": [
    {
     "data": {
      "text/plain": [
       "Index(['호기', '공정명', '생산량', '날짜', '시간', '모델', '모델명', '비드', '전류상한', '전류(A)',\n",
       "       '전류하한', '전압상한', '전압(V)', '전압하한', '가스상한', '가스(l/min)', '가스하한', '용접시간상한',\n",
       "       '용접시간(sec)', '용접시간하한', '판단', '팁누적개수', 'NUM(EA)', '원점', 'LH_RH', '가접시간'],\n",
       "      dtype='object')"
      ]
     },
     "execution_count": 5,
     "metadata": {},
     "output_type": "execute_result"
    }
   ],
   "source": [
    "r1.columns"
   ]
  },
  {
   "cell_type": "code",
   "execution_count": 6,
   "id": "52cecb5a-40a6-4d6e-ad14-6fccb09515ea",
   "metadata": {},
   "outputs": [
    {
     "data": {
      "text/plain": [
       "0        2021-11-30 17:53:02\n",
       "1        2021-11-30 17:52:47\n",
       "2        2021-11-30 17:52:32\n",
       "3        2021-11-30 17:52:17\n",
       "4        2021-11-30 17:52:02\n",
       "                ...         \n",
       "19425    2021-12-01 08:36:14\n",
       "19426    2021-12-01 08:34:41\n",
       "19427    2021-12-01 08:32:52\n",
       "19428    2021-12-01 08:32:34\n",
       "19429    2021-12-01 08:31:50\n",
       "Name: Time, Length: 779964, dtype: object"
      ]
     },
     "execution_count": 6,
     "metadata": {},
     "output_type": "execute_result"
    }
   ],
   "source": [
    "# make time column\n",
    "l1['Time'] = l1['날짜'] + ' ' + l1['시간']\n",
    "r1['Time'] = r1['날짜'] + ' ' + r1['시간']\n",
    "\n",
    "all_time = pd.concat([l1['Time'], r1['Time']])\n",
    "all_time.drop_duplicates()"
   ]
  },
  {
   "cell_type": "code",
   "execution_count": 7,
   "id": "47d536e2-9342-4c74-92ff-8ec47313ac5f",
   "metadata": {},
   "outputs": [
    {
     "data": {
      "text/plain": [
       "1    437370\n",
       "Name: 호기, dtype: int64"
      ]
     },
     "execution_count": 7,
     "metadata": {},
     "output_type": "execute_result"
    }
   ],
   "source": [
    "r1['호기'].value_counts()"
   ]
  },
  {
   "cell_type": "code",
   "execution_count": 8,
   "id": "1adfb0c9-0d04-4f39-9bcf-e1f3d75e82a7",
   "metadata": {},
   "outputs": [
    {
     "data": {
      "text/plain": [
       "1    346600\n",
       "Name: 모델, dtype: int64"
      ]
     },
     "execution_count": 8,
     "metadata": {},
     "output_type": "execute_result"
    }
   ],
   "source": [
    "l1['모델'].value_counts()"
   ]
  },
  {
   "cell_type": "code",
   "execution_count": 9,
   "id": "80fd420e-de82-423f-ac35-d445d459fc39",
   "metadata": {},
   "outputs": [
    {
     "data": {
      "text/plain": [
       "1    437370\n",
       "Name: 모델, dtype: int64"
      ]
     },
     "execution_count": 9,
     "metadata": {},
     "output_type": "execute_result"
    }
   ],
   "source": [
    "r1['모델'].value_counts()"
   ]
  },
  {
   "cell_type": "code",
   "execution_count": 10,
   "id": "b67ce9dc-afc4-4fa9-99b1-3a0f91372d07",
   "metadata": {},
   "outputs": [
    {
     "data": {
      "text/plain": [
       "PLASMA W/D 1호기    402841\n",
       "PLASMA W/D 2호기     34529\n",
       "Name: 공정명, dtype: int64"
      ]
     },
     "execution_count": 10,
     "metadata": {},
     "output_type": "execute_result"
    }
   ],
   "source": [
    "r1['공정명'].value_counts()"
   ]
  },
  {
   "cell_type": "code",
   "execution_count": 11,
   "id": "8df2468c-9382-4fc9-8dca-e18eff7370a6",
   "metadata": {},
   "outputs": [
    {
     "data": {
      "text/plain": [
       "MAVERICK (RWD/FWD)    345464\n",
       "Unknown Model Name      1136\n",
       "Name: 모델명, dtype: int64"
      ]
     },
     "execution_count": 11,
     "metadata": {},
     "output_type": "execute_result"
    }
   ],
   "source": [
    "l1['모델명'].value_counts()"
   ]
  },
  {
   "cell_type": "code",
   "execution_count": 12,
   "id": "d9762388-c30d-4268-8ece-69f5a76c388b",
   "metadata": {},
   "outputs": [
    {
     "data": {
      "text/plain": [
       "MEVERICK (RWD/FWD)    437370\n",
       "Name: 모델명, dtype: int64"
      ]
     },
     "execution_count": 12,
     "metadata": {},
     "output_type": "execute_result"
    }
   ],
   "source": [
    "r1['모델명'].value_counts()"
   ]
  },
  {
   "cell_type": "code",
   "execution_count": 13,
   "id": "b6477ea9-2154-4528-be6b-25e44d8bc502",
   "metadata": {},
   "outputs": [
    {
     "data": {
      "text/plain": [
       "1    346600\n",
       "Name: 비드, dtype: int64"
      ]
     },
     "execution_count": 13,
     "metadata": {},
     "output_type": "execute_result"
    }
   ],
   "source": [
    "l1['비드'].value_counts()"
   ]
  },
  {
   "cell_type": "code",
   "execution_count": 14,
   "id": "d4cac5a9-4f43-48c1-94c6-03fcbabc54c9",
   "metadata": {},
   "outputs": [
    {
     "data": {
      "text/plain": [
       "1    437370\n",
       "Name: 비드, dtype: int64"
      ]
     },
     "execution_count": 14,
     "metadata": {},
     "output_type": "execute_result"
    }
   ],
   "source": [
    "r1['비드'].value_counts()"
   ]
  },
  {
   "cell_type": "code",
   "execution_count": 15,
   "id": "f3d3f5f6-44b3-404f-b732-c36801b5a861",
   "metadata": {},
   "outputs": [
    {
     "data": {
      "text/plain": [
       "0.0    346600\n",
       "Name: 전류상한, dtype: int64"
      ]
     },
     "execution_count": 15,
     "metadata": {},
     "output_type": "execute_result"
    }
   ],
   "source": [
    "l1['전류상한'].value_counts()"
   ]
  },
  {
   "cell_type": "code",
   "execution_count": 16,
   "id": "ad04b2fc-8ff8-4b6e-be87-2b7e59dd528c",
   "metadata": {},
   "outputs": [
    {
     "data": {
      "text/plain": [
       "0.0    437370\n",
       "Name: 전류상한, dtype: int64"
      ]
     },
     "execution_count": 16,
     "metadata": {},
     "output_type": "execute_result"
    }
   ],
   "source": [
    "r1['전류상한'].value_counts()"
   ]
  },
  {
   "cell_type": "code",
   "execution_count": 17,
   "id": "c5f6d0b8-df8d-4cd7-a118-5ae5035e7355",
   "metadata": {},
   "outputs": [
    {
     "data": {
      "text/plain": [
       "0.0    346600\n",
       "Name: 전류하한, dtype: int64"
      ]
     },
     "execution_count": 17,
     "metadata": {},
     "output_type": "execute_result"
    }
   ],
   "source": [
    "l1['전류하한'].value_counts()"
   ]
  },
  {
   "cell_type": "code",
   "execution_count": 18,
   "id": "92b75ab3-17b7-4702-a39e-1ceade686505",
   "metadata": {},
   "outputs": [
    {
     "data": {
      "text/plain": [
       "0.0    437370\n",
       "Name: 전류하한, dtype: int64"
      ]
     },
     "execution_count": 18,
     "metadata": {},
     "output_type": "execute_result"
    }
   ],
   "source": [
    "r1['전류하한'].value_counts()"
   ]
  },
  {
   "cell_type": "code",
   "execution_count": 19,
   "id": "589766b7-cad5-4f13-a2ec-0baecc246582",
   "metadata": {},
   "outputs": [
    {
     "data": {
      "text/plain": [
       "0.0    346600\n",
       "Name: 전압상한, dtype: int64"
      ]
     },
     "execution_count": 19,
     "metadata": {},
     "output_type": "execute_result"
    }
   ],
   "source": [
    "l1['전압상한'].value_counts()"
   ]
  },
  {
   "cell_type": "code",
   "execution_count": 20,
   "id": "2f36a56e-522f-4c9a-97cf-32f8fb20eb5e",
   "metadata": {},
   "outputs": [
    {
     "data": {
      "text/plain": [
       "0.0    437370\n",
       "Name: 전압상한, dtype: int64"
      ]
     },
     "execution_count": 20,
     "metadata": {},
     "output_type": "execute_result"
    }
   ],
   "source": [
    "r1['전압상한'].value_counts()"
   ]
  },
  {
   "cell_type": "code",
   "execution_count": 21,
   "id": "927913ea-9d43-4094-8379-ea601b5d2795",
   "metadata": {},
   "outputs": [
    {
     "data": {
      "text/plain": [
       "0.0    346600\n",
       "Name: 전압하한, dtype: int64"
      ]
     },
     "execution_count": 21,
     "metadata": {},
     "output_type": "execute_result"
    }
   ],
   "source": [
    "l1['전압하한'].value_counts()"
   ]
  },
  {
   "cell_type": "code",
   "execution_count": 22,
   "id": "c0f05a59-7555-4f90-a4db-ecdef341c359",
   "metadata": {},
   "outputs": [
    {
     "data": {
      "text/plain": [
       "0.0    346600\n",
       "Name: 전압상한, dtype: int64"
      ]
     },
     "execution_count": 22,
     "metadata": {},
     "output_type": "execute_result"
    }
   ],
   "source": [
    "l1['전압상한'].value_counts()"
   ]
  },
  {
   "cell_type": "code",
   "execution_count": 23,
   "id": "6fcb0e4d-7624-4728-9dcb-02477348a881",
   "metadata": {},
   "outputs": [
    {
     "data": {
      "text/plain": [
       "0.0    346600\n",
       "Name: 가스하한, dtype: int64"
      ]
     },
     "execution_count": 23,
     "metadata": {},
     "output_type": "execute_result"
    }
   ],
   "source": [
    "l1['가스하한'].value_counts()"
   ]
  },
  {
   "cell_type": "code",
   "execution_count": 24,
   "id": "8dbc7993-fb54-432c-9146-84b11e1079b5",
   "metadata": {},
   "outputs": [
    {
     "data": {
      "text/plain": [
       "0.0    346600\n",
       "Name: 가스상한, dtype: int64"
      ]
     },
     "execution_count": 24,
     "metadata": {},
     "output_type": "execute_result"
    }
   ],
   "source": [
    "l1['가스상한'].value_counts()"
   ]
  },
  {
   "cell_type": "code",
   "execution_count": 25,
   "id": "04e69ecb-4413-4fef-ab40-30f2c2e811f9",
   "metadata": {},
   "outputs": [
    {
     "data": {
      "text/plain": [
       "0.0    437370\n",
       "Name: 가스상한, dtype: int64"
      ]
     },
     "execution_count": 25,
     "metadata": {},
     "output_type": "execute_result"
    }
   ],
   "source": [
    "r1['가스상한'].value_counts()"
   ]
  },
  {
   "cell_type": "code",
   "execution_count": 26,
   "id": "09ff6137-137c-4b88-b71a-2f6553fc4786",
   "metadata": {},
   "outputs": [
    {
     "data": {
      "text/plain": [
       "0.0    437370\n",
       "Name: 가스하한, dtype: int64"
      ]
     },
     "execution_count": 26,
     "metadata": {},
     "output_type": "execute_result"
    }
   ],
   "source": [
    "r1['가스하한'].value_counts()"
   ]
  },
  {
   "cell_type": "code",
   "execution_count": 27,
   "id": "6764d2a0-76c2-4c5d-b294-578e0da984ec",
   "metadata": {},
   "outputs": [
    {
     "data": {
      "text/plain": [
       "0.0    346600\n",
       "Name: 용접시간상한, dtype: int64"
      ]
     },
     "execution_count": 27,
     "metadata": {},
     "output_type": "execute_result"
    }
   ],
   "source": [
    "l1['용접시간상한'].value_counts()"
   ]
  },
  {
   "cell_type": "code",
   "execution_count": 28,
   "id": "33f25efa-1dcb-4faa-a665-f3e1df74207a",
   "metadata": {},
   "outputs": [
    {
     "data": {
      "text/plain": [
       "0.0    346600\n",
       "Name: 용접시간하한, dtype: int64"
      ]
     },
     "execution_count": 28,
     "metadata": {},
     "output_type": "execute_result"
    }
   ],
   "source": [
    "l1['용접시간하한'].value_counts()"
   ]
  },
  {
   "cell_type": "code",
   "execution_count": 29,
   "id": "2ab2b2d4-b476-4531-97a3-c8baaa00f309",
   "metadata": {},
   "outputs": [
    {
     "data": {
      "text/plain": [
       "0    346600\n",
       "Name: 가접시간, dtype: int64"
      ]
     },
     "execution_count": 29,
     "metadata": {},
     "output_type": "execute_result"
    }
   ],
   "source": [
    "l1['가접시간'].value_counts()"
   ]
  },
  {
   "cell_type": "code",
   "execution_count": 30,
   "id": "933462dc-d7ff-413e-a395-099ca8948f55",
   "metadata": {},
   "outputs": [
    {
     "data": {
      "text/plain": [
       "0    437370\n",
       "Name: 가접시간, dtype: int64"
      ]
     },
     "execution_count": 30,
     "metadata": {},
     "output_type": "execute_result"
    }
   ],
   "source": [
    "r1['가접시간'].value_counts()"
   ]
  },
  {
   "cell_type": "code",
   "execution_count": 31,
   "id": "2fb44fd5-4ab5-4b8a-a2f2-4c98a1f399cd",
   "metadata": {},
   "outputs": [],
   "source": [
    "l1 = l1.drop(['전류상한', '전류하한', '비드', '호기', '가스상한', '가스하한', '전압상한', '전압하한', \"원점\", 'LH_RH', '가접시간', '모델', '시간', '용접시간상한', '용접시간하한'], axis=1)\n",
    "l1.to_csv('1_left.csv', mode='w')"
   ]
  },
  {
   "cell_type": "code",
   "execution_count": 32,
   "id": "7e7e3d4f-d9cb-4332-bc46-b43466b24d4a",
   "metadata": {},
   "outputs": [],
   "source": [
    "r1 = r1.drop(['전류상한', '전류하한', '비드', '호기', '가스상한', '가스하한', '전압상한', '전압하한', \"원점\", 'LH_RH', '가접시간', '모델', '시간', '용접시간상한', '용접시간하한'], axis=1)\n",
    "r1.to_csv('1_right.csv', mode='w')"
   ]
  },
  {
   "cell_type": "code",
   "execution_count": 33,
   "id": "e6ca9f96-7677-48e1-90d4-5984b63c2637",
   "metadata": {},
   "outputs": [
    {
     "name": "stdout",
     "output_type": "stream",
     "text": [
      "0.0    353719\n",
      "Name: 전류상한, dtype: int64\n",
      "0.0    293321\n",
      "Name: 전류상한, dtype: int64\n",
      "0.0    353719\n",
      "Name: 전류하한, dtype: int64\n",
      "0.0    293321\n",
      "Name: 전류하한, dtype: int64\n",
      "1    353719\n",
      "Name: 비드, dtype: int64\n",
      "1    293321\n",
      "Name: 비드, dtype: int64\n",
      "1    353719\n",
      "Name: 호기, dtype: int64\n",
      "1    293321\n",
      "Name: 호기, dtype: int64\n",
      "0.0    353719\n",
      "Name: 가스상한, dtype: int64\n",
      "0.0    293321\n",
      "Name: 가스상한, dtype: int64\n",
      "0.0    353719\n",
      "Name: 가스하한, dtype: int64\n",
      "0.0    293321\n",
      "Name: 가스하한, dtype: int64\n",
      "0.0    353719\n",
      "Name: 전압상한, dtype: int64\n",
      "0.0    293321\n",
      "Name: 전압상한, dtype: int64\n",
      "0.0    353719\n",
      "Name: 전압하한, dtype: int64\n",
      "0.0    293321\n",
      "Name: 전압하한, dtype: int64\n",
      "Series([], Name: 원점, dtype: int64)\n",
      "Series([], Name: 원점, dtype: int64)\n",
      "Series([], Name: LH_RH, dtype: int64)\n",
      "Series([], Name: LH_RH, dtype: int64)\n",
      "0    353719\n",
      "Name: 가접시간, dtype: int64\n",
      "0    293321\n",
      "Name: 가접시간, dtype: int64\n",
      "1    353719\n",
      "Name: 모델, dtype: int64\n",
      "1    293321\n",
      "Name: 모델, dtype: int64\n"
     ]
    }
   ],
   "source": [
    "checklist = ['전류상한', '전류하한', '비드', '호기', '가스상한', '가스하한', '전압상한', '전압하한', \"원점\", 'LH_RH', '가접시간', '모델']\n",
    "\n",
    "for i in checklist:\n",
    "    print(l2[i].value_counts())\n",
    "    print(r2[i].value_counts())"
   ]
  },
  {
   "cell_type": "code",
   "execution_count": 34,
   "id": "e0b9d418-f95a-43de-9613-c6dd137ab00f",
   "metadata": {},
   "outputs": [
    {
     "data": {
      "text/plain": [
       "0       2021-08-31 17:48:31\n",
       "1       2021-08-31 17:48:16\n",
       "2       2021-08-31 17:48:00\n",
       "3       2021-08-31 17:47:45\n",
       "4       2021-08-31 17:47:30\n",
       "               ...         \n",
       "8131    2021-05-24 08:32:17\n",
       "8132    2021-05-24 08:32:02\n",
       "8133    2021-05-24 08:31:45\n",
       "8134    2021-05-24 08:31:30\n",
       "8135    2021-05-24 08:25:45\n",
       "Name: Time, Length: 646578, dtype: object"
      ]
     },
     "execution_count": 34,
     "metadata": {},
     "output_type": "execute_result"
    }
   ],
   "source": [
    "# make time column\n",
    "l2['Time'] = l2['날짜'] + ' ' + l2['시간']\n",
    "r2['Time'] = r2['날짜'] + ' ' + r2['시간']\n",
    "\n",
    "all_time = pd.concat([l2['Time'], r2['Time']])\n",
    "all_time.drop_duplicates()"
   ]
  },
  {
   "cell_type": "code",
   "execution_count": 35,
   "id": "844b9bfe-5bd3-436f-963a-52a2b921772d",
   "metadata": {},
   "outputs": [
    {
     "data": {
      "text/plain": [
       "0       2021-08-31 17:48:31\n",
       "1       2021-08-31 17:48:16\n",
       "2       2021-08-31 17:48:00\n",
       "3       2021-08-31 17:47:45\n",
       "4       2021-08-31 17:47:30\n",
       "               ...         \n",
       "8131    2021-05-24 08:32:17\n",
       "8132    2021-05-24 08:32:02\n",
       "8133    2021-05-24 08:31:45\n",
       "8134    2021-05-24 08:31:30\n",
       "8135    2021-05-24 08:25:45\n",
       "Name: Time, Length: 647040, dtype: object"
      ]
     },
     "execution_count": 35,
     "metadata": {},
     "output_type": "execute_result"
    }
   ],
   "source": [
    "all_time"
   ]
  },
  {
   "cell_type": "code",
   "execution_count": 36,
   "id": "55db450a-f2e7-4b6d-ba24-412c21b58a0b",
   "metadata": {},
   "outputs": [],
   "source": [
    "l2 = l2.drop(['전류상한', '전류하한', '비드', '호기', '가스상한', '가스하한', '전압상한', '전압하한', \"원점\", 'LH_RH', '가접시간', '모델', '시간', '용접시간상한', '용접시간하한'], axis=1)\n",
    "l2.to_csv('2_left.csv', mode='w')"
   ]
  },
  {
   "cell_type": "code",
   "execution_count": 37,
   "id": "5296e920-a937-4422-a449-52b8782260a7",
   "metadata": {},
   "outputs": [],
   "source": [
    "r2 = r2.drop(['전류상한', '전류하한', '비드', '호기', '가스상한', '가스하한', '전압상한', '전압하한', \"원점\", 'LH_RH', '가접시간', '모델', '시간', '용접시간상한', '용접시간하한'], axis=1)\n",
    "r2.to_csv('2_right.csv', mode='w')"
   ]
  },
  {
   "cell_type": "code",
   "execution_count": 39,
   "id": "0df2039e-d34e-4f28-a17a-19ff71c26ed9",
   "metadata": {},
   "outputs": [
    {
     "data": {
      "text/html": [
       "<div>\n",
       "<style scoped>\n",
       "    .dataframe tbody tr th:only-of-type {\n",
       "        vertical-align: middle;\n",
       "    }\n",
       "\n",
       "    .dataframe tbody tr th {\n",
       "        vertical-align: top;\n",
       "    }\n",
       "\n",
       "    .dataframe thead th {\n",
       "        text-align: right;\n",
       "    }\n",
       "</style>\n",
       "<table border=\"1\" class=\"dataframe\">\n",
       "  <thead>\n",
       "    <tr style=\"text-align: right;\">\n",
       "      <th></th>\n",
       "      <th>공정명</th>\n",
       "      <th>생산량</th>\n",
       "      <th>날짜</th>\n",
       "      <th>모델명</th>\n",
       "      <th>전류(A)</th>\n",
       "      <th>전압(V)</th>\n",
       "      <th>가스(l/min)</th>\n",
       "      <th>용접시간(sec)</th>\n",
       "      <th>판단</th>\n",
       "      <th>팁누적개수</th>\n",
       "      <th>NUM(EA)</th>\n",
       "      <th>Time</th>\n",
       "    </tr>\n",
       "  </thead>\n",
       "  <tbody>\n",
       "    <tr>\n",
       "      <th>0</th>\n",
       "      <td>PLASMA W/D 1호기</td>\n",
       "      <td>408</td>\n",
       "      <td>2021-11-30</td>\n",
       "      <td>MAVERICK (RWD/FWD)</td>\n",
       "      <td>51.2</td>\n",
       "      <td>21.76</td>\n",
       "      <td>7.23</td>\n",
       "      <td>7.3</td>\n",
       "      <td>GOOD</td>\n",
       "      <td>42897</td>\n",
       "      <td>77</td>\n",
       "      <td>2021-11-30 17:53:02</td>\n",
       "    </tr>\n",
       "    <tr>\n",
       "      <th>1</th>\n",
       "      <td>PLASMA W/D 1호기</td>\n",
       "      <td>407</td>\n",
       "      <td>2021-11-30</td>\n",
       "      <td>MAVERICK (RWD/FWD)</td>\n",
       "      <td>51.2</td>\n",
       "      <td>21.71</td>\n",
       "      <td>7.23</td>\n",
       "      <td>7.2</td>\n",
       "      <td>GOOD</td>\n",
       "      <td>42896</td>\n",
       "      <td>76</td>\n",
       "      <td>2021-11-30 17:52:47</td>\n",
       "    </tr>\n",
       "    <tr>\n",
       "      <th>2</th>\n",
       "      <td>PLASMA W/D 1호기</td>\n",
       "      <td>406</td>\n",
       "      <td>2021-11-30</td>\n",
       "      <td>MAVERICK (RWD/FWD)</td>\n",
       "      <td>51.2</td>\n",
       "      <td>21.71</td>\n",
       "      <td>7.23</td>\n",
       "      <td>7.2</td>\n",
       "      <td>GOOD</td>\n",
       "      <td>42895</td>\n",
       "      <td>76</td>\n",
       "      <td>2021-11-30 17:52:32</td>\n",
       "    </tr>\n",
       "    <tr>\n",
       "      <th>3</th>\n",
       "      <td>PLASMA W/D 1호기</td>\n",
       "      <td>405</td>\n",
       "      <td>2021-11-30</td>\n",
       "      <td>MAVERICK (RWD/FWD)</td>\n",
       "      <td>51.2</td>\n",
       "      <td>21.71</td>\n",
       "      <td>7.23</td>\n",
       "      <td>7.2</td>\n",
       "      <td>GOOD</td>\n",
       "      <td>42894</td>\n",
       "      <td>76</td>\n",
       "      <td>2021-11-30 17:52:17</td>\n",
       "    </tr>\n",
       "    <tr>\n",
       "      <th>4</th>\n",
       "      <td>PLASMA W/D 1호기</td>\n",
       "      <td>404</td>\n",
       "      <td>2021-11-30</td>\n",
       "      <td>MAVERICK (RWD/FWD)</td>\n",
       "      <td>51.2</td>\n",
       "      <td>21.75</td>\n",
       "      <td>7.22</td>\n",
       "      <td>7.3</td>\n",
       "      <td>GOOD</td>\n",
       "      <td>42893</td>\n",
       "      <td>77</td>\n",
       "      <td>2021-11-30 17:52:02</td>\n",
       "    </tr>\n",
       "    <tr>\n",
       "      <th>...</th>\n",
       "      <td>...</td>\n",
       "      <td>...</td>\n",
       "      <td>...</td>\n",
       "      <td>...</td>\n",
       "      <td>...</td>\n",
       "      <td>...</td>\n",
       "      <td>...</td>\n",
       "      <td>...</td>\n",
       "      <td>...</td>\n",
       "      <td>...</td>\n",
       "      <td>...</td>\n",
       "      <td>...</td>\n",
       "    </tr>\n",
       "    <tr>\n",
       "      <th>12708</th>\n",
       "      <td>PLASMA W/D 1호기</td>\n",
       "      <td>5</td>\n",
       "      <td>2022-03-21</td>\n",
       "      <td>MAVERICK (RWD/FWD)</td>\n",
       "      <td>52.2</td>\n",
       "      <td>18.41</td>\n",
       "      <td>5.33</td>\n",
       "      <td>6.3</td>\n",
       "      <td>GOOD</td>\n",
       "      <td>38164</td>\n",
       "      <td>67</td>\n",
       "      <td>2022-03-21 12:13:43</td>\n",
       "    </tr>\n",
       "    <tr>\n",
       "      <th>12709</th>\n",
       "      <td>PLASMA W/D 1호기</td>\n",
       "      <td>4</td>\n",
       "      <td>2022-03-21</td>\n",
       "      <td>MAVERICK (RWD/FWD)</td>\n",
       "      <td>52.2</td>\n",
       "      <td>18.38</td>\n",
       "      <td>5.34</td>\n",
       "      <td>6.3</td>\n",
       "      <td>GOOD</td>\n",
       "      <td>38163</td>\n",
       "      <td>67</td>\n",
       "      <td>2022-03-21 11:59:23</td>\n",
       "    </tr>\n",
       "    <tr>\n",
       "      <th>12710</th>\n",
       "      <td>PLASMA W/D 1호기</td>\n",
       "      <td>3</td>\n",
       "      <td>2022-03-21</td>\n",
       "      <td>MAVERICK (RWD/FWD)</td>\n",
       "      <td>52.3</td>\n",
       "      <td>18.25</td>\n",
       "      <td>5.34</td>\n",
       "      <td>6.3</td>\n",
       "      <td>GOOD</td>\n",
       "      <td>38162</td>\n",
       "      <td>67</td>\n",
       "      <td>2022-03-21 11:17:14</td>\n",
       "    </tr>\n",
       "    <tr>\n",
       "      <th>12711</th>\n",
       "      <td>PLASMA W/D 1호기</td>\n",
       "      <td>2</td>\n",
       "      <td>2022-03-21</td>\n",
       "      <td>MAVERICK (RWD/FWD)</td>\n",
       "      <td>52.2</td>\n",
       "      <td>18.04</td>\n",
       "      <td>5.34</td>\n",
       "      <td>6.3</td>\n",
       "      <td>GOOD</td>\n",
       "      <td>38161</td>\n",
       "      <td>67</td>\n",
       "      <td>2022-03-21 11:12:05</td>\n",
       "    </tr>\n",
       "    <tr>\n",
       "      <th>12712</th>\n",
       "      <td>PLASMA W/D 1호기</td>\n",
       "      <td>1</td>\n",
       "      <td>2022-03-21</td>\n",
       "      <td>MAVERICK (RWD/FWD)</td>\n",
       "      <td>52.2</td>\n",
       "      <td>17.92</td>\n",
       "      <td>5.38</td>\n",
       "      <td>6.3</td>\n",
       "      <td>GOOD</td>\n",
       "      <td>38160</td>\n",
       "      <td>67</td>\n",
       "      <td>2022-03-21 11:04:42</td>\n",
       "    </tr>\n",
       "  </tbody>\n",
       "</table>\n",
       "<p>346600 rows × 12 columns</p>\n",
       "</div>"
      ],
      "text/plain": [
       "                  공정명  생산량          날짜                 모델명  전류(A)  전압(V)  \\\n",
       "0      PLASMA W/D 1호기  408  2021-11-30  MAVERICK (RWD/FWD)   51.2  21.76   \n",
       "1      PLASMA W/D 1호기  407  2021-11-30  MAVERICK (RWD/FWD)   51.2  21.71   \n",
       "2      PLASMA W/D 1호기  406  2021-11-30  MAVERICK (RWD/FWD)   51.2  21.71   \n",
       "3      PLASMA W/D 1호기  405  2021-11-30  MAVERICK (RWD/FWD)   51.2  21.71   \n",
       "4      PLASMA W/D 1호기  404  2021-11-30  MAVERICK (RWD/FWD)   51.2  21.75   \n",
       "...               ...  ...         ...                 ...    ...    ...   \n",
       "12708  PLASMA W/D 1호기    5  2022-03-21  MAVERICK (RWD/FWD)   52.2  18.41   \n",
       "12709  PLASMA W/D 1호기    4  2022-03-21  MAVERICK (RWD/FWD)   52.2  18.38   \n",
       "12710  PLASMA W/D 1호기    3  2022-03-21  MAVERICK (RWD/FWD)   52.3  18.25   \n",
       "12711  PLASMA W/D 1호기    2  2022-03-21  MAVERICK (RWD/FWD)   52.2  18.04   \n",
       "12712  PLASMA W/D 1호기    1  2022-03-21  MAVERICK (RWD/FWD)   52.2  17.92   \n",
       "\n",
       "       가스(l/min)  용접시간(sec)    판단  팁누적개수  NUM(EA)                 Time  \n",
       "0           7.23        7.3  GOOD  42897       77  2021-11-30 17:53:02  \n",
       "1           7.23        7.2  GOOD  42896       76  2021-11-30 17:52:47  \n",
       "2           7.23        7.2  GOOD  42895       76  2021-11-30 17:52:32  \n",
       "3           7.23        7.2  GOOD  42894       76  2021-11-30 17:52:17  \n",
       "4           7.22        7.3  GOOD  42893       77  2021-11-30 17:52:02  \n",
       "...          ...        ...   ...    ...      ...                  ...  \n",
       "12708       5.33        6.3  GOOD  38164       67  2022-03-21 12:13:43  \n",
       "12709       5.34        6.3  GOOD  38163       67  2022-03-21 11:59:23  \n",
       "12710       5.34        6.3  GOOD  38162       67  2022-03-21 11:17:14  \n",
       "12711       5.34        6.3  GOOD  38161       67  2022-03-21 11:12:05  \n",
       "12712       5.38        6.3  GOOD  38160       67  2022-03-21 11:04:42  \n",
       "\n",
       "[346600 rows x 12 columns]"
      ]
     },
     "execution_count": 39,
     "metadata": {},
     "output_type": "execute_result"
    }
   ],
   "source": [
    "l1"
   ]
  },
  {
   "cell_type": "code",
   "execution_count": 42,
   "id": "2d5bbc7a-127c-479c-95cc-2ab51ce51c78",
   "metadata": {},
   "outputs": [],
   "source": [
    "l1.columns = ['공정명', 'product', 'date', 'model_name', 'A', 'V', 'G', 'T', 'estimate', 'tip_cum', 'NUM(EA)', 'time']\n",
    "l2.columns = ['공정명', 'product', 'date', 'model_name', 'A', 'V', 'G', 'T', 'estimate', 'tip_cum', 'NUM(EA)', 'time']\n",
    "r1.columns = ['공정명', 'product', 'date', 'model_name', 'A', 'V', 'G', 'T', 'estimate', 'tip_cum', 'NUM(EA)', 'time']\n",
    "r2.columns = ['공정명', 'product', 'date', 'model_name', 'A', 'V', 'G', 'T', 'estimate', 'tip_cum', 'NUM(EA)', 'time']"
   ]
  },
  {
   "cell_type": "code",
   "execution_count": 44,
   "id": "9b0781f8-7b1b-48fc-b362-2097ede2bd12",
   "metadata": {},
   "outputs": [],
   "source": [
    "l1.to_csv('1_left.csv', mode='w')\n",
    "r1.to_csv('1_right.csv', mode='w')\n",
    "l2.to_csv('2_left.csv', mode='w')\n",
    "r2.to_csv('2_right.csv', mode='w')"
   ]
  },
  {
   "cell_type": "code",
   "execution_count": null,
   "id": "c7f4d193-baf0-49ba-9b3b-50e649ade89b",
   "metadata": {},
   "outputs": [],
   "source": []
  }
 ],
 "metadata": {
  "kernelspec": {
   "display_name": "Python 3 (ipykernel)",
   "language": "python",
   "name": "python3"
  },
  "language_info": {
   "codemirror_mode": {
    "name": "ipython",
    "version": 3
   },
   "file_extension": ".py",
   "mimetype": "text/x-python",
   "name": "python",
   "nbconvert_exporter": "python",
   "pygments_lexer": "ipython3",
   "version": "3.9.12"
  }
 },
 "nbformat": 4,
 "nbformat_minor": 5
}
