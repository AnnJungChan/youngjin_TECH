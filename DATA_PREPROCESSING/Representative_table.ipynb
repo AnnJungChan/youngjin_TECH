{
  "nbformat": 4,
  "nbformat_minor": 0,
  "metadata": {
    "colab": {
      "name": "Representative_table.ipynb",
      "provenance": [],
      "authorship_tag": "ABX9TyNtbbwdYAko7CyNnebZNY3V",
      "include_colab_link": true
    },
    "kernelspec": {
      "name": "python3",
      "display_name": "Python 3"
    },
    "language_info": {
      "name": "python"
    }
  },
  "cells": [
    {
      "cell_type": "markdown",
      "metadata": {
        "id": "view-in-github",
        "colab_type": "text"
      },
      "source": [
        "<a href=\"https://colab.research.google.com/github/AnnJungChan/youngjin_TECH/blob/main/DATA_PREPROCESSING/Representative_table.ipynb\" target=\"_parent\"><img src=\"https://colab.research.google.com/assets/colab-badge.svg\" alt=\"Open In Colab\"/></a>"
      ]
    },
    {
      "cell_type": "markdown",
      "source": [
        "# 패키지로딩"
      ],
      "metadata": {
        "id": "M6-F8cKUD4PU"
      }
    },
    {
      "cell_type": "code",
      "execution_count": 120,
      "metadata": {
        "colab": {
          "base_uri": "https://localhost:8080/"
        },
        "id": "8Etde2OgkItF",
        "outputId": "6853c998-189c-404a-ef83-9493d3616025"
      },
      "outputs": [
        {
          "output_type": "stream",
          "name": "stdout",
          "text": [
            "Drive already mounted at /content/gdrive; to attempt to forcibly remount, call drive.mount(\"/content/gdrive\", force_remount=True).\n"
          ]
        }
      ],
      "source": [
        "from google.colab import drive\n",
        "drive.mount('/content/gdrive')\n",
        "import numpy as np\n",
        "import pandas as pd"
      ]
    },
    {
      "cell_type": "markdown",
      "source": [
        "# 초단위 테이블을 일별 대표값 테이블로 변경하기"
      ],
      "metadata": {
        "id": "k1S_5g-nD5-N"
      }
    },
    {
      "cell_type": "code",
      "source": [
        "data=pd.read_csv(\"/content/gdrive/MyDrive/용접데이터/one.csv\")"
      ],
      "metadata": {
        "id": "qOaQPS9bmBoO"
      },
      "execution_count": 121,
      "outputs": []
    },
    {
      "cell_type": "code",
      "source": [
        "data.drop(columns = [\"Unnamed: 0\",\"time\"],inplace = True)"
      ],
      "metadata": {
        "id": "5czOCn4tnHYV"
      },
      "execution_count": 122,
      "outputs": []
    },
    {
      "cell_type": "code",
      "source": [
        "feature_list = ['supply','A','V','gas','sec','decision','tip']\n",
        "for i in range(len(feature_list)):\n",
        "  globals()[feature_list[i]] = data[['date',feature_list[i]]].groupby('date').describe().reset_index()"
      ],
      "metadata": {
        "id": "m52wneRUnHSN"
      },
      "execution_count": 123,
      "outputs": []
    },
    {
      "cell_type": "code",
      "source": [
        "col_list = ['date','count','mean','std','min','25%','50%','75%','max']\n",
        "\n",
        "supply_col = []\n",
        "for i in range(len(col_list)) :\n",
        "  supply_col.append('supply_' +f'{col_list[i]}')\n",
        "\n",
        "A_col = []\n",
        "for i in range(len(col_list)) :\n",
        "  A_col.append('A_' +f'{col_list[i]}')\n",
        "\n",
        "\n",
        "V_col = []\n",
        "for i in range(len(col_list)) :\n",
        "  V_col.append('V_' +f'{col_list[i]}')\n",
        "\n",
        "\n",
        "gas_col = []\n",
        "for i in range(len(col_list)) :\n",
        "  gas_col.append('gas_' +f'{col_list[i]}')\n",
        "\n",
        "\n",
        "sec_col = []\n",
        "for i in range(len(col_list)) :\n",
        "  sec_col.append('sec_' +f'{col_list[i]}')\n",
        "\n",
        "\n",
        "tip_col = []\n",
        "for i in range(len(col_list)) :\n",
        "  tip_col.append('tip_' +f'{col_list[i]}')\n",
        "\n"
      ],
      "metadata": {
        "id": "Q4eIHU4goTog"
      },
      "execution_count": 124,
      "outputs": []
    },
    {
      "cell_type": "code",
      "source": [
        "supply.columns=supply_col\n",
        "A.columns=A_col\n",
        "V.columns=V_col\n",
        "gas.columns=gas_col\n",
        "sec.columns=sec_col\n",
        "tip.columns=tip_col"
      ],
      "metadata": {
        "id": "2fyLq696sJ3h"
      },
      "execution_count": null,
      "outputs": []
    },
    {
      "cell_type": "code",
      "source": [
        "col_list = ['date','count','unique','top','freq']\n",
        "decision_col = []\n",
        "for i in range(len(col_list)) :\n",
        "  decision_col.append('decision_' +f'{col_list[i]}')"
      ],
      "metadata": {
        "id": "VARPh5gAqnFw"
      },
      "execution_count": 127,
      "outputs": []
    },
    {
      "cell_type": "code",
      "source": [
        "decision.columns = decision_col"
      ],
      "metadata": {
        "id": "v4WpU14HrHXz"
      },
      "execution_count": 174,
      "outputs": []
    },
    {
      "cell_type": "code",
      "source": [
        "data=pd.concat([supply,A,V,gas,sec,tip,decision],axis=1)"
      ],
      "metadata": {
        "id": "GRW0FxwV9jxL"
      },
      "execution_count": 136,
      "outputs": []
    },
    {
      "cell_type": "code",
      "source": [
        "data.drop(columns = ['A_date','V_date','gas_date','sec_date','tip_date','decision_date','decision_count','decision_unique','decision_top','decision_freq',\n",
        "                     'A_count','V_count','gas_count','sec_count','tip_count',\n",
        "                     'supply_mean','supply_std','supply_min','supply_25%','supply_50%','supply_75%','supply_max'],inplace = True)\n",
        "data.rename(columns = {'supply_date':'date','supply_count':'supply'},inplace = True)"
      ],
      "metadata": {
        "id": "PA-9EFqsAnoP"
      },
      "execution_count": 144,
      "outputs": []
    },
    {
      "cell_type": "markdown",
      "source": [
        "# 일별 불량갯수 붙이기"
      ],
      "metadata": {
        "id": "o8A6lXGFEA_b"
      }
    },
    {
      "cell_type": "code",
      "source": [
        "no1=pd.read_csv(\"/content/gdrive/MyDrive/용접데이터/일별데이터/일별 관측치 1호기_프로세스1.csv\")\n",
        "no2=pd.read_csv(\"/content/gdrive/MyDrive/용접데이터/일별데이터/일별 관측치 1호기_프로세스2.csv\")"
      ],
      "metadata": {
        "id": "EE8qDJ3aCBtt"
      },
      "execution_count": 155,
      "outputs": []
    },
    {
      "cell_type": "code",
      "source": [
        "fault=pd.concat([no2.iloc[:24],no1])\n",
        "fault.drop(columns = ['Unnamed: 0'],inplace = True)\n",
        "fault.rename(columns = {'실제불량갯수':'fault'},inplace = True)"
      ],
      "metadata": {
        "id": "qbHvopiECipK"
      },
      "execution_count": 170,
      "outputs": []
    },
    {
      "cell_type": "code",
      "source": [
        "pd.merge(fault[['date','fault']],data,how = \"left\", on = \"date\").to_csv(\"one_fault.csv\")"
      ],
      "metadata": {
        "id": "X-CZ85kFDMzb"
      },
      "execution_count": 173,
      "outputs": []
    }
  ]
}