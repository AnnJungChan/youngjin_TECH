{
  "nbformat": 4,
  "nbformat_minor": 0,
  "metadata": {
    "colab": {
      "name": "data_split.ipynb",
      "provenance": [],
      "collapsed_sections": [],
      "authorship_tag": "ABX9TyNc/z1O57dWhCIbuodXhQRZ",
      "include_colab_link": true
    },
    "kernelspec": {
      "name": "python3",
      "display_name": "Python 3"
    },
    "language_info": {
      "name": "python"
    }
  },
  "cells": [
    {
      "cell_type": "markdown",
      "metadata": {
        "id": "view-in-github",
        "colab_type": "text"
      },
      "source": [
        "<a href=\"https://colab.research.google.com/github/AnnJungChan/youngjin_TECH/blob/main/DATA_PREPROCESSING/data_split.ipynb\" target=\"_parent\"><img src=\"https://colab.research.google.com/assets/colab-badge.svg\" alt=\"Open In Colab\"/></a>"
      ]
    },
    {
      "cell_type": "markdown",
      "source": [
        "# 패키지로딩"
      ],
      "metadata": {
        "id": "cabAO6neRlTc"
      }
    },
    {
      "cell_type": "code",
      "execution_count": 3,
      "metadata": {
        "id": "9nRloIIXQ_G9"
      },
      "outputs": [],
      "source": [
        "from google.colab import drive\n",
        "drive.mount('/content/gdrive/')\n",
        "import pandas as pd\n",
        "import numpy as np"
      ]
    },
    {
      "cell_type": "markdown",
      "source": [
        "# 데이터 로딩"
      ],
      "metadata": {
        "id": "eQvVQCpjRnDa"
      }
    },
    {
      "cell_type": "code",
      "source": [
        "one=pd.read_csv('/content/gdrive/MyDrive/용접데이터/one_original.csv', encoding=\"cp949\")\n",
        "two=pd.read_csv('/content/gdrive/MyDrive/용접데이터/two_original.csv', encoding=\"cp949\")"
      ],
      "metadata": {
        "id": "fQ6ijB5MTA1X"
      },
      "execution_count": 76,
      "outputs": []
    },
    {
      "cell_type": "markdown",
      "source": [
        "# 데이터 정제하기"
      ],
      "metadata": {
        "id": "5zu8VIq0Tjpt"
      }
    },
    {
      "cell_type": "code",
      "source": [
        "one=one.drop(columns = [\"Unnamed: 0\",'전류상한','전류하한','전압상한','전압하한', '가스상한','가스하한','용접시간상한','용접시간하한','가접시간','원점','비드','모델','호기'])\n",
        "one=one.rename(columns = {\"공정명\":\"process\",\"생산량\":\"supply\",\"날짜\" : \"date\",\"시간\":\"time\",'모델명':'model_name','전류.A.':'A','전압.V.':'V','가스.l.min.' : 'gas', '용접시간.sec.' : 'sec', '판단' : 'decision', '팁누적개수' : 'tip_cum'})\n",
        "process=one['process'].unique()\n",
        "process_name = ['no_1_process_1','no_1_process_2']\n",
        "for i in range(len(process)) :\n",
        "  globals()[process_name[i]]=one.loc[one['process'] == f'{process[i]}',:]\n",
        "\n",
        "no_1_process_1.to_csv(\"1호기_프로세스1.csv\")\n",
        "no_1_process_2.to_csv(\"1호기_프로세스2.csv\")"
      ],
      "metadata": {
        "id": "P48jQCg_Y_8j"
      },
      "execution_count": 77,
      "outputs": []
    },
    {
      "cell_type": "code",
      "source": [
        "two=two.drop(columns = [\"Unnamed: 0\",'전류상한','전류하한','전압상한','전압하한', '가스상한','가스하한','용접시간상한','용접시간하한','가접시간','원점','비드','모델','호기'])\n",
        "two=two.rename(columns = {\"공정명\":\"process\",\"생산량\":\"supply\",\"날짜\" : \"date\",\"시간\":\"time\",'모델명':'model_name','전류.A.':'A','전압.V.':'V','가스.l.min.' : 'gas', '용접시간.sec.' : 'sec', '판단' : 'decision', '팁누적개수' : 'tip_cum'})\n",
        "process=two['process'].unique()\n",
        "process_name = ['no_2_process_2','no_2_process_11', 'no_2_process_3']\n",
        "for i in range(len(process)) :\n",
        "  globals()[process_name[i]]=two.loc[two['process'] == f'{process[i]}',:]\n",
        "\n",
        "no_2_process_2.to_csv(\"2호기_프로세스2.csv\")\n",
        "no_2_process_11.to_csv(\"2호기_프로세스11.csv\")\n",
        "no_2_process_3.to_csv(\"2호기_프로세스3.csv\")"
      ],
      "metadata": {
        "id": "KY3VG6zYTltl"
      },
      "execution_count": 78,
      "outputs": []
    }
  ]
}