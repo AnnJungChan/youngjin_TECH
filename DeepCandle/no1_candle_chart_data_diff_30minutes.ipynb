{
  "nbformat": 4,
  "nbformat_minor": 0,
  "metadata": {
    "colab": {
      "name": "no1_candle_chart_data_diff_30minutes.ipynb",
      "provenance": [],
      "collapsed_sections": [],
      "authorship_tag": "ABX9TyP4Y4gAhCPhNU4JwOa9jT4/",
      "include_colab_link": true
    },
    "kernelspec": {
      "name": "python3",
      "display_name": "Python 3"
    },
    "language_info": {
      "name": "python"
    }
  },
  "cells": [
    {
      "cell_type": "markdown",
      "metadata": {
        "id": "view-in-github",
        "colab_type": "text"
      },
      "source": [
        "<a href=\"https://colab.research.google.com/github/AnnJungChan/youngjin_TECH/blob/main/DeepCandle/no1_candle_chart_data_diff_30minutes.ipynb\" target=\"_parent\"><img src=\"https://colab.research.google.com/assets/colab-badge.svg\" alt=\"Open In Colab\"/></a>"
      ]
    },
    {
      "cell_type": "markdown",
      "source": [
        "# 패키지로딩"
      ],
      "metadata": {
        "id": "Zavs5ULEJ-vX"
      }
    },
    {
      "cell_type": "code",
      "execution_count": 1,
      "metadata": {
        "colab": {
          "base_uri": "https://localhost:8080/"
        },
        "id": "Vs-VIzGGCp75",
        "outputId": "7de25720-5fef-44f4-eda1-8d828c4b4138"
      },
      "outputs": [
        {
          "output_type": "stream",
          "name": "stdout",
          "text": [
            "Mounted at /content/gdrive\n"
          ]
        }
      ],
      "source": [
        "from google.colab import drive\n",
        "drive.mount('/content/gdrive')\n",
        "import pandas as pd\n",
        "import numpy as np\n",
        "from sklearn.decomposition import PCA \n",
        "from sklearn.preprocessing import MinMaxScaler"
      ]
    },
    {
      "cell_type": "markdown",
      "source": [
        "# 데이터 로딩\n",
        "\n",
        "- 1호기 대상으로 실행한다.\n",
        "- 현재 1호기 데이터는 PCA를 진행한 후, 차분이 된 데이터이다."
      ],
      "metadata": {
        "id": "M--4hl7NKBUO"
      }
    },
    {
      "cell_type": "code",
      "source": [
        "data=pd.read_csv(\"/content/gdrive/MyDrive/용접데이터/diff_data.csv\")\n",
        "data.drop(columns = ['Unnamed: 0'],inplace = True)\n",
        "data"
      ],
      "metadata": {
        "id": "725u782mDaqb",
        "outputId": "a9a31047-84af-4be2-ccfb-c7adb6bfaf93",
        "colab": {
          "base_uri": "https://localhost:8080/",
          "height": 423
        }
      },
      "execution_count": 2,
      "outputs": [
        {
          "output_type": "execute_result",
          "data": {
            "text/plain": [
              "              date      time     diff1\n",
              "0       2021-01-04  08:40:09       NaN\n",
              "1       2021-01-04  08:40:29 -0.000855\n",
              "2       2021-01-04  08:40:44 -0.000295\n",
              "3       2021-01-04  08:40:59 -0.194407\n",
              "4       2021-01-04  08:41:15  0.197794\n",
              "...            ...       ...       ...\n",
              "302964  2021-10-28  17:50:20 -0.001370\n",
              "302965  2021-10-28  17:50:34  0.001517\n",
              "302966  2021-10-28  17:50:49  0.000589\n",
              "302967  2021-10-28  17:51:04  0.098559\n",
              "302968  2021-10-28  17:51:19 -0.061833\n",
              "\n",
              "[302969 rows x 3 columns]"
            ],
            "text/html": [
              "\n",
              "  <div id=\"df-e3600530-a52a-41a5-ac77-9a6eca786ec1\">\n",
              "    <div class=\"colab-df-container\">\n",
              "      <div>\n",
              "<style scoped>\n",
              "    .dataframe tbody tr th:only-of-type {\n",
              "        vertical-align: middle;\n",
              "    }\n",
              "\n",
              "    .dataframe tbody tr th {\n",
              "        vertical-align: top;\n",
              "    }\n",
              "\n",
              "    .dataframe thead th {\n",
              "        text-align: right;\n",
              "    }\n",
              "</style>\n",
              "<table border=\"1\" class=\"dataframe\">\n",
              "  <thead>\n",
              "    <tr style=\"text-align: right;\">\n",
              "      <th></th>\n",
              "      <th>date</th>\n",
              "      <th>time</th>\n",
              "      <th>diff1</th>\n",
              "    </tr>\n",
              "  </thead>\n",
              "  <tbody>\n",
              "    <tr>\n",
              "      <th>0</th>\n",
              "      <td>2021-01-04</td>\n",
              "      <td>08:40:09</td>\n",
              "      <td>NaN</td>\n",
              "    </tr>\n",
              "    <tr>\n",
              "      <th>1</th>\n",
              "      <td>2021-01-04</td>\n",
              "      <td>08:40:29</td>\n",
              "      <td>-0.000855</td>\n",
              "    </tr>\n",
              "    <tr>\n",
              "      <th>2</th>\n",
              "      <td>2021-01-04</td>\n",
              "      <td>08:40:44</td>\n",
              "      <td>-0.000295</td>\n",
              "    </tr>\n",
              "    <tr>\n",
              "      <th>3</th>\n",
              "      <td>2021-01-04</td>\n",
              "      <td>08:40:59</td>\n",
              "      <td>-0.194407</td>\n",
              "    </tr>\n",
              "    <tr>\n",
              "      <th>4</th>\n",
              "      <td>2021-01-04</td>\n",
              "      <td>08:41:15</td>\n",
              "      <td>0.197794</td>\n",
              "    </tr>\n",
              "    <tr>\n",
              "      <th>...</th>\n",
              "      <td>...</td>\n",
              "      <td>...</td>\n",
              "      <td>...</td>\n",
              "    </tr>\n",
              "    <tr>\n",
              "      <th>302964</th>\n",
              "      <td>2021-10-28</td>\n",
              "      <td>17:50:20</td>\n",
              "      <td>-0.001370</td>\n",
              "    </tr>\n",
              "    <tr>\n",
              "      <th>302965</th>\n",
              "      <td>2021-10-28</td>\n",
              "      <td>17:50:34</td>\n",
              "      <td>0.001517</td>\n",
              "    </tr>\n",
              "    <tr>\n",
              "      <th>302966</th>\n",
              "      <td>2021-10-28</td>\n",
              "      <td>17:50:49</td>\n",
              "      <td>0.000589</td>\n",
              "    </tr>\n",
              "    <tr>\n",
              "      <th>302967</th>\n",
              "      <td>2021-10-28</td>\n",
              "      <td>17:51:04</td>\n",
              "      <td>0.098559</td>\n",
              "    </tr>\n",
              "    <tr>\n",
              "      <th>302968</th>\n",
              "      <td>2021-10-28</td>\n",
              "      <td>17:51:19</td>\n",
              "      <td>-0.061833</td>\n",
              "    </tr>\n",
              "  </tbody>\n",
              "</table>\n",
              "<p>302969 rows × 3 columns</p>\n",
              "</div>\n",
              "      <button class=\"colab-df-convert\" onclick=\"convertToInteractive('df-e3600530-a52a-41a5-ac77-9a6eca786ec1')\"\n",
              "              title=\"Convert this dataframe to an interactive table.\"\n",
              "              style=\"display:none;\">\n",
              "        \n",
              "  <svg xmlns=\"http://www.w3.org/2000/svg\" height=\"24px\"viewBox=\"0 0 24 24\"\n",
              "       width=\"24px\">\n",
              "    <path d=\"M0 0h24v24H0V0z\" fill=\"none\"/>\n",
              "    <path d=\"M18.56 5.44l.94 2.06.94-2.06 2.06-.94-2.06-.94-.94-2.06-.94 2.06-2.06.94zm-11 1L8.5 8.5l.94-2.06 2.06-.94-2.06-.94L8.5 2.5l-.94 2.06-2.06.94zm10 10l.94 2.06.94-2.06 2.06-.94-2.06-.94-.94-2.06-.94 2.06-2.06.94z\"/><path d=\"M17.41 7.96l-1.37-1.37c-.4-.4-.92-.59-1.43-.59-.52 0-1.04.2-1.43.59L10.3 9.45l-7.72 7.72c-.78.78-.78 2.05 0 2.83L4 21.41c.39.39.9.59 1.41.59.51 0 1.02-.2 1.41-.59l7.78-7.78 2.81-2.81c.8-.78.8-2.07 0-2.86zM5.41 20L4 18.59l7.72-7.72 1.47 1.35L5.41 20z\"/>\n",
              "  </svg>\n",
              "      </button>\n",
              "      \n",
              "  <style>\n",
              "    .colab-df-container {\n",
              "      display:flex;\n",
              "      flex-wrap:wrap;\n",
              "      gap: 12px;\n",
              "    }\n",
              "\n",
              "    .colab-df-convert {\n",
              "      background-color: #E8F0FE;\n",
              "      border: none;\n",
              "      border-radius: 50%;\n",
              "      cursor: pointer;\n",
              "      display: none;\n",
              "      fill: #1967D2;\n",
              "      height: 32px;\n",
              "      padding: 0 0 0 0;\n",
              "      width: 32px;\n",
              "    }\n",
              "\n",
              "    .colab-df-convert:hover {\n",
              "      background-color: #E2EBFA;\n",
              "      box-shadow: 0px 1px 2px rgba(60, 64, 67, 0.3), 0px 1px 3px 1px rgba(60, 64, 67, 0.15);\n",
              "      fill: #174EA6;\n",
              "    }\n",
              "\n",
              "    [theme=dark] .colab-df-convert {\n",
              "      background-color: #3B4455;\n",
              "      fill: #D2E3FC;\n",
              "    }\n",
              "\n",
              "    [theme=dark] .colab-df-convert:hover {\n",
              "      background-color: #434B5C;\n",
              "      box-shadow: 0px 1px 3px 1px rgba(0, 0, 0, 0.15);\n",
              "      filter: drop-shadow(0px 1px 2px rgba(0, 0, 0, 0.3));\n",
              "      fill: #FFFFFF;\n",
              "    }\n",
              "  </style>\n",
              "\n",
              "      <script>\n",
              "        const buttonEl =\n",
              "          document.querySelector('#df-e3600530-a52a-41a5-ac77-9a6eca786ec1 button.colab-df-convert');\n",
              "        buttonEl.style.display =\n",
              "          google.colab.kernel.accessAllowed ? 'block' : 'none';\n",
              "\n",
              "        async function convertToInteractive(key) {\n",
              "          const element = document.querySelector('#df-e3600530-a52a-41a5-ac77-9a6eca786ec1');\n",
              "          const dataTable =\n",
              "            await google.colab.kernel.invokeFunction('convertToInteractive',\n",
              "                                                     [key], {});\n",
              "          if (!dataTable) return;\n",
              "\n",
              "          const docLinkHtml = 'Like what you see? Visit the ' +\n",
              "            '<a target=\"_blank\" href=https://colab.research.google.com/notebooks/data_table.ipynb>data table notebook</a>'\n",
              "            + ' to learn more about interactive tables.';\n",
              "          element.innerHTML = '';\n",
              "          dataTable['output_type'] = 'display_data';\n",
              "          await google.colab.output.renderOutput(dataTable, element);\n",
              "          const docLink = document.createElement('div');\n",
              "          docLink.innerHTML = docLinkHtml;\n",
              "          element.appendChild(docLink);\n",
              "        }\n",
              "      </script>\n",
              "    </div>\n",
              "  </div>\n",
              "  "
            ]
          },
          "metadata": {},
          "execution_count": 2
        }
      ]
    },
    {
      "cell_type": "markdown",
      "source": [
        "# 캔들차트를 위한 데이터 전처리\n",
        "\n",
        "- 캔들차트를 그리기 위해서 1시간 간격으로 데이터를 전처리함."
      ],
      "metadata": {
        "id": "fOFgV9RKKJY7"
      }
    },
    {
      "cell_type": "markdown",
      "source": [
        "## 날짜 계산\n",
        "\n",
        "- 날짜를 정확히 계산하여, 1시간 간격으로 데이터를 자르고 전처리할 준비를 함."
      ],
      "metadata": {
        "id": "BJIGSXd9mzjt"
      }
    },
    {
      "cell_type": "code",
      "source": [
        "data=data[(data['date']>='2021-01-05')&(data['date']<='2021-10-28')]\n",
        "data"
      ],
      "metadata": {
        "id": "w6bbioR2K_gO",
        "outputId": "f20607fa-c8b8-470b-d58d-72166779a5bc",
        "colab": {
          "base_uri": "https://localhost:8080/",
          "height": 423
        }
      },
      "execution_count": 3,
      "outputs": [
        {
          "output_type": "execute_result",
          "data": {
            "text/plain": [
              "              date      time     diff1\n",
              "907     2021-01-05  08:39:25  0.093714\n",
              "908     2021-01-05  08:39:49  0.003976\n",
              "909     2021-01-05  08:40:04  0.003682\n",
              "910     2021-01-05  08:40:19 -0.001031\n",
              "911     2021-01-05  08:40:34 -0.000589\n",
              "...            ...       ...       ...\n",
              "302964  2021-10-28  17:50:20 -0.001370\n",
              "302965  2021-10-28  17:50:34  0.001517\n",
              "302966  2021-10-28  17:50:49  0.000589\n",
              "302967  2021-10-28  17:51:04  0.098559\n",
              "302968  2021-10-28  17:51:19 -0.061833\n",
              "\n",
              "[302062 rows x 3 columns]"
            ],
            "text/html": [
              "\n",
              "  <div id=\"df-69c74b20-82c1-4bb9-be99-081e6dd13185\">\n",
              "    <div class=\"colab-df-container\">\n",
              "      <div>\n",
              "<style scoped>\n",
              "    .dataframe tbody tr th:only-of-type {\n",
              "        vertical-align: middle;\n",
              "    }\n",
              "\n",
              "    .dataframe tbody tr th {\n",
              "        vertical-align: top;\n",
              "    }\n",
              "\n",
              "    .dataframe thead th {\n",
              "        text-align: right;\n",
              "    }\n",
              "</style>\n",
              "<table border=\"1\" class=\"dataframe\">\n",
              "  <thead>\n",
              "    <tr style=\"text-align: right;\">\n",
              "      <th></th>\n",
              "      <th>date</th>\n",
              "      <th>time</th>\n",
              "      <th>diff1</th>\n",
              "    </tr>\n",
              "  </thead>\n",
              "  <tbody>\n",
              "    <tr>\n",
              "      <th>907</th>\n",
              "      <td>2021-01-05</td>\n",
              "      <td>08:39:25</td>\n",
              "      <td>0.093714</td>\n",
              "    </tr>\n",
              "    <tr>\n",
              "      <th>908</th>\n",
              "      <td>2021-01-05</td>\n",
              "      <td>08:39:49</td>\n",
              "      <td>0.003976</td>\n",
              "    </tr>\n",
              "    <tr>\n",
              "      <th>909</th>\n",
              "      <td>2021-01-05</td>\n",
              "      <td>08:40:04</td>\n",
              "      <td>0.003682</td>\n",
              "    </tr>\n",
              "    <tr>\n",
              "      <th>910</th>\n",
              "      <td>2021-01-05</td>\n",
              "      <td>08:40:19</td>\n",
              "      <td>-0.001031</td>\n",
              "    </tr>\n",
              "    <tr>\n",
              "      <th>911</th>\n",
              "      <td>2021-01-05</td>\n",
              "      <td>08:40:34</td>\n",
              "      <td>-0.000589</td>\n",
              "    </tr>\n",
              "    <tr>\n",
              "      <th>...</th>\n",
              "      <td>...</td>\n",
              "      <td>...</td>\n",
              "      <td>...</td>\n",
              "    </tr>\n",
              "    <tr>\n",
              "      <th>302964</th>\n",
              "      <td>2021-10-28</td>\n",
              "      <td>17:50:20</td>\n",
              "      <td>-0.001370</td>\n",
              "    </tr>\n",
              "    <tr>\n",
              "      <th>302965</th>\n",
              "      <td>2021-10-28</td>\n",
              "      <td>17:50:34</td>\n",
              "      <td>0.001517</td>\n",
              "    </tr>\n",
              "    <tr>\n",
              "      <th>302966</th>\n",
              "      <td>2021-10-28</td>\n",
              "      <td>17:50:49</td>\n",
              "      <td>0.000589</td>\n",
              "    </tr>\n",
              "    <tr>\n",
              "      <th>302967</th>\n",
              "      <td>2021-10-28</td>\n",
              "      <td>17:51:04</td>\n",
              "      <td>0.098559</td>\n",
              "    </tr>\n",
              "    <tr>\n",
              "      <th>302968</th>\n",
              "      <td>2021-10-28</td>\n",
              "      <td>17:51:19</td>\n",
              "      <td>-0.061833</td>\n",
              "    </tr>\n",
              "  </tbody>\n",
              "</table>\n",
              "<p>302062 rows × 3 columns</p>\n",
              "</div>\n",
              "      <button class=\"colab-df-convert\" onclick=\"convertToInteractive('df-69c74b20-82c1-4bb9-be99-081e6dd13185')\"\n",
              "              title=\"Convert this dataframe to an interactive table.\"\n",
              "              style=\"display:none;\">\n",
              "        \n",
              "  <svg xmlns=\"http://www.w3.org/2000/svg\" height=\"24px\"viewBox=\"0 0 24 24\"\n",
              "       width=\"24px\">\n",
              "    <path d=\"M0 0h24v24H0V0z\" fill=\"none\"/>\n",
              "    <path d=\"M18.56 5.44l.94 2.06.94-2.06 2.06-.94-2.06-.94-.94-2.06-.94 2.06-2.06.94zm-11 1L8.5 8.5l.94-2.06 2.06-.94-2.06-.94L8.5 2.5l-.94 2.06-2.06.94zm10 10l.94 2.06.94-2.06 2.06-.94-2.06-.94-.94-2.06-.94 2.06-2.06.94z\"/><path d=\"M17.41 7.96l-1.37-1.37c-.4-.4-.92-.59-1.43-.59-.52 0-1.04.2-1.43.59L10.3 9.45l-7.72 7.72c-.78.78-.78 2.05 0 2.83L4 21.41c.39.39.9.59 1.41.59.51 0 1.02-.2 1.41-.59l7.78-7.78 2.81-2.81c.8-.78.8-2.07 0-2.86zM5.41 20L4 18.59l7.72-7.72 1.47 1.35L5.41 20z\"/>\n",
              "  </svg>\n",
              "      </button>\n",
              "      \n",
              "  <style>\n",
              "    .colab-df-container {\n",
              "      display:flex;\n",
              "      flex-wrap:wrap;\n",
              "      gap: 12px;\n",
              "    }\n",
              "\n",
              "    .colab-df-convert {\n",
              "      background-color: #E8F0FE;\n",
              "      border: none;\n",
              "      border-radius: 50%;\n",
              "      cursor: pointer;\n",
              "      display: none;\n",
              "      fill: #1967D2;\n",
              "      height: 32px;\n",
              "      padding: 0 0 0 0;\n",
              "      width: 32px;\n",
              "    }\n",
              "\n",
              "    .colab-df-convert:hover {\n",
              "      background-color: #E2EBFA;\n",
              "      box-shadow: 0px 1px 2px rgba(60, 64, 67, 0.3), 0px 1px 3px 1px rgba(60, 64, 67, 0.15);\n",
              "      fill: #174EA6;\n",
              "    }\n",
              "\n",
              "    [theme=dark] .colab-df-convert {\n",
              "      background-color: #3B4455;\n",
              "      fill: #D2E3FC;\n",
              "    }\n",
              "\n",
              "    [theme=dark] .colab-df-convert:hover {\n",
              "      background-color: #434B5C;\n",
              "      box-shadow: 0px 1px 3px 1px rgba(0, 0, 0, 0.15);\n",
              "      filter: drop-shadow(0px 1px 2px rgba(0, 0, 0, 0.3));\n",
              "      fill: #FFFFFF;\n",
              "    }\n",
              "  </style>\n",
              "\n",
              "      <script>\n",
              "        const buttonEl =\n",
              "          document.querySelector('#df-69c74b20-82c1-4bb9-be99-081e6dd13185 button.colab-df-convert');\n",
              "        buttonEl.style.display =\n",
              "          google.colab.kernel.accessAllowed ? 'block' : 'none';\n",
              "\n",
              "        async function convertToInteractive(key) {\n",
              "          const element = document.querySelector('#df-69c74b20-82c1-4bb9-be99-081e6dd13185');\n",
              "          const dataTable =\n",
              "            await google.colab.kernel.invokeFunction('convertToInteractive',\n",
              "                                                     [key], {});\n",
              "          if (!dataTable) return;\n",
              "\n",
              "          const docLinkHtml = 'Like what you see? Visit the ' +\n",
              "            '<a target=\"_blank\" href=https://colab.research.google.com/notebooks/data_table.ipynb>data table notebook</a>'\n",
              "            + ' to learn more about interactive tables.';\n",
              "          element.innerHTML = '';\n",
              "          dataTable['output_type'] = 'display_data';\n",
              "          await google.colab.output.renderOutput(dataTable, element);\n",
              "          const docLink = document.createElement('div');\n",
              "          docLink.innerHTML = docLinkHtml;\n",
              "          element.appendChild(docLink);\n",
              "        }\n",
              "      </script>\n",
              "    </div>\n",
              "  </div>\n",
              "  "
            ]
          },
          "metadata": {},
          "execution_count": 3
        }
      ]
    },
    {
      "cell_type": "code",
      "source": [
        "print('최소날짜 : ', data['date'].min())\n",
        "print('최대날짜 : ', data['date'].max())\n",
        "print('최소시간 : ' , data['time'].min())\n",
        "print('최대시간 : ' , data['time'].max())"
      ],
      "metadata": {
        "colab": {
          "base_uri": "https://localhost:8080/"
        },
        "id": "-p-w0fr_PUFu",
        "outputId": "604e1873-63e5-4292-f908-cded44212756"
      },
      "execution_count": 4,
      "outputs": [
        {
          "output_type": "stream",
          "name": "stdout",
          "text": [
            "최소날짜 :  2021-01-05\n",
            "최대날짜 :  2021-10-28\n",
            "최소시간 :  07:48:35\n",
            "최대시간 :  20:55:37\n"
          ]
        }
      ]
    },
    {
      "cell_type": "code",
      "source": [
        "import datetime\n",
        "import time\n",
        "\n",
        "time = datetime.datetime(2021,1,5,8,30,0)\n",
        "print(\"날짜 차이 : \" ,datetime.datetime(2021,1,5) - datetime.datetime(2021,10,28))\n",
        "\n",
        "days = []\n",
        "days.append(time)\n",
        "for i in range(296) : \n",
        "  days.append(days[i] + datetime.timedelta(days = 1))"
      ],
      "metadata": {
        "id": "UAhvmK-cPoGe"
      },
      "execution_count": null,
      "outputs": []
    },
    {
      "cell_type": "code",
      "source": [
        "start_days = days\n",
        "end_days = []\n",
        "for i in range(len(days)) :\n",
        "  end_days.append(days[i] + datetime.timedelta(hours = 14))"
      ],
      "metadata": {
        "id": "Vq6-50IUSV8W"
      },
      "execution_count": null,
      "outputs": []
    },
    {
      "cell_type": "code",
      "source": [
        "time_min = []\n",
        "time_diff = np.arange(0,900,30,dtype = 'float')\n",
        "for j in range(len(start_days)) :\n",
        "  for i in range(len(time_diff)) :\n",
        "    time_min.append(start_days[j] + datetime.timedelta(minutes= time_diff[i]))"
      ],
      "metadata": {
        "id": "827ch4X3XxkF"
      },
      "execution_count": 41,
      "outputs": []
    },
    {
      "cell_type": "markdown",
      "source": [
        "시간은 30분 단위로 쪼개서 만들었음"
      ],
      "metadata": {
        "id": "SYGJXlRDl_U1"
      }
    },
    {
      "cell_type": "code",
      "source": [
        "time_str = []\n",
        "for i in range(len(time_min)) :\n",
        "  time_str.append(time_min[i].strftime('%Y-%m-%d %H:%M:%S'))"
      ],
      "metadata": {
        "id": "Z8HHtIp1Y-Yv"
      },
      "execution_count": null,
      "outputs": []
    },
    {
      "cell_type": "markdown",
      "source": [
        "time_str이 시간 축이 되어 left로 데이터를 붙이는 역할을 하고, 값이 비었다면 time_str값을 제거시켜주면서 진행할 것이다."
      ],
      "metadata": {
        "id": "SzJ665xAnO0M"
      }
    },
    {
      "cell_type": "markdown",
      "source": [
        "## DIFF1에서 진행"
      ],
      "metadata": {
        "id": "5H75TbcYmvXg"
      }
    },
    {
      "cell_type": "code",
      "source": [
        "data['date_time'] = data['date'] + \" \" + data['time']"
      ],
      "metadata": {
        "colab": {
          "base_uri": "https://localhost:8080/",
          "height": 423
        },
        "id": "lHrSrWISp49E",
        "outputId": "d839b1c3-2fea-4277-8766-6601e5cc616c"
      },
      "execution_count": 48,
      "outputs": [
        {
          "output_type": "execute_result",
          "data": {
            "text/plain": [
              "              date      time     diff1            date_time\n",
              "907     2021-01-05  08:39:25  0.093714  2021-01-05 08:39:25\n",
              "908     2021-01-05  08:39:49  0.003976  2021-01-05 08:39:49\n",
              "909     2021-01-05  08:40:04  0.003682  2021-01-05 08:40:04\n",
              "910     2021-01-05  08:40:19 -0.001031  2021-01-05 08:40:19\n",
              "911     2021-01-05  08:40:34 -0.000589  2021-01-05 08:40:34\n",
              "...            ...       ...       ...                  ...\n",
              "302964  2021-10-28  17:50:20 -0.001370  2021-10-28 17:50:20\n",
              "302965  2021-10-28  17:50:34  0.001517  2021-10-28 17:50:34\n",
              "302966  2021-10-28  17:50:49  0.000589  2021-10-28 17:50:49\n",
              "302967  2021-10-28  17:51:04  0.098559  2021-10-28 17:51:04\n",
              "302968  2021-10-28  17:51:19 -0.061833  2021-10-28 17:51:19\n",
              "\n",
              "[302062 rows x 4 columns]"
            ],
            "text/html": [
              "\n",
              "  <div id=\"df-366da603-f066-4499-83ce-0122fd7985e1\">\n",
              "    <div class=\"colab-df-container\">\n",
              "      <div>\n",
              "<style scoped>\n",
              "    .dataframe tbody tr th:only-of-type {\n",
              "        vertical-align: middle;\n",
              "    }\n",
              "\n",
              "    .dataframe tbody tr th {\n",
              "        vertical-align: top;\n",
              "    }\n",
              "\n",
              "    .dataframe thead th {\n",
              "        text-align: right;\n",
              "    }\n",
              "</style>\n",
              "<table border=\"1\" class=\"dataframe\">\n",
              "  <thead>\n",
              "    <tr style=\"text-align: right;\">\n",
              "      <th></th>\n",
              "      <th>date</th>\n",
              "      <th>time</th>\n",
              "      <th>diff1</th>\n",
              "      <th>date_time</th>\n",
              "    </tr>\n",
              "  </thead>\n",
              "  <tbody>\n",
              "    <tr>\n",
              "      <th>907</th>\n",
              "      <td>2021-01-05</td>\n",
              "      <td>08:39:25</td>\n",
              "      <td>0.093714</td>\n",
              "      <td>2021-01-05 08:39:25</td>\n",
              "    </tr>\n",
              "    <tr>\n",
              "      <th>908</th>\n",
              "      <td>2021-01-05</td>\n",
              "      <td>08:39:49</td>\n",
              "      <td>0.003976</td>\n",
              "      <td>2021-01-05 08:39:49</td>\n",
              "    </tr>\n",
              "    <tr>\n",
              "      <th>909</th>\n",
              "      <td>2021-01-05</td>\n",
              "      <td>08:40:04</td>\n",
              "      <td>0.003682</td>\n",
              "      <td>2021-01-05 08:40:04</td>\n",
              "    </tr>\n",
              "    <tr>\n",
              "      <th>910</th>\n",
              "      <td>2021-01-05</td>\n",
              "      <td>08:40:19</td>\n",
              "      <td>-0.001031</td>\n",
              "      <td>2021-01-05 08:40:19</td>\n",
              "    </tr>\n",
              "    <tr>\n",
              "      <th>911</th>\n",
              "      <td>2021-01-05</td>\n",
              "      <td>08:40:34</td>\n",
              "      <td>-0.000589</td>\n",
              "      <td>2021-01-05 08:40:34</td>\n",
              "    </tr>\n",
              "    <tr>\n",
              "      <th>...</th>\n",
              "      <td>...</td>\n",
              "      <td>...</td>\n",
              "      <td>...</td>\n",
              "      <td>...</td>\n",
              "    </tr>\n",
              "    <tr>\n",
              "      <th>302964</th>\n",
              "      <td>2021-10-28</td>\n",
              "      <td>17:50:20</td>\n",
              "      <td>-0.001370</td>\n",
              "      <td>2021-10-28 17:50:20</td>\n",
              "    </tr>\n",
              "    <tr>\n",
              "      <th>302965</th>\n",
              "      <td>2021-10-28</td>\n",
              "      <td>17:50:34</td>\n",
              "      <td>0.001517</td>\n",
              "      <td>2021-10-28 17:50:34</td>\n",
              "    </tr>\n",
              "    <tr>\n",
              "      <th>302966</th>\n",
              "      <td>2021-10-28</td>\n",
              "      <td>17:50:49</td>\n",
              "      <td>0.000589</td>\n",
              "      <td>2021-10-28 17:50:49</td>\n",
              "    </tr>\n",
              "    <tr>\n",
              "      <th>302967</th>\n",
              "      <td>2021-10-28</td>\n",
              "      <td>17:51:04</td>\n",
              "      <td>0.098559</td>\n",
              "      <td>2021-10-28 17:51:04</td>\n",
              "    </tr>\n",
              "    <tr>\n",
              "      <th>302968</th>\n",
              "      <td>2021-10-28</td>\n",
              "      <td>17:51:19</td>\n",
              "      <td>-0.061833</td>\n",
              "      <td>2021-10-28 17:51:19</td>\n",
              "    </tr>\n",
              "  </tbody>\n",
              "</table>\n",
              "<p>302062 rows × 4 columns</p>\n",
              "</div>\n",
              "      <button class=\"colab-df-convert\" onclick=\"convertToInteractive('df-366da603-f066-4499-83ce-0122fd7985e1')\"\n",
              "              title=\"Convert this dataframe to an interactive table.\"\n",
              "              style=\"display:none;\">\n",
              "        \n",
              "  <svg xmlns=\"http://www.w3.org/2000/svg\" height=\"24px\"viewBox=\"0 0 24 24\"\n",
              "       width=\"24px\">\n",
              "    <path d=\"M0 0h24v24H0V0z\" fill=\"none\"/>\n",
              "    <path d=\"M18.56 5.44l.94 2.06.94-2.06 2.06-.94-2.06-.94-.94-2.06-.94 2.06-2.06.94zm-11 1L8.5 8.5l.94-2.06 2.06-.94-2.06-.94L8.5 2.5l-.94 2.06-2.06.94zm10 10l.94 2.06.94-2.06 2.06-.94-2.06-.94-.94-2.06-.94 2.06-2.06.94z\"/><path d=\"M17.41 7.96l-1.37-1.37c-.4-.4-.92-.59-1.43-.59-.52 0-1.04.2-1.43.59L10.3 9.45l-7.72 7.72c-.78.78-.78 2.05 0 2.83L4 21.41c.39.39.9.59 1.41.59.51 0 1.02-.2 1.41-.59l7.78-7.78 2.81-2.81c.8-.78.8-2.07 0-2.86zM5.41 20L4 18.59l7.72-7.72 1.47 1.35L5.41 20z\"/>\n",
              "  </svg>\n",
              "      </button>\n",
              "      \n",
              "  <style>\n",
              "    .colab-df-container {\n",
              "      display:flex;\n",
              "      flex-wrap:wrap;\n",
              "      gap: 12px;\n",
              "    }\n",
              "\n",
              "    .colab-df-convert {\n",
              "      background-color: #E8F0FE;\n",
              "      border: none;\n",
              "      border-radius: 50%;\n",
              "      cursor: pointer;\n",
              "      display: none;\n",
              "      fill: #1967D2;\n",
              "      height: 32px;\n",
              "      padding: 0 0 0 0;\n",
              "      width: 32px;\n",
              "    }\n",
              "\n",
              "    .colab-df-convert:hover {\n",
              "      background-color: #E2EBFA;\n",
              "      box-shadow: 0px 1px 2px rgba(60, 64, 67, 0.3), 0px 1px 3px 1px rgba(60, 64, 67, 0.15);\n",
              "      fill: #174EA6;\n",
              "    }\n",
              "\n",
              "    [theme=dark] .colab-df-convert {\n",
              "      background-color: #3B4455;\n",
              "      fill: #D2E3FC;\n",
              "    }\n",
              "\n",
              "    [theme=dark] .colab-df-convert:hover {\n",
              "      background-color: #434B5C;\n",
              "      box-shadow: 0px 1px 3px 1px rgba(0, 0, 0, 0.15);\n",
              "      filter: drop-shadow(0px 1px 2px rgba(0, 0, 0, 0.3));\n",
              "      fill: #FFFFFF;\n",
              "    }\n",
              "  </style>\n",
              "\n",
              "      <script>\n",
              "        const buttonEl =\n",
              "          document.querySelector('#df-366da603-f066-4499-83ce-0122fd7985e1 button.colab-df-convert');\n",
              "        buttonEl.style.display =\n",
              "          google.colab.kernel.accessAllowed ? 'block' : 'none';\n",
              "\n",
              "        async function convertToInteractive(key) {\n",
              "          const element = document.querySelector('#df-366da603-f066-4499-83ce-0122fd7985e1');\n",
              "          const dataTable =\n",
              "            await google.colab.kernel.invokeFunction('convertToInteractive',\n",
              "                                                     [key], {});\n",
              "          if (!dataTable) return;\n",
              "\n",
              "          const docLinkHtml = 'Like what you see? Visit the ' +\n",
              "            '<a target=\"_blank\" href=https://colab.research.google.com/notebooks/data_table.ipynb>data table notebook</a>'\n",
              "            + ' to learn more about interactive tables.';\n",
              "          element.innerHTML = '';\n",
              "          dataTable['output_type'] = 'display_data';\n",
              "          await google.colab.output.renderOutput(dataTable, element);\n",
              "          const docLink = document.createElement('div');\n",
              "          docLink.innerHTML = docLinkHtml;\n",
              "          element.appendChild(docLink);\n",
              "        }\n",
              "      </script>\n",
              "    </div>\n",
              "  </div>\n",
              "  "
            ]
          },
          "metadata": {},
          "execution_count": 48
        }
      ]
    },
    {
      "cell_type": "code",
      "source": [
        "top = []\n",
        "bottom = []\n",
        "min = []\n",
        "max = []\n",
        "volume = []\n",
        "\n",
        "\n",
        "time = []\n",
        "\n",
        "for i in range(len(time_str)) :\n",
        "  temp=data.loc[(time_str[i]<=data['date_time']) & (time_str[i+1]>=data['date_time']),\"diff1\"]\n",
        "  if len(temp) != 0 :\n",
        "    time.append(time_str[i])\n",
        "\n",
        "\n",
        "for i in range(len(time)) :\n",
        "  temp=data.loc[(time[i]<=data['date_time']) & (time[i+1]>=data['date_time']),\"diff1\"]\n",
        "  top.append(temp.head(1).values)\n",
        "  bottom.append(temp.tail(1).values)\n",
        "  min.append(temp.min())\n",
        "  max.append(temp.max())\n",
        "  volume.append(len(temp))"
      ],
      "metadata": {
        "id": "ukjRHtSAZe9c"
      },
      "execution_count": null,
      "outputs": []
    },
    {
      "cell_type": "code",
      "source": [
        "print(\"time 길이 : \", len(time))\n",
        "print(\"top 길이 : \", len(top))\n",
        "print(\"bottom 길이 : \", len(bottom))\n",
        "print(\"min 길이 : \", len(min))\n",
        "print(\"max 길이 : \", len(max))\n",
        "print(\"volume 길이 : \", len(volume))"
      ],
      "metadata": {
        "colab": {
          "base_uri": "https://localhost:8080/"
        },
        "id": "bpKQXtxPiW-n",
        "outputId": "e02588a1-1def-46d7-d77a-e75219513078"
      },
      "execution_count": 52,
      "outputs": [
        {
          "output_type": "stream",
          "name": "stdout",
          "text": [
            "time 길이 :  3789\n",
            "top 길이 :  3788\n",
            "bottom 길이 :  3788\n",
            "min 길이 :  3788\n",
            "max 길이 :  3788\n",
            "volume 길이 :  3788\n"
          ]
        }
      ]
    },
    {
      "cell_type": "code",
      "source": [
        "time = time[:3788]\n",
        "data=pd.DataFrame({'time' : time, 'top' : top, 'bottom' : bottom, \"min\" : min, \"max\" : max, \"volume\" : volume })"
      ],
      "metadata": {
        "id": "fDxbnQfpjpSd"
      },
      "execution_count": 53,
      "outputs": []
    },
    {
      "cell_type": "code",
      "source": [
        "data['top']=data['top'].astype(float)\n",
        "data['bottom']=data['bottom'].astype(float)\n",
        "data['min']=data['min'].astype(float)\n",
        "data['max']=data['max'].astype(float)\n",
        "data['volume']=data['volume'].astype(int)\n",
        "data['time'] = data['time'].astype('datetime64')\n",
        "data.to_csv(\"/content/gdrive/MyDrive/용접데이터/캔들차트분석/1호기 프로세스1/30min_diff1.csv\")"
      ],
      "metadata": {
        "id": "wHplaG3_kRJy"
      },
      "execution_count": 54,
      "outputs": []
    }
  ]
}