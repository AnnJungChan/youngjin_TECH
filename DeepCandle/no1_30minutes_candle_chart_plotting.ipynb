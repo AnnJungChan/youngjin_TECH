{
  "nbformat": 4,
  "nbformat_minor": 0,
  "metadata": {
    "colab": {
      "name": "no1_30minutes_candle_chart_plotting.ipynb의 사본",
      "provenance": [],
      "authorship_tag": "ABX9TyOIeuisLk7jQJ60f7CwNV2E",
      "include_colab_link": true
    },
    "kernelspec": {
      "name": "python3",
      "display_name": "Python 3"
    },
    "language_info": {
      "name": "python"
    }
  },
  "cells": [
    {
      "cell_type": "markdown",
      "metadata": {
        "id": "view-in-github",
        "colab_type": "text"
      },
      "source": [
        "<a href=\"https://colab.research.google.com/github/AnnJungChan/youngjin_TECH/blob/main/DeepCandle/no1_30minutes_candle_chart_plotting_ipynb%EC%9D%98_%EC%82%AC%EB%B3%B8.ipynb\" target=\"_parent\"><img src=\"https://colab.research.google.com/assets/colab-badge.svg\" alt=\"Open In Colab\"/></a>"
      ]
    },
    {
      "cell_type": "markdown",
      "source": [
        "# 패키지 로딩"
      ],
      "metadata": {
        "id": "-0IwxT43rH3O"
      }
    },
    {
      "cell_type": "code",
      "execution_count": 11,
      "metadata": {
        "id": "bjLZN2ycrDA5",
        "colab": {
          "base_uri": "https://localhost:8080/"
        },
        "outputId": "ffc01440-107c-4872-8b5e-8e827a736d3b"
      },
      "outputs": [
        {
          "output_type": "stream",
          "name": "stdout",
          "text": [
            "Drive already mounted at /content/gdrive/; to attempt to forcibly remount, call drive.mount(\"/content/gdrive/\", force_remount=True).\n",
            "Requirement already satisfied: mpl_finance in /usr/local/lib/python3.7/dist-packages (0.10.1)\n",
            "Requirement already satisfied: matplotlib in /usr/local/lib/python3.7/dist-packages (from mpl_finance) (3.2.2)\n",
            "Requirement already satisfied: cycler>=0.10 in /usr/local/lib/python3.7/dist-packages (from matplotlib->mpl_finance) (0.11.0)\n",
            "Requirement already satisfied: numpy>=1.11 in /usr/local/lib/python3.7/dist-packages (from matplotlib->mpl_finance) (1.21.5)\n",
            "Requirement already satisfied: kiwisolver>=1.0.1 in /usr/local/lib/python3.7/dist-packages (from matplotlib->mpl_finance) (1.4.2)\n",
            "Requirement already satisfied: python-dateutil>=2.1 in /usr/local/lib/python3.7/dist-packages (from matplotlib->mpl_finance) (2.8.2)\n",
            "Requirement already satisfied: pyparsing!=2.0.4,!=2.1.2,!=2.1.6,>=2.0.1 in /usr/local/lib/python3.7/dist-packages (from matplotlib->mpl_finance) (3.0.8)\n",
            "Requirement already satisfied: typing-extensions in /usr/local/lib/python3.7/dist-packages (from kiwisolver>=1.0.1->matplotlib->mpl_finance) (4.1.1)\n",
            "Requirement already satisfied: six>=1.5 in /usr/local/lib/python3.7/dist-packages (from python-dateutil>=2.1->matplotlib->mpl_finance) (1.15.0)\n"
          ]
        }
      ],
      "source": [
        "import pandas as pd\n",
        "import numpy as np\n",
        "from google.colab import drive\n",
        "drive.mount('/content/gdrive/')\n",
        "!pip install mpl_finance\n",
        "from mpl_finance import candlestick2_ohlc\n",
        "import matplotlib.ticker as ticker\n",
        "import matplotlib.pyplot as plt\n",
        "import pandas as pd\n",
        "from pandas_datareader import data  \n",
        "from datetime import datetime\n",
        "from IPython.display import display"
      ]
    },
    {
      "cell_type": "markdown",
      "source": [
        "# 데이터 로딩"
      ],
      "metadata": {
        "id": "CGv0v0TSsi9h"
      }
    },
    {
      "cell_type": "code",
      "source": [
        "data=pd.read_csv('/content/gdrive/MyDrive/용접데이터/캔들차트분석/1호기 프로세스1/30min_diff1.csv')\n",
        "data.drop(columns = ['Unnamed: 0'],inplace = True)"
      ],
      "metadata": {
        "id": "jSXDd_Zoso1F"
      },
      "execution_count": 18,
      "outputs": []
    },
    {
      "cell_type": "markdown",
      "source": [
        "# 캔들스틱 플랏 만들기"
      ],
      "metadata": {
        "id": "eDEkGfEz7IIi"
      }
    },
    {
      "cell_type": "code",
      "source": [
        "data['date']=data['time'].str.split(\" \", expand = True)[0]"
      ],
      "metadata": {
        "id": "esg20wWN7KbN"
      },
      "execution_count": 19,
      "outputs": []
    },
    {
      "cell_type": "markdown",
      "source": [
        "## volume을 제외하고 이미지를 만듦"
      ],
      "metadata": {
        "id": "yJFqNq9lAUz2"
      }
    },
    {
      "cell_type": "code",
      "source": [
        "date_list=data['date'].unique()\n",
        "date_list1=date_list[0:int(len(date_list)/2)]\n",
        "date_list2=date_list[int(len(date_list)/2):]"
      ],
      "metadata": {
        "id": "0_RTMaHaEvhl"
      },
      "execution_count": 20,
      "outputs": []
    },
    {
      "cell_type": "code",
      "source": [
        "pd.DataFrame(date_list).to_csv(\"data_list.csv\")"
      ],
      "metadata": {
        "id": "VP_gB4xY4xBE"
      },
      "execution_count": 24,
      "outputs": []
    },
    {
      "cell_type": "markdown",
      "source": [
        "데이터가 존재하는 날짜들을 csv파일로 저장함. 추후 라벨과의 교차검증에 활용"
      ],
      "metadata": {
        "id": "c1ASVpMe6urX"
      }
    },
    {
      "cell_type": "code",
      "source": [
        "for i in range(len(date_list1)) :\n",
        "  sample1 = data.loc[data['date'] == date_list1[i],:]\n",
        "  \n",
        "  fig, ax = plt.subplots(figsize = (50,50))\n",
        "  plt.axis('off')\n",
        "  candlestick2_ohlc(ax, sample1['top'],sample1['max'],sample1['min'],sample1['bottom'],width = 0.5, colorup = 'r',colordown = 'g')\n",
        "  ax.set_facecolor('black')\n",
        "  fig.savefig('/content/gdrive/MyDrive/용접데이터/캔들차트분석/1호기/캔들플랏/'+f'{date_list1[i]}'+'.png')"
      ],
      "metadata": {
        "id": "UFzgmViz78TL"
      },
      "execution_count": null,
      "outputs": []
    },
    {
      "cell_type": "code",
      "source": [
        "for i in range(len(date_list2)) :\n",
        "  sample1 = data.loc[data['date'] == date_list2[i],:]\n",
        "  \n",
        "  fig, ax = plt.subplots(figsize = (50,50))\n",
        "  plt.axis('off')\n",
        "  candlestick2_ohlc(ax, sample1['top'],sample1['max'],sample1['min'],sample1['bottom'],width = 0.5, colorup = 'r',colordown = 'g')\n",
        "  ax.set_facecolor('black')\n",
        "  fig.savefig('/content/gdrive/MyDrive/용접데이터/캔들차트분석/1호기/캔들플랏/'+f'{date_list2[i]}'+'.png')"
      ],
      "metadata": {
        "id": "rXXbuwZZCzG3"
      },
      "execution_count": null,
      "outputs": []
    }
  ]
}
