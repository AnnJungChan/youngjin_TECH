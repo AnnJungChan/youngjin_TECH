{
  "nbformat": 4,
  "nbformat_minor": 0,
  "metadata": {
    "colab": {
      "name": "candle_chart_image_reshaping.ipynb",
      "provenance": [],
      "authorship_tag": "ABX9TyMHvY7Hy1OgOVOK7ut5rNfA",
      "include_colab_link": true
    },
    "kernelspec": {
      "name": "python3",
      "display_name": "Python 3"
    },
    "language_info": {
      "name": "python"
    }
  },
  "cells": [
    {
      "cell_type": "markdown",
      "metadata": {
        "id": "view-in-github",
        "colab_type": "text"
      },
      "source": [
        "<a href=\"https://colab.research.google.com/github/AnnJungChan/youngjin_TECH/blob/main/candle_chart_image_reshaping.ipynb\" target=\"_parent\"><img src=\"https://colab.research.google.com/assets/colab-badge.svg\" alt=\"Open In Colab\"/></a>"
      ]
    },
    {
      "cell_type": "markdown",
      "source": [
        "# 패키지 로딩"
      ],
      "metadata": {
        "id": "vvAYl0YwIF9p"
      }
    },
    {
      "cell_type": "code",
      "source": [
        "from google.colab import drive\n",
        "drive.mount('/content/gdrive')\n",
        "import pandas as pd\n",
        "import numpy as np\n",
        "import matplotlib.pyplot as plt"
      ],
      "metadata": {
        "id": "0Ya8gw__IHuJ",
        "colab": {
          "base_uri": "https://localhost:8080/"
        },
        "outputId": "abc35d5b-94fc-4818-96ac-d786dc04dbe7"
      },
      "execution_count": null,
      "outputs": [
        {
          "output_type": "stream",
          "name": "stdout",
          "text": [
            "Mounted at /content/gdrive\n"
          ]
        }
      ]
    },
    {
      "cell_type": "markdown",
      "source": [
        "# 이미지 리세이핑"
      ],
      "metadata": {
        "id": "AvWFkNLLUahA"
      }
    },
    {
      "cell_type": "code",
      "source": [
        "from PIL import Image\n",
        "import natsort\n",
        "import re\n",
        "import os"
      ],
      "metadata": {
        "id": "drKTWc3XUe8P"
      },
      "execution_count": null,
      "outputs": []
    },
    {
      "cell_type": "markdown",
      "source": [
        "- img_size : 리세이핑 이미지 크기 파악\n",
        "- os.listdir : 디렉토리에 있는 파일을 모두 끌고온다.\n",
        "- natsort.natsorted : 텍스트 파일을 오름차순으로 정렬해준다."
      ],
      "metadata": {
        "id": "v1TNPpqLUqtb"
      }
    },
    {
      "cell_type": "code",
      "source": [
        "img_size = (50,50)\n",
        "\n",
        "def resize_image(img_path) :\n",
        "  img_list = os.listdir(img_path)\n",
        "  img_list = natsort.natsorted(img_list)\n",
        "  for img_name in img_list : \n",
        "    print(f'{img_path}{img_name}')\n",
        "    image = Image.open(f'{img_path}{img_name}')\n",
        "    image = image.resize(img_size)\n",
        "    image.save(f'{img_path}{img_name}')\n",
        "\n",
        "resize_image('/content/gdrive/MyDrive/용접데이터/캔들차트분석/1호기 프로세스1/test/')\n",
        "resize_image('/content/gdrive/MyDrive/용접데이터/캔들차트분석/1호기 프로세스1/train/')\n",
        "resize_image('/content/gdrive/MyDrive/용접데이터/캔들차트분석/1호기 프로세스1/valid/')"
      ],
      "metadata": {
        "id": "1RS8pxBIUtoB"
      },
      "execution_count": null,
      "outputs": []
    },
    {
      "cell_type": "markdown",
      "source": [
        "# pkl 파일로 만들기\n",
        "\n",
        "- 모델링을 돌리는 구간\n",
        "- 앞의 전처리가 완료되었다면, 절대로 앞의 코드를 다시 돌리지 말것. 다시 리세이핑 됨"
      ],
      "metadata": {
        "id": "3sRRfzp3XWly"
      }
    },
    {
      "cell_type": "code",
      "source": [
        "from PIL import Image\n",
        "from numpy import genfromtxt\n",
        "import gzip\n",
        "import _pickle\n",
        "from glob import glob\n",
        "import numpy as np\n",
        "import pandas as pd\n",
        "import imageio"
      ],
      "metadata": {
        "id": "Kl-JkazrXdio"
      },
      "execution_count": null,
      "outputs": []
    },
    {
      "cell_type": "markdown",
      "source": [
        "- sorted(정렬할 데이터, key 파라미터) : key 파라미터를 길이로 했음\n",
        "- glob(경로) : *.png 형식의 파일을 모두 불러옴"
      ],
      "metadata": {
        "id": "-_Lt1eUuXlW3"
      }
    },
    {
      "cell_type": "markdown",
      "source": [
        "## Train"
      ],
      "metadata": {
        "id": "clGewlKUj7DD"
      }
    },
    {
      "cell_type": "code",
      "source": [
        "# 픽셀형태로 데이터 저장해서 x 값에 놓기\n",
        "dataset = []\n",
        "glob_file = \"/content/gdrive/MyDrive/용접데이터/캔들차트분석/1호기 프로세스1/(50,50),(7,2,1)/train_(50,50)/*.png\" # *png에 해당하는 값 모두 불러오기\n",
        "for file_name in sorted(glob(glob_file)) :\n",
        "  img = imageio.imread(file_name,pilmode = 'RGB')\n",
        "  pixels = img \n",
        "  # imgeio.imread : RGB까지 모든 데이터를 끌고와서 행렬 형태로 전환시킴\n",
        "  dataset.append(pixels) # 픽셀형태의 데이터를 가져오기\n",
        "\n",
        "# y값 불러와서 저장하기\n",
        "df = pd.read_csv('/content/gdrive/MyDrive/용접데이터/캔들차트분석/1호기 프로세스1/label/train.csv')\n",
        "\n",
        "# X, Y 선정\n",
        "train_X = np.array(dataset)\n",
        "train_Y = np.array(df['decision'])"
      ],
      "metadata": {
        "id": "wGQcKqj5gvZy"
      },
      "execution_count": null,
      "outputs": []
    },
    {
      "cell_type": "markdown",
      "source": [
        "## Test"
      ],
      "metadata": {
        "id": "UqpMMFZtj8Ik"
      }
    },
    {
      "cell_type": "code",
      "source": [
        "# 픽셀형태로 데이터 저장해서 x 값에 놓기\n",
        "dataset = []\n",
        "glob_file = \"/content/gdrive/MyDrive/용접데이터/캔들차트분석/1호기 프로세스1/(50,50),(7,2,1)/test_(50,50)/*.png\" # *png에 해당하는 값 모두 불러오기\n",
        "for file_name in sorted(glob(glob_file)) :\n",
        "  img = imageio.imread(file_name,pilmode = 'RGB')\n",
        "  pixels = img  \n",
        "  # imgeio.imread : RGB까지 모든 데이터를 끌고와서 행렬 형태로 전환시킴\n",
        "  dataset.append(pixels) # 픽셀형태의 데이터를 가져오기\n",
        "\n",
        "# y값 불러와서 저장하기\n",
        "df = pd.read_csv('/content/gdrive/MyDrive/용접데이터/캔들차트분석/1호기 프로세스1/label/test.csv')\n",
        "\n",
        "# X, Y 선정\n",
        "test_X = np.array(dataset)\n",
        "test_Y = np.array(df['decision'])"
      ],
      "metadata": {
        "id": "SQABDpRTj5u7"
      },
      "execution_count": null,
      "outputs": []
    },
    {
      "cell_type": "markdown",
      "source": [
        "## Valid"
      ],
      "metadata": {
        "id": "hJ3pDAI1j9QA"
      }
    },
    {
      "cell_type": "code",
      "source": [
        "# 픽셀형태로 데이터 저장해서 x 값에 놓기\n",
        "dataset = []\n",
        "glob_file = \"/content/gdrive/MyDrive/용접데이터/캔들차트분석/1호기 프로세스1/(50,50),(7,2,1)/valid_(50,50)/*.png\" # *png에 해당하는 값 모두 불러오기\n",
        "for file_name in sorted(glob(glob_file)) :\n",
        "  img = imageio.imread(file_name,pilmode = 'RGB')\n",
        "  pixels = img \n",
        "  # imgeio.imread : RGB까지 모든 데이터를 끌고와서 행렬 형태로 전환시킴\n",
        "  dataset.append(pixels) # 픽셀형태의 데이터를 가져오기\n",
        "\n",
        "# y값 불러와서 저장하기\n",
        "df = pd.read_csv('/content/gdrive/MyDrive/용접데이터/캔들차트분석/1호기 프로세스1/label/valid.csv')\n",
        "\n",
        "# X, Y 선정\n",
        "valid_X = np.array(dataset)\n",
        "valid_Y = np.array(df['decision'])"
      ],
      "metadata": {
        "id": "vQjKpqNoj5i4"
      },
      "execution_count": null,
      "outputs": []
    },
    {
      "cell_type": "markdown",
      "source": [
        "# 피클 형태로 저장하기"
      ],
      "metadata": {
        "id": "4AEa261kxjSh"
      }
    },
    {
      "cell_type": "code",
      "source": [
        "train_set = train_X, train_Y\n",
        "test_set = test_X, test_Y\n",
        "valid_set = valid_X, valid_Y\n",
        "\n",
        "dataset = [train_set,valid_set,test_set]\n",
        "\n",
        "f = gzip.open('data.pkl.gz','wb')\n",
        "_pickle.dump(dataset,f,protocol =2)\n",
        "f.close()"
      ],
      "metadata": {
        "id": "WlBj5l-RxlLG"
      },
      "execution_count": null,
      "outputs": []
    }
  ]
}
