{
  "nbformat": 4,
  "nbformat_minor": 0,
  "metadata": {
    "colab": {
      "name": "no1_candle_chart_data_diff_30minutes_split_maker.ipynb",
      "provenance": [],
      "collapsed_sections": [],
      "authorship_tag": "ABX9TyMu+ybT1ZK+1em+HqwsnOQh",
      "include_colab_link": true
    },
    "kernelspec": {
      "name": "python3",
      "display_name": "Python 3"
    },
    "language_info": {
      "name": "python"
    }
  },
  "cells": [
    {
      "cell_type": "markdown",
      "metadata": {
        "id": "view-in-github",
        "colab_type": "text"
      },
      "source": [
        "<a href=\"https://colab.research.google.com/github/AnnJungChan/youngjin_TECH/blob/main/DeepCandle/no1_candle_chart_data_diff_30minutes_split_maker.ipynb\" target=\"_parent\"><img src=\"https://colab.research.google.com/assets/colab-badge.svg\" alt=\"Open In Colab\"/></a>"
      ]
    },
    {
      "cell_type": "markdown",
      "source": [
        "# 패키지 로딩"
      ],
      "metadata": {
        "id": "9fm59o5GYdba"
      }
    },
    {
      "cell_type": "code",
      "execution_count": 1,
      "metadata": {
        "id": "SHmO_NGmYJfi",
        "colab": {
          "base_uri": "https://localhost:8080/"
        },
        "outputId": "1b4afa95-5085-4821-b6c6-f0b051e51dfe"
      },
      "outputs": [
        {
          "output_type": "stream",
          "name": "stdout",
          "text": [
            "Mounted at /content/gdrive/\n"
          ]
        }
      ],
      "source": [
        "from google.colab import drive\n",
        "drive.mount('/content/gdrive/')\n",
        "import pandas as pd\n",
        "import numpy as np"
      ]
    },
    {
      "cell_type": "markdown",
      "source": [
        "# 데이터 로딩"
      ],
      "metadata": {
        "id": "wuZYvJEOYgg1"
      }
    },
    {
      "cell_type": "markdown",
      "source": [
        "- 0이면 정상\n",
        "- 1이면 고장"
      ],
      "metadata": {
        "id": "cpFpe5m2hCu9"
      }
    },
    {
      "cell_type": "code",
      "source": [
        "label1 = pd.read_csv('/content/gdrive/MyDrive/용접데이터/일별데이터/일별 관측치 1호기_프로세스1.csv')\n",
        "label2 = pd.read_csv('/content/gdrive/MyDrive/용접데이터/일별데이터/일별 관측치 1호기_프로세스2.csv')\n",
        "label1 = label1[['date','실제불량갯수']]\n",
        "label2 = label2[['date','실제불량갯수']]\n",
        "label = pd.concat([label2,label1],axis = 0)\n",
        "label=label.reset_index()\n",
        "label.drop(columns = ['index'],inplace = True)\n",
        "for i in range(len(label)) :\n",
        "  if label['실제불량갯수'][i] == 0 :\n",
        "    label['실제불량갯수'][i] = 0\n",
        "  else :\n",
        "    label['실제불량갯수'][i] = 1\n",
        "\n",
        "label=label.iloc[1:208]"
      ],
      "metadata": {
        "id": "L7Un_fHYYf-d"
      },
      "execution_count": 26,
      "outputs": []
    },
    {
      "cell_type": "markdown",
      "source": [
        "# Train, Valid, Test split"
      ],
      "metadata": {
        "id": "sTiCKRObZYby"
      }
    },
    {
      "cell_type": "code",
      "source": [
        "train_ratio = 0.6\n",
        "valid_ratio = 0.2\n",
        "test_ratio = 0.2"
      ],
      "metadata": {
        "id": "KTHq9tKWZW0e"
      },
      "execution_count": 27,
      "outputs": []
    },
    {
      "cell_type": "code",
      "source": [
        "print(\"전체 데이터 갯수 : \", len(label))\n",
        "print(\"train 데이터 갯수 : \",round(len(label)*train_ratio))\n",
        "print(\"valid 데이터 갯수 : \",round(len(label)*valid_ratio))\n",
        "print(\"test 데이터 갯수 : \",round(len(label)*test_ratio))\n",
        "print(\"차이 : \", len(label) - (round(len(label)*train_ratio)+round(len(label)*valid_ratio)+round(len(label)*test_ratio)))"
      ],
      "metadata": {
        "colab": {
          "base_uri": "https://localhost:8080/"
        },
        "id": "1INKYIBZZtdm",
        "outputId": "6872ed2f-b044-4b36-8b25-62c831b537ca"
      },
      "execution_count": 28,
      "outputs": [
        {
          "output_type": "stream",
          "name": "stdout",
          "text": [
            "전체 데이터 갯수 :  207\n",
            "train 데이터 갯수 :  124\n",
            "valid 데이터 갯수 :  41\n",
            "test 데이터 갯수 :  41\n",
            "차이 :  1\n"
          ]
        }
      ]
    },
    {
      "cell_type": "code",
      "source": [
        "train_numbers = 125\n",
        "valid_numbers = 41\n",
        "test_numbers = 41"
      ],
      "metadata": {
        "id": "Urj0qVxkZvqo"
      },
      "execution_count": 29,
      "outputs": []
    },
    {
      "cell_type": "code",
      "source": [
        "train_label = label[0:train_numbers]\n",
        "valid_label = label[train_numbers:train_numbers + valid_numbers]\n",
        "test_label = label[train_numbers + valid_numbers:]"
      ],
      "metadata": {
        "id": "1EKOmxFzc1OX"
      },
      "execution_count": 30,
      "outputs": []
    },
    {
      "cell_type": "code",
      "source": [
        "train_label.rename(columns = {'실제불량갯수':'decision'},inplace = True)\n",
        "valid_label.rename(columns = {'실제불량갯수':'decision'},inplace = True)\n",
        "test_label.rename(columns = {'실제불량갯수':'decision'},inplace = True)"
      ],
      "metadata": {
        "id": "5fkAgeZBkiWS",
        "colab": {
          "base_uri": "https://localhost:8080/"
        },
        "outputId": "e203b185-1848-4e6c-aa75-ea6b9c16a97d"
      },
      "execution_count": 31,
      "outputs": [
        {
          "output_type": "stream",
          "name": "stderr",
          "text": [
            "/usr/local/lib/python3.7/dist-packages/pandas/core/frame.py:5047: SettingWithCopyWarning: \n",
            "A value is trying to be set on a copy of a slice from a DataFrame\n",
            "\n",
            "See the caveats in the documentation: https://pandas.pydata.org/pandas-docs/stable/user_guide/indexing.html#returning-a-view-versus-a-copy\n",
            "  errors=errors,\n"
          ]
        }
      ]
    },
    {
      "cell_type": "code",
      "source": [
        "train_label.to_csv('/content/gdrive/MyDrive/용접데이터/캔들차트분석/1호기/label/train.csv')\n",
        "valid_label.to_csv('/content/gdrive/MyDrive/용접데이터/캔들차트분석/1호기/label/valid.csv')\n",
        "test_label.to_csv('/content/gdrive/MyDrive/용접데이터/캔들차트분석/1호기/label/test.csv')"
      ],
      "metadata": {
        "id": "G6LQN-iNg_ZW"
      },
      "execution_count": 33,
      "outputs": []
    }
  ]
}