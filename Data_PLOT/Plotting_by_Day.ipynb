{
  "nbformat": 4,
  "nbformat_minor": 0,
  "metadata": {
    "colab": {
      "name": "Plotting_by_Day.ipynb",
      "provenance": [],
      "mount_file_id": "1BJr3Fd23vrdsRdSYpzc973Qp2meHNvtG",
      "authorship_tag": "ABX9TyN5M1wzdRt1MfhWLyThqLzG",
      "include_colab_link": true
    },
    "kernelspec": {
      "name": "python3",
      "display_name": "Python 3"
    },
    "language_info": {
      "name": "python"
    }
  },
  "cells": [
    {
      "cell_type": "markdown",
      "metadata": {
        "id": "view-in-github",
        "colab_type": "text"
      },
      "source": [
        "<a href=\"https://colab.research.google.com/github/AnnJungChan/youngjin_TECH/blob/main/Data_PLOT/Plotting_by_Day.ipynb\" target=\"_parent\"><img src=\"https://colab.research.google.com/assets/colab-badge.svg\" alt=\"Open In Colab\"/></a>"
      ]
    },
    {
      "cell_type": "markdown",
      "source": [
        "# 패키지 로딩"
      ],
      "metadata": {
        "id": "Y6oqzh1m8d40"
      }
    },
    {
      "cell_type": "code",
      "execution_count": 241,
      "metadata": {
        "id": "yAPDHJ8iewC0"
      },
      "outputs": [],
      "source": [
        "import pandas as pd\n",
        "import numpy as np\n",
        "import matplotlib.pyplot as plt\n",
        "%matplotlib inline"
      ]
    },
    {
      "cell_type": "markdown",
      "source": [
        "# 데이터 로딩"
      ],
      "metadata": {
        "id": "Iu3Eb7GiGFjG"
      }
    },
    {
      "cell_type": "code",
      "source": [
        "day_1_1=pd.read_csv(\"/content/drive/MyDrive/용접데이터/일별데이터/일별 관측치 1호기_프로세스1.csv\")\n",
        "day_1_2=pd.read_csv(\"/content/drive/MyDrive/용접데이터/일별데이터/일별 관측치 1호기_프로세스2.csv\")\n",
        "day_2_2=pd.read_csv(\"/content/drive/MyDrive/용접데이터/일별데이터/일별 관측치 2호기_프로세스2.csv\")\n",
        "day_2_3=pd.read_csv(\"/content/drive/MyDrive/용접데이터/일별데이터/일별 관측치 2호기_프로세스3.csv\")\n",
        "day_2_11=pd.read_csv(\"/content/drive/MyDrive/용접데이터/일별데이터/일별 관측치 2호기_프로세스11.csv\")"
      ],
      "metadata": {
        "id": "93avLNbbgGHt"
      },
      "execution_count": 242,
      "outputs": []
    },
    {
      "cell_type": "markdown",
      "source": [
        "# 데이터 가공"
      ],
      "metadata": {
        "id": "2-tYsljQRr_x"
      }
    },
    {
      "cell_type": "code",
      "source": [
        "day = [day_1_1, day_1_2,day_2_2,day_2_3,day_2_11]\n",
        "day_text = ['No.1 Process1', 'No.1 Process2','No.2 Process2','No.2 Process3','No.2 Process11']\n",
        "day_save = ['No.1 Process1.png', 'No.1 Process2.png','No.2 Process2.png','No.2 Process3.png','No.2 Process11.png']\n",
        "day_save_sensor = ['No.1 Process1 Sensor.png', 'No.1 Process2 Sensor.png','No.2 Process2 Sensor.png','No.2 Process3 Sensor.png','No.2 Process11 Sensor.png']\n",
        "day_save_product = ['No.1 Process1 Product.png', 'No.1 Process2 Product.png','No.2 Process2 Product.png','No.2 Process3 Product.png','No.2 Process11 Product.png']\n",
        "\n",
        "for i in range(len(day_text)) :\n",
        "  day[i].drop(columns = [\"Unnamed: 0\"],inplace = True)"
      ],
      "metadata": {
        "id": "lMxYVe-fgOIk"
      },
      "execution_count": 235,
      "outputs": []
    },
    {
      "cell_type": "markdown",
      "source": [
        "# 플랏팅"
      ],
      "metadata": {
        "id": "vHPDUpm9RucN"
      }
    },
    {
      "cell_type": "code",
      "source": [
        "def process_plot(data, process_name_text, save_format) :\n",
        "  fig, axes = plt.subplots(13,1,figsize = (40,60), sharex = True)\n",
        "  plt.subplots_adjust(hspace = 0.2)\n",
        "  plt.xticks(rotation = 90)\n",
        "  \n",
        "  axes[0].scatter(data['date'],data['BAD'])\n",
        "  axes[0].set_ylabel('Censor Error', fontsize = 20)\n",
        "  axes[0].set_title(process_name_text, fontsize = 20)\n",
        "  \n",
        "  axes[1].scatter(data['date'],data['실제불량갯수'])\n",
        "  axes[1].set_ylabel('Fault product', fontsize = 20)\n",
        "  \n",
        "  axes[2].scatter(data['date'],data['A'])\n",
        "  axes[2].set_ylabel('A')\n",
        "  \n",
        "  axes[3].scatter(data['date'],data['sec'])\n",
        "  axes[3].set_ylabel('Time', fontsize = 20)\n",
        "  \n",
        "  axes[4].scatter(data['date'],data['V'])\n",
        "  axes[4].set_ylabel('V', fontsize = 20)\n",
        "  \n",
        "  axes[5].scatter(data['date'],data['gas'])\n",
        "  axes[5].set_ylabel('Gas', fontsize = 20)\n",
        "\n",
        "  plt.savefig(save_format)"
      ],
      "metadata": {
        "id": "HD6Ydv2wHL2j"
      },
      "execution_count": null,
      "outputs": []
    },
    {
      "cell_type": "code",
      "source": [
        "def process_plot_sensor(data, process_name_text, save_format) :\n",
        "  fig, axes = plt.subplots(13,1,figsize = (40,60), sharex = True)\n",
        "  plt.subplots_adjust(hspace = 0.2)\n",
        "  plt.xticks(rotation = 90)\n",
        "  \n",
        "  axes[0].scatter(data['date'],data['BAD'])\n",
        "  axes[0].set_ylabel('Censor Error', fontsize = 20)\n",
        "  axes[0].set_title(process_name_text, fontsize = 20)\n",
        "  \n",
        "  axes[1].scatter(data['date'],data['실제불량갯수'])\n",
        "  axes[1].set_ylabel('Fault product', fontsize = 20)\n",
        "  \n",
        "  axes[2].scatter(data['date'],data['A'])\n",
        "  axes[2].set_ylabel('A')\n",
        "  \n",
        "  axes[3].scatter(data['date'],data['sec'])\n",
        "  axes[3].set_ylabel('Time', fontsize = 20)\n",
        "  \n",
        "  axes[4].scatter(data['date'],data['V'])\n",
        "  axes[4].set_ylabel('V', fontsize = 20)\n",
        "  \n",
        "  axes[5].scatter(data['date'],data['gas'])\n",
        "  axes[5].set_ylabel('Gas', fontsize = 20)\n",
        "\n",
        "  axes[6].scatter(data['date'],data['NG_T_Tip'])\n",
        "  axes[6].set_ylabel('NG_T_Tip', fontsize = 20)  \n",
        "  \n",
        "  axes[7].scatter(data['date'],data['NG_A_Tip'])\n",
        "  axes[7].set_ylabel('NG_A_Tip', fontsize = 20)\n",
        "  \n",
        "  axes[8].scatter(data['date'],data['NG_A_V_Tip'])\n",
        "  axes[8].set_ylabel('NG_A_V_Tip', fontsize = 20)\n",
        "\n",
        "  axes[9].scatter(data['date'],data['NG_V_Tip'])\n",
        "  axes[9].set_ylabel('NG_V_Tip', fontsize = 20)  \n",
        "  \n",
        "  axes[10].scatter(data['date'],data['NG_A_T_Tip'])\n",
        "  axes[10].set_ylabel('NG_A_T_Tip', fontsize = 20)\n",
        "  \n",
        "  axes[11].scatter(data['date'],data['NG_V_T_Tip'])\n",
        "  axes[11].set_ylabel('NG_V_T_Tip', fontsize = 20)\n",
        "\n",
        "  axes[12].scatter(data['date'],data['NG_Tip'])\n",
        "  axes[12].set_ylabel('NG_Tip', fontsize = 20)\n",
        "\n",
        "  plt.savefig(save_format)"
      ],
      "metadata": {
        "id": "2xSW4ct1hPf4"
      },
      "execution_count": 239,
      "outputs": []
    },
    {
      "cell_type": "code",
      "source": [
        "def process_plot_sensor(data, process_name_text, save_format) :\n",
        "  fig, axes = plt.subplots(13,1,figsize = (40,60), sharex = True)\n",
        "  plt.subplots_adjust(hspace = 0.2)\n",
        "  plt.xticks(rotation = 90)\n",
        "  \n",
        "  axes[0].scatter(data['date'],data['BAD'])\n",
        "  axes[0].set_ylabel('Censor Error', fontsize = 20)\n",
        "  axes[0].set_title(process_name_text, fontsize = 20)\n",
        "  \n",
        "  axes[1].scatter(data['date'],data['실제불량갯수'])\n",
        "  axes[1].set_ylabel('Fault product', fontsize = 20)\n",
        "  \n",
        "  axes[2].scatter(data['date'],data['A'])\n",
        "  axes[2].set_ylabel('A')\n",
        "  \n",
        "  axes[3].scatter(data['date'],data['sec'])\n",
        "  axes[3].set_ylabel('Time', fontsize = 20)\n",
        "  \n",
        "  axes[4].scatter(data['date'],data['V'])\n",
        "  axes[4].set_ylabel('V', fontsize = 20)\n",
        "  \n",
        "  axes[5].scatter(data['date'],data['gas'])\n",
        "  axes[5].set_ylabel('Gas', fontsize = 20)\n",
        "\n",
        "  axes[6].scatter(data['date'],data['NG_T_Tip'])\n",
        "  axes[6].set_ylabel('NG_T_Tip', fontsize = 20)  \n",
        "  \n",
        "  axes[7].scatter(data['date'],data['NG_A_Tip'])\n",
        "  axes[7].set_ylabel('NG_A_Tip', fontsize = 20)\n",
        "  \n",
        "  axes[8].scatter(data['date'],data['NG_A_V_Tip'])\n",
        "  axes[8].set_ylabel('NG_A_V_Tip', fontsize = 20)\n",
        "\n",
        "  axes[9].scatter(data['date'],data['NG_V_Tip'])\n",
        "  axes[9].set_ylabel('NG_V_Tip', fontsize = 20)  \n",
        "  \n",
        "  axes[10].scatter(data['date'],data['NG_A_T_Tip'])\n",
        "  axes[10].set_ylabel('NG_A_T_Tip', fontsize = 20)\n",
        "  \n",
        "  axes[11].scatter(data['date'],data['NG_V_T_Tip'])\n",
        "  axes[11].set_ylabel('NG_V_T_Tip', fontsize = 20)\n",
        "\n",
        "  axes[12].scatter(data['date'],data['NG_Tip'])\n",
        "  axes[12].set_ylabel('NG_Tip', fontsize = 20)\n",
        "\n",
        "  plt.savefig(save_format)"
      ],
      "metadata": {
        "id": "VHatMCh_HZuF"
      },
      "execution_count": null,
      "outputs": []
    }
  ]
}