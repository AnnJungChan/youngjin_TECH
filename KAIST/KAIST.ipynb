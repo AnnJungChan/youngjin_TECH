{
  "nbformat": 4,
  "nbformat_minor": 0,
  "metadata": {
    "colab": {
      "name": "KAIST.ipynb",
      "provenance": [],
      "authorship_tag": "ABX9TyOBcNQ6hAS5SCJA3F7MFsgi",
      "include_colab_link": true
    },
    "kernelspec": {
      "name": "python3",
      "display_name": "Python 3"
    },
    "language_info": {
      "name": "python"
    }
  },
  "cells": [
    {
      "cell_type": "markdown",
      "metadata": {
        "id": "view-in-github",
        "colab_type": "text"
      },
      "source": [
        "<a href=\"https://colab.research.google.com/github/AnnJungChan/youngjin_TECH/blob/main/KAIST/KAIST.ipynb\" target=\"_parent\"><img src=\"https://colab.research.google.com/assets/colab-badge.svg\" alt=\"Open In Colab\"/></a>"
      ]
    },
    {
      "cell_type": "code",
      "execution_count": 271,
      "metadata": {
        "colab": {
          "base_uri": "https://localhost:8080/"
        },
        "id": "nhr5L4FAO5fT",
        "outputId": "6d6e68f1-7ea6-4df6-89f1-d0aeda521079"
      },
      "outputs": [
        {
          "output_type": "stream",
          "name": "stdout",
          "text": [
            "Drive already mounted at /content/gdrive; to attempt to forcibly remount, call drive.mount(\"/content/gdrive\", force_remount=True).\n"
          ]
        }
      ],
      "source": [
        "#!pip install datetime\n",
        "from google.colab import drive\n",
        "drive.mount('/content/gdrive')\n",
        "import numpy as np\n",
        "import pandas as pd\n",
        "import datetime\n",
        "import seaborn as sns\n",
        "import sklearn.metrics as metric\n",
        "from sklearn import preprocessing\n",
        "import matplotlib.pyplot as plt\n",
        "\n",
        "import warnings\n",
        "warnings.filterwarnings('ignore')"
      ]
    },
    {
      "cell_type": "code",
      "source": [
        "no1_process1 = pd.read_csv(\"/content/gdrive/MyDrive/용접데이터/one_original.csv\", encoding = 'cp949')"
      ],
      "metadata": {
        "id": "iRip8ZwwPL1u"
      },
      "execution_count": 272,
      "outputs": []
    },
    {
      "cell_type": "code",
      "source": [
        "no1_process1=no1_process1[['날짜','시간','전류.A.','전압.V.','가스.l.min.','용접시간.sec.','팁누적개수','NUM.EA.','판단' ]]\n",
        "no1_process1=no1_process1.rename(columns = {'날짜' : 'date', '시간' : 'time', '전류.A.' :'A', '전압.V.' : 'V', '가스.l.min.' : 'gas', '용접시간.sec.' : 'sec', '팁누적개수' : 'tip_cum',\n",
        "                                            '판단' : 'decision'})\n",
        "no1_process1[\"date_time\"]=no1_process1[\"date\"] + \" \" + no1_process1[\"time\"]"
      ],
      "metadata": {
        "id": "FiJyAS6xPh5M"
      },
      "execution_count": 273,
      "outputs": []
    },
    {
      "cell_type": "code",
      "source": [
        "no1_process1.info()"
      ],
      "metadata": {
        "colab": {
          "base_uri": "https://localhost:8080/"
        },
        "id": "EYjMZclZ2Bq1",
        "outputId": "acab38a2-3d0f-4074-8669-3046196b8186"
      },
      "execution_count": 274,
      "outputs": [
        {
          "output_type": "stream",
          "name": "stdout",
          "text": [
            "<class 'pandas.core.frame.DataFrame'>\n",
            "RangeIndex: 437370 entries, 0 to 437369\n",
            "Data columns (total 10 columns):\n",
            " #   Column     Non-Null Count   Dtype  \n",
            "---  ------     --------------   -----  \n",
            " 0   date       437370 non-null  object \n",
            " 1   time       437370 non-null  object \n",
            " 2   A          437370 non-null  float64\n",
            " 3   V          437370 non-null  float64\n",
            " 4   gas        437370 non-null  float64\n",
            " 5   sec        437370 non-null  float64\n",
            " 6   tip_cum    437370 non-null  int64  \n",
            " 7   NUM.EA.    437370 non-null  int64  \n",
            " 8   decision   437370 non-null  object \n",
            " 9   date_time  437370 non-null  object \n",
            "dtypes: float64(4), int64(2), object(4)\n",
            "memory usage: 33.4+ MB\n"
          ]
        }
      ]
    },
    {
      "cell_type": "code",
      "source": [
        "no1_process1=no1_process1.sort_values(\"date_time\")\n",
        "no1_process1=no1_process1.loc[(no1_process1['date'] <= '2021-10-29') & (no1_process1['date'] >= '2021-01-04'),:]\n",
        "no1_process1=no1_process1.reset_index()\n",
        "no1_process1.drop(columns = ['index'], inplace = True)"
      ],
      "metadata": {
        "id": "gbDbypVpXYe8"
      },
      "execution_count": 275,
      "outputs": []
    },
    {
      "cell_type": "code",
      "source": [
        "no1_process1['date_time']"
      ],
      "metadata": {
        "colab": {
          "base_uri": "https://localhost:8080/"
        },
        "id": "_2un9Yw_FCXY",
        "outputId": "ffb27269-5096-450b-ada5-5170980b0a9b"
      },
      "execution_count": 276,
      "outputs": [
        {
          "output_type": "execute_result",
          "data": {
            "text/plain": [
              "0         2021-01-04 08:40:09\n",
              "1         2021-01-04 08:40:29\n",
              "2         2021-01-04 08:40:44\n",
              "3         2021-01-04 08:40:59\n",
              "4         2021-01-04 08:41:15\n",
              "                 ...         \n",
              "303233    2021-10-29 12:20:39\n",
              "303234    2021-10-29 12:22:10\n",
              "303235    2021-10-29 12:22:30\n",
              "303236    2021-10-29 12:24:11\n",
              "303237    2021-10-29 12:24:34\n",
              "Name: date_time, Length: 303238, dtype: object"
            ]
          },
          "metadata": {},
          "execution_count": 276
        }
      ]
    },
    {
      "cell_type": "code",
      "source": [
        "len(no1_process1['date'].unique())"
      ],
      "metadata": {
        "colab": {
          "base_uri": "https://localhost:8080/"
        },
        "id": "xjfB-XC_LBTq",
        "outputId": "2699a17b-5fe0-40df-c9f3-a4287af90747"
      },
      "execution_count": 277,
      "outputs": [
        {
          "output_type": "execute_result",
          "data": {
            "text/plain": [
              "208"
            ]
          },
          "metadata": {},
          "execution_count": 277
        }
      ]
    },
    {
      "cell_type": "code",
      "source": [
        "no1_process1.info()"
      ],
      "metadata": {
        "colab": {
          "base_uri": "https://localhost:8080/"
        },
        "id": "tC6FsquRPb-l",
        "outputId": "e02a0d81-5f3d-4761-fd10-cabb17322adf"
      },
      "execution_count": 278,
      "outputs": [
        {
          "output_type": "stream",
          "name": "stdout",
          "text": [
            "<class 'pandas.core.frame.DataFrame'>\n",
            "RangeIndex: 303238 entries, 0 to 303237\n",
            "Data columns (total 10 columns):\n",
            " #   Column     Non-Null Count   Dtype  \n",
            "---  ------     --------------   -----  \n",
            " 0   date       303238 non-null  object \n",
            " 1   time       303238 non-null  object \n",
            " 2   A          303238 non-null  float64\n",
            " 3   V          303238 non-null  float64\n",
            " 4   gas        303238 non-null  float64\n",
            " 5   sec        303238 non-null  float64\n",
            " 6   tip_cum    303238 non-null  int64  \n",
            " 7   NUM.EA.    303238 non-null  int64  \n",
            " 8   decision   303238 non-null  object \n",
            " 9   date_time  303238 non-null  object \n",
            "dtypes: float64(4), int64(2), object(4)\n",
            "memory usage: 23.1+ MB\n"
          ]
        }
      ]
    },
    {
      "cell_type": "code",
      "source": [
        "no1_process1.describe()"
      ],
      "metadata": {
        "colab": {
          "base_uri": "https://localhost:8080/",
          "height": 300
        },
        "id": "CxVsnDJSPd_k",
        "outputId": "e88f3646-4238-4c00-dd50-7d9a55bf6924"
      },
      "execution_count": 279,
      "outputs": [
        {
          "output_type": "execute_result",
          "data": {
            "text/plain": [
              "                   A              V            gas            sec  \\\n",
              "count  303238.000000  303238.000000  303238.000000  303238.000000   \n",
              "mean       51.728885      22.612416       5.769587       6.723999   \n",
              "std         4.309735       1.135283       0.903231       0.524081   \n",
              "min         6.800000      12.540000       2.640000       0.000000   \n",
              "25%        49.000000      21.820000       5.170000       6.200000   \n",
              "50%        50.800000      22.690000       5.790000       7.000000   \n",
              "75%        53.400000      23.400000       6.360000       7.200000   \n",
              "max        75.300000      27.580000       9.050000       7.400000   \n",
              "\n",
              "             tip_cum        NUM.EA.  \n",
              "count  303238.000000  303238.000000  \n",
              "mean    24201.604149      71.194032  \n",
              "std     14750.610025       5.371876  \n",
              "min         1.000000       1.000000  \n",
              "25%     11088.000000      66.000000  \n",
              "50%     23867.000000      74.000000  \n",
              "75%     37200.000000      76.000000  \n",
              "max     50240.000000      92.000000  "
            ],
            "text/html": [
              "\n",
              "  <div id=\"df-0006c42b-4178-4e9f-a260-445a1f478bc8\">\n",
              "    <div class=\"colab-df-container\">\n",
              "      <div>\n",
              "<style scoped>\n",
              "    .dataframe tbody tr th:only-of-type {\n",
              "        vertical-align: middle;\n",
              "    }\n",
              "\n",
              "    .dataframe tbody tr th {\n",
              "        vertical-align: top;\n",
              "    }\n",
              "\n",
              "    .dataframe thead th {\n",
              "        text-align: right;\n",
              "    }\n",
              "</style>\n",
              "<table border=\"1\" class=\"dataframe\">\n",
              "  <thead>\n",
              "    <tr style=\"text-align: right;\">\n",
              "      <th></th>\n",
              "      <th>A</th>\n",
              "      <th>V</th>\n",
              "      <th>gas</th>\n",
              "      <th>sec</th>\n",
              "      <th>tip_cum</th>\n",
              "      <th>NUM.EA.</th>\n",
              "    </tr>\n",
              "  </thead>\n",
              "  <tbody>\n",
              "    <tr>\n",
              "      <th>count</th>\n",
              "      <td>303238.000000</td>\n",
              "      <td>303238.000000</td>\n",
              "      <td>303238.000000</td>\n",
              "      <td>303238.000000</td>\n",
              "      <td>303238.000000</td>\n",
              "      <td>303238.000000</td>\n",
              "    </tr>\n",
              "    <tr>\n",
              "      <th>mean</th>\n",
              "      <td>51.728885</td>\n",
              "      <td>22.612416</td>\n",
              "      <td>5.769587</td>\n",
              "      <td>6.723999</td>\n",
              "      <td>24201.604149</td>\n",
              "      <td>71.194032</td>\n",
              "    </tr>\n",
              "    <tr>\n",
              "      <th>std</th>\n",
              "      <td>4.309735</td>\n",
              "      <td>1.135283</td>\n",
              "      <td>0.903231</td>\n",
              "      <td>0.524081</td>\n",
              "      <td>14750.610025</td>\n",
              "      <td>5.371876</td>\n",
              "    </tr>\n",
              "    <tr>\n",
              "      <th>min</th>\n",
              "      <td>6.800000</td>\n",
              "      <td>12.540000</td>\n",
              "      <td>2.640000</td>\n",
              "      <td>0.000000</td>\n",
              "      <td>1.000000</td>\n",
              "      <td>1.000000</td>\n",
              "    </tr>\n",
              "    <tr>\n",
              "      <th>25%</th>\n",
              "      <td>49.000000</td>\n",
              "      <td>21.820000</td>\n",
              "      <td>5.170000</td>\n",
              "      <td>6.200000</td>\n",
              "      <td>11088.000000</td>\n",
              "      <td>66.000000</td>\n",
              "    </tr>\n",
              "    <tr>\n",
              "      <th>50%</th>\n",
              "      <td>50.800000</td>\n",
              "      <td>22.690000</td>\n",
              "      <td>5.790000</td>\n",
              "      <td>7.000000</td>\n",
              "      <td>23867.000000</td>\n",
              "      <td>74.000000</td>\n",
              "    </tr>\n",
              "    <tr>\n",
              "      <th>75%</th>\n",
              "      <td>53.400000</td>\n",
              "      <td>23.400000</td>\n",
              "      <td>6.360000</td>\n",
              "      <td>7.200000</td>\n",
              "      <td>37200.000000</td>\n",
              "      <td>76.000000</td>\n",
              "    </tr>\n",
              "    <tr>\n",
              "      <th>max</th>\n",
              "      <td>75.300000</td>\n",
              "      <td>27.580000</td>\n",
              "      <td>9.050000</td>\n",
              "      <td>7.400000</td>\n",
              "      <td>50240.000000</td>\n",
              "      <td>92.000000</td>\n",
              "    </tr>\n",
              "  </tbody>\n",
              "</table>\n",
              "</div>\n",
              "      <button class=\"colab-df-convert\" onclick=\"convertToInteractive('df-0006c42b-4178-4e9f-a260-445a1f478bc8')\"\n",
              "              title=\"Convert this dataframe to an interactive table.\"\n",
              "              style=\"display:none;\">\n",
              "        \n",
              "  <svg xmlns=\"http://www.w3.org/2000/svg\" height=\"24px\"viewBox=\"0 0 24 24\"\n",
              "       width=\"24px\">\n",
              "    <path d=\"M0 0h24v24H0V0z\" fill=\"none\"/>\n",
              "    <path d=\"M18.56 5.44l.94 2.06.94-2.06 2.06-.94-2.06-.94-.94-2.06-.94 2.06-2.06.94zm-11 1L8.5 8.5l.94-2.06 2.06-.94-2.06-.94L8.5 2.5l-.94 2.06-2.06.94zm10 10l.94 2.06.94-2.06 2.06-.94-2.06-.94-.94-2.06-.94 2.06-2.06.94z\"/><path d=\"M17.41 7.96l-1.37-1.37c-.4-.4-.92-.59-1.43-.59-.52 0-1.04.2-1.43.59L10.3 9.45l-7.72 7.72c-.78.78-.78 2.05 0 2.83L4 21.41c.39.39.9.59 1.41.59.51 0 1.02-.2 1.41-.59l7.78-7.78 2.81-2.81c.8-.78.8-2.07 0-2.86zM5.41 20L4 18.59l7.72-7.72 1.47 1.35L5.41 20z\"/>\n",
              "  </svg>\n",
              "      </button>\n",
              "      \n",
              "  <style>\n",
              "    .colab-df-container {\n",
              "      display:flex;\n",
              "      flex-wrap:wrap;\n",
              "      gap: 12px;\n",
              "    }\n",
              "\n",
              "    .colab-df-convert {\n",
              "      background-color: #E8F0FE;\n",
              "      border: none;\n",
              "      border-radius: 50%;\n",
              "      cursor: pointer;\n",
              "      display: none;\n",
              "      fill: #1967D2;\n",
              "      height: 32px;\n",
              "      padding: 0 0 0 0;\n",
              "      width: 32px;\n",
              "    }\n",
              "\n",
              "    .colab-df-convert:hover {\n",
              "      background-color: #E2EBFA;\n",
              "      box-shadow: 0px 1px 2px rgba(60, 64, 67, 0.3), 0px 1px 3px 1px rgba(60, 64, 67, 0.15);\n",
              "      fill: #174EA6;\n",
              "    }\n",
              "\n",
              "    [theme=dark] .colab-df-convert {\n",
              "      background-color: #3B4455;\n",
              "      fill: #D2E3FC;\n",
              "    }\n",
              "\n",
              "    [theme=dark] .colab-df-convert:hover {\n",
              "      background-color: #434B5C;\n",
              "      box-shadow: 0px 1px 3px 1px rgba(0, 0, 0, 0.15);\n",
              "      filter: drop-shadow(0px 1px 2px rgba(0, 0, 0, 0.3));\n",
              "      fill: #FFFFFF;\n",
              "    }\n",
              "  </style>\n",
              "\n",
              "      <script>\n",
              "        const buttonEl =\n",
              "          document.querySelector('#df-0006c42b-4178-4e9f-a260-445a1f478bc8 button.colab-df-convert');\n",
              "        buttonEl.style.display =\n",
              "          google.colab.kernel.accessAllowed ? 'block' : 'none';\n",
              "\n",
              "        async function convertToInteractive(key) {\n",
              "          const element = document.querySelector('#df-0006c42b-4178-4e9f-a260-445a1f478bc8');\n",
              "          const dataTable =\n",
              "            await google.colab.kernel.invokeFunction('convertToInteractive',\n",
              "                                                     [key], {});\n",
              "          if (!dataTable) return;\n",
              "\n",
              "          const docLinkHtml = 'Like what you see? Visit the ' +\n",
              "            '<a target=\"_blank\" href=https://colab.research.google.com/notebooks/data_table.ipynb>data table notebook</a>'\n",
              "            + ' to learn more about interactive tables.';\n",
              "          element.innerHTML = '';\n",
              "          dataTable['output_type'] = 'display_data';\n",
              "          await google.colab.output.renderOutput(dataTable, element);\n",
              "          const docLink = document.createElement('div');\n",
              "          docLink.innerHTML = docLinkHtml;\n",
              "          element.appendChild(docLink);\n",
              "        }\n",
              "      </script>\n",
              "    </div>\n",
              "  </div>\n",
              "  "
            ]
          },
          "metadata": {},
          "execution_count": 279
        }
      ]
    },
    {
      "cell_type": "code",
      "source": [
        "sns.heatmap(no1_process1.corr(),annot = True)"
      ],
      "metadata": {
        "colab": {
          "base_uri": "https://localhost:8080/",
          "height": 288
        },
        "id": "0pYVHeEvRv4Q",
        "outputId": "c663cc6a-3936-489a-fa75-e9fbe4a893a8"
      },
      "execution_count": 280,
      "outputs": [
        {
          "output_type": "execute_result",
          "data": {
            "text/plain": [
              "<matplotlib.axes._subplots.AxesSubplot at 0x7f1f3f4209d0>"
            ]
          },
          "metadata": {},
          "execution_count": 280
        },
        {
          "output_type": "display_data",
          "data": {
            "text/plain": [
              "<Figure size 432x288 with 2 Axes>"
            ],
            "image/png": "[encoded data removed]"
          },
          "metadata": {
            "needs_background": "light"
          }
        }
      ]
    },
    {
      "cell_type": "markdown",
      "source": [
        "- (A, sec, NUM.EA.)\n",
        "- (V, gas)"
      ],
      "metadata": {
        "id": "1WrbGLwMSS10"
      }
    },
    {
      "cell_type": "markdown",
      "source": [
        "# 데이터 정규화"
      ],
      "metadata": {
        "id": "BmvEoABRjzAF"
      }
    },
    {
      "cell_type": "code",
      "source": [
        "data = no1_process1[['A','V','gas','sec','tip_cum','NUM.EA.']]\n",
        "scaler = preprocessing.MinMaxScaler()\n",
        "scaler.fit(data)\n",
        "data = scaler.transform(data)"
      ],
      "metadata": {
        "id": "1oz14VaQjxk3"
      },
      "execution_count": 281,
      "outputs": []
    },
    {
      "cell_type": "code",
      "source": [
        "data.shape"
      ],
      "metadata": {
        "colab": {
          "base_uri": "https://localhost:8080/"
        },
        "id": "tyI6iZpqqLzo",
        "outputId": "3eff8794-c22b-4f14-aa80-c6ce55392511"
      },
      "execution_count": 282,
      "outputs": [
        {
          "output_type": "execute_result",
          "data": {
            "text/plain": [
              "(303238, 6)"
            ]
          },
          "metadata": {},
          "execution_count": 282
        }
      ]
    },
    {
      "cell_type": "markdown",
      "source": [
        "# 모델 구현 패키지 로딩"
      ],
      "metadata": {
        "id": "FmuYLykjQ4SG"
      }
    },
    {
      "cell_type": "code",
      "source": [
        "#!pip install torch==1.7.0 torchvision==0.8.1 torchaudio===0.7.0\n",
        "from torch.utils.data import DataLoader\n",
        "from torch.utils.data import TensorDataset\n",
        "import torch\n",
        "import torch.nn as nn"
      ],
      "metadata": {
        "id": "uUY2ALubQ6qH"
      },
      "execution_count": 283,
      "outputs": []
    },
    {
      "cell_type": "markdown",
      "source": [
        "# 모델 구형"
      ],
      "metadata": {
        "id": "lNe7AYtMXMt_"
      }
    },
    {
      "cell_type": "code",
      "source": [
        "# AutoEncoder 클래스 구현\n",
        "\n",
        "class AutoEncoder(nn.Module): # 클래스 정의\n",
        "    def __init__(self, input_size, hidden_size, output_size): #초기화 작업\n",
        "        super(AutoEncoder, self).__init__() #우리가 입력할 값 4개\n",
        "        ## initialize\n",
        "        self.input_size = input_size # input_size라는 변수를 클래스 안의 변수로 변경\n",
        "        self.hidden_size = hidden_size # hidden_size라는 변수를 클래스 안의 변수로 변경\n",
        "        self.output_size = output_size # output_size라는 변수를 클래스 안의 변수로 변경\n",
        "        ## 오토인코더 구현\n",
        "        self.AutoEncoder = nn.Sequential(\n",
        "        ## 인코더 부분\n",
        "        nn.Linear(input_size, hidden_size[0]),#완전 연결망\n",
        "        nn.RReLU(), #활성화 함수\n",
        "        nn.Linear(hidden_size[0], output_size),#완전 연결망\n",
        "        nn.RReLU(), #활성화 함수\n",
        "        ## 디코더 부분\n",
        "        nn.Linear(output_size, hidden_size[0]),#완전 연결망\n",
        "        nn.RReLU(), #활성화 함수\n",
        "        nn.Linear(hidden_size[0], input_size)#완전 연결망\n",
        "        # 인코더와는 다르게, 출력부분에 활성화 함수를 사용하지 않음\n",
        "        )\n",
        "    def forward(self, inputs):\n",
        "        output =self.AutoEncoder(inputs)\n",
        "        \n",
        "        return output"
      ],
      "metadata": {
        "id": "eH2qPdQHuaSy"
      },
      "execution_count": 284,
      "outputs": []
    },
    {
      "cell_type": "markdown",
      "source": [
        "- 인코더 : 완전연결층 2개\n",
        "- 디코더 : 완전연결층 2개\n",
        "\n",
        "- 완전연결층 : 한 층의 모든 노드와 다음 층의 모든 노드가 연결 된 층"
      ],
      "metadata": {
        "id": "kraQmaDxWVa6"
      }
    },
    {
      "cell_type": "markdown",
      "source": [
        "# 훈련 데이터 셋과 테스트 데이터 셋 분할"
      ],
      "metadata": {
        "id": "gmMV_3_NXO6u"
      }
    },
    {
      "cell_type": "code",
      "source": [
        "print(\"전체 데이터 셋 개수 : \", len(data))\n",
        "print(\"훈련 데이터 셋 개수 : \", len(data)*0.7)\n",
        "print(\"테스트 데이터 셋 개수 : \", len(data)*0.3)"
      ],
      "metadata": {
        "colab": {
          "base_uri": "https://localhost:8080/"
        },
        "id": "Bnv72HESX5DM",
        "outputId": "eeff0855-1b2c-4efc-ce38-b9f44b934a08"
      },
      "execution_count": 285,
      "outputs": [
        {
          "output_type": "stream",
          "name": "stdout",
          "text": [
            "전체 데이터 셋 개수 :  303238\n",
            "훈련 데이터 셋 개수 :  212266.59999999998\n",
            "테스트 데이터 셋 개수 :  90971.4\n"
          ]
        }
      ]
    },
    {
      "cell_type": "code",
      "source": [
        "print(\"훈련 데이터 셋 종료 일자 : \", no1_process1.iloc[212715]['date'])"
      ],
      "metadata": {
        "colab": {
          "base_uri": "https://localhost:8080/"
        },
        "id": "2qK2_-YBYFtw",
        "outputId": "59103c36-9fa9-42ec-c5de-ef2416e58d62"
      },
      "execution_count": 286,
      "outputs": [
        {
          "output_type": "stream",
          "name": "stdout",
          "text": [
            "훈련 데이터 셋 종료 일자 :  2021-07-27\n"
          ]
        }
      ]
    },
    {
      "cell_type": "code",
      "source": [
        "no1_process1[no1_process1['date'] == '2021-07-27']"
      ],
      "metadata": {
        "colab": {
          "base_uri": "https://localhost:8080/",
          "height": 424
        },
        "id": "Ia7D_ZeDHk1a",
        "outputId": "71031276-79b4-4927-8ae6-e0a94261c355"
      },
      "execution_count": 287,
      "outputs": [
        {
          "output_type": "execute_result",
          "data": {
            "text/plain": [
              "              date      time     A      V   gas  sec  tip_cum  NUM.EA.  \\\n",
              "212020  2021-07-27  08:29:21  54.4  23.60  5.58  6.5    37383       69   \n",
              "212021  2021-07-27  08:31:59  54.4  23.58  5.58  6.5    37384       69   \n",
              "212022  2021-07-27  08:36:45  54.4  20.26  5.59  6.5    37385       69   \n",
              "212023  2021-07-27  08:37:09  54.4  20.26  5.59  6.5    37386       69   \n",
              "212024  2021-07-27  08:37:24  54.4  20.23  5.61  6.5    37387       69   \n",
              "...            ...       ...   ...    ...   ...  ...      ...      ...   \n",
              "213540  2021-07-27  17:24:06  54.4  22.14  4.98  6.1    38903       65   \n",
              "213541  2021-07-27  17:24:20  54.4  22.22  4.98  6.2    38904       66   \n",
              "213542  2021-07-27  17:24:35  54.4  22.20  4.98  6.2    38905       66   \n",
              "213543  2021-07-27  17:24:50  54.4  22.13  4.96  6.2    38906       66   \n",
              "213544  2021-07-27  17:25:05  54.4  22.18  4.99  6.2    38907       66   \n",
              "\n",
              "       decision            date_time  \n",
              "212020     GOOD  2021-07-27 08:29:21  \n",
              "212021     GOOD  2021-07-27 08:31:59  \n",
              "212022     GOOD  2021-07-27 08:36:45  \n",
              "212023     GOOD  2021-07-27 08:37:09  \n",
              "212024     GOOD  2021-07-27 08:37:24  \n",
              "...         ...                  ...  \n",
              "213540     GOOD  2021-07-27 17:24:06  \n",
              "213541     GOOD  2021-07-27 17:24:20  \n",
              "213542     GOOD  2021-07-27 17:24:35  \n",
              "213543     GOOD  2021-07-27 17:24:50  \n",
              "213544     GOOD  2021-07-27 17:25:05  \n",
              "\n",
              "[1525 rows x 10 columns]"
            ],
            "text/html": [
              "\n",
              "  <div id=\"df-618cf6dc-0b6c-4586-8221-1385ec34eb0c\">\n",
              "    <div class=\"colab-df-container\">\n",
              "      <div>\n",
              "<style scoped>\n",
              "    .dataframe tbody tr th:only-of-type {\n",
              "        vertical-align: middle;\n",
              "    }\n",
              "\n",
              "    .dataframe tbody tr th {\n",
              "        vertical-align: top;\n",
              "    }\n",
              "\n",
              "    .dataframe thead th {\n",
              "        text-align: right;\n",
              "    }\n",
              "</style>\n",
              "<table border=\"1\" class=\"dataframe\">\n",
              "  <thead>\n",
              "    <tr style=\"text-align: right;\">\n",
              "      <th></th>\n",
              "      <th>date</th>\n",
              "      <th>time</th>\n",
              "      <th>A</th>\n",
              "      <th>V</th>\n",
              "      <th>gas</th>\n",
              "      <th>sec</th>\n",
              "      <th>tip_cum</th>\n",
              "      <th>NUM.EA.</th>\n",
              "      <th>decision</th>\n",
              "      <th>date_time</th>\n",
              "    </tr>\n",
              "  </thead>\n",
              "  <tbody>\n",
              "    <tr>\n",
              "      <th>212020</th>\n",
              "      <td>2021-07-27</td>\n",
              "      <td>08:29:21</td>\n",
              "      <td>54.4</td>\n",
              "      <td>23.60</td>\n",
              "      <td>5.58</td>\n",
              "      <td>6.5</td>\n",
              "      <td>37383</td>\n",
              "      <td>69</td>\n",
              "      <td>GOOD</td>\n",
              "      <td>2021-07-27 08:29:21</td>\n",
              "    </tr>\n",
              "    <tr>\n",
              "      <th>212021</th>\n",
              "      <td>2021-07-27</td>\n",
              "      <td>08:31:59</td>\n",
              "      <td>54.4</td>\n",
              "      <td>23.58</td>\n",
              "      <td>5.58</td>\n",
              "      <td>6.5</td>\n",
              "      <td>37384</td>\n",
              "      <td>69</td>\n",
              "      <td>GOOD</td>\n",
              "      <td>2021-07-27 08:31:59</td>\n",
              "    </tr>\n",
              "    <tr>\n",
              "      <th>212022</th>\n",
              "      <td>2021-07-27</td>\n",
              "      <td>08:36:45</td>\n",
              "      <td>54.4</td>\n",
              "      <td>20.26</td>\n",
              "      <td>5.59</td>\n",
              "      <td>6.5</td>\n",
              "      <td>37385</td>\n",
              "      <td>69</td>\n",
              "      <td>GOOD</td>\n",
              "      <td>2021-07-27 08:36:45</td>\n",
              "    </tr>\n",
              "    <tr>\n",
              "      <th>212023</th>\n",
              "      <td>2021-07-27</td>\n",
              "      <td>08:37:09</td>\n",
              "      <td>54.4</td>\n",
              "      <td>20.26</td>\n",
              "      <td>5.59</td>\n",
              "      <td>6.5</td>\n",
              "      <td>37386</td>\n",
              "      <td>69</td>\n",
              "      <td>GOOD</td>\n",
              "      <td>2021-07-27 08:37:09</td>\n",
              "    </tr>\n",
              "    <tr>\n",
              "      <th>212024</th>\n",
              "      <td>2021-07-27</td>\n",
              "      <td>08:37:24</td>\n",
              "      <td>54.4</td>\n",
              "      <td>20.23</td>\n",
              "      <td>5.61</td>\n",
              "      <td>6.5</td>\n",
              "      <td>37387</td>\n",
              "      <td>69</td>\n",
              "      <td>GOOD</td>\n",
              "      <td>2021-07-27 08:37:24</td>\n",
              "    </tr>\n",
              "    <tr>\n",
              "      <th>...</th>\n",
              "      <td>...</td>\n",
              "      <td>...</td>\n",
              "      <td>...</td>\n",
              "      <td>...</td>\n",
              "      <td>...</td>\n",
              "      <td>...</td>\n",
              "      <td>...</td>\n",
              "      <td>...</td>\n",
              "      <td>...</td>\n",
              "      <td>...</td>\n",
              "    </tr>\n",
              "    <tr>\n",
              "      <th>213540</th>\n",
              "      <td>2021-07-27</td>\n",
              "      <td>17:24:06</td>\n",
              "      <td>54.4</td>\n",
              "      <td>22.14</td>\n",
              "      <td>4.98</td>\n",
              "      <td>6.1</td>\n",
              "      <td>38903</td>\n",
              "      <td>65</td>\n",
              "      <td>GOOD</td>\n",
              "      <td>2021-07-27 17:24:06</td>\n",
              "    </tr>\n",
              "    <tr>\n",
              "      <th>213541</th>\n",
              "      <td>2021-07-27</td>\n",
              "      <td>17:24:20</td>\n",
              "      <td>54.4</td>\n",
              "      <td>22.22</td>\n",
              "      <td>4.98</td>\n",
              "      <td>6.2</td>\n",
              "      <td>38904</td>\n",
              "      <td>66</td>\n",
              "      <td>GOOD</td>\n",
              "      <td>2021-07-27 17:24:20</td>\n",
              "    </tr>\n",
              "    <tr>\n",
              "      <th>213542</th>\n",
              "      <td>2021-07-27</td>\n",
              "      <td>17:24:35</td>\n",
              "      <td>54.4</td>\n",
              "      <td>22.20</td>\n",
              "      <td>4.98</td>\n",
              "      <td>6.2</td>\n",
              "      <td>38905</td>\n",
              "      <td>66</td>\n",
              "      <td>GOOD</td>\n",
              "      <td>2021-07-27 17:24:35</td>\n",
              "    </tr>\n",
              "    <tr>\n",
              "      <th>213543</th>\n",
              "      <td>2021-07-27</td>\n",
              "      <td>17:24:50</td>\n",
              "      <td>54.4</td>\n",
              "      <td>22.13</td>\n",
              "      <td>4.96</td>\n",
              "      <td>6.2</td>\n",
              "      <td>38906</td>\n",
              "      <td>66</td>\n",
              "      <td>GOOD</td>\n",
              "      <td>2021-07-27 17:24:50</td>\n",
              "    </tr>\n",
              "    <tr>\n",
              "      <th>213544</th>\n",
              "      <td>2021-07-27</td>\n",
              "      <td>17:25:05</td>\n",
              "      <td>54.4</td>\n",
              "      <td>22.18</td>\n",
              "      <td>4.99</td>\n",
              "      <td>6.2</td>\n",
              "      <td>38907</td>\n",
              "      <td>66</td>\n",
              "      <td>GOOD</td>\n",
              "      <td>2021-07-27 17:25:05</td>\n",
              "    </tr>\n",
              "  </tbody>\n",
              "</table>\n",
              "<p>1525 rows × 10 columns</p>\n",
              "</div>\n",
              "      <button class=\"colab-df-convert\" onclick=\"convertToInteractive('df-618cf6dc-0b6c-4586-8221-1385ec34eb0c')\"\n",
              "              title=\"Convert this dataframe to an interactive table.\"\n",
              "              style=\"display:none;\">\n",
              "        \n",
              "  <svg xmlns=\"http://www.w3.org/2000/svg\" height=\"24px\"viewBox=\"0 0 24 24\"\n",
              "       width=\"24px\">\n",
              "    <path d=\"M0 0h24v24H0V0z\" fill=\"none\"/>\n",
              "    <path d=\"M18.56 5.44l.94 2.06.94-2.06 2.06-.94-2.06-.94-.94-2.06-.94 2.06-2.06.94zm-11 1L8.5 8.5l.94-2.06 2.06-.94-2.06-.94L8.5 2.5l-.94 2.06-2.06.94zm10 10l.94 2.06.94-2.06 2.06-.94-2.06-.94-.94-2.06-.94 2.06-2.06.94z\"/><path d=\"M17.41 7.96l-1.37-1.37c-.4-.4-.92-.59-1.43-.59-.52 0-1.04.2-1.43.59L10.3 9.45l-7.72 7.72c-.78.78-.78 2.05 0 2.83L4 21.41c.39.39.9.59 1.41.59.51 0 1.02-.2 1.41-.59l7.78-7.78 2.81-2.81c.8-.78.8-2.07 0-2.86zM5.41 20L4 18.59l7.72-7.72 1.47 1.35L5.41 20z\"/>\n",
              "  </svg>\n",
              "      </button>\n",
              "      \n",
              "  <style>\n",
              "    .colab-df-container {\n",
              "      display:flex;\n",
              "      flex-wrap:wrap;\n",
              "      gap: 12px;\n",
              "    }\n",
              "\n",
              "    .colab-df-convert {\n",
              "      background-color: #E8F0FE;\n",
              "      border: none;\n",
              "      border-radius: 50%;\n",
              "      cursor: pointer;\n",
              "      display: none;\n",
              "      fill: #1967D2;\n",
              "      height: 32px;\n",
              "      padding: 0 0 0 0;\n",
              "      width: 32px;\n",
              "    }\n",
              "\n",
              "    .colab-df-convert:hover {\n",
              "      background-color: #E2EBFA;\n",
              "      box-shadow: 0px 1px 2px rgba(60, 64, 67, 0.3), 0px 1px 3px 1px rgba(60, 64, 67, 0.15);\n",
              "      fill: #174EA6;\n",
              "    }\n",
              "\n",
              "    [theme=dark] .colab-df-convert {\n",
              "      background-color: #3B4455;\n",
              "      fill: #D2E3FC;\n",
              "    }\n",
              "\n",
              "    [theme=dark] .colab-df-convert:hover {\n",
              "      background-color: #434B5C;\n",
              "      box-shadow: 0px 1px 3px 1px rgba(0, 0, 0, 0.15);\n",
              "      filter: drop-shadow(0px 1px 2px rgba(0, 0, 0, 0.3));\n",
              "      fill: #FFFFFF;\n",
              "    }\n",
              "  </style>\n",
              "\n",
              "      <script>\n",
              "        const buttonEl =\n",
              "          document.querySelector('#df-618cf6dc-0b6c-4586-8221-1385ec34eb0c button.colab-df-convert');\n",
              "        buttonEl.style.display =\n",
              "          google.colab.kernel.accessAllowed ? 'block' : 'none';\n",
              "\n",
              "        async function convertToInteractive(key) {\n",
              "          const element = document.querySelector('#df-618cf6dc-0b6c-4586-8221-1385ec34eb0c');\n",
              "          const dataTable =\n",
              "            await google.colab.kernel.invokeFunction('convertToInteractive',\n",
              "                                                     [key], {});\n",
              "          if (!dataTable) return;\n",
              "\n",
              "          const docLinkHtml = 'Like what you see? Visit the ' +\n",
              "            '<a target=\"_blank\" href=https://colab.research.google.com/notebooks/data_table.ipynb>data table notebook</a>'\n",
              "            + ' to learn more about interactive tables.';\n",
              "          element.innerHTML = '';\n",
              "          dataTable['output_type'] = 'display_data';\n",
              "          await google.colab.output.renderOutput(dataTable, element);\n",
              "          const docLink = document.createElement('div');\n",
              "          docLink.innerHTML = docLinkHtml;\n",
              "          element.appendChild(docLink);\n",
              "        }\n",
              "      </script>\n",
              "    </div>\n",
              "  </div>\n",
              "  "
            ]
          },
          "metadata": {},
          "execution_count": 287
        }
      ]
    },
    {
      "cell_type": "markdown",
      "source": [
        "- 훈련데이터 셋은 214185에서 종료된다."
      ],
      "metadata": {
        "id": "-p16gmDgIP9N"
      }
    },
    {
      "cell_type": "code",
      "source": [
        "use_data=data"
      ],
      "metadata": {
        "id": "pEgjgKumIOiD"
      },
      "execution_count": 288,
      "outputs": []
    },
    {
      "cell_type": "code",
      "source": [
        "train_data = torch.Tensor(use_data[:214185])\n",
        "test_data = torch.Tensor(use_data[214185:])"
      ],
      "metadata": {
        "id": "dA4Pn1LSZtfq"
      },
      "execution_count": 289,
      "outputs": []
    },
    {
      "cell_type": "markdown",
      "source": [
        "# 하이퍼 파라미터, 손실 함수 및 옵티마이저 정의"
      ],
      "metadata": {
        "id": "2b-29RA-aVgv"
      }
    },
    {
      "cell_type": "code",
      "source": [
        "# 훈련 하이퍼 파라미터\n",
        "\n",
        "epoch = 10\n",
        "batch_size = 64\n",
        "lr = 0.01\n",
        "\n",
        "# 모델 하이퍼 파라미터\n",
        "\n",
        "input_size = len(train_data[0]) # 7개가 들어감. 변수의 갯수가 7개\n",
        "hidden_size = [3] #이를 3개로 줄인 후\n",
        "output_size = 2 #2개로 방출함\n",
        "\n",
        "# 손실 함수로 MSE 사용\n",
        "\n",
        "criterion = nn.MSELoss()\n",
        "\n",
        "# 매개변수 조정 방식은 Adam\n",
        "\n",
        "optimizer = torch.optim.Adam\n",
        "\n",
        "# 오토인코더 정의\n",
        "\n",
        "AutoEncoder = AutoEncoder(input_size, hidden_size, output_size)"
      ],
      "metadata": {
        "id": "TLqeB8lCaZjO"
      },
      "execution_count": 290,
      "outputs": []
    },
    {
      "cell_type": "markdown",
      "source": [
        "# 오토인코더 학습 함수 정의"
      ],
      "metadata": {
        "id": "UeUd82QCbu5b"
      }
    },
    {
      "cell_type": "code",
      "source": [
        "##학습 함수에 대한 정의\n",
        "def train_net(AutoEncoder, data, criterion, epochs, lr_rate =0.01):\n",
        "## Optimizer에 대한 정의\n",
        "    optim = optimizer(AutoEncoder.parameters(), lr =lr_rate)\n",
        "## 배치 학습을 시키기 위한 데이터 변환\n",
        "    data_iter = DataLoader(data, batch_size =batch_size, shuffle =True)\n",
        "## 에포크 학습\n",
        "    for epoch in range(1, epochs +1):\n",
        "        running_loss = 0.0\n",
        "        for x in data_iter:\n",
        "            ## 매개변수 0으로 초기화\n",
        "            optim.zero_grad()\n",
        "            output = AutoEncoder(x)\n",
        "            ## 입력값과 출력값간의 차이인 손실값\n",
        "            loss = criterion(x, output)\n",
        "            ## 손실값을 기준으로 매개변수 조정\n",
        "            loss.backward()\n",
        "            optim.step()\n",
        "            running_loss += loss.item()\n",
        "            \n",
        "        ## 각 에포크마다 손실 값 표기\n",
        "        print('epoch: {}, loss: {:.2f}'.format(epoch, running_loss))\n",
        "    return AutoEncoder"
      ],
      "metadata": {
        "id": "KkYKFN77uxa9"
      },
      "execution_count": 291,
      "outputs": []
    },
    {
      "cell_type": "markdown",
      "source": [
        "# 오토인코더 학습"
      ],
      "metadata": {
        "id": "6_KB6zOPdCsB"
      }
    },
    {
      "cell_type": "code",
      "source": [
        "AutoEncoder = train_net(AutoEncoder, train_data, criterion, epoch, lr)"
      ],
      "metadata": {
        "colab": {
          "base_uri": "https://localhost:8080/"
        },
        "id": "ZAwAuuNodEwu",
        "outputId": "046fb7b7-3132-4f66-b85c-b1a5b47ce995"
      },
      "execution_count": 292,
      "outputs": [
        {
          "output_type": "stream",
          "name": "stdout",
          "text": [
            "epoch: 1, loss: 26.47\n",
            "epoch: 2, loss: 5.29\n",
            "epoch: 3, loss: 4.44\n",
            "epoch: 4, loss: 3.93\n",
            "epoch: 5, loss: 3.89\n",
            "epoch: 6, loss: 3.87\n",
            "epoch: 7, loss: 3.83\n",
            "epoch: 8, loss: 3.79\n",
            "epoch: 9, loss: 3.76\n",
            "epoch: 10, loss: 3.74\n"
          ]
        }
      ]
    },
    {
      "cell_type": "markdown",
      "source": [
        "# 임계값 정의 후 결과 분석 및 해석"
      ],
      "metadata": {
        "id": "h1y4nCjVwav_"
      }
    },
    {
      "cell_type": "code",
      "source": [
        "real_error_data1=pd.read_csv(\"/content/gdrive/MyDrive/용접데이터/일별데이터/일별 관측치 1호기_프로세스2.csv\")\n",
        "real_error_data1=real_error_data1.drop(columns = [\"Unnamed: 0\"])[['date','실제불량갯수']]"
      ],
      "metadata": {
        "id": "g8sgADwoF6Nh"
      },
      "execution_count": 293,
      "outputs": []
    },
    {
      "cell_type": "code",
      "source": [
        "real_error_data2=pd.read_csv(\"/content/gdrive/MyDrive/용접데이터/일별데이터/일별 관측치 1호기_프로세스1.csv\")\n",
        "real_error_data2=real_error_data2.drop(columns = [\"Unnamed: 0\"])[['date','실제불량갯수']][1:]"
      ],
      "metadata": {
        "id": "ba60WOVGGn4k"
      },
      "execution_count": 294,
      "outputs": []
    },
    {
      "cell_type": "code",
      "source": [
        "real_error_data=pd.concat([real_error_data1, real_error_data2])"
      ],
      "metadata": {
        "id": "oqXLQK4UG51c"
      },
      "execution_count": 295,
      "outputs": []
    },
    {
      "cell_type": "code",
      "source": [
        "real_error_data['date']"
      ],
      "metadata": {
        "colab": {
          "base_uri": "https://localhost:8080/"
        },
        "id": "9OPHAu5UKNYF",
        "outputId": "7612975f-172d-451b-b2b8-c016ff09f982"
      },
      "execution_count": 296,
      "outputs": [
        {
          "output_type": "execute_result",
          "data": {
            "text/plain": [
              "0      2021-01-04\n",
              "1      2021-01-05\n",
              "2      2021-01-06\n",
              "3      2021-01-07\n",
              "4      2021-01-08\n",
              "          ...    \n",
              "179    2021-10-25\n",
              "180    2021-10-26\n",
              "181    2021-10-27\n",
              "182    2021-10-28\n",
              "183    2021-10-29\n",
              "Name: date, Length: 208, dtype: object"
            ]
          },
          "metadata": {},
          "execution_count": 296
        }
      ]
    },
    {
      "cell_type": "code",
      "source": [
        "len(real_error_data['date'].unique())"
      ],
      "metadata": {
        "colab": {
          "base_uri": "https://localhost:8080/"
        },
        "id": "Du7dg5A1LJCM",
        "outputId": "859b60bc-310d-47b5-c68f-35230cbcc8cb"
      },
      "execution_count": 297,
      "outputs": [
        {
          "output_type": "execute_result",
          "data": {
            "text/plain": [
              "208"
            ]
          },
          "metadata": {},
          "execution_count": 297
        }
      ]
    },
    {
      "cell_type": "code",
      "source": [
        "print(train_data.shape)\n",
        "print(test_data.shape)"
      ],
      "metadata": {
        "colab": {
          "base_uri": "https://localhost:8080/"
        },
        "id": "dxbGuIYNHJ_h",
        "outputId": "7afd5d6e-64db-4f9c-b1c1-950c1098ddda"
      },
      "execution_count": 298,
      "outputs": [
        {
          "output_type": "stream",
          "name": "stdout",
          "text": [
            "torch.Size([214185, 6])\n",
            "torch.Size([89053, 6])\n"
          ]
        }
      ]
    },
    {
      "cell_type": "code",
      "source": [
        "no1_process1.iloc[212715]['date']"
      ],
      "metadata": {
        "colab": {
          "base_uri": "https://localhost:8080/",
          "height": 35
        },
        "id": "tn8IqfY7HQdR",
        "outputId": "b4ea158b-9594-42d3-f7e7-ab3ba1ca5f6c"
      },
      "execution_count": 299,
      "outputs": [
        {
          "output_type": "execute_result",
          "data": {
            "text/plain": [
              "'2021-07-27'"
            ],
            "application/vnd.google.colaboratory.intrinsic+json": {
              "type": "string"
            }
          },
          "metadata": {},
          "execution_count": 299
        }
      ]
    },
    {
      "cell_type": "code",
      "source": [
        "train_loss_chart = []\n",
        "for data in train_data :\n",
        "  output = AutoEncoder(data)\n",
        "  loss = criterion(output, data)\n",
        "  train_loss_chart.append(loss.item())\n",
        "\n",
        "treshold = np.mean(train_loss_chart) + np.std(train_loss_chart)*7.5\n",
        "outlier = list(train_loss_chart >= treshold)\n",
        "print(outlier.count(True))\n",
        "print(\"Threshold : \",treshold)"
      ],
      "metadata": {
        "colab": {
          "base_uri": "https://localhost:8080/"
        },
        "id": "aInibmZ5oFi5",
        "outputId": "516130c5-6d90-439c-af24-55cf9bccc410"
      },
      "execution_count": 307,
      "outputs": [
        {
          "output_type": "stream",
          "name": "stdout",
          "text": [
            "119\n",
            "Threshold :  0.028369425686518297\n"
          ]
        }
      ]
    },
    {
      "cell_type": "code",
      "source": [
        "train_real_error = real_error_data[real_error_data['date']<='2021-07-27']\n",
        "print(\"목표값 : \" ,train_real_error.sum()['실제불량갯수'])"
      ],
      "metadata": {
        "colab": {
          "base_uri": "https://localhost:8080/"
        },
        "id": "tRBUPCRCJHwl",
        "outputId": "6e4d902a-7903-4c4d-8394-b7ad6261d79e"
      },
      "execution_count": 304,
      "outputs": [
        {
          "output_type": "stream",
          "name": "stdout",
          "text": [
            "목표값 :  770\n"
          ]
        }
      ]
    },
    {
      "cell_type": "code",
      "source": [
        "test_loss_chart = []\n",
        "for data in test_data :\n",
        "  output = AutoEncoder(data)\n",
        "  loss = criterion(output, data)\n",
        "  test_loss_chart.append(loss.item())\n",
        "\n",
        "outlier = list(test_loss_chart >= treshold)\n",
        "outlier.count(True)\n"
      ],
      "metadata": {
        "colab": {
          "base_uri": "https://localhost:8080/",
          "height": 400
        },
        "id": "INuDEcn7w7Fv",
        "outputId": "6dcebcfe-2141-4b5b-d6bb-3ec2703576bb"
      },
      "execution_count": 302,
      "outputs": [
        {
          "output_type": "error",
          "ename": "KeyboardInterrupt",
          "evalue": "ignored",
          "traceback": [
            "\u001b[0;31m---------------------------------------------------------------------------\u001b[0m",
            "\u001b[0;31mKeyboardInterrupt\u001b[0m                         Traceback (most recent call last)",
            "\u001b[0;32m<ipython-input-302-fd3056726451>\u001b[0m in \u001b[0;36m<module>\u001b[0;34m()\u001b[0m\n\u001b[1;32m      1\u001b[0m \u001b[0mtest_loss_chart\u001b[0m \u001b[0;34m=\u001b[0m \u001b[0;34m[\u001b[0m\u001b[0;34m]\u001b[0m\u001b[0;34m\u001b[0m\u001b[0;34m\u001b[0m\u001b[0m\n\u001b[1;32m      2\u001b[0m \u001b[0;32mfor\u001b[0m \u001b[0mdata\u001b[0m \u001b[0;32min\u001b[0m \u001b[0mtest_data\u001b[0m \u001b[0;34m:\u001b[0m\u001b[0;34m\u001b[0m\u001b[0;34m\u001b[0m\u001b[0m\n\u001b[0;32m----> 3\u001b[0;31m   \u001b[0moutput\u001b[0m \u001b[0;34m=\u001b[0m \u001b[0mAutoEncoder\u001b[0m\u001b[0;34m(\u001b[0m\u001b[0mdata\u001b[0m\u001b[0;34m)\u001b[0m\u001b[0;34m\u001b[0m\u001b[0;34m\u001b[0m\u001b[0m\n\u001b[0m\u001b[1;32m      4\u001b[0m   \u001b[0mloss\u001b[0m \u001b[0;34m=\u001b[0m \u001b[0mcriterion\u001b[0m\u001b[0;34m(\u001b[0m\u001b[0moutput\u001b[0m\u001b[0;34m,\u001b[0m \u001b[0mdata\u001b[0m\u001b[0;34m)\u001b[0m\u001b[0;34m\u001b[0m\u001b[0;34m\u001b[0m\u001b[0m\n\u001b[1;32m      5\u001b[0m   \u001b[0mtest_loss_chart\u001b[0m\u001b[0;34m.\u001b[0m\u001b[0mappend\u001b[0m\u001b[0;34m(\u001b[0m\u001b[0mloss\u001b[0m\u001b[0;34m.\u001b[0m\u001b[0mitem\u001b[0m\u001b[0;34m(\u001b[0m\u001b[0;34m)\u001b[0m\u001b[0;34m)\u001b[0m\u001b[0;34m\u001b[0m\u001b[0;34m\u001b[0m\u001b[0m\n",
            "\u001b[0;32m/usr/local/lib/python3.7/dist-packages/torch/nn/modules/module.py\u001b[0m in \u001b[0;36m_call_impl\u001b[0;34m(self, *input, **kwargs)\u001b[0m\n\u001b[1;32m    725\u001b[0m             \u001b[0mresult\u001b[0m \u001b[0;34m=\u001b[0m \u001b[0mself\u001b[0m\u001b[0;34m.\u001b[0m\u001b[0m_slow_forward\u001b[0m\u001b[0;34m(\u001b[0m\u001b[0;34m*\u001b[0m\u001b[0minput\u001b[0m\u001b[0;34m,\u001b[0m \u001b[0;34m**\u001b[0m\u001b[0mkwargs\u001b[0m\u001b[0;34m)\u001b[0m\u001b[0;34m\u001b[0m\u001b[0;34m\u001b[0m\u001b[0m\n\u001b[1;32m    726\u001b[0m         \u001b[0;32melse\u001b[0m\u001b[0;34m:\u001b[0m\u001b[0;34m\u001b[0m\u001b[0;34m\u001b[0m\u001b[0m\n\u001b[0;32m--> 727\u001b[0;31m             \u001b[0mresult\u001b[0m \u001b[0;34m=\u001b[0m \u001b[0mself\u001b[0m\u001b[0;34m.\u001b[0m\u001b[0mforward\u001b[0m\u001b[0;34m(\u001b[0m\u001b[0;34m*\u001b[0m\u001b[0minput\u001b[0m\u001b[0;34m,\u001b[0m \u001b[0;34m**\u001b[0m\u001b[0mkwargs\u001b[0m\u001b[0;34m)\u001b[0m\u001b[0;34m\u001b[0m\u001b[0;34m\u001b[0m\u001b[0m\n\u001b[0m\u001b[1;32m    728\u001b[0m         for hook in itertools.chain(\n\u001b[1;32m    729\u001b[0m                 \u001b[0m_global_forward_hooks\u001b[0m\u001b[0;34m.\u001b[0m\u001b[0mvalues\u001b[0m\u001b[0;34m(\u001b[0m\u001b[0;34m)\u001b[0m\u001b[0;34m,\u001b[0m\u001b[0;34m\u001b[0m\u001b[0;34m\u001b[0m\u001b[0m\n",
            "\u001b[0;32m<ipython-input-284-b0765280fd89>\u001b[0m in \u001b[0;36mforward\u001b[0;34m(self, inputs)\u001b[0m\n\u001b[1;32m     22\u001b[0m         )\n\u001b[1;32m     23\u001b[0m     \u001b[0;32mdef\u001b[0m \u001b[0mforward\u001b[0m\u001b[0;34m(\u001b[0m\u001b[0mself\u001b[0m\u001b[0;34m,\u001b[0m \u001b[0minputs\u001b[0m\u001b[0;34m)\u001b[0m\u001b[0;34m:\u001b[0m\u001b[0;34m\u001b[0m\u001b[0;34m\u001b[0m\u001b[0m\n\u001b[0;32m---> 24\u001b[0;31m         \u001b[0moutput\u001b[0m \u001b[0;34m=\u001b[0m\u001b[0mself\u001b[0m\u001b[0;34m.\u001b[0m\u001b[0mAutoEncoder\u001b[0m\u001b[0;34m(\u001b[0m\u001b[0minputs\u001b[0m\u001b[0;34m)\u001b[0m\u001b[0;34m\u001b[0m\u001b[0;34m\u001b[0m\u001b[0m\n\u001b[0m\u001b[1;32m     25\u001b[0m \u001b[0;34m\u001b[0m\u001b[0m\n\u001b[1;32m     26\u001b[0m         \u001b[0;32mreturn\u001b[0m \u001b[0moutput\u001b[0m\u001b[0;34m\u001b[0m\u001b[0;34m\u001b[0m\u001b[0m\n",
            "\u001b[0;32m/usr/local/lib/python3.7/dist-packages/torch/nn/modules/module.py\u001b[0m in \u001b[0;36m_call_impl\u001b[0;34m(self, *input, **kwargs)\u001b[0m\n\u001b[1;32m    725\u001b[0m             \u001b[0mresult\u001b[0m \u001b[0;34m=\u001b[0m \u001b[0mself\u001b[0m\u001b[0;34m.\u001b[0m\u001b[0m_slow_forward\u001b[0m\u001b[0;34m(\u001b[0m\u001b[0;34m*\u001b[0m\u001b[0minput\u001b[0m\u001b[0;34m,\u001b[0m \u001b[0;34m**\u001b[0m\u001b[0mkwargs\u001b[0m\u001b[0;34m)\u001b[0m\u001b[0;34m\u001b[0m\u001b[0;34m\u001b[0m\u001b[0m\n\u001b[1;32m    726\u001b[0m         \u001b[0;32melse\u001b[0m\u001b[0;34m:\u001b[0m\u001b[0;34m\u001b[0m\u001b[0;34m\u001b[0m\u001b[0m\n\u001b[0;32m--> 727\u001b[0;31m             \u001b[0mresult\u001b[0m \u001b[0;34m=\u001b[0m \u001b[0mself\u001b[0m\u001b[0;34m.\u001b[0m\u001b[0mforward\u001b[0m\u001b[0;34m(\u001b[0m\u001b[0;34m*\u001b[0m\u001b[0minput\u001b[0m\u001b[0;34m,\u001b[0m \u001b[0;34m**\u001b[0m\u001b[0mkwargs\u001b[0m\u001b[0;34m)\u001b[0m\u001b[0;34m\u001b[0m\u001b[0;34m\u001b[0m\u001b[0m\n\u001b[0m\u001b[1;32m    728\u001b[0m         for hook in itertools.chain(\n\u001b[1;32m    729\u001b[0m                 \u001b[0m_global_forward_hooks\u001b[0m\u001b[0;34m.\u001b[0m\u001b[0mvalues\u001b[0m\u001b[0;34m(\u001b[0m\u001b[0;34m)\u001b[0m\u001b[0;34m,\u001b[0m\u001b[0;34m\u001b[0m\u001b[0;34m\u001b[0m\u001b[0m\n",
            "\u001b[0;32m/usr/local/lib/python3.7/dist-packages/torch/nn/modules/container.py\u001b[0m in \u001b[0;36mforward\u001b[0;34m(self, input)\u001b[0m\n\u001b[1;32m    115\u001b[0m     \u001b[0;32mdef\u001b[0m \u001b[0mforward\u001b[0m\u001b[0;34m(\u001b[0m\u001b[0mself\u001b[0m\u001b[0;34m,\u001b[0m \u001b[0minput\u001b[0m\u001b[0;34m)\u001b[0m\u001b[0;34m:\u001b[0m\u001b[0;34m\u001b[0m\u001b[0;34m\u001b[0m\u001b[0m\n\u001b[1;32m    116\u001b[0m         \u001b[0;32mfor\u001b[0m \u001b[0mmodule\u001b[0m \u001b[0;32min\u001b[0m \u001b[0mself\u001b[0m\u001b[0;34m:\u001b[0m\u001b[0;34m\u001b[0m\u001b[0;34m\u001b[0m\u001b[0m\n\u001b[0;32m--> 117\u001b[0;31m             \u001b[0minput\u001b[0m \u001b[0;34m=\u001b[0m \u001b[0mmodule\u001b[0m\u001b[0;34m(\u001b[0m\u001b[0minput\u001b[0m\u001b[0;34m)\u001b[0m\u001b[0;34m\u001b[0m\u001b[0;34m\u001b[0m\u001b[0m\n\u001b[0m\u001b[1;32m    118\u001b[0m         \u001b[0;32mreturn\u001b[0m \u001b[0minput\u001b[0m\u001b[0;34m\u001b[0m\u001b[0;34m\u001b[0m\u001b[0m\n\u001b[1;32m    119\u001b[0m \u001b[0;34m\u001b[0m\u001b[0m\n",
            "\u001b[0;32m/usr/local/lib/python3.7/dist-packages/torch/nn/modules/module.py\u001b[0m in \u001b[0;36m_call_impl\u001b[0;34m(self, *input, **kwargs)\u001b[0m\n\u001b[1;32m    725\u001b[0m             \u001b[0mresult\u001b[0m \u001b[0;34m=\u001b[0m \u001b[0mself\u001b[0m\u001b[0;34m.\u001b[0m\u001b[0m_slow_forward\u001b[0m\u001b[0;34m(\u001b[0m\u001b[0;34m*\u001b[0m\u001b[0minput\u001b[0m\u001b[0;34m,\u001b[0m \u001b[0;34m**\u001b[0m\u001b[0mkwargs\u001b[0m\u001b[0;34m)\u001b[0m\u001b[0;34m\u001b[0m\u001b[0;34m\u001b[0m\u001b[0m\n\u001b[1;32m    726\u001b[0m         \u001b[0;32melse\u001b[0m\u001b[0;34m:\u001b[0m\u001b[0;34m\u001b[0m\u001b[0;34m\u001b[0m\u001b[0m\n\u001b[0;32m--> 727\u001b[0;31m             \u001b[0mresult\u001b[0m \u001b[0;34m=\u001b[0m \u001b[0mself\u001b[0m\u001b[0;34m.\u001b[0m\u001b[0mforward\u001b[0m\u001b[0;34m(\u001b[0m\u001b[0;34m*\u001b[0m\u001b[0minput\u001b[0m\u001b[0;34m,\u001b[0m \u001b[0;34m**\u001b[0m\u001b[0mkwargs\u001b[0m\u001b[0;34m)\u001b[0m\u001b[0;34m\u001b[0m\u001b[0;34m\u001b[0m\u001b[0m\n\u001b[0m\u001b[1;32m    728\u001b[0m         for hook in itertools.chain(\n\u001b[1;32m    729\u001b[0m                 \u001b[0m_global_forward_hooks\u001b[0m\u001b[0;34m.\u001b[0m\u001b[0mvalues\u001b[0m\u001b[0;34m(\u001b[0m\u001b[0;34m)\u001b[0m\u001b[0;34m,\u001b[0m\u001b[0;34m\u001b[0m\u001b[0;34m\u001b[0m\u001b[0m\n",
            "\u001b[0;32m/usr/local/lib/python3.7/dist-packages/torch/nn/modules/linear.py\u001b[0m in \u001b[0;36mforward\u001b[0;34m(self, input)\u001b[0m\n\u001b[1;32m     91\u001b[0m \u001b[0;34m\u001b[0m\u001b[0m\n\u001b[1;32m     92\u001b[0m     \u001b[0;32mdef\u001b[0m \u001b[0mforward\u001b[0m\u001b[0;34m(\u001b[0m\u001b[0mself\u001b[0m\u001b[0;34m,\u001b[0m \u001b[0minput\u001b[0m\u001b[0;34m:\u001b[0m \u001b[0mTensor\u001b[0m\u001b[0;34m)\u001b[0m \u001b[0;34m->\u001b[0m \u001b[0mTensor\u001b[0m\u001b[0;34m:\u001b[0m\u001b[0;34m\u001b[0m\u001b[0;34m\u001b[0m\u001b[0m\n\u001b[0;32m---> 93\u001b[0;31m         \u001b[0;32mreturn\u001b[0m \u001b[0mF\u001b[0m\u001b[0;34m.\u001b[0m\u001b[0mlinear\u001b[0m\u001b[0;34m(\u001b[0m\u001b[0minput\u001b[0m\u001b[0;34m,\u001b[0m \u001b[0mself\u001b[0m\u001b[0;34m.\u001b[0m\u001b[0mweight\u001b[0m\u001b[0;34m,\u001b[0m \u001b[0mself\u001b[0m\u001b[0;34m.\u001b[0m\u001b[0mbias\u001b[0m\u001b[0;34m)\u001b[0m\u001b[0;34m\u001b[0m\u001b[0;34m\u001b[0m\u001b[0m\n\u001b[0m\u001b[1;32m     94\u001b[0m \u001b[0;34m\u001b[0m\u001b[0m\n\u001b[1;32m     95\u001b[0m     \u001b[0;32mdef\u001b[0m \u001b[0mextra_repr\u001b[0m\u001b[0;34m(\u001b[0m\u001b[0mself\u001b[0m\u001b[0;34m)\u001b[0m \u001b[0;34m->\u001b[0m \u001b[0mstr\u001b[0m\u001b[0;34m:\u001b[0m\u001b[0;34m\u001b[0m\u001b[0;34m\u001b[0m\u001b[0m\n",
            "\u001b[0;32m/usr/local/lib/python3.7/dist-packages/torch/nn/functional.py\u001b[0m in \u001b[0;36mlinear\u001b[0;34m(input, weight, bias)\u001b[0m\n\u001b[1;32m   1690\u001b[0m         \u001b[0mret\u001b[0m \u001b[0;34m=\u001b[0m \u001b[0mtorch\u001b[0m\u001b[0;34m.\u001b[0m\u001b[0maddmm\u001b[0m\u001b[0;34m(\u001b[0m\u001b[0mbias\u001b[0m\u001b[0;34m,\u001b[0m \u001b[0minput\u001b[0m\u001b[0;34m,\u001b[0m \u001b[0mweight\u001b[0m\u001b[0;34m.\u001b[0m\u001b[0mt\u001b[0m\u001b[0;34m(\u001b[0m\u001b[0;34m)\u001b[0m\u001b[0;34m)\u001b[0m\u001b[0;34m\u001b[0m\u001b[0;34m\u001b[0m\u001b[0m\n\u001b[1;32m   1691\u001b[0m     \u001b[0;32melse\u001b[0m\u001b[0;34m:\u001b[0m\u001b[0;34m\u001b[0m\u001b[0;34m\u001b[0m\u001b[0m\n\u001b[0;32m-> 1692\u001b[0;31m         \u001b[0moutput\u001b[0m \u001b[0;34m=\u001b[0m \u001b[0minput\u001b[0m\u001b[0;34m.\u001b[0m\u001b[0mmatmul\u001b[0m\u001b[0;34m(\u001b[0m\u001b[0mweight\u001b[0m\u001b[0;34m.\u001b[0m\u001b[0mt\u001b[0m\u001b[0;34m(\u001b[0m\u001b[0;34m)\u001b[0m\u001b[0;34m)\u001b[0m\u001b[0;34m\u001b[0m\u001b[0;34m\u001b[0m\u001b[0m\n\u001b[0m\u001b[1;32m   1693\u001b[0m         \u001b[0;32mif\u001b[0m \u001b[0mbias\u001b[0m \u001b[0;32mis\u001b[0m \u001b[0;32mnot\u001b[0m \u001b[0;32mNone\u001b[0m\u001b[0;34m:\u001b[0m\u001b[0;34m\u001b[0m\u001b[0;34m\u001b[0m\u001b[0m\n\u001b[1;32m   1694\u001b[0m             \u001b[0moutput\u001b[0m \u001b[0;34m+=\u001b[0m \u001b[0mbias\u001b[0m\u001b[0;34m\u001b[0m\u001b[0;34m\u001b[0m\u001b[0m\n",
            "\u001b[0;31mKeyboardInterrupt\u001b[0m: "
          ]
        }
      ]
    },
    {
      "cell_type": "code",
      "source": [
        "test_real_error = real_error_data[real_error_data['date']>'2021-07-27']\n",
        "print(\"목표값 : \" ,test_real_error.sum()['실제불량갯수'])"
      ],
      "metadata": {
        "id": "nx05xUI7MCeG"
      },
      "execution_count": null,
      "outputs": []
    }
  ]
}