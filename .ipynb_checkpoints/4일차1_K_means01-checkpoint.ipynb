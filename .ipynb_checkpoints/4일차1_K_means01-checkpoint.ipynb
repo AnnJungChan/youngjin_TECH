{
  "nbformat": 4,
  "nbformat_minor": 0,
  "metadata": {
    "colab": {
      "name": "4일차1.K-means01.ipynb",
      "provenance": []
    },
    "kernelspec": {
      "name": "python3",
      "display_name": "Python 3"
    },
    "language_info": {
      "name": "python"
    }
  },
  "cells": [
    {
      "cell_type": "markdown",
      "source": [
        "출처 - https://eunsukimme.github.io/ml/2019/12/16/K-Means/\n"
      ],
      "metadata": {
        "id": "WnI7jrKwAaKG"
      }
    },
    {
      "cell_type": "code",
      "source": [
        "import matplotlib.pyplot as plt\n",
        "from sklearn import datasets\n",
        "from sklearn.cluster import KMeans\n",
        "\n",
        "iris = datasets.load_iris()\n",
        "samples = iris.data\n"
      ],
      "metadata": {
        "id": "bVeTM6bALThC"
      },
      "execution_count": 58,
      "outputs": []
    },
    {
      "cell_type": "code",
      "source": [
        "list(iris.target_names)\n"
      ],
      "metadata": {
        "colab": {
          "base_uri": "https://localhost:8080/"
        },
        "id": "pmyorhzTLjTL",
        "outputId": "c76981d4-ad78-4379-e549-dba9f88ff8c8"
      },
      "execution_count": 59,
      "outputs": [
        {
          "output_type": "execute_result",
          "data": {
            "text/plain": [
              "['setosa', 'versicolor', 'virginica']"
            ]
          },
          "metadata": {},
          "execution_count": 59
        }
      ]
    },
    {
      "cell_type": "code",
      "source": [
        "iris.target[[10, 25, 149]]"
      ],
      "metadata": {
        "colab": {
          "base_uri": "https://localhost:8080/"
        },
        "id": "jsRx4RozDtSi",
        "outputId": "f675b463-33ed-400e-f2dc-0dcc3576601a"
      },
      "execution_count": 63,
      "outputs": [
        {
          "output_type": "execute_result",
          "data": {
            "text/plain": [
              "array([0, 0, 2])"
            ]
          },
          "metadata": {},
          "execution_count": 63
        }
      ]
    },
    {
      "cell_type": "code",
      "source": [
        "# 3개의 그룹으로 나누는 K-Means 모델을 생성합니다\n",
        "model = KMeans(n_clusters = 3)\n",
        "model.fit(samples)\n",
        "labels = model.predict(samples)\n",
        "print(labels)\n",
        "print(iris.target)"
      ],
      "metadata": {
        "colab": {
          "base_uri": "https://localhost:8080/"
        },
        "id": "yc1l-YijMBD5",
        "outputId": "f45377df-9ba5-4e37-9031-f5d93e372bca"
      },
      "execution_count": 64,
      "outputs": [
        {
          "output_type": "stream",
          "name": "stdout",
          "text": [
            "[1 1 1 1 1 1 1 1 1 1 1 1 1 1 1 1 1 1 1 1 1 1 1 1 1 1 1 1 1 1 1 1 1 1 1 1 1\n",
            " 1 1 1 1 1 1 1 1 1 1 1 1 1 2 2 0 2 2 2 2 2 2 2 2 2 2 2 2 2 2 2 2 2 2 2 2 2\n",
            " 2 2 2 0 2 2 2 2 2 2 2 2 2 2 2 2 2 2 2 2 2 2 2 2 2 2 0 2 0 0 0 0 2 0 0 0 0\n",
            " 0 0 2 2 0 0 0 0 2 0 2 0 2 0 0 2 2 0 0 0 0 0 2 0 0 0 0 2 0 0 0 2 0 0 0 2 0\n",
            " 0 2]\n",
            "[0 0 0 0 0 0 0 0 0 0 0 0 0 0 0 0 0 0 0 0 0 0 0 0 0 0 0 0 0 0 0 0 0 0 0 0 0\n",
            " 0 0 0 0 0 0 0 0 0 0 0 0 0 1 1 1 1 1 1 1 1 1 1 1 1 1 1 1 1 1 1 1 1 1 1 1 1\n",
            " 1 1 1 1 1 1 1 1 1 1 1 1 1 1 1 1 1 1 1 1 1 1 1 1 1 1 2 2 2 2 2 2 2 2 2 2 2\n",
            " 2 2 2 2 2 2 2 2 2 2 2 2 2 2 2 2 2 2 2 2 2 2 2 2 2 2 2 2 2 2 2 2 2 2 2 2 2\n",
            " 2 2]\n"
          ]
        }
      ]
    },
    {
      "cell_type": "code",
      "source": [
        "# 클러스터링 결과를 시각화합니다\n",
        "x = samples[:, 0]\n",
        "y = samples[:, 1]\n",
        "plt.scatter(x, y, c=labels, alpha=0.5)\n",
        "plt.xlabel('sepal length (cm)')\n",
        "plt.ylabel('sepal width (cm)')\n",
        "plt.show()"
      ],
      "metadata": {
        "colab": {
          "base_uri": "https://localhost:8080/",
          "height": 282
        },
        "id": "ZCWWrguDM0SZ",
        "outputId": "6e11a3b4-fc75-4aa7-c714-b7b03340051a"
      },
      "execution_count": 65,
      "outputs": [
        {
          "output_type": "display_data",
          "data": {
            "image/png": "[encoded data removed]",
            "text/plain": [
              "<Figure size 432x288 with 1 Axes>"
            ]
          },
          "metadata": {
            "needs_background": "light"
          }
        }
      ]
    },
    {
      "cell_type": "code",
      "source": [
        "target = iris.target\n",
        "species = np.chararray(target.shape, itemsize=150)\n",
        "for i in range(len(samples)):\n",
        "  if target[i] == 0:\n",
        "    species[i] = 'setosa'\n",
        "  elif target[i] == 1:\n",
        "    species[i] = 'versicolor'\n",
        "  elif target[i] == 2:\n",
        "    species[i] = 'virginica'\n"
      ],
      "metadata": {
        "id": "0cqKHMobNTof"
      },
      "execution_count": 66,
      "outputs": []
    },
    {
      "cell_type": "code",
      "source": [
        "import pandas as pd\n",
        "\n",
        "df = pd.DataFrame({'labels': labels, 'species': species})\n",
        "ct = pd.crosstab(df['labels'], df['species'])\n",
        "print(ct)"
      ],
      "metadata": {
        "colab": {
          "base_uri": "https://localhost:8080/"
        },
        "id": "NvWGSEa6OOi4",
        "outputId": "4518290d-4de0-4a8c-9a24-8a1d10350ed4"
      },
      "execution_count": 67,
      "outputs": [
        {
          "output_type": "stream",
          "name": "stdout",
          "text": [
            "species  b'setosa'  b'versicolor'  b'virginica'\n",
            "labels                                         \n",
            "0                0              2            36\n",
            "1               50              0             0\n",
            "2                0             48            14\n"
          ]
        }
      ]
    },
    {
      "cell_type": "code",
      "source": [
        "num_clusters = list(range(1, 9))\t# K는 1 ~ 8사이의 정수입니다\n",
        "inertias = []\n",
        "# 각 K별로 모델을 생성하여 inertia를 측정합니다\n",
        "for i in num_clusters:\n",
        "    model = KMeans(n_clusters=i)\n",
        "    model.fit(samples)\n",
        "    inertias.append(model.inertia_)\n",
        "# K에 따른 inertia의 변화를 시각화합니다\n",
        "plt.plot(num_clusters, inertias, '-o')\n",
        "plt.xlabel('Number of Clusters (k)')\n",
        "plt.ylabel('Inertia')\n",
        "plt.show()"
      ],
      "metadata": {
        "colab": {
          "base_uri": "https://localhost:8080/",
          "height": 279
        },
        "id": "AiYjb0CFVl8_",
        "outputId": "768814a5-54ef-4df2-aba4-63af04a36992"
      },
      "execution_count": 68,
      "outputs": [
        {
          "output_type": "display_data",
          "data": {
            "image/png": "[encoded data removed]",
            "text/plain": [
              "<Figure size 432x288 with 1 Axes>"
            ]
          },
          "metadata": {
            "needs_background": "light"
          }
        }
      ]
    },
    {
      "cell_type": "code",
      "source": [
        "from sklearn import datasets\n",
        "import pandas as pd\n",
        "iris = datasets.load_iris()\n",
        "\n",
        "labels = pd.DataFrame(iris.target)\n",
        "labels.columns=['labels']\n",
        "data = pd.DataFrame(iris.data)\n",
        "data.columns=['Sepal length','Sepal width','Petal length','Petal width']\n",
        "data = pd.concat([data,labels],axis=1)\n",
        "data.head()\n",
        "\n",
        "from sklearn.pipeline import make_pipeline\n",
        "from sklearn.preprocessing import StandardScaler\n",
        "from sklearn.cluster import KMeans\n",
        "feature = data[ ['Sepal length','Sepal width']]\n",
        "feature.head()\n",
        "scaler = StandardScaler()\n",
        "model = KMeans(n_clusters=3)\n",
        "pipeline = make_pipeline(scaler,model)\n",
        "pipeline.fit(feature)\n",
        "predict = pd.DataFrame(pipeline.predict(feature))\n",
        "predict.columns=['predict']\n",
        "\n",
        "# concatenate labels to df as a new column\n",
        "r = pd.concat([feature,predict],axis=1)\n",
        "\n",
        "ct = pd.crosstab(data['labels'],r['predict'])\n",
        "print (ct)"
      ],
      "metadata": {
        "colab": {
          "base_uri": "https://localhost:8080/"
        },
        "id": "gbE9kr9xWwRV",
        "outputId": "75bd4c6a-f332-4145-9d31-8642f59d8170"
      },
      "execution_count": 69,
      "outputs": [
        {
          "output_type": "stream",
          "name": "stdout",
          "text": [
            "predict   0   1   2\n",
            "labels             \n",
            "0        49   0   1\n",
            "1         1  13  36\n",
            "2         0  31  19\n"
          ]
        }
      ]
    }
  ]
}